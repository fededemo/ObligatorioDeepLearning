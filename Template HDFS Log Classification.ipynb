{
 "cells": [
  {
   "cell_type": "markdown",
   "metadata": {
    "id": "6OFm1E4ALuev"
   },
   "source": [
    "## Obligatorio de Deep Learning - Semestre 2 - 2022"
   ]
  },
  {
   "cell_type": "markdown",
   "metadata": {
    "id": "SoMkgREvLue_"
   },
   "source": [
    "## 1. Setup"
   ]
  },
  {
   "cell_type": "markdown",
   "metadata": {
    "id": "1GewshNtLufB"
   },
   "source": [
    "### 1.1 Imports"
   ]
  },
  {
   "cell_type": "code",
   "execution_count": 1,
   "metadata": {
    "colab": {
     "base_uri": "https://localhost:8080/"
    },
    "executionInfo": {
     "elapsed": 22474,
     "status": "ok",
     "timestamp": 1666047184281,
     "user": {
      "displayName": "Federico de Leon",
      "userId": "01045121239102538016"
     },
     "user_tz": 180
    },
    "id": "OiiNR7s1L08y",
    "outputId": "21f6e66e-88f9-4342-88a7-18b650c1188d"
   },
   "outputs": [],
   "source": [
    "try:\n",
    "    from google.colab import drive\n",
    "    drive.mount('/content/drive')\n",
    "except:\n",
    "    pass"
   ]
  },
  {
   "cell_type": "code",
   "execution_count": 2,
   "metadata": {
    "colab": {
     "base_uri": "https://localhost:8080/"
    },
    "executionInfo": {
     "elapsed": 433,
     "status": "ok",
     "timestamp": 1666047184706,
     "user": {
      "displayName": "Federico de Leon",
      "userId": "01045121239102538016"
     },
     "user_tz": 180
    },
    "id": "5sPGDqWWMJCn",
    "outputId": "ec72abcb-588e-4231-e9cd-b18f1ce35a31"
   },
   "outputs": [],
   "source": [
    "import subprocess\n",
    "try:\n",
    "    subprocess.call(['cd', '/content/drive/MyDrive/ORT/DeepLearning/Obligatorio/'],shell=True)\n",
    "except:\n",
    "    pass\n"
   ]
  },
  {
   "cell_type": "code",
   "execution_count": 35,
   "metadata": {
    "executionInfo": {
     "elapsed": 4725,
     "status": "ok",
     "timestamp": 1666047189427,
     "user": {
      "displayName": "Federico de Leon",
      "userId": "01045121239102538016"
     },
     "user_tz": 180
    },
    "id": "aasM3UopLufC"
   },
   "outputs": [],
   "source": [
    "import numpy as np\n",
    "import datetime as dt\n",
    "\n",
    "from tensorflow.keras.models import Sequential\n",
    "from tensorflow.keras.layers import Dense, Conv1D, MaxPool1D, Dropout, Embedding, LSTM, Dense, BatchNormalization\n",
    "import tensorflow as tf\n",
    "\n",
    "from importlib import reload\n",
    "import utils\n",
    "utils = reload(utils)"
   ]
  },
  {
   "cell_type": "markdown",
   "metadata": {
    "id": "oU26rNfHLufK"
   },
   "source": [
    "### 1.2 Set random seeds"
   ]
  },
  {
   "cell_type": "code",
   "execution_count": 28,
   "metadata": {
    "executionInfo": {
     "elapsed": 10,
     "status": "ok",
     "timestamp": 1666047189428,
     "user": {
      "displayName": "Federico de Leon",
      "userId": "01045121239102538016"
     },
     "user_tz": 180
    },
    "id": "YLlbGI8aLufL"
   },
   "outputs": [],
   "source": [
    "np.random.seed(117)\n",
    "tf.random.set_seed(117)"
   ]
  },
  {
   "cell_type": "markdown",
   "metadata": {
    "id": "ezE0iqNALufO"
   },
   "source": [
    "## 2. Carga de datos"
   ]
  },
  {
   "cell_type": "code",
   "execution_count": 6,
   "metadata": {
    "executionInfo": {
     "elapsed": 1112,
     "status": "ok",
     "timestamp": 1666047190532,
     "user": {
      "displayName": "Federico de Leon",
      "userId": "01045121239102538016"
     },
     "user_tz": 180
    },
    "id": "j9RPPY70LufP"
   },
   "outputs": [],
   "source": [
    "hdfs_train, hdfs_test_kaggle = utils.read_data()"
   ]
  },
  {
   "cell_type": "code",
   "execution_count": 7,
   "metadata": {
    "colab": {
     "base_uri": "https://localhost:8080/",
     "height": 173
    },
    "executionInfo": {
     "elapsed": 30,
     "status": "ok",
     "timestamp": 1666047190534,
     "user": {
      "displayName": "Federico de Leon",
      "userId": "01045121239102538016"
     },
     "user_tz": 180
    },
    "id": "LFTLnExcLufQ",
    "outputId": "ccd86c43-8b34-4a9f-e6ca-2b7648c30781",
    "scrolled": true
   },
   "outputs": [
    {
     "data": {
      "text/html": [
       "<div>\n",
       "<style scoped>\n",
       "    .dataframe tbody tr th:only-of-type {\n",
       "        vertical-align: middle;\n",
       "    }\n",
       "\n",
       "    .dataframe tbody tr th {\n",
       "        vertical-align: top;\n",
       "    }\n",
       "\n",
       "    .dataframe thead th {\n",
       "        text-align: right;\n",
       "    }\n",
       "</style>\n",
       "<table border=\"1\" class=\"dataframe\">\n",
       "  <thead>\n",
       "    <tr style=\"text-align: right;\">\n",
       "      <th></th>\n",
       "      <th>id</th>\n",
       "      <th>sequence</th>\n",
       "      <th>class</th>\n",
       "    </tr>\n",
       "  </thead>\n",
       "  <tbody>\n",
       "    <tr>\n",
       "      <th>0</th>\n",
       "      <td>0</td>\n",
       "      <td>(4, 4, 4, 21, 10, 8, 10, 8, 10, 8, 25, 25, 25,...</td>\n",
       "      <td>normal</td>\n",
       "    </tr>\n",
       "    <tr>\n",
       "      <th>1</th>\n",
       "      <td>1</td>\n",
       "      <td>(4, 4, 4, 21, 10, 8, 25, 10, 8, 10, 8, 25, 25,...</td>\n",
       "      <td>normal</td>\n",
       "    </tr>\n",
       "    <tr>\n",
       "      <th>2</th>\n",
       "      <td>2</td>\n",
       "      <td>(21, 4, 4, 4, 25, 25, 10, 8, 25, 10, 8, 10, 8,...</td>\n",
       "      <td>normal</td>\n",
       "    </tr>\n",
       "    <tr>\n",
       "      <th>3</th>\n",
       "      <td>3</td>\n",
       "      <td>(21, 4, 4, 4, 10, 8, 10, 8, 10, 8, 25, 25, 25,...</td>\n",
       "      <td>normal</td>\n",
       "    </tr>\n",
       "  </tbody>\n",
       "</table>\n",
       "</div>"
      ],
      "text/plain": [
       "   id                                           sequence   class\n",
       "0   0  (4, 4, 4, 21, 10, 8, 10, 8, 10, 8, 25, 25, 25,...  normal\n",
       "1   1  (4, 4, 4, 21, 10, 8, 25, 10, 8, 10, 8, 25, 25,...  normal\n",
       "2   2  (21, 4, 4, 4, 25, 25, 10, 8, 25, 10, 8, 10, 8,...  normal\n",
       "3   3  (21, 4, 4, 4, 10, 8, 10, 8, 10, 8, 25, 25, 25,...  normal"
      ]
     },
     "execution_count": 7,
     "metadata": {},
     "output_type": "execute_result"
    }
   ],
   "source": [
    "hdfs_train[:4]"
   ]
  },
  {
   "cell_type": "code",
   "execution_count": 8,
   "metadata": {
    "colab": {
     "base_uri": "https://localhost:8080/",
     "height": 204
    },
    "executionInfo": {
     "elapsed": 26,
     "status": "ok",
     "timestamp": 1666047190536,
     "user": {
      "displayName": "Federico de Leon",
      "userId": "01045121239102538016"
     },
     "user_tz": 180
    },
    "id": "mbSin2w_LufS",
    "outputId": "69f2e475-900f-4f86-e0d1-189be09f747d"
   },
   "outputs": [
    {
     "data": {
      "text/html": [
       "<div>\n",
       "<style scoped>\n",
       "    .dataframe tbody tr th:only-of-type {\n",
       "        vertical-align: middle;\n",
       "    }\n",
       "\n",
       "    .dataframe tbody tr th {\n",
       "        vertical-align: top;\n",
       "    }\n",
       "\n",
       "    .dataframe thead th {\n",
       "        text-align: right;\n",
       "    }\n",
       "</style>\n",
       "<table border=\"1\" class=\"dataframe\">\n",
       "  <thead>\n",
       "    <tr style=\"text-align: right;\">\n",
       "      <th></th>\n",
       "      <th>id</th>\n",
       "      <th>sequence</th>\n",
       "    </tr>\n",
       "  </thead>\n",
       "  <tbody>\n",
       "    <tr>\n",
       "      <th>0</th>\n",
       "      <td>0</td>\n",
       "      <td>(21, 4, 4, 4, 10, 8, 10, 8, 10, 8, 25, 25, 25)</td>\n",
       "    </tr>\n",
       "    <tr>\n",
       "      <th>1</th>\n",
       "      <td>1</td>\n",
       "      <td>(4, 4, 4, 21, 10, 8, 25, 10, 8, 10, 8, 25, 25,...</td>\n",
       "    </tr>\n",
       "    <tr>\n",
       "      <th>2</th>\n",
       "      <td>2</td>\n",
       "      <td>(4, 4, 4, 21, 10, 8, 10, 8, 10, 8, 25, 25, 25,...</td>\n",
       "    </tr>\n",
       "    <tr>\n",
       "      <th>3</th>\n",
       "      <td>3</td>\n",
       "      <td>(4, 4, 4, 21, 10, 8, 10, 8, 25, 25, 25, 10, 8,...</td>\n",
       "    </tr>\n",
       "    <tr>\n",
       "      <th>4</th>\n",
       "      <td>4</td>\n",
       "      <td>(21, 4, 4, 4, 10, 8, 10, 8, 10, 8, 25, 25, 25,...</td>\n",
       "    </tr>\n",
       "  </tbody>\n",
       "</table>\n",
       "</div>"
      ],
      "text/plain": [
       "   id                                           sequence\n",
       "0   0     (21, 4, 4, 4, 10, 8, 10, 8, 10, 8, 25, 25, 25)\n",
       "1   1  (4, 4, 4, 21, 10, 8, 25, 10, 8, 10, 8, 25, 25,...\n",
       "2   2  (4, 4, 4, 21, 10, 8, 10, 8, 10, 8, 25, 25, 25,...\n",
       "3   3  (4, 4, 4, 21, 10, 8, 10, 8, 25, 25, 25, 10, 8,...\n",
       "4   4  (21, 4, 4, 4, 10, 8, 10, 8, 10, 8, 25, 25, 25,..."
      ]
     },
     "execution_count": 8,
     "metadata": {},
     "output_type": "execute_result"
    }
   ],
   "source": [
    "hdfs_test_kaggle[:5]"
   ]
  },
  {
   "cell_type": "markdown",
   "metadata": {
    "id": "f-nyjbgRLufS"
   },
   "source": [
    "## 3. Análisis exploratorio de datos"
   ]
  },
  {
   "cell_type": "markdown",
   "metadata": {
    "id": "cA1nSPKuLufT"
   },
   "source": [
    "### 3.1 Análisis descriptivo general: Distribuciones, Scatterplots, Barplots..."
   ]
  },
  {
   "cell_type": "code",
   "execution_count": 9,
   "metadata": {
    "colab": {
     "base_uri": "https://localhost:8080/",
     "height": 204
    },
    "executionInfo": {
     "elapsed": 24,
     "status": "ok",
     "timestamp": 1666047190537,
     "user": {
      "displayName": "Federico de Leon",
      "userId": "01045121239102538016"
     },
     "user_tz": 180
    },
    "id": "lwVUrlooLufU",
    "outputId": "7804cc94-cf7e-4419-af1b-e4eae03e5ede"
   },
   "outputs": [
    {
     "data": {
      "text/html": [
       "<div>\n",
       "<style scoped>\n",
       "    .dataframe tbody tr th:only-of-type {\n",
       "        vertical-align: middle;\n",
       "    }\n",
       "\n",
       "    .dataframe tbody tr th {\n",
       "        vertical-align: top;\n",
       "    }\n",
       "\n",
       "    .dataframe thead th {\n",
       "        text-align: right;\n",
       "    }\n",
       "</style>\n",
       "<table border=\"1\" class=\"dataframe\">\n",
       "  <thead>\n",
       "    <tr style=\"text-align: right;\">\n",
       "      <th></th>\n",
       "      <th>id</th>\n",
       "      <th>sequence</th>\n",
       "      <th>class</th>\n",
       "    </tr>\n",
       "  </thead>\n",
       "  <tbody>\n",
       "    <tr>\n",
       "      <th>0</th>\n",
       "      <td>0</td>\n",
       "      <td>(4, 4, 4, 21, 10, 8, 10, 8, 10, 8, 25, 25, 25,...</td>\n",
       "      <td>normal</td>\n",
       "    </tr>\n",
       "    <tr>\n",
       "      <th>1</th>\n",
       "      <td>1</td>\n",
       "      <td>(4, 4, 4, 21, 10, 8, 25, 10, 8, 10, 8, 25, 25,...</td>\n",
       "      <td>normal</td>\n",
       "    </tr>\n",
       "    <tr>\n",
       "      <th>2</th>\n",
       "      <td>2</td>\n",
       "      <td>(21, 4, 4, 4, 25, 25, 10, 8, 25, 10, 8, 10, 8,...</td>\n",
       "      <td>normal</td>\n",
       "    </tr>\n",
       "    <tr>\n",
       "      <th>3</th>\n",
       "      <td>3</td>\n",
       "      <td>(21, 4, 4, 4, 10, 8, 10, 8, 10, 8, 25, 25, 25,...</td>\n",
       "      <td>normal</td>\n",
       "    </tr>\n",
       "    <tr>\n",
       "      <th>4</th>\n",
       "      <td>4</td>\n",
       "      <td>(21, 4, 4, 4, 25, 25, 25, 10, 8, 10, 8, 10, 8,...</td>\n",
       "      <td>normal</td>\n",
       "    </tr>\n",
       "  </tbody>\n",
       "</table>\n",
       "</div>"
      ],
      "text/plain": [
       "   id                                           sequence   class\n",
       "0   0  (4, 4, 4, 21, 10, 8, 10, 8, 10, 8, 25, 25, 25,...  normal\n",
       "1   1  (4, 4, 4, 21, 10, 8, 25, 10, 8, 10, 8, 25, 25,...  normal\n",
       "2   2  (21, 4, 4, 4, 25, 25, 10, 8, 25, 10, 8, 10, 8,...  normal\n",
       "3   3  (21, 4, 4, 4, 10, 8, 10, 8, 10, 8, 25, 25, 25,...  normal\n",
       "4   4  (21, 4, 4, 4, 25, 25, 25, 10, 8, 10, 8, 10, 8,...  normal"
      ]
     },
     "execution_count": 9,
     "metadata": {},
     "output_type": "execute_result"
    }
   ],
   "source": [
    "hdfs_train.head()"
   ]
  },
  {
   "cell_type": "code",
   "execution_count": 10,
   "metadata": {
    "colab": {
     "base_uri": "https://localhost:8080/",
     "height": 319
    },
    "executionInfo": {
     "elapsed": 24,
     "status": "ok",
     "timestamp": 1666047190538,
     "user": {
      "displayName": "Federico de Leon",
      "userId": "01045121239102538016"
     },
     "user_tz": 180
    },
    "id": "i4J3n780LufV",
    "outputId": "eca30570-1097-4230-8081-2143057f3236"
   },
   "outputs": [
    {
     "data": {
      "image/png": "[encoded data removed]",
      "text/plain": [
       "<Figure size 432x288 with 1 Axes>"
      ]
     },
     "metadata": {
      "needs_background": "light"
     },
     "output_type": "display_data"
    }
   ],
   "source": [
    "utils.value_counts(hdfs_train,'class')"
   ]
  },
  {
   "cell_type": "markdown",
   "metadata": {
    "id": "stsh7DznLufW"
   },
   "source": [
    "### 3.2 Análisis de secuencias"
   ]
  },
  {
   "cell_type": "code",
   "execution_count": 11,
   "metadata": {
    "executionInfo": {
     "elapsed": 21,
     "status": "ok",
     "timestamp": 1666047190539,
     "user": {
      "displayName": "Federico de Leon",
      "userId": "01045121239102538016"
     },
     "user_tz": 180
    },
    "id": "OxC6UWE9LufW"
   },
   "outputs": [],
   "source": [
    "#Agregar ploteo de largos de secuencias, distribuciones por simbolo, etc."
   ]
  },
  {
   "cell_type": "code",
   "execution_count": 36,
   "metadata": {
    "colab": {
     "base_uri": "https://localhost:8080/"
    },
    "executionInfo": {
     "elapsed": 3177,
     "status": "ok",
     "timestamp": 1666047193696,
     "user": {
      "displayName": "Federico de Leon",
      "userId": "01045121239102538016"
     },
     "user_tz": 180
    },
    "id": "3K7nfmctLufY",
    "outputId": "305491de-8338-471f-e01e-6d22ff571726"
   },
   "outputs": [
    {
     "name": "stderr",
     "output_type": "stream",
     "text": [
      "/opt/conda/lib/python3.7/site-packages/sklearn/preprocessing/_label.py:235: DataConversionWarning: A column-vector y was passed when a 1d array was expected. Please change the shape of y to (n_samples, ), for example using ravel().\n",
      "  y = column_or_1d(y, warn=True)\n"
     ]
    }
   ],
   "source": [
    "raw_sequences, data_y = utils.load_sequences_and_target(hdfs_train, one_hot=True)\n",
    "#raw_sequences, data_y = utils.load_sequences_and_target(hdfs_train)"
   ]
  },
  {
   "cell_type": "code",
   "execution_count": 13,
   "metadata": {
    "colab": {
     "base_uri": "https://localhost:8080/"
    },
    "executionInfo": {
     "elapsed": 413,
     "status": "ok",
     "timestamp": 1666047194104,
     "user": {
      "displayName": "Federico de Leon",
      "userId": "01045121239102538016"
     },
     "user_tz": 180
    },
    "id": "KW6TfE-kLufZ",
    "outputId": "f2184480-2e56-47fa-cca9-0528a628aff9"
   },
   "outputs": [],
   "source": [
    "try:\n",
    "    data_y.value_counts()\n",
    "except:\n",
    "    pass"
   ]
  },
  {
   "cell_type": "code",
   "execution_count": 14,
   "metadata": {
    "colab": {
     "base_uri": "https://localhost:8080/"
    },
    "executionInfo": {
     "elapsed": 14,
     "status": "ok",
     "timestamp": 1666047194105,
     "user": {
      "displayName": "Federico de Leon",
      "userId": "01045121239102538016"
     },
     "user_tz": 180
    },
    "id": "I-Q0p2ffLufa",
    "outputId": "d5c48aef-126e-43d2-f1e4-8c038361f41f"
   },
   "outputs": [
    {
     "data": {
      "text/plain": [
       "1"
      ]
     },
     "execution_count": 14,
     "metadata": {},
     "output_type": "execute_result"
    }
   ],
   "source": [
    "min([min(s) for s in raw_sequences])"
   ]
  },
  {
   "cell_type": "code",
   "execution_count": 15,
   "metadata": {
    "colab": {
     "base_uri": "https://localhost:8080/"
    },
    "executionInfo": {
     "elapsed": 286,
     "status": "ok",
     "timestamp": 1666047194387,
     "user": {
      "displayName": "Federico de Leon",
      "userId": "01045121239102538016"
     },
     "user_tz": 180
    },
    "id": "KxRfgSmULufb",
    "outputId": "51593d01-152a-4ec9-df59-41cc98e7e1d3"
   },
   "outputs": [
    {
     "data": {
      "text/plain": [
       "28"
      ]
     },
     "execution_count": 15,
     "metadata": {},
     "output_type": "execute_result"
    }
   ],
   "source": [
    "max([max(s) for s in raw_sequences])"
   ]
  },
  {
   "cell_type": "code",
   "execution_count": 16,
   "metadata": {
    "executionInfo": {
     "elapsed": 283,
     "status": "ok",
     "timestamp": 1666047194666,
     "user": {
      "displayName": "Federico de Leon",
      "userId": "01045121239102538016"
     },
     "user_tz": 180
    },
    "id": "l1sk7UWOLufd"
   },
   "outputs": [],
   "source": [
    "vocab_size = max([max(s) for s in raw_sequences]) + 1"
   ]
  },
  {
   "cell_type": "code",
   "execution_count": 17,
   "metadata": {
    "colab": {
     "base_uri": "https://localhost:8080/"
    },
    "executionInfo": {
     "elapsed": 8,
     "status": "ok",
     "timestamp": 1666047194667,
     "user": {
      "displayName": "Federico de Leon",
      "userId": "01045121239102538016"
     },
     "user_tz": 180
    },
    "id": "N6fCiLzXLufc",
    "outputId": "4b0a284b-3237-4f33-f710-4d618071f3c7"
   },
   "outputs": [
    {
     "data": {
      "text/plain": [
       "298"
      ]
     },
     "execution_count": 17,
     "metadata": {},
     "output_type": "execute_result"
    }
   ],
   "source": [
    "max([len(s) for s in raw_sequences])"
   ]
  },
  {
   "cell_type": "markdown",
   "metadata": {
    "id": "JeetaoQrLufc"
   },
   "source": [
    "#### El valor de vocab_size es importante ya que es la dimensionalidad del lenguaje"
   ]
  },
  {
   "cell_type": "markdown",
   "metadata": {
    "id": "wZF5bZT2Lufd"
   },
   "source": [
    "#### Definiremos arbitrariamente el largo máximo de secuencias (es este tamaño razonable?)"
   ]
  },
  {
   "cell_type": "code",
   "execution_count": 18,
   "metadata": {
    "executionInfo": {
     "elapsed": 7,
     "status": "ok",
     "timestamp": 1666047194668,
     "user": {
      "displayName": "Federico de Leon",
      "userId": "01045121239102538016"
     },
     "user_tz": 180
    },
    "id": "xQloDleRLuff"
   },
   "outputs": [],
   "source": [
    "max_len = 30"
   ]
  },
  {
   "cell_type": "markdown",
   "metadata": {
    "id": "VVqzNJVULufh"
   },
   "source": [
    "#### Haremos padding de valor 0 a las secuencias para estandarizar el largo"
   ]
  },
  {
   "cell_type": "code",
   "execution_count": 19,
   "metadata": {
    "executionInfo": {
     "elapsed": 1510,
     "status": "ok",
     "timestamp": 1666047196172,
     "user": {
      "displayName": "Federico de Leon",
      "userId": "01045121239102538016"
     },
     "user_tz": 180
    },
    "id": "STkk44KtLufh"
   },
   "outputs": [],
   "source": [
    "padded_sequences = utils.pad_sequences(raw_sequences, max_len)"
   ]
  },
  {
   "cell_type": "markdown",
   "metadata": {
    "id": "cmmLNAeGLufi"
   },
   "source": [
    "## 4. Entrenamiento de Language Model\n",
    "\n",
    "### 4.1. Data preprocessing\n",
    "#### 4.1.1 Particionamiento"
   ]
  },
  {
   "cell_type": "code",
   "execution_count": 20,
   "metadata": {
    "executionInfo": {
     "elapsed": 12,
     "status": "ok",
     "timestamp": 1666047196173,
     "user": {
      "displayName": "Federico de Leon",
      "userId": "01045121239102538016"
     },
     "user_tz": 180
    },
    "id": "dXOX6eLuLufj"
   },
   "outputs": [],
   "source": [
    "X_train, X_test, X_val, y_train, y_test, y_val = utils.split(padded_sequences, data_y)"
   ]
  },
  {
   "cell_type": "markdown",
   "metadata": {
    "id": "lJl7Fr6qLufj"
   },
   "source": [
    "### 4.2 RNN"
   ]
  },
  {
   "cell_type": "code",
   "execution_count": 21,
   "metadata": {
    "executionInfo": {
     "elapsed": 10,
     "status": "ok",
     "timestamp": 1666047196174,
     "user": {
      "displayName": "Federico de Leon",
      "userId": "01045121239102538016"
     },
     "user_tz": 180
    },
    "id": "DNsmykF_Lufl"
   },
   "outputs": [],
   "source": [
    "optimizer = 'adam'\n",
    "loss = 'categorical_crossentropy'\n",
    "import math\n",
    "embedding_size = math.ceil(vocab_size**0.25) #es un hiperparametro. cuanto mas grande, mayor el entrenamiento"
   ]
  },
  {
   "cell_type": "code",
   "execution_count": 22,
   "metadata": {
    "colab": {
     "base_uri": "https://localhost:8080/"
    },
    "executionInfo": {
     "elapsed": 1167,
     "status": "ok",
     "timestamp": 1666047197333,
     "user": {
      "displayName": "Federico de Leon",
      "userId": "01045121239102538016"
     },
     "user_tz": 180
    },
    "id": "0CqjJVXdLufm",
    "outputId": "105217cf-2cb8-4dd3-c609-3ed84047c793"
   },
   "outputs": [
    {
     "name": "stdout",
     "output_type": "stream",
     "text": [
      "Model: \"sequential\"\n",
      "_________________________________________________________________\n",
      "Layer (type)                 Output Shape              Param #   \n",
      "=================================================================\n",
      "embedding (Embedding)        (None, 30, 3)             90        \n",
      "_________________________________________________________________\n",
      "lstm (LSTM)                  (None, 30, 64)            17408     \n",
      "_________________________________________________________________\n",
      "lstm_1 (LSTM)                (None, 64)                33024     \n",
      "_________________________________________________________________\n",
      "batch_normalization (BatchNo (None, 64)                256       \n",
      "_________________________________________________________________\n",
      "dense (Dense)                (None, 2)                 130       \n",
      "=================================================================\n",
      "Total params: 50,908\n",
      "Trainable params: 50,780\n",
      "Non-trainable params: 128\n",
      "_________________________________________________________________\n"
     ]
    }
   ],
   "source": [
    "name='BatchNormalization_Doble_LSTM_7epochs_40ml'\n",
    "\n",
    "model = Sequential()\n",
    "model.add(Embedding(vocab_size+1, embedding_size, input_length=max_len)) #el vocab size deberiamos sacarlo\n",
    "model.add(LSTM(64, return_sequences=True))\n",
    "model.add(LSTM(64, return_sequences=False))\n",
    "model.add(BatchNormalization())\n",
    "model.add(Dense(2, activation='softmax'))\n",
    "model.compile(loss=loss, optimizer=optimizer, metrics=['accuracy'])\n",
    "model.summary()"
   ]
  },
  {
   "cell_type": "markdown",
   "metadata": {
    "id": "GGDlpHiJLufr"
   },
   "source": [
    "### 4.3 Entrenamiento"
   ]
  },
  {
   "cell_type": "markdown",
   "metadata": {
    "id": "oFz_cWfNLufu"
   },
   "source": [
    "#### 4.3.1 Hiperarámetros"
   ]
  },
  {
   "cell_type": "code",
   "execution_count": 23,
   "metadata": {
    "executionInfo": {
     "elapsed": 7,
     "status": "ok",
     "timestamp": 1666047197334,
     "user": {
      "displayName": "Federico de Leon",
      "userId": "01045121239102538016"
     },
     "user_tz": 180
    },
    "id": "-gmBzsItLuf0"
   },
   "outputs": [],
   "source": [
    "batch_size = 10\n",
    "epochs = 7\n",
    "patience = 10"
   ]
  },
  {
   "cell_type": "code",
   "execution_count": 24,
   "metadata": {
    "colab": {
     "base_uri": "https://localhost:8080/"
    },
    "id": "nQICMbxaLuf3",
    "outputId": "3a904b13-08a3-484d-98ae-a1bda035a59e"
   },
   "outputs": [
    {
     "name": "stdout",
     "output_type": "stream",
     "text": [
      "Epoch 1/7\n",
      "26007/26007 [==============================] - 368s 14ms/step - loss: 0.0354 - accuracy: 0.9936 - val_loss: 0.0151 - val_accuracy: 0.9988\n",
      "Epoch 2/7\n",
      "26007/26007 [==============================] - 369s 14ms/step - loss: 0.0140 - accuracy: 0.9981 - val_loss: 0.0124 - val_accuracy: 0.9989\n",
      "Epoch 3/7\n",
      "26007/26007 [==============================] - 365s 14ms/step - loss: 0.0107 - accuracy: 0.9987 - val_loss: 0.0058 - val_accuracy: 0.9994\n",
      "Epoch 4/7\n",
      "26007/26007 [==============================] - 360s 14ms/step - loss: 0.0077 - accuracy: 0.9989 - val_loss: 0.0268 - val_accuracy: 0.9988\n",
      "Epoch 5/7\n",
      "26007/26007 [==============================] - 367s 14ms/step - loss: 0.0071 - accuracy: 0.9988 - val_loss: 0.0102 - val_accuracy: 0.9991\n",
      "Epoch 6/7\n",
      "26007/26007 [==============================] - 360s 14ms/step - loss: 0.0059 - accuracy: 0.9992 - val_loss: 0.0074 - val_accuracy: 0.9994\n",
      "Epoch 7/7\n",
      "26007/26007 [==============================] - 368s 14ms/step - loss: 0.0057 - accuracy: 0.9992 - val_loss: 0.0036 - val_accuracy: 0.9992\n"
     ]
    }
   ],
   "source": [
    "#se agregó class.weights\n",
    "training1, model1 = utils.train(model,\n",
    "                X_train,\n",
    "                y_train, \n",
    "                batch_size = batch_size,\n",
    "                epochs = epochs,\n",
    "                validation_data_X = X_val, \n",
    "                validation_data_y = y_val,                                \n",
    "                patience = patience,\n",
    "                class_weights = utils.class_weights(hdfs_train,'class'))"
   ]
  },
  {
   "cell_type": "markdown",
   "metadata": {
    "id": "QPEo-UfILuf5"
   },
   "source": [
    "### 4.4 Evaluación del modelo"
   ]
  },
  {
   "cell_type": "code",
   "execution_count": 25,
   "metadata": {
    "id": "Kg3a_jYHLuf6"
   },
   "outputs": [
    {
     "data": {
      "image/png": "[encoded data removed]",
      "text/plain": [
       "<Figure size 360x360 with 2 Axes>"
      ]
     },
     "metadata": {
      "needs_background": "light"
     },
     "output_type": "display_data"
    },
    {
     "data": {
      "image/png": "[encoded data removed]",
      "text/plain": [
       "<Figure size 432x288 with 1 Axes>"
      ]
     },
     "metadata": {
      "needs_background": "light"
     },
     "output_type": "display_data"
    },
    {
     "name": "stdout",
     "output_type": "stream",
     "text": [
      "Classification report\n",
      "              precision    recall  f1-score   support\n",
      "\n",
      "    abnormal       0.97      1.00      0.98      2901\n",
      "      normal       1.00      1.00      1.00     93422\n",
      "\n",
      "    accuracy                           1.00     96323\n",
      "   macro avg       0.99      1.00      0.99     96323\n",
      "weighted avg       1.00      1.00      1.00     96323\n",
      "\n",
      "Loss function: 0.004251441918313503, accuracy: 0.9990137219429016\n"
     ]
    }
   ],
   "source": [
    "utils.eval_model(training1, model1, X_test, y_test)"
   ]
  },
  {
   "cell_type": "markdown",
   "metadata": {
    "id": "r-KyFmcgLuf_"
   },
   "source": [
    "## 5 Generación de salida para competencia Kaggle"
   ]
  },
  {
   "cell_type": "code",
   "execution_count": 37,
   "metadata": {
    "id": "7DBHYPqqLugA"
   },
   "outputs": [
    {
     "data": {
      "text/html": [
       "<div>\n",
       "<style scoped>\n",
       "    .dataframe tbody tr th:only-of-type {\n",
       "        vertical-align: middle;\n",
       "    }\n",
       "\n",
       "    .dataframe tbody tr th {\n",
       "        vertical-align: top;\n",
       "    }\n",
       "\n",
       "    .dataframe thead th {\n",
       "        text-align: right;\n",
       "    }\n",
       "</style>\n",
       "<table border=\"1\" class=\"dataframe\">\n",
       "  <thead>\n",
       "    <tr style=\"text-align: right;\">\n",
       "      <th></th>\n",
       "      <th>id</th>\n",
       "      <th>expected</th>\n",
       "    </tr>\n",
       "  </thead>\n",
       "  <tbody>\n",
       "    <tr>\n",
       "      <th>0</th>\n",
       "      <td>0</td>\n",
       "      <td>normal</td>\n",
       "    </tr>\n",
       "    <tr>\n",
       "      <th>1</th>\n",
       "      <td>1</td>\n",
       "      <td>abnormal</td>\n",
       "    </tr>\n",
       "    <tr>\n",
       "      <th>2</th>\n",
       "      <td>2</td>\n",
       "      <td>normal</td>\n",
       "    </tr>\n",
       "    <tr>\n",
       "      <th>3</th>\n",
       "      <td>3</td>\n",
       "      <td>normal</td>\n",
       "    </tr>\n",
       "    <tr>\n",
       "      <th>4</th>\n",
       "      <td>4</td>\n",
       "      <td>normal</td>\n",
       "    </tr>\n",
       "    <tr>\n",
       "      <th>...</th>\n",
       "      <td>...</td>\n",
       "      <td>...</td>\n",
       "    </tr>\n",
       "    <tr>\n",
       "      <th>189765</th>\n",
       "      <td>189765</td>\n",
       "      <td>normal</td>\n",
       "    </tr>\n",
       "    <tr>\n",
       "      <th>189766</th>\n",
       "      <td>189766</td>\n",
       "      <td>normal</td>\n",
       "    </tr>\n",
       "    <tr>\n",
       "      <th>189767</th>\n",
       "      <td>189767</td>\n",
       "      <td>normal</td>\n",
       "    </tr>\n",
       "    <tr>\n",
       "      <th>189768</th>\n",
       "      <td>189768</td>\n",
       "      <td>normal</td>\n",
       "    </tr>\n",
       "    <tr>\n",
       "      <th>189769</th>\n",
       "      <td>189769</td>\n",
       "      <td>normal</td>\n",
       "    </tr>\n",
       "  </tbody>\n",
       "</table>\n",
       "<p>189770 rows × 2 columns</p>\n",
       "</div>"
      ],
      "text/plain": [
       "            id  expected\n",
       "0            0    normal\n",
       "1            1  abnormal\n",
       "2            2    normal\n",
       "3            3    normal\n",
       "4            4    normal\n",
       "...        ...       ...\n",
       "189765  189765    normal\n",
       "189766  189766    normal\n",
       "189767  189767    normal\n",
       "189768  189768    normal\n",
       "189769  189769    normal\n",
       "\n",
       "[189770 rows x 2 columns]"
      ]
     },
     "execution_count": 37,
     "metadata": {},
     "output_type": "execute_result"
    }
   ],
   "source": [
    "utils.load_test_sequences_and_generate_prediction_file(model1, hdfs_test_kaggle, max_len, name)"
   ]
  },
  {
   "cell_type": "code",
   "execution_count": 38,
   "metadata": {},
   "outputs": [
    {
     "name": "stdout",
     "output_type": "stream",
     "text": [
      "Saved model to disk\n"
     ]
    }
   ],
   "source": [
    "# serialize model to JSON\n",
    "model_json = model.to_json()\n",
    "with open(\"outputs/model_\"+name+'_'+dt.datetime.today().strftime('%Y%m%d_%H%M%S')+\".json\", \"w\") as json_file:\n",
    "    json_file.write(model_json)\n",
    "# serialize weights to HDF5\n",
    "model.save_weights(\"outputs/model_Weigths\"+name+'_'+dt.datetime.today().strftime('%Y%m%d_%H%M%S')+\".h5\")\n",
    "print(\"Saved model to disk\")"
   ]
  },
  {
   "cell_type": "markdown",
   "metadata": {
    "id": "8lXsSd3MLugC"
   },
   "source": [
    "## 6 Consigna\n",
    "\n",
    "### A) Participación en Competencia Kaggle:\n",
    "El objetivo de este punto es participar en la competencia de Kaggle y obtener como mínimo un Macro Average Recall (o Weighted Accuracy) superior al 80%. [->Link a la competencia<-](https://www.kaggle.com/t/6d15e3a96bd049b2b4b2a491a69a0fc7).\n",
    "\n",
    "### B) Utilización de Grid Search (o equivalente):\n",
    "Para cumplir con la busqueda de modelos óptimos se debe realizar un grid search lo más abarcativo y metódico posible.\n",
    "\n",
    "### C) Se debe a su vez investigar e implementar al menos 2 de las siguientes técnicas:\n",
    "#### 1. [Batch Normalization](https://machinelearningmastery.com/how-to-accelerate-learning-of-deep-neural-networks-with-batch-normalization/)\n",
    "#### 2. [Data Augmentation a través de la realización de Windowing](https://blog.finxter.com/how-to-loop-through-a-python-list-in-batches/#Method_1_Iterating_over_Consecutive_Sliding_Windows)\n",
    "#### 3. [Gradient Normalization y/o Gradient Clipping](https://machinelearningmastery.com/how-to-avoid-exploding-gradients-in-neural-networks-with-gradient-clipping/)\n"
   ]
  },
  {
   "cell_type": "code",
   "execution_count": null,
   "metadata": {
    "id": "gevnjEmGLugD"
   },
   "outputs": [],
   "source": []
  }
 ],
 "metadata": {
  "colab": {
   "collapsed_sections": [],
   "provenance": []
  },
  "interpreter": {
   "hash": "c12d86b63e74ac4f427027e3d58b1fa461278ba669d7be39fd5f25ce787fdf43"
  },
  "kernelspec": {
   "display_name": "Python 3",
   "language": "python",
   "name": "python3"
  },
  "language_info": {
   "codemirror_mode": {
    "name": "ipython",
    "version": 3
   },
   "file_extension": ".py",
   "mimetype": "text/x-python",
   "name": "python",
   "nbconvert_exporter": "python",
   "pygments_lexer": "ipython3",
   "version": "3.7.6"
  }
 },
 "nbformat": 4,
 "nbformat_minor": 1
}
