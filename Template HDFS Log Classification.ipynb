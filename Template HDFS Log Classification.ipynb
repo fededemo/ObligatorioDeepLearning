{
  "cells": [
    {
      "cell_type": "markdown",
      "metadata": {
        "id": "6OFm1E4ALuev",
        "pycharm": {
          "name": "#%% md\n"
        }
      },
      "source": [
        "## Obligatorio de Deep Learning - Semestre 2 - 2022"
      ]
    },
    {
      "cell_type": "markdown",
      "metadata": {
        "id": "SoMkgREvLue_",
        "pycharm": {
          "name": "#%% md\n"
        }
      },
      "source": [
        "## 1. Setup"
      ]
    },
    {
      "cell_type": "markdown",
      "metadata": {
        "id": "1GewshNtLufB",
        "pycharm": {
          "name": "#%% md\n"
        }
      },
      "source": [
        "### 1.1 Imports"
      ]
    },
    {
      "cell_type": "code",
      "source": [
        "from google.colab import drive\n",
        "drive.mount('/content/drive')\n"
      ],
      "metadata": {
        "id": "8-yEMLaWNgaf",
        "colab": {
          "base_uri": "https://localhost:8080/"
        },
        "outputId": "b8702376-944f-41b7-fd9f-662438db44f2"
      },
      "execution_count": 72,
      "outputs": [
        {
          "output_type": "stream",
          "name": "stdout",
          "text": [
            "Drive already mounted at /content/drive; to attempt to forcibly remount, call drive.mount(\"/content/drive\", force_remount=True).\n"
          ]
        }
      ]
    },
    {
      "cell_type": "code",
      "execution_count": 73,
      "metadata": {
        "id": "OiiNR7s1L08y",
        "pycharm": {
          "name": "#%%\n"
        }
      },
      "outputs": [],
      "source": [
        "import os\n",
        "if os.path.exists(\"/content/drive/MyDrive/ORT/DeepLearning/Obligatorio\"):\n",
        "  os.chdir('/content/drive/MyDrive/ORT/DeepLearning/Obligatorio')\n",
        "else:\n",
        "  os.chdir(\"/content/drive/MyDrive/ORT/Posgrado AI/Taller DeepLearning/Obligatorio\")\n"
      ]
    },
    {
      "cell_type": "code",
      "source": [
        "!ls"
      ],
      "metadata": {
        "id": "OrBCKzVNNRIc",
        "colab": {
          "base_uri": "https://localhost:8080/"
        },
        "outputId": "d0a23303-5b14-4d51-cd42-bf3802e3b975"
      },
      "execution_count": 74,
      "outputs": [
        {
          "output_type": "stream",
          "name": "stdout",
          "text": [
            " data\n",
            "'Deep Learning - Obligatorio 2022.pdf'\n",
            " kaggle_test_output.csv\n",
            " kaggle_test_outputmodel_maxLen19_batchSize32_epochs120221114_030824.csv\n",
            " kaggle_test_outputmodel_maxLen19_batchSize32_epochs1920221114_042718.csv\n",
            " kaggle_test_outputModelWithBN_maxLen19_batchSize32_epochs1920221114_054238.csv\n",
            " kaggle_test_outputModelWithGCandBN_maxLen19_batchSize32_epochs1920221114_081729.csv\n",
            " kaggle_test_outputModelWithGC_maxLen19_batchSize32_epochs1920221114_065842.csv\n",
            " outputs\n",
            " __pycache__\n",
            " Referencias.gdoc\n",
            "'Template HDFS Log Classification.ipynb'\n",
            " utils.py\n"
          ]
        }
      ]
    },
    {
      "cell_type": "code",
      "execution_count": 156,
      "metadata": {
        "id": "aasM3UopLufC",
        "pycharm": {
          "name": "#%%\n"
        }
      },
      "outputs": [],
      "source": [
        "import numpy as np\n",
        "import datetime as dt\n",
        "import math\n",
        "\n",
        "from tensorflow.keras.models import Sequential\n",
        "from tensorflow.keras.layers import Dense, Conv1D, MaxPool1D, Dropout, Embedding, LSTM, Dense, BatchNormalization\n",
        "import tensorflow as tf\n",
        "from tensorflow.keras.optimizers import Adam\n",
        "\n",
        "from sklearn.metrics import f1_score, precision_score, recall_score, confusion_matrix\n",
        "\n",
        "\n",
        "from importlib import reload\n",
        "import utils\n",
        "utils = reload(utils)"
      ]
    },
    {
      "cell_type": "markdown",
      "metadata": {
        "id": "oU26rNfHLufK",
        "pycharm": {
          "name": "#%% md\n"
        }
      },
      "source": [
        "### 1.2 Set random seeds"
      ]
    },
    {
      "cell_type": "code",
      "execution_count": 76,
      "metadata": {
        "id": "YLlbGI8aLufL",
        "pycharm": {
          "name": "#%%\n"
        }
      },
      "outputs": [],
      "source": [
        "np.random.seed(117)\n",
        "tf.random.set_seed(117)"
      ]
    },
    {
      "cell_type": "markdown",
      "metadata": {
        "id": "ezE0iqNALufO",
        "pycharm": {
          "name": "#%% md\n"
        }
      },
      "source": [
        "## 2. Carga de datos"
      ]
    },
    {
      "cell_type": "code",
      "execution_count": 77,
      "metadata": {
        "id": "j9RPPY70LufP",
        "pycharm": {
          "name": "#%%\n"
        }
      },
      "outputs": [],
      "source": [
        "hdfs_train, hdfs_test_kaggle = utils.read_data()"
      ]
    },
    {
      "cell_type": "code",
      "execution_count": 78,
      "metadata": {
        "colab": {
          "base_uri": "https://localhost:8080/",
          "height": 175
        },
        "id": "LFTLnExcLufQ",
        "outputId": "33e88b11-9122-46de-fab9-1a7920b64e8e",
        "scrolled": true,
        "pycharm": {
          "name": "#%%\n"
        }
      },
      "outputs": [
        {
          "output_type": "execute_result",
          "data": {
            "text/plain": [
              "   id                                           sequence   class\n",
              "0   0  (4, 4, 4, 21, 10, 8, 10, 8, 10, 8, 25, 25, 25,...  normal\n",
              "1   1  (4, 4, 4, 21, 10, 8, 25, 10, 8, 10, 8, 25, 25,...  normal\n",
              "2   2  (21, 4, 4, 4, 25, 25, 10, 8, 25, 10, 8, 10, 8,...  normal\n",
              "3   3  (21, 4, 4, 4, 10, 8, 10, 8, 10, 8, 25, 25, 25,...  normal"
            ],
            "text/html": [
              "\n",
              "  <div id=\"df-1a1a8b49-0531-4b03-ad5e-f73264132db4\">\n",
              "    <div class=\"colab-df-container\">\n",
              "      <div>\n",
              "<style scoped>\n",
              "    .dataframe tbody tr th:only-of-type {\n",
              "        vertical-align: middle;\n",
              "    }\n",
              "\n",
              "    .dataframe tbody tr th {\n",
              "        vertical-align: top;\n",
              "    }\n",
              "\n",
              "    .dataframe thead th {\n",
              "        text-align: right;\n",
              "    }\n",
              "</style>\n",
              "<table border=\"1\" class=\"dataframe\">\n",
              "  <thead>\n",
              "    <tr style=\"text-align: right;\">\n",
              "      <th></th>\n",
              "      <th>id</th>\n",
              "      <th>sequence</th>\n",
              "      <th>class</th>\n",
              "    </tr>\n",
              "  </thead>\n",
              "  <tbody>\n",
              "    <tr>\n",
              "      <th>0</th>\n",
              "      <td>0</td>\n",
              "      <td>(4, 4, 4, 21, 10, 8, 10, 8, 10, 8, 25, 25, 25,...</td>\n",
              "      <td>normal</td>\n",
              "    </tr>\n",
              "    <tr>\n",
              "      <th>1</th>\n",
              "      <td>1</td>\n",
              "      <td>(4, 4, 4, 21, 10, 8, 25, 10, 8, 10, 8, 25, 25,...</td>\n",
              "      <td>normal</td>\n",
              "    </tr>\n",
              "    <tr>\n",
              "      <th>2</th>\n",
              "      <td>2</td>\n",
              "      <td>(21, 4, 4, 4, 25, 25, 10, 8, 25, 10, 8, 10, 8,...</td>\n",
              "      <td>normal</td>\n",
              "    </tr>\n",
              "    <tr>\n",
              "      <th>3</th>\n",
              "      <td>3</td>\n",
              "      <td>(21, 4, 4, 4, 10, 8, 10, 8, 10, 8, 25, 25, 25,...</td>\n",
              "      <td>normal</td>\n",
              "    </tr>\n",
              "  </tbody>\n",
              "</table>\n",
              "</div>\n",
              "      <button class=\"colab-df-convert\" onclick=\"convertToInteractive('df-1a1a8b49-0531-4b03-ad5e-f73264132db4')\"\n",
              "              title=\"Convert this dataframe to an interactive table.\"\n",
              "              style=\"display:none;\">\n",
              "        \n",
              "  <svg xmlns=\"http://www.w3.org/2000/svg\" height=\"24px\"viewBox=\"0 0 24 24\"\n",
              "       width=\"24px\">\n",
              "    <path d=\"M0 0h24v24H0V0z\" fill=\"none\"/>\n",
              "    <path d=\"M18.56 5.44l.94 2.06.94-2.06 2.06-.94-2.06-.94-.94-2.06-.94 2.06-2.06.94zm-11 1L8.5 8.5l.94-2.06 2.06-.94-2.06-.94L8.5 2.5l-.94 2.06-2.06.94zm10 10l.94 2.06.94-2.06 2.06-.94-2.06-.94-.94-2.06-.94 2.06-2.06.94z\"/><path d=\"M17.41 7.96l-1.37-1.37c-.4-.4-.92-.59-1.43-.59-.52 0-1.04.2-1.43.59L10.3 9.45l-7.72 7.72c-.78.78-.78 2.05 0 2.83L4 21.41c.39.39.9.59 1.41.59.51 0 1.02-.2 1.41-.59l7.78-7.78 2.81-2.81c.8-.78.8-2.07 0-2.86zM5.41 20L4 18.59l7.72-7.72 1.47 1.35L5.41 20z\"/>\n",
              "  </svg>\n",
              "      </button>\n",
              "      \n",
              "  <style>\n",
              "    .colab-df-container {\n",
              "      display:flex;\n",
              "      flex-wrap:wrap;\n",
              "      gap: 12px;\n",
              "    }\n",
              "\n",
              "    .colab-df-convert {\n",
              "      background-color: #E8F0FE;\n",
              "      border: none;\n",
              "      border-radius: 50%;\n",
              "      cursor: pointer;\n",
              "      display: none;\n",
              "      fill: #1967D2;\n",
              "      height: 32px;\n",
              "      padding: 0 0 0 0;\n",
              "      width: 32px;\n",
              "    }\n",
              "\n",
              "    .colab-df-convert:hover {\n",
              "      background-color: #E2EBFA;\n",
              "      box-shadow: 0px 1px 2px rgba(60, 64, 67, 0.3), 0px 1px 3px 1px rgba(60, 64, 67, 0.15);\n",
              "      fill: #174EA6;\n",
              "    }\n",
              "\n",
              "    [theme=dark] .colab-df-convert {\n",
              "      background-color: #3B4455;\n",
              "      fill: #D2E3FC;\n",
              "    }\n",
              "\n",
              "    [theme=dark] .colab-df-convert:hover {\n",
              "      background-color: #434B5C;\n",
              "      box-shadow: 0px 1px 3px 1px rgba(0, 0, 0, 0.15);\n",
              "      filter: drop-shadow(0px 1px 2px rgba(0, 0, 0, 0.3));\n",
              "      fill: #FFFFFF;\n",
              "    }\n",
              "  </style>\n",
              "\n",
              "      <script>\n",
              "        const buttonEl =\n",
              "          document.querySelector('#df-1a1a8b49-0531-4b03-ad5e-f73264132db4 button.colab-df-convert');\n",
              "        buttonEl.style.display =\n",
              "          google.colab.kernel.accessAllowed ? 'block' : 'none';\n",
              "\n",
              "        async function convertToInteractive(key) {\n",
              "          const element = document.querySelector('#df-1a1a8b49-0531-4b03-ad5e-f73264132db4');\n",
              "          const dataTable =\n",
              "            await google.colab.kernel.invokeFunction('convertToInteractive',\n",
              "                                                     [key], {});\n",
              "          if (!dataTable) return;\n",
              "\n",
              "          const docLinkHtml = 'Like what you see? Visit the ' +\n",
              "            '<a target=\"_blank\" href=https://colab.research.google.com/notebooks/data_table.ipynb>data table notebook</a>'\n",
              "            + ' to learn more about interactive tables.';\n",
              "          element.innerHTML = '';\n",
              "          dataTable['output_type'] = 'display_data';\n",
              "          await google.colab.output.renderOutput(dataTable, element);\n",
              "          const docLink = document.createElement('div');\n",
              "          docLink.innerHTML = docLinkHtml;\n",
              "          element.appendChild(docLink);\n",
              "        }\n",
              "      </script>\n",
              "    </div>\n",
              "  </div>\n",
              "  "
            ]
          },
          "metadata": {},
          "execution_count": 78
        }
      ],
      "source": [
        "hdfs_train[:4]"
      ]
    },
    {
      "cell_type": "code",
      "execution_count": 79,
      "metadata": {
        "colab": {
          "base_uri": "https://localhost:8080/",
          "height": 206
        },
        "id": "mbSin2w_LufS",
        "outputId": "992200a4-2594-474d-db9b-182e85894a12",
        "pycharm": {
          "name": "#%%\n"
        }
      },
      "outputs": [
        {
          "output_type": "execute_result",
          "data": {
            "text/plain": [
              "   id                                           sequence\n",
              "0   0     (21, 4, 4, 4, 10, 8, 10, 8, 10, 8, 25, 25, 25)\n",
              "1   1  (4, 4, 4, 21, 10, 8, 25, 10, 8, 10, 8, 25, 25,...\n",
              "2   2  (4, 4, 4, 21, 10, 8, 10, 8, 10, 8, 25, 25, 25,...\n",
              "3   3  (4, 4, 4, 21, 10, 8, 10, 8, 25, 25, 25, 10, 8,...\n",
              "4   4  (21, 4, 4, 4, 10, 8, 10, 8, 10, 8, 25, 25, 25,..."
            ],
            "text/html": [
              "\n",
              "  <div id=\"df-89d0dd5e-f198-4e1c-a842-dab8bcda06d3\">\n",
              "    <div class=\"colab-df-container\">\n",
              "      <div>\n",
              "<style scoped>\n",
              "    .dataframe tbody tr th:only-of-type {\n",
              "        vertical-align: middle;\n",
              "    }\n",
              "\n",
              "    .dataframe tbody tr th {\n",
              "        vertical-align: top;\n",
              "    }\n",
              "\n",
              "    .dataframe thead th {\n",
              "        text-align: right;\n",
              "    }\n",
              "</style>\n",
              "<table border=\"1\" class=\"dataframe\">\n",
              "  <thead>\n",
              "    <tr style=\"text-align: right;\">\n",
              "      <th></th>\n",
              "      <th>id</th>\n",
              "      <th>sequence</th>\n",
              "    </tr>\n",
              "  </thead>\n",
              "  <tbody>\n",
              "    <tr>\n",
              "      <th>0</th>\n",
              "      <td>0</td>\n",
              "      <td>(21, 4, 4, 4, 10, 8, 10, 8, 10, 8, 25, 25, 25)</td>\n",
              "    </tr>\n",
              "    <tr>\n",
              "      <th>1</th>\n",
              "      <td>1</td>\n",
              "      <td>(4, 4, 4, 21, 10, 8, 25, 10, 8, 10, 8, 25, 25,...</td>\n",
              "    </tr>\n",
              "    <tr>\n",
              "      <th>2</th>\n",
              "      <td>2</td>\n",
              "      <td>(4, 4, 4, 21, 10, 8, 10, 8, 10, 8, 25, 25, 25,...</td>\n",
              "    </tr>\n",
              "    <tr>\n",
              "      <th>3</th>\n",
              "      <td>3</td>\n",
              "      <td>(4, 4, 4, 21, 10, 8, 10, 8, 25, 25, 25, 10, 8,...</td>\n",
              "    </tr>\n",
              "    <tr>\n",
              "      <th>4</th>\n",
              "      <td>4</td>\n",
              "      <td>(21, 4, 4, 4, 10, 8, 10, 8, 10, 8, 25, 25, 25,...</td>\n",
              "    </tr>\n",
              "  </tbody>\n",
              "</table>\n",
              "</div>\n",
              "      <button class=\"colab-df-convert\" onclick=\"convertToInteractive('df-89d0dd5e-f198-4e1c-a842-dab8bcda06d3')\"\n",
              "              title=\"Convert this dataframe to an interactive table.\"\n",
              "              style=\"display:none;\">\n",
              "        \n",
              "  <svg xmlns=\"http://www.w3.org/2000/svg\" height=\"24px\"viewBox=\"0 0 24 24\"\n",
              "       width=\"24px\">\n",
              "    <path d=\"M0 0h24v24H0V0z\" fill=\"none\"/>\n",
              "    <path d=\"M18.56 5.44l.94 2.06.94-2.06 2.06-.94-2.06-.94-.94-2.06-.94 2.06-2.06.94zm-11 1L8.5 8.5l.94-2.06 2.06-.94-2.06-.94L8.5 2.5l-.94 2.06-2.06.94zm10 10l.94 2.06.94-2.06 2.06-.94-2.06-.94-.94-2.06-.94 2.06-2.06.94z\"/><path d=\"M17.41 7.96l-1.37-1.37c-.4-.4-.92-.59-1.43-.59-.52 0-1.04.2-1.43.59L10.3 9.45l-7.72 7.72c-.78.78-.78 2.05 0 2.83L4 21.41c.39.39.9.59 1.41.59.51 0 1.02-.2 1.41-.59l7.78-7.78 2.81-2.81c.8-.78.8-2.07 0-2.86zM5.41 20L4 18.59l7.72-7.72 1.47 1.35L5.41 20z\"/>\n",
              "  </svg>\n",
              "      </button>\n",
              "      \n",
              "  <style>\n",
              "    .colab-df-container {\n",
              "      display:flex;\n",
              "      flex-wrap:wrap;\n",
              "      gap: 12px;\n",
              "    }\n",
              "\n",
              "    .colab-df-convert {\n",
              "      background-color: #E8F0FE;\n",
              "      border: none;\n",
              "      border-radius: 50%;\n",
              "      cursor: pointer;\n",
              "      display: none;\n",
              "      fill: #1967D2;\n",
              "      height: 32px;\n",
              "      padding: 0 0 0 0;\n",
              "      width: 32px;\n",
              "    }\n",
              "\n",
              "    .colab-df-convert:hover {\n",
              "      background-color: #E2EBFA;\n",
              "      box-shadow: 0px 1px 2px rgba(60, 64, 67, 0.3), 0px 1px 3px 1px rgba(60, 64, 67, 0.15);\n",
              "      fill: #174EA6;\n",
              "    }\n",
              "\n",
              "    [theme=dark] .colab-df-convert {\n",
              "      background-color: #3B4455;\n",
              "      fill: #D2E3FC;\n",
              "    }\n",
              "\n",
              "    [theme=dark] .colab-df-convert:hover {\n",
              "      background-color: #434B5C;\n",
              "      box-shadow: 0px 1px 3px 1px rgba(0, 0, 0, 0.15);\n",
              "      filter: drop-shadow(0px 1px 2px rgba(0, 0, 0, 0.3));\n",
              "      fill: #FFFFFF;\n",
              "    }\n",
              "  </style>\n",
              "\n",
              "      <script>\n",
              "        const buttonEl =\n",
              "          document.querySelector('#df-89d0dd5e-f198-4e1c-a842-dab8bcda06d3 button.colab-df-convert');\n",
              "        buttonEl.style.display =\n",
              "          google.colab.kernel.accessAllowed ? 'block' : 'none';\n",
              "\n",
              "        async function convertToInteractive(key) {\n",
              "          const element = document.querySelector('#df-89d0dd5e-f198-4e1c-a842-dab8bcda06d3');\n",
              "          const dataTable =\n",
              "            await google.colab.kernel.invokeFunction('convertToInteractive',\n",
              "                                                     [key], {});\n",
              "          if (!dataTable) return;\n",
              "\n",
              "          const docLinkHtml = 'Like what you see? Visit the ' +\n",
              "            '<a target=\"_blank\" href=https://colab.research.google.com/notebooks/data_table.ipynb>data table notebook</a>'\n",
              "            + ' to learn more about interactive tables.';\n",
              "          element.innerHTML = '';\n",
              "          dataTable['output_type'] = 'display_data';\n",
              "          await google.colab.output.renderOutput(dataTable, element);\n",
              "          const docLink = document.createElement('div');\n",
              "          docLink.innerHTML = docLinkHtml;\n",
              "          element.appendChild(docLink);\n",
              "        }\n",
              "      </script>\n",
              "    </div>\n",
              "  </div>\n",
              "  "
            ]
          },
          "metadata": {},
          "execution_count": 79
        }
      ],
      "source": [
        "hdfs_test_kaggle[:5]"
      ]
    },
    {
      "cell_type": "markdown",
      "metadata": {
        "id": "f-nyjbgRLufS",
        "pycharm": {
          "name": "#%% md\n"
        }
      },
      "source": [
        "## 3. Análisis exploratorio de datos"
      ]
    },
    {
      "cell_type": "markdown",
      "metadata": {
        "id": "cA1nSPKuLufT",
        "pycharm": {
          "name": "#%% md\n"
        }
      },
      "source": [
        "### 3.1 Análisis descriptivo general: Distribuciones, Scatterplots, Barplots..."
      ]
    },
    {
      "cell_type": "code",
      "execution_count": 80,
      "metadata": {
        "colab": {
          "base_uri": "https://localhost:8080/",
          "height": 206
        },
        "id": "lwVUrlooLufU",
        "outputId": "e92a71cd-cad3-48c5-e9ae-9ef4f599d63b",
        "pycharm": {
          "name": "#%%\n"
        }
      },
      "outputs": [
        {
          "output_type": "execute_result",
          "data": {
            "text/plain": [
              "   id                                           sequence   class\n",
              "0   0  (4, 4, 4, 21, 10, 8, 10, 8, 10, 8, 25, 25, 25,...  normal\n",
              "1   1  (4, 4, 4, 21, 10, 8, 25, 10, 8, 10, 8, 25, 25,...  normal\n",
              "2   2  (21, 4, 4, 4, 25, 25, 10, 8, 25, 10, 8, 10, 8,...  normal\n",
              "3   3  (21, 4, 4, 4, 10, 8, 10, 8, 10, 8, 25, 25, 25,...  normal\n",
              "4   4  (21, 4, 4, 4, 25, 25, 25, 10, 8, 10, 8, 10, 8,...  normal"
            ],
            "text/html": [
              "\n",
              "  <div id=\"df-67a2ce3f-da7e-4bfb-8093-5d57f2935bd1\">\n",
              "    <div class=\"colab-df-container\">\n",
              "      <div>\n",
              "<style scoped>\n",
              "    .dataframe tbody tr th:only-of-type {\n",
              "        vertical-align: middle;\n",
              "    }\n",
              "\n",
              "    .dataframe tbody tr th {\n",
              "        vertical-align: top;\n",
              "    }\n",
              "\n",
              "    .dataframe thead th {\n",
              "        text-align: right;\n",
              "    }\n",
              "</style>\n",
              "<table border=\"1\" class=\"dataframe\">\n",
              "  <thead>\n",
              "    <tr style=\"text-align: right;\">\n",
              "      <th></th>\n",
              "      <th>id</th>\n",
              "      <th>sequence</th>\n",
              "      <th>class</th>\n",
              "    </tr>\n",
              "  </thead>\n",
              "  <tbody>\n",
              "    <tr>\n",
              "      <th>0</th>\n",
              "      <td>0</td>\n",
              "      <td>(4, 4, 4, 21, 10, 8, 10, 8, 10, 8, 25, 25, 25,...</td>\n",
              "      <td>normal</td>\n",
              "    </tr>\n",
              "    <tr>\n",
              "      <th>1</th>\n",
              "      <td>1</td>\n",
              "      <td>(4, 4, 4, 21, 10, 8, 25, 10, 8, 10, 8, 25, 25,...</td>\n",
              "      <td>normal</td>\n",
              "    </tr>\n",
              "    <tr>\n",
              "      <th>2</th>\n",
              "      <td>2</td>\n",
              "      <td>(21, 4, 4, 4, 25, 25, 10, 8, 25, 10, 8, 10, 8,...</td>\n",
              "      <td>normal</td>\n",
              "    </tr>\n",
              "    <tr>\n",
              "      <th>3</th>\n",
              "      <td>3</td>\n",
              "      <td>(21, 4, 4, 4, 10, 8, 10, 8, 10, 8, 25, 25, 25,...</td>\n",
              "      <td>normal</td>\n",
              "    </tr>\n",
              "    <tr>\n",
              "      <th>4</th>\n",
              "      <td>4</td>\n",
              "      <td>(21, 4, 4, 4, 25, 25, 25, 10, 8, 10, 8, 10, 8,...</td>\n",
              "      <td>normal</td>\n",
              "    </tr>\n",
              "  </tbody>\n",
              "</table>\n",
              "</div>\n",
              "      <button class=\"colab-df-convert\" onclick=\"convertToInteractive('df-67a2ce3f-da7e-4bfb-8093-5d57f2935bd1')\"\n",
              "              title=\"Convert this dataframe to an interactive table.\"\n",
              "              style=\"display:none;\">\n",
              "        \n",
              "  <svg xmlns=\"http://www.w3.org/2000/svg\" height=\"24px\"viewBox=\"0 0 24 24\"\n",
              "       width=\"24px\">\n",
              "    <path d=\"M0 0h24v24H0V0z\" fill=\"none\"/>\n",
              "    <path d=\"M18.56 5.44l.94 2.06.94-2.06 2.06-.94-2.06-.94-.94-2.06-.94 2.06-2.06.94zm-11 1L8.5 8.5l.94-2.06 2.06-.94-2.06-.94L8.5 2.5l-.94 2.06-2.06.94zm10 10l.94 2.06.94-2.06 2.06-.94-2.06-.94-.94-2.06-.94 2.06-2.06.94z\"/><path d=\"M17.41 7.96l-1.37-1.37c-.4-.4-.92-.59-1.43-.59-.52 0-1.04.2-1.43.59L10.3 9.45l-7.72 7.72c-.78.78-.78 2.05 0 2.83L4 21.41c.39.39.9.59 1.41.59.51 0 1.02-.2 1.41-.59l7.78-7.78 2.81-2.81c.8-.78.8-2.07 0-2.86zM5.41 20L4 18.59l7.72-7.72 1.47 1.35L5.41 20z\"/>\n",
              "  </svg>\n",
              "      </button>\n",
              "      \n",
              "  <style>\n",
              "    .colab-df-container {\n",
              "      display:flex;\n",
              "      flex-wrap:wrap;\n",
              "      gap: 12px;\n",
              "    }\n",
              "\n",
              "    .colab-df-convert {\n",
              "      background-color: #E8F0FE;\n",
              "      border: none;\n",
              "      border-radius: 50%;\n",
              "      cursor: pointer;\n",
              "      display: none;\n",
              "      fill: #1967D2;\n",
              "      height: 32px;\n",
              "      padding: 0 0 0 0;\n",
              "      width: 32px;\n",
              "    }\n",
              "\n",
              "    .colab-df-convert:hover {\n",
              "      background-color: #E2EBFA;\n",
              "      box-shadow: 0px 1px 2px rgba(60, 64, 67, 0.3), 0px 1px 3px 1px rgba(60, 64, 67, 0.15);\n",
              "      fill: #174EA6;\n",
              "    }\n",
              "\n",
              "    [theme=dark] .colab-df-convert {\n",
              "      background-color: #3B4455;\n",
              "      fill: #D2E3FC;\n",
              "    }\n",
              "\n",
              "    [theme=dark] .colab-df-convert:hover {\n",
              "      background-color: #434B5C;\n",
              "      box-shadow: 0px 1px 3px 1px rgba(0, 0, 0, 0.15);\n",
              "      filter: drop-shadow(0px 1px 2px rgba(0, 0, 0, 0.3));\n",
              "      fill: #FFFFFF;\n",
              "    }\n",
              "  </style>\n",
              "\n",
              "      <script>\n",
              "        const buttonEl =\n",
              "          document.querySelector('#df-67a2ce3f-da7e-4bfb-8093-5d57f2935bd1 button.colab-df-convert');\n",
              "        buttonEl.style.display =\n",
              "          google.colab.kernel.accessAllowed ? 'block' : 'none';\n",
              "\n",
              "        async function convertToInteractive(key) {\n",
              "          const element = document.querySelector('#df-67a2ce3f-da7e-4bfb-8093-5d57f2935bd1');\n",
              "          const dataTable =\n",
              "            await google.colab.kernel.invokeFunction('convertToInteractive',\n",
              "                                                     [key], {});\n",
              "          if (!dataTable) return;\n",
              "\n",
              "          const docLinkHtml = 'Like what you see? Visit the ' +\n",
              "            '<a target=\"_blank\" href=https://colab.research.google.com/notebooks/data_table.ipynb>data table notebook</a>'\n",
              "            + ' to learn more about interactive tables.';\n",
              "          element.innerHTML = '';\n",
              "          dataTable['output_type'] = 'display_data';\n",
              "          await google.colab.output.renderOutput(dataTable, element);\n",
              "          const docLink = document.createElement('div');\n",
              "          docLink.innerHTML = docLinkHtml;\n",
              "          element.appendChild(docLink);\n",
              "        }\n",
              "      </script>\n",
              "    </div>\n",
              "  </div>\n",
              "  "
            ]
          },
          "metadata": {},
          "execution_count": 80
        }
      ],
      "source": [
        "hdfs_train.head()"
      ]
    },
    {
      "cell_type": "code",
      "execution_count": 81,
      "metadata": {
        "colab": {
          "base_uri": "https://localhost:8080/",
          "height": 319
        },
        "id": "i4J3n780LufV",
        "outputId": "3abed3ec-2035-43d7-a33c-2935d296e287",
        "pycharm": {
          "name": "#%%\n"
        }
      },
      "outputs": [
        {
          "output_type": "display_data",
          "data": {
            "text/plain": [
              "<Figure size 432x288 with 1 Axes>"
            ],
            "image/png": "[encoded data removed]"
          },
          "metadata": {
            "needs_background": "light"
          }
        }
      ],
      "source": [
        "utils.value_counts(hdfs_train,'class')"
      ]
    },
    {
      "cell_type": "markdown",
      "metadata": {
        "id": "stsh7DznLufW",
        "pycharm": {
          "name": "#%% md\n"
        }
      },
      "source": [
        "### 3.2 Análisis de secuencias"
      ]
    },
    {
      "cell_type": "code",
      "execution_count": 82,
      "metadata": {
        "id": "OxC6UWE9LufW",
        "pycharm": {
          "name": "#%%\n"
        }
      },
      "outputs": [],
      "source": [
        "#Agregar ploteo de largos de secuencias, distribuciones por simbolo, etc."
      ]
    },
    {
      "cell_type": "code",
      "execution_count": 83,
      "metadata": {
        "colab": {
          "base_uri": "https://localhost:8080/"
        },
        "id": "3K7nfmctLufY",
        "outputId": "8978c050-f962-49ec-dead-58e3b03b8a12",
        "pycharm": {
          "name": "#%%\n"
        }
      },
      "outputs": [
        {
          "output_type": "stream",
          "name": "stderr",
          "text": [
            "/usr/local/lib/python3.7/dist-packages/sklearn/preprocessing/_label.py:98: DataConversionWarning: A column-vector y was passed when a 1d array was expected. Please change the shape of y to (n_samples, ), for example using ravel().\n",
            "  y = column_or_1d(y, warn=True)\n"
          ]
        }
      ],
      "source": [
        "raw_sequences, data_y = utils.load_sequences_and_target(hdfs_train, one_hot=True)\n",
        "#raw_sequences, data_y = utils.load_sequences_and_target(hdfs_train)"
      ]
    },
    {
      "cell_type": "code",
      "execution_count": 84,
      "metadata": {
        "id": "KW6TfE-kLufZ",
        "pycharm": {
          "name": "#%%\n"
        }
      },
      "outputs": [],
      "source": [
        "try:\n",
        "    data_y.value_counts()\n",
        "except:\n",
        "    pass"
      ]
    },
    {
      "cell_type": "code",
      "execution_count": 85,
      "metadata": {
        "colab": {
          "base_uri": "https://localhost:8080/"
        },
        "id": "I-Q0p2ffLufa",
        "outputId": "20a5f882-eb60-4066-b43b-572ae8a651d4",
        "pycharm": {
          "name": "#%%\n"
        }
      },
      "outputs": [
        {
          "output_type": "execute_result",
          "data": {
            "text/plain": [
              "1"
            ]
          },
          "metadata": {},
          "execution_count": 85
        }
      ],
      "source": [
        "min([min(s) for s in raw_sequences])"
      ]
    },
    {
      "cell_type": "code",
      "execution_count": 86,
      "metadata": {
        "colab": {
          "base_uri": "https://localhost:8080/"
        },
        "id": "KxRfgSmULufb",
        "outputId": "4794cbbc-7669-4782-ec0c-4e2528651784",
        "pycharm": {
          "name": "#%%\n"
        }
      },
      "outputs": [
        {
          "output_type": "execute_result",
          "data": {
            "text/plain": [
              "28"
            ]
          },
          "metadata": {},
          "execution_count": 86
        }
      ],
      "source": [
        "max([max(s) for s in raw_sequences])"
      ]
    },
    {
      "cell_type": "code",
      "execution_count": 87,
      "metadata": {
        "colab": {
          "base_uri": "https://localhost:8080/"
        },
        "id": "N6fCiLzXLufc",
        "outputId": "81b65901-7622-4015-fe15-918831e77254",
        "pycharm": {
          "name": "#%%\n"
        }
      },
      "outputs": [
        {
          "output_type": "execute_result",
          "data": {
            "text/plain": [
              "19.0"
            ]
          },
          "metadata": {},
          "execution_count": 87
        }
      ],
      "source": [
        "np.median([len(s) for s in raw_sequences])"
      ]
    },
    {
      "cell_type": "markdown",
      "source": [
        "###Hiperarámetros"
      ],
      "metadata": {
        "id": "xgHGgcpXybsv"
      }
    },
    {
      "cell_type": "code",
      "source": [
        "vocab_size = 30#max([max(s) for s in raw_sequences]) + 1\n",
        "max_len = 19\n",
        "batch_size = 32\n",
        "epochs = 20\n",
        "patience = 10\n",
        "optimizer = Adam() #para agregar clip value clipvalue=0.5\n",
        "loss = 'categorical_crossentropy'\n",
        "embedding_size = 3#math.ceil(vocab_size**0.25) #es un hiperparametro. cuanto mas grande, mayor el entrenamiento"
      ],
      "metadata": {
        "id": "7lJH_HqfybfN"
      },
      "execution_count": 88,
      "outputs": []
    },
    {
      "cell_type": "markdown",
      "metadata": {
        "id": "VVqzNJVULufh",
        "pycharm": {
          "name": "#%% md\n"
        }
      },
      "source": [
        "#### Haremos padding de valor 0 a las secuencias para estandarizar el largo"
      ]
    },
    {
      "cell_type": "code",
      "execution_count": 89,
      "metadata": {
        "id": "STkk44KtLufh",
        "pycharm": {
          "name": "#%%\n"
        }
      },
      "outputs": [],
      "source": [
        "padded_sequences = utils.pad_sequences(raw_sequences, max_len)"
      ]
    },
    {
      "cell_type": "markdown",
      "source": [
        "# Data preprocessing\n"
      ],
      "metadata": {
        "id": "1Zao1sfPtbpI"
      }
    },
    {
      "cell_type": "markdown",
      "source": [
        "## Particionamiento"
      ],
      "metadata": {
        "id": "cvvcyBuXtP5O"
      }
    },
    {
      "cell_type": "code",
      "execution_count": 90,
      "metadata": {
        "id": "dXOX6eLuLufj",
        "pycharm": {
          "name": "#%%\n"
        }
      },
      "outputs": [],
      "source": [
        "X_train, X_test, X_val, y_train, y_test, y_val = utils.split(padded_sequences, data_y)"
      ]
    },
    {
      "cell_type": "markdown",
      "source": [
        "\n",
        "## X_train_aug Data Augmentation"
      ],
      "metadata": {
        "id": "90rrw_79MsbM"
      }
    },
    {
      "cell_type": "code",
      "source": [
        "X_train_for_aug, a, b, c, d, e = utils.split(raw_sequences, data_y)\n"
      ],
      "metadata": {
        "id": "whcOuiXoMrFC"
      },
      "execution_count": 150,
      "outputs": []
    },
    {
      "cell_type": "code",
      "source": [
        "X_train_aug, y_train_aug = utils.sequences_augmentation(X_train_for_aug, y_train, max_len, 19)"
      ],
      "metadata": {
        "id": "fcowAy5dM2vV"
      },
      "execution_count": 151,
      "outputs": []
    },
    {
      "cell_type": "code",
      "source": [
        "\"\"\"\n",
        "padding to data augmentation traing\n",
        "\"\"\"\n",
        "X_train_aug = utils.pad_sequences(X_train_aug, max_len)\n"
      ],
      "metadata": {
        "id": "B9whfbpEe6cB"
      },
      "execution_count": 152,
      "outputs": []
    },
    {
      "cell_type": "markdown",
      "metadata": {
        "id": "cmmLNAeGLufi",
        "pycharm": {
          "name": "#%% md\n"
        }
      },
      "source": [
        "# 4. Entrenamiento de Language Model\n",
        "\n"
      ]
    },
    {
      "cell_type": "markdown",
      "source": [
        "### Grid Search"
      ],
      "metadata": {
        "id": "sVZ0KzIa0RZB"
      }
    },
    {
      "cell_type": "markdown",
      "source": [
        "### Model Mejorado "
      ],
      "metadata": {
        "id": "ADJO-d2CvESK"
      }
    },
    {
      "cell_type": "markdown",
      "source": [
        "#### Entrenamiento"
      ],
      "metadata": {
        "id": "iy-fxv4Syw5y"
      }
    },
    {
      "cell_type": "code",
      "source": [
        "model = Sequential()\n",
        "model.add(Embedding(vocab_size+1, embedding_size, input_length=max_len)) #el vocab size deberiamos sacarlo\n",
        "model.add(LSTM(64, return_sequences=True))\n",
        "model.add(LSTM(64, return_sequences=False))\n",
        "model.add(Dense(2, activation='softmax'))\n",
        "model.compile(loss=loss, optimizer=optimizer, metrics=['accuracy'])\n",
        "model.summary()"
      ],
      "metadata": {
        "colab": {
          "base_uri": "https://localhost:8080/"
        },
        "id": "hRVizv75P9BC",
        "outputId": "8a0eb709-ecda-4653-a47c-12d52d47457c"
      },
      "execution_count": null,
      "outputs": [
        {
          "output_type": "stream",
          "name": "stdout",
          "text": [
            "Model: \"sequential\"\n",
            "_________________________________________________________________\n",
            " Layer (type)                Output Shape              Param #   \n",
            "=================================================================\n",
            " embedding (Embedding)       (None, 19, 3)             93        \n",
            "                                                                 \n",
            " lstm (LSTM)                 (None, 19, 64)            17408     \n",
            "                                                                 \n",
            " lstm_1 (LSTM)               (None, 64)                33024     \n",
            "                                                                 \n",
            " dense (Dense)               (None, 2)                 130       \n",
            "                                                                 \n",
            "=================================================================\n",
            "Total params: 50,655\n",
            "Trainable params: 50,655\n",
            "Non-trainable params: 0\n",
            "_________________________________________________________________\n"
          ]
        }
      ]
    },
    {
      "cell_type": "code",
      "source": [
        "#se agregó class.weights\n",
        "training, model = utils.train(model,\n",
        "                X_train,\n",
        "                y_train, \n",
        "                batch_size = batch_size,\n",
        "                epochs = epochs,\n",
        "                validation_data_X = X_val, \n",
        "                validation_data_y = y_val,                                \n",
        "                patience = patience,\n",
        "                class_weights = utils.class_weights(hdfs_train,'class'))"
      ],
      "metadata": {
        "id": "e_S-tD8EyzZI",
        "colab": {
          "base_uri": "https://localhost:8080/"
        },
        "outputId": "f398eae2-0e59-44f5-ea9e-c2e24562e35e"
      },
      "execution_count": null,
      "outputs": [
        {
          "output_type": "stream",
          "name": "stdout",
          "text": [
            "Epoch 1/19\n",
            "8128/8128 [==============================] - 226s 27ms/step - loss: 0.0575 - accuracy: 0.9914 - val_loss: 0.0083 - val_accuracy: 0.9989\n",
            "Epoch 2/19\n",
            "8128/8128 [==============================] - 222s 27ms/step - loss: 0.0169 - accuracy: 0.9979 - val_loss: 0.0122 - val_accuracy: 0.9988\n",
            "Epoch 3/19\n",
            "8128/8128 [==============================] - 223s 27ms/step - loss: 0.0130 - accuracy: 0.9983 - val_loss: 0.0057 - val_accuracy: 0.9985\n",
            "Epoch 4/19\n",
            "8128/8128 [==============================] - 222s 27ms/step - loss: 0.0101 - accuracy: 0.9987 - val_loss: 0.0067 - val_accuracy: 0.9989\n",
            "Epoch 5/19\n",
            "8128/8128 [==============================] - 226s 28ms/step - loss: 0.0109 - accuracy: 0.9987 - val_loss: 0.0054 - val_accuracy: 0.9993\n",
            "Epoch 6/19\n",
            "8128/8128 [==============================] - 227s 28ms/step - loss: 0.0093 - accuracy: 0.9989 - val_loss: 0.0063 - val_accuracy: 0.9993\n",
            "Epoch 7/19\n",
            "8128/8128 [==============================] - 226s 28ms/step - loss: 0.0090 - accuracy: 0.9989 - val_loss: 0.0051 - val_accuracy: 0.9993\n",
            "Epoch 8/19\n",
            "8128/8128 [==============================] - 225s 28ms/step - loss: 0.0094 - accuracy: 0.9990 - val_loss: 0.0067 - val_accuracy: 0.9993\n",
            "Epoch 9/19\n",
            "8128/8128 [==============================] - 228s 28ms/step - loss: 0.0088 - accuracy: 0.9989 - val_loss: 0.0044 - val_accuracy: 0.9993\n",
            "Epoch 10/19\n",
            "8128/8128 [==============================] - 228s 28ms/step - loss: 0.0083 - accuracy: 0.9990 - val_loss: 0.0045 - val_accuracy: 0.9989\n",
            "Epoch 11/19\n",
            "8128/8128 [==============================] - 226s 28ms/step - loss: 0.0087 - accuracy: 0.9990 - val_loss: 0.0052 - val_accuracy: 0.9989\n",
            "Epoch 12/19\n",
            "8128/8128 [==============================] - 228s 28ms/step - loss: 0.0073 - accuracy: 0.9991 - val_loss: 0.0059 - val_accuracy: 0.9990\n",
            "Epoch 13/19\n",
            "8128/8128 [==============================] - 228s 28ms/step - loss: 0.0098 - accuracy: 0.9989 - val_loss: 0.0036 - val_accuracy: 0.9989\n",
            "Epoch 14/19\n",
            "8128/8128 [==============================] - 229s 28ms/step - loss: 0.0082 - accuracy: 0.9990 - val_loss: 0.0049 - val_accuracy: 0.9989\n",
            "Epoch 15/19\n",
            "8128/8128 [==============================] - 233s 29ms/step - loss: 0.0072 - accuracy: 0.9992 - val_loss: 0.0039 - val_accuracy: 0.9990\n",
            "Epoch 16/19\n",
            "8128/8128 [==============================] - 229s 28ms/step - loss: 0.0073 - accuracy: 0.9993 - val_loss: 0.0050 - val_accuracy: 0.9989\n",
            "Epoch 17/19\n",
            "8128/8128 [==============================] - 229s 28ms/step - loss: 0.0072 - accuracy: 0.9991 - val_loss: 0.0026 - val_accuracy: 0.9993\n",
            "Epoch 18/19\n",
            "8128/8128 [==============================] - 230s 28ms/step - loss: 0.0076 - accuracy: 0.9992 - val_loss: 0.0042 - val_accuracy: 0.9994\n",
            "Epoch 19/19\n",
            "8128/8128 [==============================] - 229s 28ms/step - loss: 0.0065 - accuracy: 0.9992 - val_loss: 0.0042 - val_accuracy: 0.9994\n"
          ]
        }
      ]
    },
    {
      "cell_type": "markdown",
      "source": [
        "#### Evaluation"
      ],
      "metadata": {
        "id": "u8jMNxJ3zehB"
      }
    },
    {
      "cell_type": "code",
      "source": [
        "utils.eval_model(training, model, X_test, y_test)"
      ],
      "metadata": {
        "id": "k9gXg_A5zgrp",
        "colab": {
          "base_uri": "https://localhost:8080/",
          "height": 834
        },
        "outputId": "903982f8-a9e5-4b3a-e578-3f46cfb169b1"
      },
      "execution_count": null,
      "outputs": [
        {
          "output_type": "display_data",
          "data": {
            "text/plain": [
              "<Figure size 360x360 with 2 Axes>"
            ],
            "image/png": "[encoded data removed]"
          },
          "metadata": {
            "needs_background": "light"
          }
        },
        {
          "output_type": "stream",
          "name": "stdout",
          "text": [
            "3011/3011 [==============================] - 29s 9ms/step\n"
          ]
        },
        {
          "output_type": "display_data",
          "data": {
            "text/plain": [
              "<Figure size 432x288 with 1 Axes>"
            ],
            "image/png": "[encoded data removed]"
          },
          "metadata": {
            "needs_background": "light"
          }
        },
        {
          "output_type": "stream",
          "name": "stdout",
          "text": [
            "Classification report\n",
            "              precision    recall  f1-score   support\n",
            "\n",
            "    abnormal       0.99      0.99      0.99      2901\n",
            "      normal       1.00      1.00      1.00     93422\n",
            "\n",
            "    accuracy                           1.00     96323\n",
            "   macro avg       0.99      1.00      1.00     96323\n",
            "weighted avg       1.00      1.00      1.00     96323\n",
            "\n",
            "Loss function: 0.0040457285940647125, accuracy: 0.9994393587112427\n"
          ]
        }
      ]
    },
    {
      "cell_type": "markdown",
      "source": [
        "####Generación modelo y Salida Kaggle"
      ],
      "metadata": {
        "id": "ku-bAnBHyy3C"
      }
    },
    {
      "cell_type": "code",
      "source": [
        "name='model'\n",
        "\n",
        "\"\"\"\n",
        "Generate data Kaggle\n",
        "\"\"\"\n",
        "#generate kaggle\n",
        "utils.load_test_sequences_and_generate_prediction_file(model, hdfs_test_kaggle, max_len, name+'_maxLen'+str(max_len)+'_batchSize'+str(batch_size)+'_epochs'+str(epochs) )\n",
        "\n",
        "\"\"\"\n",
        "Generate Model\n",
        "\"\"\"\n",
        "# serialize model to JSON\n",
        "model_json = model.to_json()\n",
        "with open(\"outputs/model_\"+name+'_maxLen'+str(max_len)+'_batchSize'+str(batch_size)+'_epochs'+str(epochs)+'_'+dt.datetime.today().strftime('%Y%m%d_%H%M%S')+\".json\", \"w\") as json_file:\n",
        "  json_file.write(model_json)\n",
        "# serialize weights to HDF5\n",
        "model.save_weights(\"outputs/model_Weigths\"+name+'_maxLen'+str(max_len)+'_batchSize'+str(batch_size)+'_epochs'+str(epochs)+'_'+dt.datetime.today().strftime('%Y%m%d_%H%M%S')+\".h5\")\n",
        "print(\"Saved model to disk\")"
      ],
      "metadata": {
        "colab": {
          "base_uri": "https://localhost:8080/"
        },
        "id": "sHEwCal3yfWk",
        "outputId": "4e8c2d12-ea36-457c-d2a8-923d00c0cb2d"
      },
      "execution_count": null,
      "outputs": [
        {
          "output_type": "stream",
          "name": "stdout",
          "text": [
            "5931/5931 [==============================] - 54s 9ms/step\n",
            "Saved model to disk\n"
          ]
        }
      ]
    },
    {
      "cell_type": "markdown",
      "source": [
        "### Modelo Mejorado con Batch Normalization"
      ],
      "metadata": {
        "id": "y0-VGKtjvmZy"
      }
    },
    {
      "cell_type": "code",
      "source": [
        "modelBN = Sequential()\n",
        "modelBN.add(Embedding(vocab_size+1, embedding_size, input_length=max_len)) #el vocab size deberiamos sacarlo\n",
        "modelBN.add(LSTM(64, return_sequences=True))\n",
        "modelBN.add(LSTM(64, return_sequences=False))\n",
        "modelBN.add(BatchNormalization())\n",
        "modelBN.add(Dense(2, activation='softmax'))\n",
        "modelBN.compile(loss=loss, optimizer=optimizer, metrics=['accuracy'])\n",
        "modelBN.summary()"
      ],
      "metadata": {
        "id": "Tkvaa5sRwL0p",
        "colab": {
          "base_uri": "https://localhost:8080/"
        },
        "outputId": "45e98492-2ab0-4297-d799-26ec5793d08b"
      },
      "execution_count": null,
      "outputs": [
        {
          "output_type": "stream",
          "name": "stdout",
          "text": [
            "Model: \"sequential_1\"\n",
            "_________________________________________________________________\n",
            " Layer (type)                Output Shape              Param #   \n",
            "=================================================================\n",
            " embedding_1 (Embedding)     (None, 19, 3)             93        \n",
            "                                                                 \n",
            " lstm_2 (LSTM)               (None, 19, 64)            17408     \n",
            "                                                                 \n",
            " lstm_3 (LSTM)               (None, 64)                33024     \n",
            "                                                                 \n",
            " batch_normalization (BatchN  (None, 64)               256       \n",
            " ormalization)                                                   \n",
            "                                                                 \n",
            " dense_1 (Dense)             (None, 2)                 130       \n",
            "                                                                 \n",
            "=================================================================\n",
            "Total params: 50,911\n",
            "Trainable params: 50,783\n",
            "Non-trainable params: 128\n",
            "_________________________________________________________________\n"
          ]
        }
      ]
    },
    {
      "cell_type": "markdown",
      "source": [
        "#### Entrenamiento"
      ],
      "metadata": {
        "id": "UVsoksYzy8GL"
      }
    },
    {
      "cell_type": "code",
      "source": [
        "#se agregó class.weights\n",
        "trainingBN, modelBN = utils.train(modelBN,\n",
        "                X_train,\n",
        "                y_train, \n",
        "                batch_size = batch_size,\n",
        "                epochs = epochs,\n",
        "                validation_data_X = X_val, \n",
        "                validation_data_y = y_val,                                \n",
        "                patience = patience,\n",
        "                class_weights = utils.class_weights(hdfs_train,'class'))"
      ],
      "metadata": {
        "id": "yGXGITxyy-PA",
        "colab": {
          "base_uri": "https://localhost:8080/"
        },
        "outputId": "7085f0cf-d7ba-4e39-96a1-d7130cb8ab91"
      },
      "execution_count": null,
      "outputs": [
        {
          "output_type": "stream",
          "name": "stdout",
          "text": [
            "Epoch 1/19\n",
            "8128/8128 [==============================] - 236s 28ms/step - loss: 0.0286 - accuracy: 0.9952 - val_loss: 0.0100 - val_accuracy: 0.9988\n",
            "Epoch 2/19\n",
            "8128/8128 [==============================] - 231s 28ms/step - loss: 0.0159 - accuracy: 0.9980 - val_loss: 0.0218 - val_accuracy: 0.9988\n",
            "Epoch 3/19\n",
            "8128/8128 [==============================] - 230s 28ms/step - loss: 0.0142 - accuracy: 0.9982 - val_loss: 0.0064 - val_accuracy: 0.9989\n",
            "Epoch 4/19\n",
            "8128/8128 [==============================] - 230s 28ms/step - loss: 0.0128 - accuracy: 0.9985 - val_loss: 0.0115 - val_accuracy: 0.9989\n",
            "Epoch 5/19\n",
            "8128/8128 [==============================] - 232s 29ms/step - loss: 0.0117 - accuracy: 0.9987 - val_loss: 0.0058 - val_accuracy: 0.9992\n",
            "Epoch 6/19\n",
            "8128/8128 [==============================] - 232s 29ms/step - loss: 0.0106 - accuracy: 0.9986 - val_loss: 0.0205 - val_accuracy: 0.9993\n",
            "Epoch 7/19\n",
            "8128/8128 [==============================] - 232s 29ms/step - loss: 0.0100 - accuracy: 0.9988 - val_loss: 0.0055 - val_accuracy: 0.9993\n",
            "Epoch 8/19\n",
            "8128/8128 [==============================] - 230s 28ms/step - loss: 0.0100 - accuracy: 0.9988 - val_loss: 0.1483 - val_accuracy: 0.9414\n",
            "Epoch 9/19\n",
            "8128/8128 [==============================] - 229s 28ms/step - loss: 0.0093 - accuracy: 0.9987 - val_loss: 0.0064 - val_accuracy: 0.9993\n",
            "Epoch 10/19\n",
            "8128/8128 [==============================] - 230s 28ms/step - loss: 0.0092 - accuracy: 0.9989 - val_loss: 0.0053 - val_accuracy: 0.9993\n",
            "Epoch 11/19\n",
            "8128/8128 [==============================] - 229s 28ms/step - loss: 0.0103 - accuracy: 0.9989 - val_loss: 0.0070 - val_accuracy: 0.9989\n",
            "Epoch 12/19\n",
            "8128/8128 [==============================] - 230s 28ms/step - loss: 0.0090 - accuracy: 0.9990 - val_loss: 0.0088 - val_accuracy: 0.9989\n",
            "Epoch 13/19\n",
            "8128/8128 [==============================] - 230s 28ms/step - loss: 0.0089 - accuracy: 0.9990 - val_loss: 0.0079 - val_accuracy: 0.9988\n",
            "Epoch 14/19\n",
            "8128/8128 [==============================] - 230s 28ms/step - loss: 0.0084 - accuracy: 0.9991 - val_loss: 0.0050 - val_accuracy: 0.9993\n",
            "Epoch 15/19\n",
            "8128/8128 [==============================] - 229s 28ms/step - loss: 0.0083 - accuracy: 0.9990 - val_loss: 0.0048 - val_accuracy: 0.9991\n",
            "Epoch 16/19\n",
            "8128/8128 [==============================] - 231s 28ms/step - loss: 0.0085 - accuracy: 0.9989 - val_loss: 0.0111 - val_accuracy: 0.9989\n",
            "Epoch 17/19\n",
            "8128/8128 [==============================] - 230s 28ms/step - loss: 0.0076 - accuracy: 0.9990 - val_loss: 0.0044 - val_accuracy: 0.9993\n",
            "Epoch 18/19\n",
            "8128/8128 [==============================] - 229s 28ms/step - loss: 0.0081 - accuracy: 0.9990 - val_loss: 0.0053 - val_accuracy: 0.9989\n",
            "Epoch 19/19\n",
            "8128/8128 [==============================] - 231s 28ms/step - loss: 0.0075 - accuracy: 0.9989 - val_loss: 0.0050 - val_accuracy: 0.9993\n"
          ]
        }
      ]
    },
    {
      "cell_type": "markdown",
      "source": [
        "#### Evaluation"
      ],
      "metadata": {
        "id": "HJOugunezMBL"
      }
    },
    {
      "cell_type": "code",
      "source": [
        "utils.eval_model(trainingBN, modelBN, X_test, y_test)"
      ],
      "metadata": {
        "id": "tNpnWLAEzPHN",
        "colab": {
          "base_uri": "https://localhost:8080/",
          "height": 834
        },
        "outputId": "d4a54d84-423b-45e7-921b-3a4e9bfd87d1"
      },
      "execution_count": null,
      "outputs": [
        {
          "output_type": "display_data",
          "data": {
            "text/plain": [
              "<Figure size 360x360 with 2 Axes>"
            ],
            "image/png": "[encoded data removed]"
          },
          "metadata": {
            "needs_background": "light"
          }
        },
        {
          "output_type": "stream",
          "name": "stdout",
          "text": [
            "3011/3011 [==============================] - 28s 9ms/step\n"
          ]
        },
        {
          "output_type": "display_data",
          "data": {
            "text/plain": [
              "<Figure size 432x288 with 1 Axes>"
            ],
            "image/png": "[encoded data removed]"
          },
          "metadata": {
            "needs_background": "light"
          }
        },
        {
          "output_type": "stream",
          "name": "stdout",
          "text": [
            "Classification report\n",
            "              precision    recall  f1-score   support\n",
            "\n",
            "    abnormal       0.98      0.99      0.99      2901\n",
            "      normal       1.00      1.00      1.00     93422\n",
            "\n",
            "    accuracy                           1.00     96323\n",
            "   macro avg       0.99      1.00      0.99     96323\n",
            "weighted avg       1.00      1.00      1.00     96323\n",
            "\n",
            "Loss function: 0.005258316174149513, accuracy: 0.9992005825042725\n"
          ]
        }
      ]
    },
    {
      "cell_type": "markdown",
      "source": [
        "####Generación modelo y Salida Kaggle"
      ],
      "metadata": {
        "id": "MaySRDssyxdo"
      }
    },
    {
      "cell_type": "code",
      "source": [
        "name='ModelWithBN'\n",
        "\n",
        "\"\"\"\n",
        "Generate data Kaggle\n",
        "\"\"\"\n",
        "#generate kaggle\n",
        "utils.load_test_sequences_and_generate_prediction_file(modelBN, hdfs_test_kaggle, max_len, name+'_maxLen'+str(max_len)+'_batchSize'+str(batch_size)+'_epochs'+str(epochs) )\n",
        "\n",
        "\"\"\"\n",
        "Generate Model\n",
        "\"\"\"\n",
        "# serialize model to JSON\n",
        "model_json = modelBN.to_json()\n",
        "with open(\"outputs/model_\"+name+'_maxLen'+str(max_len)+'_batchSize'+str(batch_size)+'_epochs'+str(epochs)+'_'+dt.datetime.today().strftime('%Y%m%d_%H%M%S')+\".json\", \"w\") as json_file:\n",
        "  json_file.write(model_json)\n",
        "# serialize weights to HDF5\n",
        "modelBN.save_weights(\"outputs/model_Weigths\"+name+'_maxLen'+str(max_len)+'_batchSize'+str(batch_size)+'_epochs'+str(epochs)+'_'+dt.datetime.today().strftime('%Y%m%d_%H%M%S')+\".h5\")\n",
        "print(\"Saved model to disk\")"
      ],
      "metadata": {
        "id": "M9ZdvKvyyaOg",
        "colab": {
          "base_uri": "https://localhost:8080/"
        },
        "outputId": "6c3abf50-b764-435b-a97c-fd08f7e7030d"
      },
      "execution_count": null,
      "outputs": [
        {
          "output_type": "stream",
          "name": "stdout",
          "text": [
            "5931/5931 [==============================] - 54s 9ms/step\n",
            "Saved model to disk\n"
          ]
        }
      ]
    },
    {
      "cell_type": "markdown",
      "source": [
        "### Modelo Mejorado con Gradient Clipping"
      ],
      "metadata": {
        "id": "KExkov0evvyO"
      }
    },
    {
      "cell_type": "code",
      "source": [
        "optimizer = Adam(clipnorm=1.) #para agregar clip value clipvalue=0.5"
      ],
      "metadata": {
        "id": "9BZB6uzNvzg2"
      },
      "execution_count": null,
      "outputs": []
    },
    {
      "cell_type": "code",
      "source": [
        "modelGC = Sequential()\n",
        "modelGC.add(Embedding(vocab_size+1, embedding_size, input_length=max_len)) #el vocab size deberiamos sacarlo\n",
        "modelGC.add(LSTM(64, return_sequences=True))\n",
        "modelGC.add(LSTM(64, return_sequences=False))\n",
        "modelGC.add(Dense(2, activation='softmax'))\n",
        "modelGC.compile(loss=loss, optimizer=optimizer, metrics=['accuracy'])\n",
        "modelGC.summary()"
      ],
      "metadata": {
        "id": "Ox-Qar9UwLBu",
        "colab": {
          "base_uri": "https://localhost:8080/"
        },
        "outputId": "0cadc867-9c84-4270-f713-b5cf01669fc1"
      },
      "execution_count": null,
      "outputs": [
        {
          "output_type": "stream",
          "name": "stdout",
          "text": [
            "Model: \"sequential_2\"\n",
            "_________________________________________________________________\n",
            " Layer (type)                Output Shape              Param #   \n",
            "=================================================================\n",
            " embedding_2 (Embedding)     (None, 19, 3)             93        \n",
            "                                                                 \n",
            " lstm_4 (LSTM)               (None, 19, 64)            17408     \n",
            "                                                                 \n",
            " lstm_5 (LSTM)               (None, 64)                33024     \n",
            "                                                                 \n",
            " dense_2 (Dense)             (None, 2)                 130       \n",
            "                                                                 \n",
            "=================================================================\n",
            "Total params: 50,655\n",
            "Trainable params: 50,655\n",
            "Non-trainable params: 0\n",
            "_________________________________________________________________\n"
          ]
        }
      ]
    },
    {
      "cell_type": "markdown",
      "source": [
        "#### Entrenamiento"
      ],
      "metadata": {
        "id": "XT1YJ4SMy_99"
      }
    },
    {
      "cell_type": "code",
      "source": [
        "#se agregó class.weights\n",
        "trainingGC, modelGC = utils.train(modelGC,\n",
        "                X_train,\n",
        "                y_train, \n",
        "                batch_size = batch_size,\n",
        "                epochs = epochs,\n",
        "                validation_data_X = X_val, \n",
        "                validation_data_y = y_val,                                \n",
        "                patience = patience,\n",
        "                class_weights = utils.class_weights(hdfs_train,'class'))"
      ],
      "metadata": {
        "id": "_pGKzdnnzFTr",
        "colab": {
          "base_uri": "https://localhost:8080/"
        },
        "outputId": "6981804d-41ae-44c3-8fd9-2f4525145f10"
      },
      "execution_count": null,
      "outputs": [
        {
          "output_type": "stream",
          "name": "stdout",
          "text": [
            "Epoch 1/19\n",
            "8128/8128 [==============================] - 234s 28ms/step - loss: 0.1238 - accuracy: 0.9850 - val_loss: 0.0102 - val_accuracy: 0.9985\n",
            "Epoch 2/19\n",
            "8128/8128 [==============================] - 227s 28ms/step - loss: 0.0169 - accuracy: 0.9985 - val_loss: 0.0115 - val_accuracy: 0.9993\n",
            "Epoch 3/19\n",
            "8128/8128 [==============================] - 229s 28ms/step - loss: 0.0122 - accuracy: 0.9988 - val_loss: 0.0032 - val_accuracy: 0.9993\n",
            "Epoch 4/19\n",
            "8128/8128 [==============================] - 231s 28ms/step - loss: 0.0132 - accuracy: 0.9989 - val_loss: 0.0048 - val_accuracy: 0.9988\n",
            "Epoch 5/19\n",
            "8128/8128 [==============================] - 231s 28ms/step - loss: 0.0121 - accuracy: 0.9990 - val_loss: 0.0027 - val_accuracy: 0.9996\n",
            "Epoch 6/19\n",
            "8128/8128 [==============================] - 233s 29ms/step - loss: 0.0129 - accuracy: 0.9991 - val_loss: 0.0057 - val_accuracy: 0.9992\n",
            "Epoch 7/19\n",
            "8128/8128 [==============================] - 230s 28ms/step - loss: 0.0101 - accuracy: 0.9991 - val_loss: 0.0064 - val_accuracy: 0.9993\n",
            "Epoch 8/19\n",
            "8128/8128 [==============================] - 230s 28ms/step - loss: 0.0122 - accuracy: 0.9990 - val_loss: 0.0039 - val_accuracy: 0.9993\n",
            "Epoch 9/19\n",
            "8128/8128 [==============================] - 230s 28ms/step - loss: 0.0102 - accuracy: 0.9989 - val_loss: 0.0031 - val_accuracy: 0.9993\n",
            "Epoch 10/19\n",
            "8128/8128 [==============================] - 237s 29ms/step - loss: 0.0097 - accuracy: 0.9991 - val_loss: 0.0049 - val_accuracy: 0.9993\n",
            "Epoch 11/19\n",
            "8128/8128 [==============================] - 246s 30ms/step - loss: 0.0087 - accuracy: 0.9991 - val_loss: 0.0042 - val_accuracy: 0.9989\n",
            "Epoch 12/19\n",
            "8128/8128 [==============================] - 256s 31ms/step - loss: 0.0085 - accuracy: 0.9990 - val_loss: 0.0060 - val_accuracy: 0.9988\n",
            "Epoch 13/19\n",
            "8128/8128 [==============================] - 229s 28ms/step - loss: 0.0095 - accuracy: 0.9992 - val_loss: 0.0033 - val_accuracy: 0.9990\n",
            "Epoch 14/19\n",
            "8128/8128 [==============================] - 250s 31ms/step - loss: 0.0087 - accuracy: 0.9992 - val_loss: 0.0157 - val_accuracy: 0.9964\n",
            "Epoch 15/19\n",
            "8128/8128 [==============================] - 232s 29ms/step - loss: 0.0082 - accuracy: 0.9993 - val_loss: 0.0036 - val_accuracy: 0.9990\n",
            "Epoch 16/19\n",
            "8128/8128 [==============================] - 231s 28ms/step - loss: 0.0082 - accuracy: 0.9992 - val_loss: 0.0042 - val_accuracy: 0.9987\n",
            "Epoch 17/19\n",
            "8128/8128 [==============================] - 231s 28ms/step - loss: 0.0089 - accuracy: 0.9991 - val_loss: 0.0021 - val_accuracy: 0.9995\n",
            "Epoch 18/19\n",
            "8128/8128 [==============================] - 230s 28ms/step - loss: 0.0090 - accuracy: 0.9993 - val_loss: 0.0035 - val_accuracy: 0.9995\n",
            "Epoch 19/19\n",
            "8128/8128 [==============================] - 232s 29ms/step - loss: 0.0095 - accuracy: 0.9992 - val_loss: 0.0030 - val_accuracy: 0.9996\n"
          ]
        }
      ]
    },
    {
      "cell_type": "markdown",
      "source": [
        "#### Evaluation"
      ],
      "metadata": {
        "id": "VaK5JqSAzUfx"
      }
    },
    {
      "cell_type": "code",
      "source": [
        "utils.eval_model(trainingGC, modelGC, X_test, y_test)"
      ],
      "metadata": {
        "id": "gnZO4elgzZQo",
        "colab": {
          "base_uri": "https://localhost:8080/",
          "height": 834
        },
        "outputId": "92ec22bc-b7a7-4207-91d7-6fbd3fc083c4"
      },
      "execution_count": null,
      "outputs": [
        {
          "output_type": "display_data",
          "data": {
            "text/plain": [
              "<Figure size 360x360 with 2 Axes>"
            ],
            "image/png": "[encoded data removed]"
          },
          "metadata": {
            "needs_background": "light"
          }
        },
        {
          "output_type": "stream",
          "name": "stdout",
          "text": [
            "3011/3011 [==============================] - 29s 9ms/step\n"
          ]
        },
        {
          "output_type": "display_data",
          "data": {
            "text/plain": [
              "<Figure size 432x288 with 1 Axes>"
            ],
            "image/png": "[encoded data removed]"
          },
          "metadata": {
            "needs_background": "light"
          }
        },
        {
          "output_type": "stream",
          "name": "stdout",
          "text": [
            "Classification report\n",
            "              precision    recall  f1-score   support\n",
            "\n",
            "    abnormal       0.99      0.99      0.99      2901\n",
            "      normal       1.00      1.00      1.00     93422\n",
            "\n",
            "    accuracy                           1.00     96323\n",
            "   macro avg       0.99      1.00      1.00     96323\n",
            "weighted avg       1.00      1.00      1.00     96323\n",
            "\n",
            "Loss function: 0.003105881391093135, accuracy: 0.9995017051696777\n"
          ]
        }
      ]
    },
    {
      "cell_type": "markdown",
      "source": [
        "####Generación modelo y Salida Kaggle"
      ],
      "metadata": {
        "id": "oRxM9wbpywCg"
      }
    },
    {
      "cell_type": "code",
      "source": [
        "name='ModelWithGC'\n",
        "\n",
        "\"\"\"\n",
        "Generate data Kaggle\n",
        "\"\"\"\n",
        "#generate kaggle\n",
        "utils.load_test_sequences_and_generate_prediction_file(modelGC, hdfs_test_kaggle, max_len, name+'_maxLen'+str(max_len)+'_batchSize'+str(batch_size)+'_epochs'+str(epochs) )\n",
        "\n",
        "\"\"\"\n",
        "Generate Model\n",
        "\"\"\"\n",
        "# serialize model to JSON\n",
        "model_json = modelGC.to_json()\n",
        "with open(\"outputs/model_\"+name+'_maxLen'+str(max_len)+'_batchSize'+str(batch_size)+'_epochs'+str(epochs)+'_'+dt.datetime.today().strftime('%Y%m%d_%H%M%S')+\".json\", \"w\") as json_file:\n",
        "  json_file.write(model_json)\n",
        "# serialize weights to HDF5\n",
        "modelGC.save_weights(\"outputs/model_Weigths\"+name+'_maxLen'+str(max_len)+'_batchSize'+str(batch_size)+'_epochs'+str(epochs)+'_'+dt.datetime.today().strftime('%Y%m%d_%H%M%S')+\".h5\")\n",
        "print(\"Saved model to disk\")\n"
      ],
      "metadata": {
        "id": "NGHxtm-nx5dr",
        "colab": {
          "base_uri": "https://localhost:8080/"
        },
        "outputId": "e3ac0c6b-e0db-4d78-8f87-9eec97f9141f"
      },
      "execution_count": null,
      "outputs": [
        {
          "output_type": "stream",
          "name": "stdout",
          "text": [
            "5931/5931 [==============================] - 54s 9ms/step\n",
            "Saved model to disk\n"
          ]
        }
      ]
    },
    {
      "cell_type": "markdown",
      "source": [
        "### Modelo Mejorado con Batch Normalization y Gradient Clipping"
      ],
      "metadata": {
        "id": "XF-SekK0vQJM"
      }
    },
    {
      "cell_type": "code",
      "execution_count": null,
      "metadata": {
        "id": "0CqjJVXdLufm",
        "pycharm": {
          "name": "#%%\n"
        },
        "colab": {
          "base_uri": "https://localhost:8080/"
        },
        "outputId": "116827bc-aa4d-444a-8e89-c2c786380ab7"
      },
      "outputs": [
        {
          "output_type": "stream",
          "name": "stdout",
          "text": [
            "Model: \"sequential_3\"\n",
            "_________________________________________________________________\n",
            " Layer (type)                Output Shape              Param #   \n",
            "=================================================================\n",
            " embedding_3 (Embedding)     (None, 19, 3)             93        \n",
            "                                                                 \n",
            " lstm_6 (LSTM)               (None, 19, 64)            17408     \n",
            "                                                                 \n",
            " lstm_7 (LSTM)               (None, 64)                33024     \n",
            "                                                                 \n",
            " batch_normalization_1 (Batc  (None, 64)               256       \n",
            " hNormalization)                                                 \n",
            "                                                                 \n",
            " dense_3 (Dense)             (None, 2)                 130       \n",
            "                                                                 \n",
            "=================================================================\n",
            "Total params: 50,911\n",
            "Trainable params: 50,783\n",
            "Non-trainable params: 128\n",
            "_________________________________________________________________\n"
          ]
        }
      ],
      "source": [
        "modelGC_BN = Sequential()\n",
        "modelGC_BN.add(Embedding(vocab_size+1, embedding_size, input_length=max_len)) #el vocab size deberiamos sacarlo\n",
        "modelGC_BN.add(LSTM(64, return_sequences=True))\n",
        "modelGC_BN.add(LSTM(64, return_sequences=False))\n",
        "modelGC_BN.add(BatchNormalization())\n",
        "modelGC_BN.add(Dense(2, activation='softmax'))\n",
        "modelGC_BN.compile(loss=loss, optimizer=optimizer, metrics=['accuracy'])\n",
        "modelGC_BN.summary()"
      ]
    },
    {
      "cell_type": "markdown",
      "source": [
        "#### Entrenamiento"
      ],
      "metadata": {
        "id": "weaHMbBAzoqD"
      }
    },
    {
      "cell_type": "code",
      "source": [
        "#se agregó class.weights\n",
        "trainingGC_BN, modelGC_BN = utils.train(modelGC_BN,\n",
        "                X_train,\n",
        "                y_train, \n",
        "                batch_size = batch_size,\n",
        "                epochs = epochs,\n",
        "                validation_data_X = X_val, \n",
        "                validation_data_y = y_val,                                \n",
        "                patience = patience,\n",
        "                class_weights = utils.class_weights(hdfs_train,'class'))"
      ],
      "metadata": {
        "id": "KoKoxraqzpFy",
        "colab": {
          "base_uri": "https://localhost:8080/"
        },
        "outputId": "584ff71f-d8ad-42bb-8216-854b8247d5df"
      },
      "execution_count": null,
      "outputs": [
        {
          "output_type": "stream",
          "name": "stdout",
          "text": [
            "Epoch 1/19\n",
            "8128/8128 [==============================] - 239s 29ms/step - loss: 0.0309 - accuracy: 0.9976 - val_loss: 0.0097 - val_accuracy: 0.9993\n",
            "Epoch 2/19\n",
            "8128/8128 [==============================] - 231s 28ms/step - loss: 0.0257 - accuracy: 0.9991 - val_loss: 0.0814 - val_accuracy: 0.9901\n",
            "Epoch 3/19\n",
            "8128/8128 [==============================] - 260s 32ms/step - loss: 0.0259 - accuracy: 0.9992 - val_loss: 0.0569 - val_accuracy: 0.9926\n",
            "Epoch 4/19\n",
            "8128/8128 [==============================] - 232s 29ms/step - loss: 0.0282 - accuracy: 0.9992 - val_loss: 0.5086 - val_accuracy: 0.8382\n",
            "Epoch 5/19\n",
            "8128/8128 [==============================] - 233s 29ms/step - loss: 0.0240 - accuracy: 0.9991 - val_loss: 0.0037 - val_accuracy: 0.9996\n",
            "Epoch 6/19\n",
            "8128/8128 [==============================] - 234s 29ms/step - loss: 0.0198 - accuracy: 0.9992 - val_loss: 0.0353 - val_accuracy: 0.9989\n",
            "Epoch 7/19\n",
            "8128/8128 [==============================] - 234s 29ms/step - loss: 0.0211 - accuracy: 0.9992 - val_loss: 0.0076 - val_accuracy: 0.9993\n",
            "Epoch 8/19\n",
            "8128/8128 [==============================] - 242s 30ms/step - loss: 0.0217 - accuracy: 0.9992 - val_loss: 0.0050 - val_accuracy: 0.9988\n",
            "Epoch 9/19\n",
            "8128/8128 [==============================] - 231s 28ms/step - loss: 0.0210 - accuracy: 0.9992 - val_loss: 0.0060 - val_accuracy: 0.9993\n",
            "Epoch 10/19\n",
            "8128/8128 [==============================] - 232s 28ms/step - loss: 0.0192 - accuracy: 0.9992 - val_loss: 1.5796 - val_accuracy: 0.2068\n",
            "Epoch 11/19\n",
            "8128/8128 [==============================] - 233s 29ms/step - loss: 0.0182 - accuracy: 0.9991 - val_loss: 0.0084 - val_accuracy: 0.9989\n",
            "Epoch 12/19\n",
            "8128/8128 [==============================] - 240s 30ms/step - loss: 0.0213 - accuracy: 0.9991 - val_loss: 0.0097 - val_accuracy: 0.9987\n",
            "Epoch 13/19\n",
            "8128/8128 [==============================] - 250s 31ms/step - loss: 0.0185 - accuracy: 0.9991 - val_loss: 0.0069 - val_accuracy: 0.9989\n",
            "Epoch 14/19\n",
            "8128/8128 [==============================] - 249s 31ms/step - loss: 0.0160 - accuracy: 0.9992 - val_loss: 0.0550 - val_accuracy: 0.9987\n",
            "Epoch 15/19\n",
            "8128/8128 [==============================] - 244s 30ms/step - loss: 0.0171 - accuracy: 0.9992 - val_loss: 0.5882 - val_accuracy: 0.4228\n",
            "Epoch 16/19\n",
            "8128/8128 [==============================] - 250s 31ms/step - loss: 0.0179 - accuracy: 0.9991 - val_loss: 0.0065 - val_accuracy: 0.9989\n",
            "Epoch 17/19\n",
            "8128/8128 [==============================] - 232s 28ms/step - loss: 0.0192 - accuracy: 0.9991 - val_loss: 0.0060 - val_accuracy: 0.9993\n",
            "Epoch 18/19\n",
            "8128/8128 [==============================] - 233s 29ms/step - loss: 0.0188 - accuracy: 0.9991 - val_loss: 0.0060 - val_accuracy: 0.9991\n",
            "Epoch 19/19\n",
            "8128/8128 [==============================] - 233s 29ms/step - loss: 0.0177 - accuracy: 0.9991 - val_loss: 0.0080 - val_accuracy: 0.9987\n"
          ]
        }
      ]
    },
    {
      "cell_type": "markdown",
      "source": [
        "#### Evaluation"
      ],
      "metadata": {
        "id": "sYaONMdvzWUp"
      }
    },
    {
      "cell_type": "code",
      "source": [
        "utils.eval_model(trainingGC_BN, modelGC_BN, X_test, y_test)"
      ],
      "metadata": {
        "id": "jZ0bbNNzzXFP",
        "colab": {
          "base_uri": "https://localhost:8080/",
          "height": 834
        },
        "outputId": "25cf0b3d-23c8-4126-a263-8c8ff4369bfa"
      },
      "execution_count": null,
      "outputs": [
        {
          "output_type": "display_data",
          "data": {
            "text/plain": [
              "<Figure size 360x360 with 2 Axes>"
            ],
            "image/png": "[encoded data removed]"
          },
          "metadata": {
            "needs_background": "light"
          }
        },
        {
          "output_type": "stream",
          "name": "stdout",
          "text": [
            "3011/3011 [==============================] - 28s 9ms/step\n"
          ]
        },
        {
          "output_type": "display_data",
          "data": {
            "text/plain": [
              "<Figure size 432x288 with 1 Axes>"
            ],
            "image/png": "[encoded data removed]"
          },
          "metadata": {
            "needs_background": "light"
          }
        },
        {
          "output_type": "stream",
          "name": "stdout",
          "text": [
            "Classification report\n",
            "              precision    recall  f1-score   support\n",
            "\n",
            "    abnormal       0.96      0.99      0.98      2901\n",
            "      normal       1.00      1.00      1.00     93422\n",
            "\n",
            "    accuracy                           1.00     96323\n",
            "   macro avg       0.98      1.00      0.99     96323\n",
            "weighted avg       1.00      1.00      1.00     96323\n",
            "\n",
            "Loss function: 0.009101071394979954, accuracy: 0.9984738826751709\n"
          ]
        }
      ]
    },
    {
      "cell_type": "markdown",
      "source": [
        "####Generación modelo y Salida Kaggle"
      ],
      "metadata": {
        "id": "-cDTnLsaxjyE"
      }
    },
    {
      "cell_type": "code",
      "source": [
        "name='ModelWithGCandBN'\n",
        "\n",
        "\"\"\"\n",
        "Generate data Kaggle\n",
        "\"\"\"\n",
        "\n",
        "utils.load_test_sequences_and_generate_prediction_file(modelGC_BN, hdfs_test_kaggle, max_len, name+'_maxLen'+str(max_len)+'_batchSize'+str(batch_size)+'_epochs'+str(epochs) )\n",
        "\n",
        "\"\"\"\n",
        "Generate Model\n",
        "\"\"\"\n",
        "# serialize model to JSON\n",
        "model_json = modelGC_BN.to_json()\n",
        "with open(\"outputs/model_\"+name+'_maxLen'+str(max_len)+'_batchSize'+str(batch_size)+'_epochs'+str(epochs)+'_'+dt.datetime.today().strftime('%Y%m%d_%H%M%S')+\".json\", \"w\") as json_file:\n",
        "  json_file.write(model_json)\n",
        "# serialize weights to HDF5\n",
        "modelGC_BN.save_weights(\"outputs/model_Weigths\"+name+'_maxLen'+str(max_len)+'_batchSize'+str(batch_size)+'_epochs'+str(epochs)+'_'+dt.datetime.today().strftime('%Y%m%d_%H%M%S')+\".h5\")\n",
        "print(\"Saved model to disk\")"
      ],
      "metadata": {
        "id": "QslTNmcixobB",
        "colab": {
          "base_uri": "https://localhost:8080/"
        },
        "outputId": "fff4af0e-a1bf-421a-a4f0-1089d050a151"
      },
      "execution_count": null,
      "outputs": [
        {
          "output_type": "stream",
          "name": "stdout",
          "text": [
            "5931/5931 [==============================] - 54s 9ms/step\n",
            "Saved model to disk\n"
          ]
        }
      ]
    },
    {
      "cell_type": "markdown",
      "source": [
        "### Modelo Mejorado con Data Augmentation"
      ],
      "metadata": {
        "id": "abIJFm--rMwZ"
      }
    },
    {
      "cell_type": "code",
      "source": [
        "modelDA = Sequential()\n",
        "modelDA.add(Embedding(vocab_size+1, embedding_size, input_length=max_len)) #el vocab size deberiamos sacarlo\n",
        "modelDA.add(LSTM(64, return_sequences=True))\n",
        "modelDA.add(LSTM(64, return_sequences=False))\n",
        "modelDA.add(Dense(2, activation='softmax'))\n",
        "modelDA.compile(loss=loss, optimizer=optimizer, metrics=['accuracy'])\n",
        "modelDA.summary()"
      ],
      "metadata": {
        "colab": {
          "base_uri": "https://localhost:8080/"
        },
        "id": "3Zp7UIMUroGg",
        "outputId": "0e83841d-661d-43aa-caed-fc5a38cbdef7"
      },
      "execution_count": 93,
      "outputs": [
        {
          "output_type": "stream",
          "name": "stdout",
          "text": [
            "Model: \"sequential_6\"\n",
            "_________________________________________________________________\n",
            " Layer (type)                Output Shape              Param #   \n",
            "=================================================================\n",
            " embedding_6 (Embedding)     (None, 19, 3)             93        \n",
            "                                                                 \n",
            " lstm_12 (LSTM)              (None, 19, 64)            17408     \n",
            "                                                                 \n",
            " lstm_13 (LSTM)              (None, 64)                33024     \n",
            "                                                                 \n",
            " dense_6 (Dense)             (None, 2)                 130       \n",
            "                                                                 \n",
            "=================================================================\n",
            "Total params: 50,655\n",
            "Trainable params: 50,655\n",
            "Non-trainable params: 0\n",
            "_________________________________________________________________\n"
          ]
        }
      ]
    },
    {
      "cell_type": "markdown",
      "source": [
        "#### Entrenamiento"
      ],
      "metadata": {
        "id": "4gPfHVc5rVYF"
      }
    },
    {
      "cell_type": "code",
      "source": [
        "#se agregó class.weights\n",
        "trainingDA, modelDA = utils.train(modelDA,\n",
        "                X_train_aug,\n",
        "                y_train_aug, \n",
        "                batch_size = batch_size,\n",
        "                epochs = epochs,\n",
        "                validation_data_X = X_val, \n",
        "                validation_data_y = y_val,                                \n",
        "                patience = patience,\n",
        "                class_weights = utils.class_weights(hdfs_train,'class'))"
      ],
      "metadata": {
        "colab": {
          "base_uri": "https://localhost:8080/"
        },
        "id": "LpvnDb2rrzRf",
        "outputId": "b35411fd-474f-42ed-d77e-591a81cd1405"
      },
      "execution_count": 153,
      "outputs": [
        {
          "output_type": "stream",
          "name": "stdout",
          "text": [
            "Epoch 1/19\n",
            "10472/10472 [==============================] - 296s 28ms/step - loss: 0.0548 - accuracy: 0.9861 - val_loss: 0.0087 - val_accuracy: 0.9985\n",
            "Epoch 2/19\n",
            "10472/10472 [==============================] - 294s 28ms/step - loss: 0.0208 - accuracy: 0.9970 - val_loss: 0.0065 - val_accuracy: 0.9989\n",
            "Epoch 3/19\n",
            "10472/10472 [==============================] - 293s 28ms/step - loss: 0.0171 - accuracy: 0.9977 - val_loss: 0.0084 - val_accuracy: 0.9990\n",
            "Epoch 4/19\n",
            "10472/10472 [==============================] - 288s 27ms/step - loss: 0.0135 - accuracy: 0.9980 - val_loss: 0.0042 - val_accuracy: 0.9988\n",
            "Epoch 5/19\n",
            "10472/10472 [==============================] - 305s 29ms/step - loss: 0.0134 - accuracy: 0.9985 - val_loss: 0.0215 - val_accuracy: 0.9956\n",
            "Epoch 6/19\n",
            "10472/10472 [==============================] - 308s 29ms/step - loss: 0.0120 - accuracy: 0.9984 - val_loss: 0.0053 - val_accuracy: 0.9993\n",
            "Epoch 7/19\n",
            "10472/10472 [==============================] - 289s 28ms/step - loss: 0.0125 - accuracy: 0.9986 - val_loss: 0.0067 - val_accuracy: 0.9988\n",
            "Epoch 8/19\n",
            "10472/10472 [==============================] - 288s 27ms/step - loss: 0.0116 - accuracy: 0.9986 - val_loss: 0.0081 - val_accuracy: 0.9986\n",
            "Epoch 9/19\n",
            "10472/10472 [==============================] - 289s 28ms/step - loss: 0.0112 - accuracy: 0.9986 - val_loss: 0.0046 - val_accuracy: 0.9994\n",
            "Epoch 10/19\n",
            "10472/10472 [==============================] - 290s 28ms/step - loss: 0.0103 - accuracy: 0.9989 - val_loss: 0.0058 - val_accuracy: 0.9985\n",
            "Epoch 11/19\n",
            "10472/10472 [==============================] - 290s 28ms/step - loss: 0.0121 - accuracy: 0.9986 - val_loss: 0.0025 - val_accuracy: 0.9995\n",
            "Epoch 12/19\n",
            "10472/10472 [==============================] - 290s 28ms/step - loss: 0.0107 - accuracy: 0.9988 - val_loss: 0.0039 - val_accuracy: 0.9993\n",
            "Epoch 13/19\n",
            "10472/10472 [==============================] - 288s 27ms/step - loss: 0.0102 - accuracy: 0.9988 - val_loss: 0.0029 - val_accuracy: 0.9994\n",
            "Epoch 14/19\n",
            "10472/10472 [==============================] - 289s 28ms/step - loss: 0.0104 - accuracy: 0.9990 - val_loss: 0.0048 - val_accuracy: 0.9994\n",
            "Epoch 15/19\n",
            "10472/10472 [==============================] - 289s 28ms/step - loss: 0.0100 - accuracy: 0.9989 - val_loss: 0.0039 - val_accuracy: 0.9989\n",
            "Epoch 16/19\n",
            "10472/10472 [==============================] - 285s 27ms/step - loss: 0.0101 - accuracy: 0.9988 - val_loss: 0.0024 - val_accuracy: 0.9995\n",
            "Epoch 17/19\n",
            "10472/10472 [==============================] - 282s 27ms/step - loss: 0.0099 - accuracy: 0.9989 - val_loss: 0.0030 - val_accuracy: 0.9995\n",
            "Epoch 18/19\n",
            "10472/10472 [==============================] - 281s 27ms/step - loss: 0.0102 - accuracy: 0.9990 - val_loss: 0.0074 - val_accuracy: 0.9984\n",
            "Epoch 19/19\n",
            "10472/10472 [==============================] - 280s 27ms/step - loss: 0.0103 - accuracy: 0.9988 - val_loss: 0.0037 - val_accuracy: 0.9994\n"
          ]
        }
      ]
    },
    {
      "cell_type": "markdown",
      "source": [
        "#### Evaluation"
      ],
      "metadata": {
        "id": "mn-YIJY2rX-a"
      }
    },
    {
      "cell_type": "code",
      "source": [
        "utils.eval_model(trainingDA, modelDA, X_test, y_test)"
      ],
      "metadata": {
        "id": "75noSDBfru30",
        "colab": {
          "base_uri": "https://localhost:8080/",
          "height": 849
        },
        "outputId": "baa41944-a1ba-4c69-97f8-836c9143220d"
      },
      "execution_count": 154,
      "outputs": [
        {
          "output_type": "display_data",
          "data": {
            "text/plain": [
              "<Figure size 360x360 with 2 Axes>"
            ],
            "image/png": "[encoded data removed]"
          },
          "metadata": {
            "needs_background": "light"
          }
        },
        {
          "output_type": "stream",
          "name": "stdout",
          "text": [
            "3011/3011 [==============================] - 28s 9ms/step\n"
          ]
        },
        {
          "output_type": "display_data",
          "data": {
            "text/plain": [
              "<Figure size 432x288 with 1 Axes>"
            ],
            "image/png": "[encoded data removed]"
          },
          "metadata": {
            "needs_background": "light"
          }
        },
        {
          "output_type": "stream",
          "name": "stdout",
          "text": [
            "Classification report\n",
            "              precision    recall  f1-score   support\n",
            "\n",
            "    abnormal       0.98      0.99      0.99      2901\n",
            "      normal       1.00      1.00      1.00     93422\n",
            "\n",
            "    accuracy                           1.00     96323\n",
            "   macro avg       0.99      1.00      0.99     96323\n",
            "weighted avg       1.00      1.00      1.00     96323\n",
            "\n",
            "Loss function: 0.004298139829188585, accuracy: 0.9992836713790894\n"
          ]
        }
      ]
    },
    {
      "cell_type": "markdown",
      "source": [
        "#### Generación modelo y Salida Kaggle"
      ],
      "metadata": {
        "id": "F357yN7Ircou"
      }
    },
    {
      "cell_type": "code",
      "source": [
        "name='ModelWithDataAugmentation'\n",
        "\n",
        "\"\"\"\n",
        "Generate data Kaggle\n",
        "\"\"\"\n",
        "\n",
        "utils.load_test_sequences_and_generate_prediction_file(modelDA, hdfs_test_kaggle, max_len, name+'_maxLen'+str(max_len)+'_batchSize'+str(batch_size)+'_epochs'+str(epochs) )\n",
        "\n",
        "\"\"\"\n",
        "Generate Model\n",
        "\"\"\"\n",
        "# serialize model to JSON\n",
        "model_json = modelDA.to_json()\n",
        "with open(\"outputs/model_\"+name+'_maxLen'+str(max_len)+'_batchSize'+str(batch_size)+'_epochs'+str(epochs)+'_'+dt.datetime.today().strftime('%Y%m%d_%H%M%S')+\".json\", \"w\") as json_file:\n",
        "  json_file.write(model_json)\n",
        "# serialize weights to HDF5\n",
        "modelDA.save_weights(\"outputs/model_Weigths\"+name+'_maxLen'+str(max_len)+'_batchSize'+str(batch_size)+'_epochs'+str(epochs)+'_'+dt.datetime.today().strftime('%Y%m%d_%H%M%S')+\".h5\")\n",
        "print(\"Saved model to disk\")"
      ],
      "metadata": {
        "id": "S-cutHTisgMh",
        "colab": {
          "base_uri": "https://localhost:8080/"
        },
        "outputId": "036bfb76-4f1c-4427-e3db-dd35b8889841"
      },
      "execution_count": 155,
      "outputs": [
        {
          "output_type": "stream",
          "name": "stdout",
          "text": [
            "5931/5931 [==============================] - 52s 9ms/step\n",
            "Saved model to disk\n"
          ]
        }
      ]
    },
    {
      "cell_type": "markdown",
      "source": [],
      "metadata": {
        "id": "9x4jGC-craoZ"
      }
    },
    {
      "cell_type": "markdown",
      "metadata": {
        "id": "8lXsSd3MLugC",
        "pycharm": {
          "name": "#%% md\n"
        }
      },
      "source": [
        "## 6 Consigna\n",
        "\n",
        "### A) Participación en Competencia Kaggle:\n",
        "El objetivo de este punto es participar en la competencia de Kaggle y obtener como mínimo un Macro Average Recall (o Weighted Accuracy) superior al 80%. [->Link a la competencia<-](https://www.kaggle.com/t/6d15e3a96bd049b2b4b2a491a69a0fc7).\n",
        "\n",
        "### B) Utilización de Grid Search (o equivalente):\n",
        "Para cumplir con la busqueda de modelos óptimos se debe realizar un grid search lo más abarcativo y metódico posible.\n",
        "\n",
        "### C) Se debe a su vez investigar e implementar al menos 2 de las siguientes técnicas:\n",
        "#### 1. [Batch Normalization](https://machinelearningmastery.com/how-to-accelerate-learning-of-deep-neural-networks-with-batch-normalization/)\n",
        "#### 2. [Data Augmentation a través de la realización de Windowing](https://blog.finxter.com/how-to-loop-through-a-python-list-in-batches/#Method_1_Iterating_over_Consecutive_Sliding_Windows)\n",
        "#### 3. [Gradient Normalization y/o Gradient Clipping](https://machinelearningmastery.com/how-to-avoid-exploding-gradients-in-neural-networks-with-gradient-clipping/)\n"
      ]
    },
    {
      "cell_type": "code",
      "execution_count": null,
      "metadata": {
        "id": "gevnjEmGLugD",
        "pycharm": {
          "name": "#%%\n"
        }
      },
      "outputs": [],
      "source": []
    }
  ],
  "metadata": {
    "colab": {
      "collapsed_sections": [],
      "provenance": [],
      "toc_visible": true
    },
    "interpreter": {
      "hash": "c12d86b63e74ac4f427027e3d58b1fa461278ba669d7be39fd5f25ce787fdf43"
    },
    "kernelspec": {
      "display_name": "Python 3",
      "language": "python",
      "name": "python3"
    },
    "language_info": {
      "codemirror_mode": {
        "name": "ipython",
        "version": 3
      },
      "file_extension": ".py",
      "mimetype": "text/x-python",
      "name": "python",
      "nbconvert_exporter": "python",
      "pygments_lexer": "ipython3",
      "version": "3.7.6"
    }
  },
  "nbformat": 4,
  "nbformat_minor": 0
}