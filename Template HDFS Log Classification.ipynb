{
  "cells": [
    {
      "cell_type": "markdown",
      "metadata": {
        "id": "6OFm1E4ALuev"
      },
      "source": [
        "# Obligatorio de Deep Learning: Detección de actividad anormal en logs de HDFS"
      ]
    },
    {
      "cell_type": "markdown",
      "metadata": {
        "id": "hPryBvEdLapR"
      },
      "source": [
        "Federico De León  \n",
        "Daniel Dominitz  \n",
        "Juan Emilio Gabito (138616)"
      ]
    },
    {
      "cell_type": "markdown",
      "metadata": {
        "id": "SoMkgREvLue_"
      },
      "source": [
        "## 1. Setup"
      ]
    },
    {
      "cell_type": "markdown",
      "metadata": {
        "id": "1GewshNtLufB"
      },
      "source": [
        "### Imports"
      ]
    },
    {
      "cell_type": "code",
      "execution_count": null,
      "metadata": {
        "colab": {
          "base_uri": "https://localhost:8080/"
        },
        "id": "8-yEMLaWNgaf",
        "outputId": "81530232-776a-480a-9b1b-9abca75f334c"
      },
      "outputs": [
        {
          "output_type": "stream",
          "name": "stdout",
          "text": [
            "Drive already mounted at /content/drive; to attempt to forcibly remount, call drive.mount(\"/content/drive\", force_remount=True).\n"
          ]
        }
      ],
      "source": [
        "# Si estamos en Colab setemos Drive como FS\n",
        "from google.colab import drive\n",
        "drive.mount('/content/drive')"
      ]
    },
    {
      "cell_type": "code",
      "execution_count": null,
      "metadata": {
        "id": "OiiNR7s1L08y"
      },
      "outputs": [],
      "source": [
        "# Para Colab nos paramos en alguna de las carpetas del grupo\n",
        "import os\n",
        "if os.path.exists(\"/content/drive/MyDrive/ORT/DeepLearning/Obligatorio\"):\n",
        "  os.chdir('/content/drive/MyDrive/ORT/DeepLearning/Obligatorio')\n",
        "else:\n",
        "  if os.path.exists(\"/content/drive/MyDrive/ORT/Posgrado AI/Taller DeepLearning/Obligatorio\"):\n",
        "    os.chdir(\"/content/drive/MyDrive/ORT/Posgrado AI/Taller DeepLearning/Obligatorio\")"
      ]
    },
    {
      "cell_type": "code",
      "execution_count": null,
      "metadata": {
        "id": "aasM3UopLufC"
      },
      "outputs": [],
      "source": [
        "import numpy as np\n",
        "import datetime as dt\n",
        "import math\n",
        "import matplotlib.pyplot as plt\n",
        "\n",
        "from tensorflow.keras.models import Sequential\n",
        "from tensorflow.keras.layers import Dense, Conv1D, MaxPool1D, Dropout, Embedding, LSTM, Dense, BatchNormalization\n",
        "import tensorflow as tf\n",
        "from tensorflow.keras.optimizers import Adam\n",
        "from tensorflow.keras.wrappers.scikit_learn import KerasClassifier\n",
        "\n",
        "from sklearn.metrics import f1_score, precision_score, recall_score, confusion_matrix\n",
        "\n",
        "from importlib import reload\n",
        "import utils\n",
        "utils = reload(utils)\n",
        "\n",
        "import pandas as pd"
      ]
    },
    {
      "cell_type": "markdown",
      "metadata": {
        "id": "oU26rNfHLufK"
      },
      "source": [
        "### Reproducibilidad y repetibilidad"
      ]
    },
    {
      "cell_type": "markdown",
      "metadata": {
        "id": "3v2lH6nrLapV"
      },
      "source": [
        "Para poder asegurar la reproducibilidad y repetibilidad de los experimentos en distintas ejecuciones seteamos la _seed_ tanto en Numpy como en Tensorflow."
      ]
    },
    {
      "cell_type": "code",
      "execution_count": null,
      "metadata": {
        "id": "YLlbGI8aLufL"
      },
      "outputs": [],
      "source": [
        "np.random.seed(117)\n",
        "tf.random.set_seed(117)"
      ]
    },
    {
      "cell_type": "markdown",
      "metadata": {
        "id": "ezE0iqNALufO"
      },
      "source": [
        "## 2. Carga de datos"
      ]
    },
    {
      "cell_type": "code",
      "execution_count": null,
      "metadata": {
        "id": "j9RPPY70LufP"
      },
      "outputs": [],
      "source": [
        "hdfs_train, hdfs_test_kaggle = utils.read_data()"
      ]
    },
    {
      "cell_type": "code",
      "execution_count": null,
      "metadata": {
        "colab": {
          "base_uri": "https://localhost:8080/",
          "height": 175
        },
        "id": "LFTLnExcLufQ",
        "outputId": "cbb25ca8-7607-4ccd-a705-2bcebffe525e",
        "scrolled": true
      },
      "outputs": [
        {
          "output_type": "execute_result",
          "data": {
            "text/plain": [
              "   id                                           sequence   class\n",
              "0   0  (4, 4, 4, 21, 10, 8, 10, 8, 10, 8, 25, 25, 25,...  normal\n",
              "1   1  (4, 4, 4, 21, 10, 8, 25, 10, 8, 10, 8, 25, 25,...  normal\n",
              "2   2  (21, 4, 4, 4, 25, 25, 10, 8, 25, 10, 8, 10, 8,...  normal\n",
              "3   3  (21, 4, 4, 4, 10, 8, 10, 8, 10, 8, 25, 25, 25,...  normal"
            ],
            "text/html": [
              "\n",
              "  <div id=\"df-71c82cf2-2518-4dd6-9be8-74d3fb5b0977\">\n",
              "    <div class=\"colab-df-container\">\n",
              "      <div>\n",
              "<style scoped>\n",
              "    .dataframe tbody tr th:only-of-type {\n",
              "        vertical-align: middle;\n",
              "    }\n",
              "\n",
              "    .dataframe tbody tr th {\n",
              "        vertical-align: top;\n",
              "    }\n",
              "\n",
              "    .dataframe thead th {\n",
              "        text-align: right;\n",
              "    }\n",
              "</style>\n",
              "<table border=\"1\" class=\"dataframe\">\n",
              "  <thead>\n",
              "    <tr style=\"text-align: right;\">\n",
              "      <th></th>\n",
              "      <th>id</th>\n",
              "      <th>sequence</th>\n",
              "      <th>class</th>\n",
              "    </tr>\n",
              "  </thead>\n",
              "  <tbody>\n",
              "    <tr>\n",
              "      <th>0</th>\n",
              "      <td>0</td>\n",
              "      <td>(4, 4, 4, 21, 10, 8, 10, 8, 10, 8, 25, 25, 25,...</td>\n",
              "      <td>normal</td>\n",
              "    </tr>\n",
              "    <tr>\n",
              "      <th>1</th>\n",
              "      <td>1</td>\n",
              "      <td>(4, 4, 4, 21, 10, 8, 25, 10, 8, 10, 8, 25, 25,...</td>\n",
              "      <td>normal</td>\n",
              "    </tr>\n",
              "    <tr>\n",
              "      <th>2</th>\n",
              "      <td>2</td>\n",
              "      <td>(21, 4, 4, 4, 25, 25, 10, 8, 25, 10, 8, 10, 8,...</td>\n",
              "      <td>normal</td>\n",
              "    </tr>\n",
              "    <tr>\n",
              "      <th>3</th>\n",
              "      <td>3</td>\n",
              "      <td>(21, 4, 4, 4, 10, 8, 10, 8, 10, 8, 25, 25, 25,...</td>\n",
              "      <td>normal</td>\n",
              "    </tr>\n",
              "  </tbody>\n",
              "</table>\n",
              "</div>\n",
              "      <button class=\"colab-df-convert\" onclick=\"convertToInteractive('df-71c82cf2-2518-4dd6-9be8-74d3fb5b0977')\"\n",
              "              title=\"Convert this dataframe to an interactive table.\"\n",
              "              style=\"display:none;\">\n",
              "        \n",
              "  <svg xmlns=\"http://www.w3.org/2000/svg\" height=\"24px\"viewBox=\"0 0 24 24\"\n",
              "       width=\"24px\">\n",
              "    <path d=\"M0 0h24v24H0V0z\" fill=\"none\"/>\n",
              "    <path d=\"M18.56 5.44l.94 2.06.94-2.06 2.06-.94-2.06-.94-.94-2.06-.94 2.06-2.06.94zm-11 1L8.5 8.5l.94-2.06 2.06-.94-2.06-.94L8.5 2.5l-.94 2.06-2.06.94zm10 10l.94 2.06.94-2.06 2.06-.94-2.06-.94-.94-2.06-.94 2.06-2.06.94z\"/><path d=\"M17.41 7.96l-1.37-1.37c-.4-.4-.92-.59-1.43-.59-.52 0-1.04.2-1.43.59L10.3 9.45l-7.72 7.72c-.78.78-.78 2.05 0 2.83L4 21.41c.39.39.9.59 1.41.59.51 0 1.02-.2 1.41-.59l7.78-7.78 2.81-2.81c.8-.78.8-2.07 0-2.86zM5.41 20L4 18.59l7.72-7.72 1.47 1.35L5.41 20z\"/>\n",
              "  </svg>\n",
              "      </button>\n",
              "      \n",
              "  <style>\n",
              "    .colab-df-container {\n",
              "      display:flex;\n",
              "      flex-wrap:wrap;\n",
              "      gap: 12px;\n",
              "    }\n",
              "\n",
              "    .colab-df-convert {\n",
              "      background-color: #E8F0FE;\n",
              "      border: none;\n",
              "      border-radius: 50%;\n",
              "      cursor: pointer;\n",
              "      display: none;\n",
              "      fill: #1967D2;\n",
              "      height: 32px;\n",
              "      padding: 0 0 0 0;\n",
              "      width: 32px;\n",
              "    }\n",
              "\n",
              "    .colab-df-convert:hover {\n",
              "      background-color: #E2EBFA;\n",
              "      box-shadow: 0px 1px 2px rgba(60, 64, 67, 0.3), 0px 1px 3px 1px rgba(60, 64, 67, 0.15);\n",
              "      fill: #174EA6;\n",
              "    }\n",
              "\n",
              "    [theme=dark] .colab-df-convert {\n",
              "      background-color: #3B4455;\n",
              "      fill: #D2E3FC;\n",
              "    }\n",
              "\n",
              "    [theme=dark] .colab-df-convert:hover {\n",
              "      background-color: #434B5C;\n",
              "      box-shadow: 0px 1px 3px 1px rgba(0, 0, 0, 0.15);\n",
              "      filter: drop-shadow(0px 1px 2px rgba(0, 0, 0, 0.3));\n",
              "      fill: #FFFFFF;\n",
              "    }\n",
              "  </style>\n",
              "\n",
              "      <script>\n",
              "        const buttonEl =\n",
              "          document.querySelector('#df-71c82cf2-2518-4dd6-9be8-74d3fb5b0977 button.colab-df-convert');\n",
              "        buttonEl.style.display =\n",
              "          google.colab.kernel.accessAllowed ? 'block' : 'none';\n",
              "\n",
              "        async function convertToInteractive(key) {\n",
              "          const element = document.querySelector('#df-71c82cf2-2518-4dd6-9be8-74d3fb5b0977');\n",
              "          const dataTable =\n",
              "            await google.colab.kernel.invokeFunction('convertToInteractive',\n",
              "                                                     [key], {});\n",
              "          if (!dataTable) return;\n",
              "\n",
              "          const docLinkHtml = 'Like what you see? Visit the ' +\n",
              "            '<a target=\"_blank\" href=https://colab.research.google.com/notebooks/data_table.ipynb>data table notebook</a>'\n",
              "            + ' to learn more about interactive tables.';\n",
              "          element.innerHTML = '';\n",
              "          dataTable['output_type'] = 'display_data';\n",
              "          await google.colab.output.renderOutput(dataTable, element);\n",
              "          const docLink = document.createElement('div');\n",
              "          docLink.innerHTML = docLinkHtml;\n",
              "          element.appendChild(docLink);\n",
              "        }\n",
              "      </script>\n",
              "    </div>\n",
              "  </div>\n",
              "  "
            ]
          },
          "metadata": {},
          "execution_count": 49
        }
      ],
      "source": [
        "hdfs_train[:4]"
      ]
    },
    {
      "cell_type": "code",
      "execution_count": null,
      "metadata": {
        "colab": {
          "base_uri": "https://localhost:8080/",
          "height": 206
        },
        "id": "mbSin2w_LufS",
        "outputId": "76488c75-bb42-48ef-a598-7c4d0a8001bd"
      },
      "outputs": [
        {
          "output_type": "execute_result",
          "data": {
            "text/plain": [
              "   id                                           sequence\n",
              "0   0     (21, 4, 4, 4, 10, 8, 10, 8, 10, 8, 25, 25, 25)\n",
              "1   1  (4, 4, 4, 21, 10, 8, 25, 10, 8, 10, 8, 25, 25,...\n",
              "2   2  (4, 4, 4, 21, 10, 8, 10, 8, 10, 8, 25, 25, 25,...\n",
              "3   3  (4, 4, 4, 21, 10, 8, 10, 8, 25, 25, 25, 10, 8,...\n",
              "4   4  (21, 4, 4, 4, 10, 8, 10, 8, 10, 8, 25, 25, 25,..."
            ],
            "text/html": [
              "\n",
              "  <div id=\"df-cf1469eb-1344-419d-a3cd-0209f4c2bcf1\">\n",
              "    <div class=\"colab-df-container\">\n",
              "      <div>\n",
              "<style scoped>\n",
              "    .dataframe tbody tr th:only-of-type {\n",
              "        vertical-align: middle;\n",
              "    }\n",
              "\n",
              "    .dataframe tbody tr th {\n",
              "        vertical-align: top;\n",
              "    }\n",
              "\n",
              "    .dataframe thead th {\n",
              "        text-align: right;\n",
              "    }\n",
              "</style>\n",
              "<table border=\"1\" class=\"dataframe\">\n",
              "  <thead>\n",
              "    <tr style=\"text-align: right;\">\n",
              "      <th></th>\n",
              "      <th>id</th>\n",
              "      <th>sequence</th>\n",
              "    </tr>\n",
              "  </thead>\n",
              "  <tbody>\n",
              "    <tr>\n",
              "      <th>0</th>\n",
              "      <td>0</td>\n",
              "      <td>(21, 4, 4, 4, 10, 8, 10, 8, 10, 8, 25, 25, 25)</td>\n",
              "    </tr>\n",
              "    <tr>\n",
              "      <th>1</th>\n",
              "      <td>1</td>\n",
              "      <td>(4, 4, 4, 21, 10, 8, 25, 10, 8, 10, 8, 25, 25,...</td>\n",
              "    </tr>\n",
              "    <tr>\n",
              "      <th>2</th>\n",
              "      <td>2</td>\n",
              "      <td>(4, 4, 4, 21, 10, 8, 10, 8, 10, 8, 25, 25, 25,...</td>\n",
              "    </tr>\n",
              "    <tr>\n",
              "      <th>3</th>\n",
              "      <td>3</td>\n",
              "      <td>(4, 4, 4, 21, 10, 8, 10, 8, 25, 25, 25, 10, 8,...</td>\n",
              "    </tr>\n",
              "    <tr>\n",
              "      <th>4</th>\n",
              "      <td>4</td>\n",
              "      <td>(21, 4, 4, 4, 10, 8, 10, 8, 10, 8, 25, 25, 25,...</td>\n",
              "    </tr>\n",
              "  </tbody>\n",
              "</table>\n",
              "</div>\n",
              "      <button class=\"colab-df-convert\" onclick=\"convertToInteractive('df-cf1469eb-1344-419d-a3cd-0209f4c2bcf1')\"\n",
              "              title=\"Convert this dataframe to an interactive table.\"\n",
              "              style=\"display:none;\">\n",
              "        \n",
              "  <svg xmlns=\"http://www.w3.org/2000/svg\" height=\"24px\"viewBox=\"0 0 24 24\"\n",
              "       width=\"24px\">\n",
              "    <path d=\"M0 0h24v24H0V0z\" fill=\"none\"/>\n",
              "    <path d=\"M18.56 5.44l.94 2.06.94-2.06 2.06-.94-2.06-.94-.94-2.06-.94 2.06-2.06.94zm-11 1L8.5 8.5l.94-2.06 2.06-.94-2.06-.94L8.5 2.5l-.94 2.06-2.06.94zm10 10l.94 2.06.94-2.06 2.06-.94-2.06-.94-.94-2.06-.94 2.06-2.06.94z\"/><path d=\"M17.41 7.96l-1.37-1.37c-.4-.4-.92-.59-1.43-.59-.52 0-1.04.2-1.43.59L10.3 9.45l-7.72 7.72c-.78.78-.78 2.05 0 2.83L4 21.41c.39.39.9.59 1.41.59.51 0 1.02-.2 1.41-.59l7.78-7.78 2.81-2.81c.8-.78.8-2.07 0-2.86zM5.41 20L4 18.59l7.72-7.72 1.47 1.35L5.41 20z\"/>\n",
              "  </svg>\n",
              "      </button>\n",
              "      \n",
              "  <style>\n",
              "    .colab-df-container {\n",
              "      display:flex;\n",
              "      flex-wrap:wrap;\n",
              "      gap: 12px;\n",
              "    }\n",
              "\n",
              "    .colab-df-convert {\n",
              "      background-color: #E8F0FE;\n",
              "      border: none;\n",
              "      border-radius: 50%;\n",
              "      cursor: pointer;\n",
              "      display: none;\n",
              "      fill: #1967D2;\n",
              "      height: 32px;\n",
              "      padding: 0 0 0 0;\n",
              "      width: 32px;\n",
              "    }\n",
              "\n",
              "    .colab-df-convert:hover {\n",
              "      background-color: #E2EBFA;\n",
              "      box-shadow: 0px 1px 2px rgba(60, 64, 67, 0.3), 0px 1px 3px 1px rgba(60, 64, 67, 0.15);\n",
              "      fill: #174EA6;\n",
              "    }\n",
              "\n",
              "    [theme=dark] .colab-df-convert {\n",
              "      background-color: #3B4455;\n",
              "      fill: #D2E3FC;\n",
              "    }\n",
              "\n",
              "    [theme=dark] .colab-df-convert:hover {\n",
              "      background-color: #434B5C;\n",
              "      box-shadow: 0px 1px 3px 1px rgba(0, 0, 0, 0.15);\n",
              "      filter: drop-shadow(0px 1px 2px rgba(0, 0, 0, 0.3));\n",
              "      fill: #FFFFFF;\n",
              "    }\n",
              "  </style>\n",
              "\n",
              "      <script>\n",
              "        const buttonEl =\n",
              "          document.querySelector('#df-cf1469eb-1344-419d-a3cd-0209f4c2bcf1 button.colab-df-convert');\n",
              "        buttonEl.style.display =\n",
              "          google.colab.kernel.accessAllowed ? 'block' : 'none';\n",
              "\n",
              "        async function convertToInteractive(key) {\n",
              "          const element = document.querySelector('#df-cf1469eb-1344-419d-a3cd-0209f4c2bcf1');\n",
              "          const dataTable =\n",
              "            await google.colab.kernel.invokeFunction('convertToInteractive',\n",
              "                                                     [key], {});\n",
              "          if (!dataTable) return;\n",
              "\n",
              "          const docLinkHtml = 'Like what you see? Visit the ' +\n",
              "            '<a target=\"_blank\" href=https://colab.research.google.com/notebooks/data_table.ipynb>data table notebook</a>'\n",
              "            + ' to learn more about interactive tables.';\n",
              "          element.innerHTML = '';\n",
              "          dataTable['output_type'] = 'display_data';\n",
              "          await google.colab.output.renderOutput(dataTable, element);\n",
              "          const docLink = document.createElement('div');\n",
              "          docLink.innerHTML = docLinkHtml;\n",
              "          element.appendChild(docLink);\n",
              "        }\n",
              "      </script>\n",
              "    </div>\n",
              "  </div>\n",
              "  "
            ]
          },
          "metadata": {},
          "execution_count": 50
        }
      ],
      "source": [
        "hdfs_test_kaggle[:5]"
      ]
    },
    {
      "cell_type": "markdown",
      "metadata": {
        "id": "f-nyjbgRLufS"
      },
      "source": [
        "## 3. Análisis exploratorio de datos"
      ]
    },
    {
      "cell_type": "markdown",
      "metadata": {
        "id": "cA1nSPKuLufT"
      },
      "source": [
        "### Análisis descriptivo general"
      ]
    },
    {
      "cell_type": "code",
      "execution_count": null,
      "metadata": {
        "colab": {
          "base_uri": "https://localhost:8080/",
          "height": 206
        },
        "id": "lwVUrlooLufU",
        "outputId": "a26a8fe9-65ff-4ba7-ce6a-6e7b0564db62"
      },
      "outputs": [
        {
          "output_type": "execute_result",
          "data": {
            "text/plain": [
              "   id                                           sequence   class\n",
              "0   0  (4, 4, 4, 21, 10, 8, 10, 8, 10, 8, 25, 25, 25,...  normal\n",
              "1   1  (4, 4, 4, 21, 10, 8, 25, 10, 8, 10, 8, 25, 25,...  normal\n",
              "2   2  (21, 4, 4, 4, 25, 25, 10, 8, 25, 10, 8, 10, 8,...  normal\n",
              "3   3  (21, 4, 4, 4, 10, 8, 10, 8, 10, 8, 25, 25, 25,...  normal\n",
              "4   4  (21, 4, 4, 4, 25, 25, 25, 10, 8, 10, 8, 10, 8,...  normal"
            ],
            "text/html": [
              "\n",
              "  <div id=\"df-eeee6549-94bf-43a5-a2ff-b85ef0c65933\">\n",
              "    <div class=\"colab-df-container\">\n",
              "      <div>\n",
              "<style scoped>\n",
              "    .dataframe tbody tr th:only-of-type {\n",
              "        vertical-align: middle;\n",
              "    }\n",
              "\n",
              "    .dataframe tbody tr th {\n",
              "        vertical-align: top;\n",
              "    }\n",
              "\n",
              "    .dataframe thead th {\n",
              "        text-align: right;\n",
              "    }\n",
              "</style>\n",
              "<table border=\"1\" class=\"dataframe\">\n",
              "  <thead>\n",
              "    <tr style=\"text-align: right;\">\n",
              "      <th></th>\n",
              "      <th>id</th>\n",
              "      <th>sequence</th>\n",
              "      <th>class</th>\n",
              "    </tr>\n",
              "  </thead>\n",
              "  <tbody>\n",
              "    <tr>\n",
              "      <th>0</th>\n",
              "      <td>0</td>\n",
              "      <td>(4, 4, 4, 21, 10, 8, 10, 8, 10, 8, 25, 25, 25,...</td>\n",
              "      <td>normal</td>\n",
              "    </tr>\n",
              "    <tr>\n",
              "      <th>1</th>\n",
              "      <td>1</td>\n",
              "      <td>(4, 4, 4, 21, 10, 8, 25, 10, 8, 10, 8, 25, 25,...</td>\n",
              "      <td>normal</td>\n",
              "    </tr>\n",
              "    <tr>\n",
              "      <th>2</th>\n",
              "      <td>2</td>\n",
              "      <td>(21, 4, 4, 4, 25, 25, 10, 8, 25, 10, 8, 10, 8,...</td>\n",
              "      <td>normal</td>\n",
              "    </tr>\n",
              "    <tr>\n",
              "      <th>3</th>\n",
              "      <td>3</td>\n",
              "      <td>(21, 4, 4, 4, 10, 8, 10, 8, 10, 8, 25, 25, 25,...</td>\n",
              "      <td>normal</td>\n",
              "    </tr>\n",
              "    <tr>\n",
              "      <th>4</th>\n",
              "      <td>4</td>\n",
              "      <td>(21, 4, 4, 4, 25, 25, 25, 10, 8, 10, 8, 10, 8,...</td>\n",
              "      <td>normal</td>\n",
              "    </tr>\n",
              "  </tbody>\n",
              "</table>\n",
              "</div>\n",
              "      <button class=\"colab-df-convert\" onclick=\"convertToInteractive('df-eeee6549-94bf-43a5-a2ff-b85ef0c65933')\"\n",
              "              title=\"Convert this dataframe to an interactive table.\"\n",
              "              style=\"display:none;\">\n",
              "        \n",
              "  <svg xmlns=\"http://www.w3.org/2000/svg\" height=\"24px\"viewBox=\"0 0 24 24\"\n",
              "       width=\"24px\">\n",
              "    <path d=\"M0 0h24v24H0V0z\" fill=\"none\"/>\n",
              "    <path d=\"M18.56 5.44l.94 2.06.94-2.06 2.06-.94-2.06-.94-.94-2.06-.94 2.06-2.06.94zm-11 1L8.5 8.5l.94-2.06 2.06-.94-2.06-.94L8.5 2.5l-.94 2.06-2.06.94zm10 10l.94 2.06.94-2.06 2.06-.94-2.06-.94-.94-2.06-.94 2.06-2.06.94z\"/><path d=\"M17.41 7.96l-1.37-1.37c-.4-.4-.92-.59-1.43-.59-.52 0-1.04.2-1.43.59L10.3 9.45l-7.72 7.72c-.78.78-.78 2.05 0 2.83L4 21.41c.39.39.9.59 1.41.59.51 0 1.02-.2 1.41-.59l7.78-7.78 2.81-2.81c.8-.78.8-2.07 0-2.86zM5.41 20L4 18.59l7.72-7.72 1.47 1.35L5.41 20z\"/>\n",
              "  </svg>\n",
              "      </button>\n",
              "      \n",
              "  <style>\n",
              "    .colab-df-container {\n",
              "      display:flex;\n",
              "      flex-wrap:wrap;\n",
              "      gap: 12px;\n",
              "    }\n",
              "\n",
              "    .colab-df-convert {\n",
              "      background-color: #E8F0FE;\n",
              "      border: none;\n",
              "      border-radius: 50%;\n",
              "      cursor: pointer;\n",
              "      display: none;\n",
              "      fill: #1967D2;\n",
              "      height: 32px;\n",
              "      padding: 0 0 0 0;\n",
              "      width: 32px;\n",
              "    }\n",
              "\n",
              "    .colab-df-convert:hover {\n",
              "      background-color: #E2EBFA;\n",
              "      box-shadow: 0px 1px 2px rgba(60, 64, 67, 0.3), 0px 1px 3px 1px rgba(60, 64, 67, 0.15);\n",
              "      fill: #174EA6;\n",
              "    }\n",
              "\n",
              "    [theme=dark] .colab-df-convert {\n",
              "      background-color: #3B4455;\n",
              "      fill: #D2E3FC;\n",
              "    }\n",
              "\n",
              "    [theme=dark] .colab-df-convert:hover {\n",
              "      background-color: #434B5C;\n",
              "      box-shadow: 0px 1px 3px 1px rgba(0, 0, 0, 0.15);\n",
              "      filter: drop-shadow(0px 1px 2px rgba(0, 0, 0, 0.3));\n",
              "      fill: #FFFFFF;\n",
              "    }\n",
              "  </style>\n",
              "\n",
              "      <script>\n",
              "        const buttonEl =\n",
              "          document.querySelector('#df-eeee6549-94bf-43a5-a2ff-b85ef0c65933 button.colab-df-convert');\n",
              "        buttonEl.style.display =\n",
              "          google.colab.kernel.accessAllowed ? 'block' : 'none';\n",
              "\n",
              "        async function convertToInteractive(key) {\n",
              "          const element = document.querySelector('#df-eeee6549-94bf-43a5-a2ff-b85ef0c65933');\n",
              "          const dataTable =\n",
              "            await google.colab.kernel.invokeFunction('convertToInteractive',\n",
              "                                                     [key], {});\n",
              "          if (!dataTable) return;\n",
              "\n",
              "          const docLinkHtml = 'Like what you see? Visit the ' +\n",
              "            '<a target=\"_blank\" href=https://colab.research.google.com/notebooks/data_table.ipynb>data table notebook</a>'\n",
              "            + ' to learn more about interactive tables.';\n",
              "          element.innerHTML = '';\n",
              "          dataTable['output_type'] = 'display_data';\n",
              "          await google.colab.output.renderOutput(dataTable, element);\n",
              "          const docLink = document.createElement('div');\n",
              "          docLink.innerHTML = docLinkHtml;\n",
              "          element.appendChild(docLink);\n",
              "        }\n",
              "      </script>\n",
              "    </div>\n",
              "  </div>\n",
              "  "
            ]
          },
          "metadata": {},
          "execution_count": 51
        }
      ],
      "source": [
        "hdfs_train.head()"
      ]
    },
    {
      "cell_type": "code",
      "execution_count": null,
      "metadata": {
        "id": "ggf0msF3LapY"
      },
      "outputs": [],
      "source": [
        "LABELS = ['Normal', 'Abnormal']"
      ]
    },
    {
      "cell_type": "code",
      "execution_count": null,
      "metadata": {
        "colab": {
          "base_uri": "https://localhost:8080/",
          "height": 607
        },
        "id": "i4J3n780LufV",
        "outputId": "aa83cada-3702-4440-8bd7-5cf55c3dfee6"
      },
      "outputs": [
        {
          "output_type": "display_data",
          "data": {
            "text/plain": [
              "<Figure size 1440x720 with 1 Axes>"
            ],
            "image/png": "[encoded data removed]"
          },
          "metadata": {
            "needs_background": "light"
          }
        }
      ],
      "source": [
        "utils.plot_data(hdfs_train, LABELS, \"Datos disponibles\")"
      ]
    },
    {
      "cell_type": "markdown",
      "metadata": {
        "id": "stsh7DznLufW"
      },
      "source": [
        "### Análisis de secuencias"
      ]
    },
    {
      "cell_type": "code",
      "execution_count": null,
      "metadata": {
        "id": "OxC6UWE9LufW"
      },
      "outputs": [],
      "source": [
        "#Agregar ploteo de largos de secuencias, distribuciones por simbolo, etc."
      ]
    },
    {
      "cell_type": "code",
      "execution_count": null,
      "metadata": {
        "colab": {
          "base_uri": "https://localhost:8080/"
        },
        "id": "3K7nfmctLufY",
        "outputId": "554c0c4d-1aa4-485f-c8bf-ffaa3647873e"
      },
      "outputs": [
        {
          "output_type": "stream",
          "name": "stderr",
          "text": [
            "/usr/local/lib/python3.8/dist-packages/sklearn/preprocessing/_label.py:98: DataConversionWarning: A column-vector y was passed when a 1d array was expected. Please change the shape of y to (n_samples, ), for example using ravel().\n",
            "  y = column_or_1d(y, warn=True)\n"
          ]
        }
      ],
      "source": [
        "raw_sequences, data_y = utils.load_sequences_and_target(hdfs_train, one_hot=True)"
      ]
    },
    {
      "cell_type": "code",
      "execution_count": null,
      "metadata": {
        "colab": {
          "base_uri": "https://localhost:8080/"
        },
        "id": "-UADGRwMaYeC",
        "outputId": "02ea98aa-2a59-40e0-991f-f5fc7f0957f8"
      },
      "outputs": [
        {
          "output_type": "execute_result",
          "data": {
            "text/plain": [
              "0         1       \n",
              "0.000%    100.000%    374008\n",
              "100.000%  0.000%       11281\n",
              "dtype: int64"
            ]
          },
          "metadata": {},
          "execution_count": 56
        }
      ],
      "source": [
        "data_y.value_counts()"
      ]
    },
    {
      "cell_type": "code",
      "execution_count": null,
      "metadata": {
        "colab": {
          "base_uri": "https://localhost:8080/"
        },
        "id": "I-Q0p2ffLufa",
        "outputId": "503e4a9f-b86c-4166-eb20-d343e74db6d4"
      },
      "outputs": [
        {
          "output_type": "execute_result",
          "data": {
            "text/plain": [
              "1"
            ]
          },
          "metadata": {},
          "execution_count": 57
        }
      ],
      "source": [
        "min([min(s) for s in raw_sequences])"
      ]
    },
    {
      "cell_type": "code",
      "execution_count": null,
      "metadata": {
        "colab": {
          "base_uri": "https://localhost:8080/"
        },
        "id": "KxRfgSmULufb",
        "outputId": "35dd0f5e-3913-40f4-d92e-5139b27018f7"
      },
      "outputs": [
        {
          "output_type": "execute_result",
          "data": {
            "text/plain": [
              "28"
            ]
          },
          "metadata": {},
          "execution_count": 58
        }
      ],
      "source": [
        "max([max(s) for s in raw_sequences])"
      ]
    },
    {
      "cell_type": "code",
      "execution_count": null,
      "metadata": {
        "colab": {
          "base_uri": "https://localhost:8080/"
        },
        "id": "N6fCiLzXLufc",
        "outputId": "5897f732-c8eb-4b0d-ef49-775521b52091"
      },
      "outputs": [
        {
          "output_type": "execute_result",
          "data": {
            "text/plain": [
              "19.0"
            ]
          },
          "metadata": {},
          "execution_count": 59
        }
      ],
      "source": [
        "np.median([len(s) for s in raw_sequences])"
      ]
    },
    {
      "cell_type": "code",
      "execution_count": null,
      "metadata": {
        "id": "7TV8BPzVLapa"
      },
      "outputs": [],
      "source": [
        "# Deberíamos agregar la mean también"
      ]
    },
    {
      "cell_type": "code",
      "execution_count": null,
      "metadata": {
        "colab": {
          "base_uri": "https://localhost:8080/",
          "height": 638
        },
        "id": "m0jJwYfvVps3",
        "outputId": "af0e972c-21ee-4f2e-c305-dc647a4d4d78"
      },
      "outputs": [
        {
          "output_type": "execute_result",
          "data": {
            "text/plain": [
              "[<matplotlib.lines.Line2D at 0x7f6a04d9c100>]"
            ]
          },
          "metadata": {},
          "execution_count": 61
        },
        {
          "output_type": "display_data",
          "data": {
            "text/plain": [
              "<Figure size 1440x720 with 1 Axes>"
            ],
            "image/png": "[encoded data removed]"
          },
          "metadata": {
            "needs_background": "light"
          }
        }
      ],
      "source": [
        "# Esto no tengo ni idea qué es. ¿Qué aporta? ¿Es parte del EDA?\n",
        "# get the cdf values of the len\n",
        "y = np.arange(len([len(s) for s in raw_sequences])) / float(len([len(s) for s in raw_sequences]))\n",
        "\n",
        "#fig size\n",
        "plt.figure(figsize=(20,10)) \n",
        "#labels\n",
        "plt.xlabel('Len raw sequences')\n",
        "plt.ylabel('Distribution')\n",
        "#title\n",
        "plt.title('Cumulative Distribution Function of raw sequences')  \n",
        "#plot \n",
        "plt.plot(np.sort([len(s) for s in raw_sequences]), y, marker='o')"
      ]
    },
    {
      "cell_type": "markdown",
      "metadata": {
        "id": "1Zao1sfPtbpI"
      },
      "source": [
        "# Preprocesamiento de los datos"
      ]
    },
    {
      "cell_type": "markdown",
      "metadata": {
        "id": "kALO2NbALapb"
      },
      "source": [
        "Previo a realizar el preprocesamiento de los datos y el posterior entrenamiento y evaluación se los modelos setearemos la constante\n",
        "_MAX\\_LEN_ en 19. Este valor se obtuvo del largo promedio de las secuencias y en base a experimentación con\n",
        "tamaños maores y menores se pudo ver que 19 ofrecía los mejores resultados."
      ]
    },
    {
      "cell_type": "code",
      "execution_count": null,
      "metadata": {
        "id": "jvgNuWybLapb"
      },
      "outputs": [],
      "source": [
        "MAX_LEN = 19"
      ]
    },
    {
      "cell_type": "markdown",
      "metadata": {
        "id": "xgHGgcpXybsv"
      },
      "source": [
        "## Padding"
      ]
    },
    {
      "cell_type": "code",
      "execution_count": null,
      "metadata": {
        "id": "STkk44KtLufh"
      },
      "outputs": [],
      "source": [
        "padded_sequences = utils.pad_sequences(raw_sequences, MAX_LEN)"
      ]
    },
    {
      "cell_type": "markdown",
      "metadata": {
        "id": "cvvcyBuXtP5O"
      },
      "source": [
        "## Particionamiento"
      ]
    },
    {
      "cell_type": "code",
      "execution_count": null,
      "metadata": {
        "id": "dXOX6eLuLufj"
      },
      "outputs": [],
      "source": [
        "X_train, X_test, X_val, y_train, y_test, y_val = utils.split(padded_sequences, data_y)"
      ]
    },
    {
      "cell_type": "code",
      "execution_count": null,
      "metadata": {
        "colab": {
          "base_uri": "https://localhost:8080/",
          "height": 607
        },
        "id": "HV_e2FLBa_Hw",
        "outputId": "81630ddd-56bb-4132-f9ec-c396119e7cff"
      },
      "outputs": [
        {
          "output_type": "display_data",
          "data": {
            "text/plain": [
              "<Figure size 1440x720 with 1 Axes>"
            ],
            "image/png": "[encoded data removed]"
          },
          "metadata": {
            "needs_background": "light"
          }
        }
      ],
      "source": [
        "utils.plot_data(y_train, LABELS, \"Datos de entrenamiento por clase\", has_class=False)"
      ]
    },
    {
      "cell_type": "markdown",
      "metadata": {
        "id": "90rrw_79MsbM"
      },
      "source": [
        "\n",
        "## Generación de datos con Data Augmentation"
      ]
    },
    {
      "cell_type": "code",
      "execution_count": null,
      "metadata": {
        "id": "whcOuiXoMrFC"
      },
      "outputs": [],
      "source": [
        "X_train_for_aug, dummy_a, dummy_b, dummy_c, dummy_d, dummy_e = utils.split(raw_sequences, data_y)"
      ]
    },
    {
      "cell_type": "code",
      "execution_count": null,
      "metadata": {
        "id": "N-d2dkr5Lp0n"
      },
      "outputs": [],
      "source": [
        "# Fijamos la cantidad de ventanas para el data augmentation\n",
        "WINDOWS = 3"
      ]
    },
    {
      "cell_type": "code",
      "execution_count": null,
      "metadata": {
        "id": "fcowAy5dM2vV"
      },
      "outputs": [],
      "source": [
        "X_train_aug, y_train_aug = utils.sequences_augmentation(X_train_for_aug, y_train, MAX_LEN, WINDOWS)"
      ]
    },
    {
      "cell_type": "code",
      "execution_count": null,
      "metadata": {
        "id": "B9whfbpEe6cB"
      },
      "outputs": [],
      "source": [
        "\"\"\"\n",
        "padding to data augmentation train\n",
        "\"\"\"\n",
        "X_train_aug = utils.pad_sequences(X_train_aug, MAX_LEN)"
      ]
    },
    {
      "cell_type": "code",
      "execution_count": null,
      "metadata": {
        "colab": {
          "base_uri": "https://localhost:8080/",
          "height": 607
        },
        "id": "IcNAq4O_bjk9",
        "outputId": "f9323c7e-6dca-49b3-f4cc-93ff37bd2413"
      },
      "outputs": [
        {
          "output_type": "display_data",
          "data": {
            "text/plain": [
              "<Figure size 1440x720 with 1 Axes>"
            ],
            "image/png": "[encoded data removed]"
          },
          "metadata": {
            "needs_background": "light"
          }
        }
      ],
      "source": [
        "utils.plot_data(y_train_aug, LABELS, \"Datos de entrenamiento luego de Data Augmentation por clase\", has_class=False)"
      ]
    },
    {
      "cell_type": "markdown",
      "metadata": {
        "id": "BQHGdWmIblVc"
      },
      "source": [
        "# Redes Neuronales Recurrentes"
      ]
    },
    {
      "cell_type": "markdown",
      "metadata": {
        "id": "S5yVDCJ-aT1X"
      },
      "source": [
        "## Modelo Inicial"
      ]
    },
    {
      "cell_type": "code",
      "execution_count": null,
      "metadata": {
        "id": "IyfvmijZahXO"
      },
      "outputs": [],
      "source": [
        "vocab_size = max([max(s) for s in raw_sequences]) + 1\n",
        "batch_size = 10\n",
        "epochs = 2\n",
        "patience = 5\n",
        "optimizer = Adam() \n",
        "loss = 'categorical_crossentropy'\n",
        "embedding_size = math.ceil(vocab_size**0.25) "
      ]
    },
    {
      "cell_type": "markdown",
      "metadata": {
        "id": "g4a10vr0hoEy"
      },
      "source": [
        "### Truncating = 'Pre'"
      ]
    },
    {
      "cell_type": "code",
      "execution_count": null,
      "metadata": {
        "colab": {
          "base_uri": "https://localhost:8080/"
        },
        "id": "6OLGsOdzaf0R",
        "outputId": "1c9d1c97-5755-4163-8d48-d23e916478f3"
      },
      "outputs": [
        {
          "output_type": "stream",
          "name": "stdout",
          "text": [
            "Model: \"sequential_3\"\n",
            "_________________________________________________________________\n",
            " Layer (type)                Output Shape              Param #   \n",
            "=================================================================\n",
            " embedding_3 (Embedding)     (None, 19, 3)             90        \n",
            "                                                                 \n",
            " lstm_4 (LSTM)               (None, 64)                17408     \n",
            "                                                                 \n",
            " dense_3 (Dense)             (None, 2)                 130       \n",
            "                                                                 \n",
            "=================================================================\n",
            "Total params: 17,628\n",
            "Trainable params: 17,628\n",
            "Non-trainable params: 0\n",
            "_________________________________________________________________\n"
          ]
        }
      ],
      "source": [
        "initial_model = Sequential()\n",
        "initial_model.add(Embedding(vocab_size+1, embedding_size, input_length=MAX_LEN))\n",
        "initial_model.add(LSTM(64, return_sequences=False))\n",
        "initial_model.add(Dense(2, activation='softmax'))\n",
        "initial_model.compile(loss=loss, optimizer=optimizer, metrics=['accuracy'])\n",
        "initial_model.summary()"
      ]
    },
    {
      "cell_type": "markdown",
      "metadata": {
        "id": "ejiHGPbacrBk"
      },
      "source": [
        "#### Entrenamiento"
      ]
    },
    {
      "cell_type": "code",
      "execution_count": null,
      "metadata": {
        "colab": {
          "base_uri": "https://localhost:8080/"
        },
        "id": "WioIf9ibcL6g",
        "outputId": "7b203881-7afa-4729-9bcb-59060643b394"
      },
      "outputs": [
        {
          "output_type": "stream",
          "name": "stdout",
          "text": [
            "Epoch 1/2\n",
            "26007/26007 [==============================] - 336s 13ms/step - loss: 0.0549 - accuracy: 0.9909 - val_loss: 0.0104 - val_accuracy: 0.9985\n",
            "Epoch 2/2\n",
            "26007/26007 [==============================] - 332s 13ms/step - loss: 0.0153 - accuracy: 0.9981 - val_loss: 0.0101 - val_accuracy: 0.9992\n"
          ]
        }
      ],
      "source": [
        "#se agregó class.weights\n",
        "initial_training, initial_model = utils.train(initial_model,\n",
        "                X_train,\n",
        "                y_train, \n",
        "                batch_size = batch_size,\n",
        "                epochs = epochs,\n",
        "                validation_data_X = X_val, \n",
        "                validation_data_y = y_val,                                \n",
        "                patience = patience,\n",
        "                class_weights = utils.class_weights(hdfs_train,'class'))"
      ]
    },
    {
      "cell_type": "markdown",
      "metadata": {
        "id": "4qso0vHEen_u"
      },
      "source": [
        "#### Evaluación"
      ]
    },
    {
      "cell_type": "code",
      "execution_count": null,
      "metadata": {
        "colab": {
          "base_uri": "https://localhost:8080/",
          "height": 838
        },
        "id": "YVaOvPUreqea",
        "outputId": "91667091-ff20-44d0-9920-89295eece660"
      },
      "outputs": [
        {
          "output_type": "display_data",
          "data": {
            "text/plain": [
              "<Figure size 360x360 with 2 Axes>"
            ],
            "image/png": "[encoded data removed]"
          },
          "metadata": {
            "needs_background": "light"
          }
        },
        {
          "output_type": "stream",
          "name": "stdout",
          "text": [
            "3011/3011 [==============================] - 15s 5ms/step\n"
          ]
        },
        {
          "output_type": "display_data",
          "data": {
            "text/plain": [
              "<Figure size 432x288 with 1 Axes>"
            ],
            "image/png": "[encoded data removed]"
          },
          "metadata": {
            "needs_background": "light"
          }
        },
        {
          "output_type": "stream",
          "name": "stdout",
          "text": [
            "Classification report\n",
            "              precision    recall  f1-score   support\n",
            "\n",
            "    abnormal       0.97      0.99      0.98      2901\n",
            "      normal       1.00      1.00      1.00     93422\n",
            "\n",
            "    accuracy                           1.00     96323\n",
            "   macro avg       0.99      1.00      0.99     96323\n",
            "weighted avg       1.00      1.00      1.00     96323\n",
            "\n",
            "Loss function: 0.011026093736290932, accuracy: 0.9989929795265198\n"
          ]
        }
      ],
      "source": [
        "initialmodel_accuracy, initialmodel_precision, initialmodel_recall, initialmodel_f1 = utils.eval_model(initial_training, initial_model, X_test, y_test)"
      ]
    },
    {
      "cell_type": "markdown",
      "metadata": {
        "id": "YBTb_qv_hyEE"
      },
      "source": [
        "### Truncating = 'Post'"
      ]
    },
    {
      "cell_type": "code",
      "execution_count": null,
      "metadata": {
        "colab": {
          "base_uri": "https://localhost:8080/"
        },
        "id": "8Pmy8m9Ahz1l",
        "outputId": "03b4b5dc-105f-4f0a-c005-1454f63be8f3"
      },
      "outputs": [
        {
          "output_type": "stream",
          "name": "stdout",
          "text": [
            "Model: \"sequential_4\"\n",
            "_________________________________________________________________\n",
            " Layer (type)                Output Shape              Param #   \n",
            "=================================================================\n",
            " embedding_4 (Embedding)     (None, 19, 3)             90        \n",
            "                                                                 \n",
            " lstm_5 (LSTM)               (None, 64)                17408     \n",
            "                                                                 \n",
            " dense_4 (Dense)             (None, 2)                 130       \n",
            "                                                                 \n",
            "=================================================================\n",
            "Total params: 17,628\n",
            "Trainable params: 17,628\n",
            "Non-trainable params: 0\n",
            "_________________________________________________________________\n"
          ]
        }
      ],
      "source": [
        "initial_model_post = Sequential()\n",
        "initial_model_post.add(Embedding(vocab_size+1, embedding_size, input_length=MAX_LEN))\n",
        "initial_model_post.add(LSTM(64, return_sequences=False))\n",
        "initial_model_post.add(Dense(2, activation='softmax'))\n",
        "initial_model_post.compile(loss=loss, optimizer=optimizer, metrics=['accuracy'])\n",
        "initial_model_post.summary()"
      ]
    },
    {
      "cell_type": "markdown",
      "metadata": {
        "id": "9JoqPhm1jXt6"
      },
      "source": [
        "#### Datos con padding al final"
      ]
    },
    {
      "cell_type": "code",
      "execution_count": null,
      "metadata": {
        "id": "_VpkyW5wj3mJ"
      },
      "outputs": [],
      "source": [
        "padded_sequences_post = utils.pad_sequences(raw_sequences, MAX_LEN,truncating='post')"
      ]
    },
    {
      "cell_type": "code",
      "execution_count": null,
      "metadata": {
        "id": "le_uiVo-jc5S"
      },
      "outputs": [],
      "source": [
        "X_train_post, X_test_post, X_val_post, y_train_post, y_test_post, y_val_post = utils.split(padded_sequences_post, data_y)"
      ]
    },
    {
      "cell_type": "markdown",
      "metadata": {
        "id": "teUEp_I5h5JN"
      },
      "source": [
        "#### Entrenamiento"
      ]
    },
    {
      "cell_type": "code",
      "execution_count": null,
      "metadata": {
        "colab": {
          "base_uri": "https://localhost:8080/"
        },
        "id": "8ouqhJ6mh2l1",
        "outputId": "8d215b06-bef5-44ac-e605-136721852a8e"
      },
      "outputs": [
        {
          "output_type": "stream",
          "name": "stdout",
          "text": [
            "Epoch 1/2\n",
            "26007/26007 [==============================] - 322s 12ms/step - loss: 0.2661 - accuracy: 0.9807 - val_loss: 0.1717 - val_accuracy: 0.9909\n",
            "Epoch 2/2\n",
            "26007/26007 [==============================] - 318s 12ms/step - loss: 0.2417 - accuracy: 0.9895 - val_loss: 0.1966 - val_accuracy: 0.9909\n"
          ]
        }
      ],
      "source": [
        "#se agregó class.weights\n",
        "initial_training_post, initial_model_post = utils.train(initial_model_post,\n",
        "                X_train_post,\n",
        "                y_train_post, \n",
        "                batch_size = batch_size,\n",
        "                epochs = epochs,\n",
        "                validation_data_X = X_val_post, \n",
        "                validation_data_y = y_val_post,                                \n",
        "                patience = patience,\n",
        "                class_weights = utils.class_weights(hdfs_train,'class'))"
      ]
    },
    {
      "cell_type": "markdown",
      "metadata": {
        "id": "CAFRn7P6h_uG"
      },
      "source": [
        "#### Evaluación"
      ]
    },
    {
      "cell_type": "code",
      "execution_count": null,
      "metadata": {
        "colab": {
          "base_uri": "https://localhost:8080/",
          "height": 838
        },
        "id": "sNtsd9zth86p",
        "outputId": "2859ee9c-f592-4999-cc8d-4b3088aa3cee"
      },
      "outputs": [
        {
          "output_type": "display_data",
          "data": {
            "text/plain": [
              "<Figure size 360x360 with 2 Axes>"
            ],
            "image/png": "[encoded data removed]"
          },
          "metadata": {
            "needs_background": "light"
          }
        },
        {
          "output_type": "stream",
          "name": "stdout",
          "text": [
            "3011/3011 [==============================] - 14s 5ms/step\n"
          ]
        },
        {
          "output_type": "display_data",
          "data": {
            "text/plain": [
              "<Figure size 432x288 with 1 Axes>"
            ],
            "image/png": "[encoded data removed]"
          },
          "metadata": {
            "needs_background": "light"
          }
        },
        {
          "output_type": "stream",
          "name": "stdout",
          "text": [
            "Classification report\n",
            "              precision    recall  f1-score   support\n",
            "\n",
            "    abnormal       0.89      0.81      0.85      2901\n",
            "      normal       0.99      1.00      1.00     93422\n",
            "\n",
            "    accuracy                           0.99     96323\n",
            "   macro avg       0.94      0.90      0.92     96323\n",
            "weighted avg       0.99      0.99      0.99     96323\n",
            "\n",
            "Loss function: 0.19640564918518066, accuracy: 0.9912170767784119\n"
          ]
        }
      ],
      "source": [
        "initialmodel_post_accuracy, initialmodel_post_precision, initialmodel_post_recall, initialmodel_post_f1 = utils.eval_model(initial_training_post, initial_model_post, X_test_post, y_test_post)"
      ]
    },
    {
      "cell_type": "markdown",
      "metadata": {
        "id": "LSCHOiOpn1DK"
      },
      "source": [
        "### Comentarios padding"
      ]
    },
    {
      "cell_type": "code",
      "execution_count": null,
      "metadata": {
        "id": "Nnp3_OEGraha"
      },
      "outputs": [],
      "source": [
        "pd.options.display.float_format = '{:.3%}'.format\n",
        "data = [['Initial Model Pre Truncating',initialmodel_accuracy, initialmodel_precision, initialmodel_recall, initialmodel_f1], ['Initial Model Post Truncating',initialmodel_post_accuracy, initialmodel_post_precision, initialmodel_post_recall, initialmodel_post_f1]]\n",
        "pd.DataFrame(data, columns=[\"Modelo\", \"Accuracy\", \"Precision\",\"Recall\",\"F1-score\"]).sort_values(by='F1-score', ascending=False)"
      ]
    },
    {
      "cell_type": "markdown",
      "metadata": {
        "id": "oQCtQPD4aaLg"
      },
      "source": [
        "## Modelo Mejorado"
      ]
    },
    {
      "cell_type": "code",
      "execution_count": null,
      "metadata": {
        "id": "09FPLKOcac5X"
      },
      "outputs": [],
      "source": [
        "vocab_size = max([max(s) for s in raw_sequences]) + 1\n",
        "batch_size = 24\n",
        "epochs = 7\n",
        "patience = 5\n",
        "optimizer = Adam() \n",
        "loss = 'categorical_crossentropy'\n",
        "embedding_size = math.ceil(vocab_size**0.25) "
      ]
    },
    {
      "cell_type": "code",
      "execution_count": null,
      "metadata": {
        "colab": {
          "base_uri": "https://localhost:8080/"
        },
        "id": "9NqYUvmaa9ib",
        "outputId": "b68ddae8-a693-4453-aaaa-1ed7027c100c"
      },
      "outputs": [
        {
          "output_type": "stream",
          "name": "stdout",
          "text": [
            "Model: \"sequential_5\"\n",
            "_________________________________________________________________\n",
            " Layer (type)                Output Shape              Param #   \n",
            "=================================================================\n",
            " embedding_5 (Embedding)     (None, 19, 3)             90        \n",
            "                                                                 \n",
            " lstm_6 (LSTM)               (None, 19, 64)            17408     \n",
            "                                                                 \n",
            " lstm_7 (LSTM)               (None, 64)                33024     \n",
            "                                                                 \n",
            " dense_5 (Dense)             (None, 2)                 130       \n",
            "                                                                 \n",
            "=================================================================\n",
            "Total params: 50,652\n",
            "Trainable params: 50,652\n",
            "Non-trainable params: 0\n",
            "_________________________________________________________________\n"
          ]
        }
      ],
      "source": [
        "improved_model = Sequential()\n",
        "improved_model.add(Embedding(vocab_size+1, embedding_size, input_length=MAX_LEN))\n",
        "improved_model.add(LSTM(64, return_sequences=True))\n",
        "improved_model.add(LSTM(64, return_sequences=False))\n",
        "improved_model.add(Dense(2, activation='softmax'))\n",
        "improved_model.compile(loss=loss, optimizer=optimizer, metrics=['accuracy'])\n",
        "improved_model.summary()"
      ]
    },
    {
      "cell_type": "markdown",
      "metadata": {
        "id": "d0My0t2dgpwC"
      },
      "source": [
        "### Entrenamiento"
      ]
    },
    {
      "cell_type": "code",
      "execution_count": null,
      "metadata": {
        "colab": {
          "base_uri": "https://localhost:8080/"
        },
        "id": "6B08Hin7cQj4",
        "outputId": "bd330069-3177-48ba-d6a5-d61d32fe663f"
      },
      "outputs": [
        {
          "output_type": "stream",
          "name": "stdout",
          "text": [
            "Epoch 1/7\n",
            "10837/10837 [==============================] - 283s 26ms/step - loss: 0.0499 - accuracy: 0.9922 - val_loss: 0.0087 - val_accuracy: 0.9989\n",
            "Epoch 2/7\n",
            "10837/10837 [==============================] - 275s 25ms/step - loss: 0.0153 - accuracy: 0.9981 - val_loss: 0.0189 - val_accuracy: 0.9965\n",
            "Epoch 3/7\n",
            "10837/10837 [==============================] - 281s 26ms/step - loss: 0.0192 - accuracy: 0.9969 - val_loss: 0.0054 - val_accuracy: 0.9988\n",
            "Epoch 4/7\n",
            "10837/10837 [==============================] - 272s 25ms/step - loss: 0.0130 - accuracy: 0.9984 - val_loss: 0.0077 - val_accuracy: 0.9988\n",
            "Epoch 5/7\n",
            "10837/10837 [==============================] - 266s 25ms/step - loss: 0.0109 - accuracy: 0.9987 - val_loss: 0.0041 - val_accuracy: 0.9993\n",
            "Epoch 6/7\n",
            "10837/10837 [==============================] - 267s 25ms/step - loss: 0.0097 - accuracy: 0.9989 - val_loss: 0.0067 - val_accuracy: 0.9987\n",
            "Epoch 7/7\n",
            "10837/10837 [==============================] - 267s 25ms/step - loss: 0.0101 - accuracy: 0.9990 - val_loss: 0.0051 - val_accuracy: 0.9989\n"
          ]
        }
      ],
      "source": [
        "#se agregó class.weights\n",
        "improved_training, improved_model = utils.train(improved_model,\n",
        "                X_train,\n",
        "                y_train, \n",
        "                batch_size = batch_size,\n",
        "                epochs = epochs,\n",
        "                validation_data_X = X_val, \n",
        "                validation_data_y = y_val,                                \n",
        "                patience = patience,\n",
        "                class_weights = utils.class_weights(hdfs_train,'class'))"
      ]
    },
    {
      "cell_type": "markdown",
      "metadata": {
        "id": "986p6T3zeeBP"
      },
      "source": [
        "### Evaluación"
      ]
    },
    {
      "cell_type": "code",
      "execution_count": null,
      "metadata": {
        "colab": {
          "base_uri": "https://localhost:8080/",
          "height": 838
        },
        "id": "h6Lrj1DGebOd",
        "outputId": "a11e9997-13bf-450f-d810-1c7843371ee7"
      },
      "outputs": [
        {
          "output_type": "display_data",
          "data": {
            "text/plain": [
              "<Figure size 360x360 with 2 Axes>"
            ],
            "image/png": "[encoded data removed]"
          },
          "metadata": {
            "needs_background": "light"
          }
        },
        {
          "output_type": "stream",
          "name": "stdout",
          "text": [
            "3011/3011 [==============================] - 26s 8ms/step\n"
          ]
        },
        {
          "output_type": "display_data",
          "data": {
            "text/plain": [
              "<Figure size 432x288 with 1 Axes>"
            ],
            "image/png": "[encoded data removed]"
          },
          "metadata": {
            "needs_background": "light"
          }
        },
        {
          "output_type": "stream",
          "name": "stdout",
          "text": [
            "Classification report\n",
            "              precision    recall  f1-score   support\n",
            "\n",
            "    abnormal       0.96      0.99      0.98      2901\n",
            "      normal       1.00      1.00      1.00     93422\n",
            "\n",
            "    accuracy                           1.00     96323\n",
            "   macro avg       0.98      1.00      0.99     96323\n",
            "weighted avg       1.00      1.00      1.00     96323\n",
            "\n",
            "Loss function: 0.005752459168434143, accuracy: 0.9987126588821411\n"
          ]
        }
      ],
      "source": [
        "improved_model_accuracy, improved_model_precision, improved_model_recall, improved_model_f1 = utils.eval_model(improved_training, improved_model, X_test, y_test)"
      ]
    },
    {
      "cell_type": "markdown",
      "metadata": {
        "id": "cmmLNAeGLufi"
      },
      "source": [
        "## Grid Search\n",
        "\n"
      ]
    },
    {
      "cell_type": "code",
      "execution_count": null,
      "metadata": {
        "id": "19ak24O67mgB"
      },
      "outputs": [],
      "source": [
        "vocab_size = 30\n",
        "patience = 5\n",
        "embedding_size=3\n",
        "\n",
        "params = {\n",
        "    \"batch_size\": [16, 32],\n",
        "    \"epochs\": [2, 8, 15],\n",
        "    \"units\": [2,64, 72],\n",
        "    \"vocab_size\": [vocab_size + 1,],\n",
        "    \"embedding_size\": [embedding_size],\n",
        "    \"max_len\": [MAX_LEN,],\n",
        "    \"optimizer\": [\"adam\",],\n",
        "    \"loss\": [\"categorical_crossentropy\",]\n",
        "}"
      ]
    },
    {
      "cell_type": "code",
      "execution_count": null,
      "metadata": {
        "colab": {
          "background_save": true,
          "base_uri": "https://localhost:8080/"
        },
        "id": "M0AXZGdMpTLh",
        "outputId": "c549168e-5037-4c74-f445-ddfd0c74aa98"
      },
      "outputs": [
        {
          "name": "stdout",
          "output_type": "stream",
          "text": [
            "Fitting 5 folds for each of 18 candidates, totalling 90 fits\n"
          ]
        },
        {
          "name": "stderr",
          "output_type": "stream",
          "text": [
            "/usr/local/lib/python3.8/dist-packages/joblib/externals/loky/process_executor.py:700: UserWarning: A worker stopped while some jobs were given to the executor. This can be caused by a too short worker timeout or by a memory leak.\n",
            "  warnings.warn(\n"
          ]
        }
      ],
      "source": [
        "\"\"\"\n",
        "Entrenamiento\n",
        "\"\"\"\n",
        "gs = utils.grid_search(params, utils.build_improved_model, 3)\n",
        "grid_result = gs.fit(X_train, y_train)"
      ]
    },
    {
      "cell_type": "code",
      "source": [
        "best_params = {'batch_size': 32,\n",
        " 'embedding_size': 3,\n",
        " 'epochs': 15,\n",
        " 'loss': 'categorical_crossentropy',\n",
        " 'max_len': 19,\n",
        " 'optimizer': 'adam',\n",
        " 'units': 72,\n",
        " 'vocab_size': 31}"
      ],
      "metadata": {
        "id": "RcbqvA6RTb1s"
      },
      "execution_count": null,
      "outputs": []
    },
    {
      "cell_type": "code",
      "execution_count": null,
      "metadata": {
        "id": "u8rsOI8OTyCg",
        "colab": {
          "base_uri": "https://localhost:8080/"
        },
        "outputId": "3b7de9ab-f3ea-4d9a-ccd4-5937616fe9d2"
      },
      "outputs": [
        {
          "output_type": "execute_result",
          "data": {
            "text/plain": [
              "{'batch_size': 32,\n",
              " 'embedding_size': 3,\n",
              " 'epochs': 15,\n",
              " 'loss': 'categorical_crossentropy',\n",
              " 'max_len': 19,\n",
              " 'optimizer': 'adam',\n",
              " 'units': 72,\n",
              " 'vocab_size': 31}"
            ]
          },
          "metadata": {},
          "execution_count": 85
        }
      ],
      "source": [
        "# grid_result.best_params_ #comentar que tambien se puede obtener el best model que en definitiva es lo mismo que hacemos en Modelo Mejorado\n",
        "best_params"
      ]
    },
    {
      "cell_type": "code",
      "execution_count": null,
      "metadata": {
        "id": "Tt8xXza778Xr"
      },
      "outputs": [],
      "source": [
        "# batch_size = grid_result.best_params_['vocab_size']\n",
        "# epochs = grid_result.best_params_['epochs']\n",
        "# units = grid_result.best_params_['units']\n",
        "# optimizer = Adam() \n",
        "# loss = grid_result.best_params_['loss']\n",
        "\n",
        "batch_size = best_params['vocab_size']\n",
        "epochs = best_params['epochs']\n",
        "units = best_params['units']\n",
        "optimizer = Adam() \n",
        "loss = best_params['loss']"
      ]
    },
    {
      "cell_type": "markdown",
      "metadata": {
        "id": "ADJO-d2CvESK"
      },
      "source": [
        "### Model Mejorado "
      ]
    },
    {
      "cell_type": "code",
      "execution_count": null,
      "metadata": {
        "id": "hRVizv75P9BC",
        "colab": {
          "base_uri": "https://localhost:8080/"
        },
        "outputId": "0481f4ef-066d-4646-b164-0a5e5f2e21db"
      },
      "outputs": [
        {
          "output_type": "stream",
          "name": "stdout",
          "text": [
            "Model: \"sequential_6\"\n",
            "_________________________________________________________________\n",
            " Layer (type)                Output Shape              Param #   \n",
            "=================================================================\n",
            " embedding_6 (Embedding)     (None, 19, 3)             90        \n",
            "                                                                 \n",
            " lstm_8 (LSTM)               (None, 19, 72)            21888     \n",
            "                                                                 \n",
            " lstm_9 (LSTM)               (None, 72)                41760     \n",
            "                                                                 \n",
            " dense_6 (Dense)             (None, 2)                 146       \n",
            "                                                                 \n",
            "=================================================================\n",
            "Total params: 63,884\n",
            "Trainable params: 63,884\n",
            "Non-trainable params: 0\n",
            "_________________________________________________________________\n"
          ]
        }
      ],
      "source": [
        "model = Sequential()\n",
        "model.add(Embedding(vocab_size+1, embedding_size, input_length=MAX_LEN))\n",
        "model.add(LSTM(units, return_sequences=True))\n",
        "model.add(LSTM(units, return_sequences=False))\n",
        "model.add(Dense(2, activation='softmax'))\n",
        "model.compile(loss=loss, optimizer=optimizer, metrics=['accuracy',tf.keras.metrics.Precision(),tf.keras.metrics.Recall()])\n",
        "model.summary()"
      ]
    },
    {
      "cell_type": "markdown",
      "metadata": {
        "id": "Zve-6Z7pcios"
      },
      "source": [
        "#### Entrenamiento"
      ]
    },
    {
      "cell_type": "code",
      "execution_count": null,
      "metadata": {
        "id": "e_S-tD8EyzZI",
        "colab": {
          "base_uri": "https://localhost:8080/"
        },
        "outputId": "750d1651-fb69-46af-f777-6ad145d64fce"
      },
      "outputs": [
        {
          "output_type": "stream",
          "name": "stdout",
          "text": [
            "Epoch 1/15\n",
            "8390/8390 [==============================] - 250s 29ms/step - loss: 0.0477 - accuracy: 0.9921 - precision: 0.9921 - recall: 0.9921 - val_loss: 0.0092 - val_accuracy: 0.9984 - val_precision: 0.9984 - val_recall: 0.9984\n",
            "Epoch 2/15\n",
            "8390/8390 [==============================] - 245s 29ms/step - loss: 0.0174 - accuracy: 0.9968 - precision: 0.9968 - recall: 0.9968 - val_loss: 0.0193 - val_accuracy: 0.9963 - val_precision: 0.9963 - val_recall: 0.9963\n",
            "Epoch 3/15\n",
            "8390/8390 [==============================] - 243s 29ms/step - loss: 0.0195 - accuracy: 0.9969 - precision: 0.9969 - recall: 0.9969 - val_loss: 0.0124 - val_accuracy: 0.9983 - val_precision: 0.9983 - val_recall: 0.9983\n",
            "Epoch 4/15\n",
            "8390/8390 [==============================] - 244s 29ms/step - loss: 0.0132 - accuracy: 0.9980 - precision: 0.9980 - recall: 0.9980 - val_loss: 0.0101 - val_accuracy: 0.9962 - val_precision: 0.9962 - val_recall: 0.9962\n",
            "Epoch 5/15\n",
            "8390/8390 [==============================] - 245s 29ms/step - loss: 0.0103 - accuracy: 0.9985 - precision: 0.9985 - recall: 0.9985 - val_loss: 0.0042 - val_accuracy: 0.9992 - val_precision: 0.9992 - val_recall: 0.9992\n",
            "Epoch 6/15\n",
            "8390/8390 [==============================] - 246s 29ms/step - loss: 0.0103 - accuracy: 0.9987 - precision: 0.9987 - recall: 0.9987 - val_loss: 0.0072 - val_accuracy: 0.9988 - val_precision: 0.9988 - val_recall: 0.9988\n",
            "Epoch 7/15\n",
            "8390/8390 [==============================] - 244s 29ms/step - loss: 0.0089 - accuracy: 0.9988 - precision: 0.9988 - recall: 0.9988 - val_loss: 0.0060 - val_accuracy: 0.9990 - val_precision: 0.9990 - val_recall: 0.9990\n",
            "Epoch 8/15\n",
            "8390/8390 [==============================] - 249s 30ms/step - loss: 0.0090 - accuracy: 0.9988 - precision: 0.9988 - recall: 0.9988 - val_loss: 0.0055 - val_accuracy: 0.9993 - val_precision: 0.9993 - val_recall: 0.9993\n",
            "Epoch 9/15\n",
            "8390/8390 [==============================] - 249s 30ms/step - loss: 0.0083 - accuracy: 0.9989 - precision: 0.9989 - recall: 0.9989 - val_loss: 0.0046 - val_accuracy: 0.9992 - val_precision: 0.9992 - val_recall: 0.9992\n",
            "Epoch 10/15\n",
            "8390/8390 [==============================] - 248s 30ms/step - loss: 0.0089 - accuracy: 0.9986 - precision: 0.9986 - recall: 0.9986 - val_loss: 0.0050 - val_accuracy: 0.9988 - val_precision: 0.9988 - val_recall: 0.9988\n",
            "Epoch 11/15\n",
            "8390/8390 [==============================] - 247s 29ms/step - loss: 0.0088 - accuracy: 0.9989 - precision: 0.9989 - recall: 0.9989 - val_loss: 0.0039 - val_accuracy: 0.9989 - val_precision: 0.9989 - val_recall: 0.9989\n",
            "Epoch 12/15\n",
            "8390/8390 [==============================] - 246s 29ms/step - loss: 0.0083 - accuracy: 0.9989 - precision: 0.9989 - recall: 0.9989 - val_loss: 0.0061 - val_accuracy: 0.9991 - val_precision: 0.9991 - val_recall: 0.9991\n",
            "Epoch 13/15\n",
            "8390/8390 [==============================] - 247s 29ms/step - loss: 0.0083 - accuracy: 0.9989 - precision: 0.9989 - recall: 0.9989 - val_loss: 0.0034 - val_accuracy: 0.9990 - val_precision: 0.9990 - val_recall: 0.9990\n",
            "Epoch 14/15\n",
            "8390/8390 [==============================] - 250s 30ms/step - loss: 0.0075 - accuracy: 0.9990 - precision: 0.9990 - recall: 0.9990 - val_loss: 0.0181 - val_accuracy: 0.9962 - val_precision: 0.9962 - val_recall: 0.9962\n",
            "Epoch 15/15\n",
            "8390/8390 [==============================] - 249s 30ms/step - loss: 0.0085 - accuracy: 0.9987 - precision: 0.9987 - recall: 0.9987 - val_loss: 0.0043 - val_accuracy: 0.9988 - val_precision: 0.9988 - val_recall: 0.9988\n"
          ]
        }
      ],
      "source": [
        "#se agregó class.weights\n",
        "training, model = utils.train(model,\n",
        "                X_train,\n",
        "                y_train, \n",
        "                batch_size = batch_size,\n",
        "                epochs = epochs,\n",
        "                validation_data_X = X_val, \n",
        "                validation_data_y = y_val,                                \n",
        "                patience = patience,\n",
        "                class_weights = utils.class_weights(hdfs_train,'class'))"
      ]
    },
    {
      "cell_type": "markdown",
      "metadata": {
        "id": "u8jMNxJ3zehB"
      },
      "source": [
        "#### Evaluación"
      ]
    },
    {
      "cell_type": "code",
      "execution_count": null,
      "metadata": {
        "id": "k9gXg_A5zgrp",
        "colab": {
          "base_uri": "https://localhost:8080/",
          "height": 838
        },
        "outputId": "808d5378-2e83-4395-b725-096b6d84140f"
      },
      "outputs": [
        {
          "output_type": "display_data",
          "data": {
            "text/plain": [
              "<Figure size 360x360 with 2 Axes>"
            ],
            "image/png": "[encoded data removed]"
          },
          "metadata": {
            "needs_background": "light"
          }
        },
        {
          "output_type": "stream",
          "name": "stdout",
          "text": [
            "3011/3011 [==============================] - 28s 9ms/step\n"
          ]
        },
        {
          "output_type": "display_data",
          "data": {
            "text/plain": [
              "<Figure size 432x288 with 1 Axes>"
            ],
            "image/png": "[encoded data removed]"
          },
          "metadata": {
            "needs_background": "light"
          }
        },
        {
          "output_type": "stream",
          "name": "stdout",
          "text": [
            "Classification report\n",
            "              precision    recall  f1-score   support\n",
            "\n",
            "    abnormal       0.96      0.99      0.98      2901\n",
            "      normal       1.00      1.00      1.00     93422\n",
            "\n",
            "    accuracy                           1.00     96323\n",
            "   macro avg       0.98      1.00      0.99     96323\n",
            "weighted avg       1.00      1.00      1.00     96323\n",
            "\n",
            "Loss function: 0.004199494607746601, accuracy: 0.9987126588821411\n"
          ]
        }
      ],
      "source": [
        "model_accuracy, model_precision, model_recall, model_f1 = utils.eval_model(training, model, X_test, y_test)"
      ]
    },
    {
      "cell_type": "markdown",
      "metadata": {
        "id": "ku-bAnBHyy3C"
      },
      "source": [
        "#### Generación modelo y Salida Kaggle"
      ]
    },
    {
      "cell_type": "code",
      "execution_count": null,
      "metadata": {
        "id": "sHEwCal3yfWk",
        "colab": {
          "base_uri": "https://localhost:8080/"
        },
        "outputId": "11ab4bb6-5351-4e78-a2c3-190010cb6df6"
      },
      "outputs": [
        {
          "output_type": "stream",
          "name": "stdout",
          "text": [
            "5931/5931 [==============================] - 55s 9ms/step\n",
            "Saved model to disk\n"
          ]
        }
      ],
      "source": [
        "name='model'\n",
        "\n",
        "\"\"\"\n",
        "Generate data Kaggle\n",
        "\"\"\"\n",
        "#generate kaggle\n",
        "utils.load_test_sequences_and_generate_prediction_file(model, hdfs_test_kaggle, MAX_LEN, name+'_maxLen'+str(MAX_LEN)+'_batchSize'+str(batch_size)+'_epochs'+str(epochs) )\n",
        "\n",
        "\"\"\"\n",
        "Generate Model\n",
        "\"\"\"\n",
        "# serialize model to JSON\n",
        "model_json = model.to_json()\n",
        "with open(\"outputs/model_\"+name+'_maxLen'+str(MAX_LEN)+'_batchSize'+str(batch_size)+'_epochs'+str(epochs)+'_'+dt.datetime.today().strftime('%Y%m%d_%H%M%S')+\".json\", \"w\") as json_file:\n",
        "  json_file.write(model_json)\n",
        "# serialize weights to HDF5\n",
        "model.save_weights(\"outputs/model_Weigths\"+name+'_maxLen'+str(MAX_LEN)+'_batchSize'+str(batch_size)+'_epochs'+str(epochs)+'_'+dt.datetime.today().strftime('%Y%m%d_%H%M%S')+\".h5\")\n",
        "print(\"Saved model to disk\")"
      ]
    },
    {
      "cell_type": "markdown",
      "metadata": {
        "id": "y0-VGKtjvmZy"
      },
      "source": [
        "### Modelo Mejorado con Batch Normalization"
      ]
    },
    {
      "cell_type": "markdown",
      "source": [
        "Segun Browlee: Batch Normalization (BN) es una técnica para entrenar redes neuronales muy profundas que estandariza las entradas a cada capa para cada mini batch. Esto tiene el efecto de estabilizar el proceso de aprendizaje y reducir drásticamente la cantidad de epochs en train necesarias para entrenar una red.\n",
        "\n",
        "Los beneficios de aplicarla, son:\n",
        "- Entrenamiento más rápido: aunque cada iteración será más lenta debido al cálculo de las normalizaciones aplicadas, se logra una convergencia mucho más rápida y ende, el entrenamiento en términos generales debería de ser más rápido.\n",
        "- Mayor learning rate: el descenso de gradiente, generalmente, requiere pequeñas tasas de aprendizaje para lograr llegar a una convergencia. A medida que las redes se vuelven más profundas, los gradientes se vuelven más pequeños durante la retropropagación y, por lo tanto, requieren aún más iteraciones. El uso de BN permite tasas de aprendizaje mucho más altas, lo que aumenta la velocidad de train.\n",
        "\n",
        "- Inicializar los weights es más fácil: la inicialización de los weights es más difícil a medida que se crean redes más profundas. BN logra reducir la sensibilidad a los pesos iniciales.\n",
        "\n",
        "Además de lo anterior, en algunos casos se logra una mejora en el rendimiento del modelo a través de un modesto efecto de regularización."
      ],
      "metadata": {
        "id": "d3pKONLPDFjJ"
      }
    },
    {
      "cell_type": "code",
      "execution_count": null,
      "metadata": {
        "id": "Tkvaa5sRwL0p",
        "colab": {
          "base_uri": "https://localhost:8080/"
        },
        "outputId": "77923000-c074-4b47-8c27-af0f871f936f"
      },
      "outputs": [
        {
          "output_type": "stream",
          "name": "stdout",
          "text": [
            "Model: \"sequential_7\"\n",
            "_________________________________________________________________\n",
            " Layer (type)                Output Shape              Param #   \n",
            "=================================================================\n",
            " embedding_7 (Embedding)     (None, 19, 3)             90        \n",
            "                                                                 \n",
            " lstm_10 (LSTM)              (None, 19, 72)            21888     \n",
            "                                                                 \n",
            " lstm_11 (LSTM)              (None, 72)                41760     \n",
            "                                                                 \n",
            " batch_normalization (BatchN  (None, 72)               288       \n",
            " ormalization)                                                   \n",
            "                                                                 \n",
            " dense_7 (Dense)             (None, 2)                 146       \n",
            "                                                                 \n",
            "=================================================================\n",
            "Total params: 64,172\n",
            "Trainable params: 64,028\n",
            "Non-trainable params: 144\n",
            "_________________________________________________________________\n"
          ]
        }
      ],
      "source": [
        "modelBN = Sequential()\n",
        "modelBN.add(Embedding(vocab_size+1, embedding_size, input_length=MAX_LEN))\n",
        "modelBN.add(LSTM(units, return_sequences=True))\n",
        "modelBN.add(LSTM(units, return_sequences=False))\n",
        "modelBN.add(BatchNormalization())\n",
        "modelBN.add(Dense(2, activation='softmax'))\n",
        "modelBN.compile(loss=loss, optimizer=optimizer, metrics=['accuracy',tf.keras.metrics.Precision(),tf.keras.metrics.Recall()])\n",
        "modelBN.summary()"
      ]
    },
    {
      "cell_type": "markdown",
      "source": [
        "La implementación en Keras de BN consiste solo en agregar una layer en nuestro modelo y con esto, aplicamos una transformación que mantiene la salida media cercana a 0 y la desviación estándar de salida cercana a 1.\n",
        "\n",
        "En nuestro y tal como se sugiere en el [paper original](https://arxiv.org/pdf/1502.03167.pdf), agregamos la layer de BN previo a la función de activación. Pero, tal como sugiere Brownlee hay algunos [experimentos](https://github.com/ducha-aiki/caffenet-benchmark/blob/master/batchnorm.md) que demuestran una mejor performance aplicándola luego de la función de activación. Nos quedó pendiente realizar el testeo en nuestro caso para determinar cual nos es más conveniente."
      ],
      "metadata": {
        "id": "kJFNPwxOHQy3"
      }
    },
    {
      "cell_type": "markdown",
      "metadata": {
        "id": "UVsoksYzy8GL"
      },
      "source": [
        "#### Entrenamiento"
      ]
    },
    {
      "cell_type": "code",
      "execution_count": null,
      "metadata": {
        "id": "yGXGITxyy-PA",
        "colab": {
          "base_uri": "https://localhost:8080/"
        },
        "outputId": "92b07e71-92cd-4ad3-c043-847a2b5ee85b"
      },
      "outputs": [
        {
          "output_type": "stream",
          "name": "stdout",
          "text": [
            "Epoch 1/15\n",
            "8390/8390 [==============================] - 256s 30ms/step - loss: 0.0334 - accuracy: 0.9944 - precision_1: 0.9944 - recall_1: 0.9944 - val_loss: 0.0583 - val_accuracy: 0.9989 - val_precision_1: 0.9989 - val_recall_1: 0.9989\n",
            "Epoch 2/15\n",
            "8390/8390 [==============================] - 250s 30ms/step - loss: 0.0175 - accuracy: 0.9979 - precision_1: 0.9979 - recall_1: 0.9979 - val_loss: 0.0055 - val_accuracy: 0.9993 - val_precision_1: 0.9993 - val_recall_1: 0.9993\n",
            "Epoch 3/15\n",
            "8390/8390 [==============================] - 252s 30ms/step - loss: 0.0162 - accuracy: 0.9983 - precision_1: 0.9983 - recall_1: 0.9983 - val_loss: 0.0104 - val_accuracy: 0.9989 - val_precision_1: 0.9989 - val_recall_1: 0.9989\n",
            "Epoch 4/15\n",
            "8390/8390 [==============================] - 252s 30ms/step - loss: 0.0138 - accuracy: 0.9984 - precision_1: 0.9984 - recall_1: 0.9984 - val_loss: 0.0160 - val_accuracy: 0.9989 - val_precision_1: 0.9989 - val_recall_1: 0.9989\n",
            "Epoch 5/15\n",
            "8390/8390 [==============================] - 252s 30ms/step - loss: 0.0134 - accuracy: 0.9986 - precision_1: 0.9986 - recall_1: 0.9986 - val_loss: 0.0064 - val_accuracy: 0.9990 - val_precision_1: 0.9990 - val_recall_1: 0.9990\n",
            "Epoch 6/15\n",
            "8390/8390 [==============================] - 252s 30ms/step - loss: 0.0121 - accuracy: 0.9986 - precision_1: 0.9986 - recall_1: 0.9986 - val_loss: 0.0148 - val_accuracy: 0.9985 - val_precision_1: 0.9985 - val_recall_1: 0.9985\n",
            "Epoch 7/15\n",
            "8390/8390 [==============================] - 252s 30ms/step - loss: 0.0110 - accuracy: 0.9986 - precision_1: 0.9986 - recall_1: 0.9986 - val_loss: 0.0069 - val_accuracy: 0.9988 - val_precision_1: 0.9988 - val_recall_1: 0.9988\n",
            "Epoch 8/15\n",
            "8390/8390 [==============================] - 254s 30ms/step - loss: 0.0105 - accuracy: 0.9988 - precision_1: 0.9988 - recall_1: 0.9988 - val_loss: 1.2736 - val_accuracy: 0.2049 - val_precision_1: 0.2049 - val_recall_1: 0.2049\n",
            "Epoch 9/15\n",
            "8390/8390 [==============================] - 254s 30ms/step - loss: 0.0105 - accuracy: 0.9987 - precision_1: 0.9987 - recall_1: 0.9987 - val_loss: 0.0056 - val_accuracy: 0.9993 - val_precision_1: 0.9993 - val_recall_1: 0.9993\n",
            "Epoch 10/15\n",
            "8390/8390 [==============================] - 252s 30ms/step - loss: 0.0101 - accuracy: 0.9988 - precision_1: 0.9988 - recall_1: 0.9988 - val_loss: 0.0152 - val_accuracy: 0.9989 - val_precision_1: 0.9989 - val_recall_1: 0.9989\n",
            "Epoch 11/15\n",
            "8390/8390 [==============================] - 251s 30ms/step - loss: 0.0100 - accuracy: 0.9989 - precision_1: 0.9989 - recall_1: 0.9989 - val_loss: 0.0093 - val_accuracy: 0.9989 - val_precision_1: 0.9989 - val_recall_1: 0.9989\n",
            "Epoch 12/15\n",
            "8390/8390 [==============================] - 250s 30ms/step - loss: 0.0098 - accuracy: 0.9989 - precision_1: 0.9989 - recall_1: 0.9989 - val_loss: 0.0435 - val_accuracy: 0.9966 - val_precision_1: 0.9966 - val_recall_1: 0.9966\n",
            "Epoch 13/15\n",
            "8390/8390 [==============================] - 252s 30ms/step - loss: 0.0092 - accuracy: 0.9990 - precision_1: 0.9990 - recall_1: 0.9990 - val_loss: 0.0079 - val_accuracy: 0.9988 - val_precision_1: 0.9988 - val_recall_1: 0.9988\n",
            "Epoch 14/15\n",
            "8390/8390 [==============================] - 252s 30ms/step - loss: 0.0090 - accuracy: 0.9989 - precision_1: 0.9989 - recall_1: 0.9989 - val_loss: 0.0069 - val_accuracy: 0.9989 - val_precision_1: 0.9989 - val_recall_1: 0.9989\n",
            "Epoch 15/15\n",
            "8390/8390 [==============================] - 252s 30ms/step - loss: 0.0086 - accuracy: 0.9988 - precision_1: 0.9988 - recall_1: 0.9988 - val_loss: 0.0062 - val_accuracy: 0.9989 - val_precision_1: 0.9989 - val_recall_1: 0.9989\n"
          ]
        }
      ],
      "source": [
        "#se agregó class.weights\n",
        "trainingBN, modelBN = utils.train(modelBN,\n",
        "                X_train,\n",
        "                y_train, \n",
        "                batch_size = batch_size,\n",
        "                epochs = epochs,\n",
        "                validation_data_X = X_val, \n",
        "                validation_data_y = y_val,                                \n",
        "                patience = patience,\n",
        "                class_weights = utils.class_weights(hdfs_train,'class'))"
      ]
    },
    {
      "cell_type": "markdown",
      "metadata": {
        "id": "HJOugunezMBL"
      },
      "source": [
        "#### Evaluación"
      ]
    },
    {
      "cell_type": "code",
      "execution_count": null,
      "metadata": {
        "id": "tNpnWLAEzPHN",
        "colab": {
          "base_uri": "https://localhost:8080/",
          "height": 838
        },
        "outputId": "1c5d9cc3-f32e-4728-d10a-a62e90c1f079"
      },
      "outputs": [
        {
          "output_type": "display_data",
          "data": {
            "text/plain": [
              "<Figure size 360x360 with 2 Axes>"
            ],
            "image/png": "[encoded data removed]"
          },
          "metadata": {
            "needs_background": "light"
          }
        },
        {
          "output_type": "stream",
          "name": "stdout",
          "text": [
            "3011/3011 [==============================] - 29s 9ms/step\n"
          ]
        },
        {
          "output_type": "display_data",
          "data": {
            "text/plain": [
              "<Figure size 432x288 with 1 Axes>"
            ],
            "image/png": "[encoded data removed]"
          },
          "metadata": {
            "needs_background": "light"
          }
        },
        {
          "output_type": "stream",
          "name": "stdout",
          "text": [
            "Classification report\n",
            "              precision    recall  f1-score   support\n",
            "\n",
            "    abnormal       0.96      0.99      0.98      2901\n",
            "      normal       1.00      1.00      1.00     93422\n",
            "\n",
            "    accuracy                           1.00     96323\n",
            "   macro avg       0.98      1.00      0.99     96323\n",
            "weighted avg       1.00      1.00      1.00     96323\n",
            "\n",
            "Loss function: 0.00670540239661932, accuracy: 0.9986919164657593\n"
          ]
        }
      ],
      "source": [
        "modelBN_accuracy, modelBN_precision, modelBN_recall, modelBN_f1 = utils.eval_model(trainingBN, modelBN, X_test, y_test)"
      ]
    },
    {
      "cell_type": "markdown",
      "metadata": {
        "id": "MaySRDssyxdo"
      },
      "source": [
        "#### Generación modelo y Salida Kaggle"
      ]
    },
    {
      "cell_type": "code",
      "execution_count": null,
      "metadata": {
        "id": "M9ZdvKvyyaOg",
        "colab": {
          "base_uri": "https://localhost:8080/"
        },
        "outputId": "7c230dbf-71c3-4d71-c259-5bc29024cac0"
      },
      "outputs": [
        {
          "output_type": "stream",
          "name": "stdout",
          "text": [
            "5931/5931 [==============================] - 55s 9ms/step\n",
            "Saved model to disk\n"
          ]
        }
      ],
      "source": [
        "name='ModelWithBN'\n",
        "\n",
        "\"\"\"\n",
        "Generate data Kaggle\n",
        "\"\"\"\n",
        "#generate kaggle\n",
        "utils.load_test_sequences_and_generate_prediction_file(modelBN, hdfs_test_kaggle, MAX_LEN, name+'_maxLen'+str(MAX_LEN)+'_batchSize'+str(batch_size)+'_epochs'+str(epochs) )\n",
        "\n",
        "\"\"\"\n",
        "Generate Model\n",
        "\"\"\"\n",
        "# serialize model to JSON\n",
        "model_json = modelBN.to_json()\n",
        "with open(\"outputs/model_\"+name+'_maxLen'+str(MAX_LEN)+'_batchSize'+str(batch_size)+'_epochs'+str(epochs)+'_'+dt.datetime.today().strftime('%Y%m%d_%H%M%S')+\".json\", \"w\") as json_file:\n",
        "  json_file.write(model_json)\n",
        "# serialize weights to HDF5\n",
        "modelBN.save_weights(\"outputs/model_Weigths\"+name+'_maxLen'+str(MAX_LEN)+'_batchSize'+str(batch_size)+'_epochs'+str(epochs)+'_'+dt.datetime.today().strftime('%Y%m%d_%H%M%S')+\".h5\")\n",
        "print(\"Saved model to disk\")"
      ]
    },
    {
      "cell_type": "markdown",
      "metadata": {
        "id": "BMDITbd1th35"
      },
      "source": [
        "### Modelo Mejorado con Gradient Clipping\n"
      ]
    },
    {
      "cell_type": "code",
      "execution_count": null,
      "metadata": {
        "id": "acS1nYp7tj_4"
      },
      "outputs": [],
      "source": [
        "optimizer = Adam(clipvalue=0.5) #para agregar clip value clipvalue=0.5"
      ]
    },
    {
      "cell_type": "code",
      "execution_count": null,
      "metadata": {
        "id": "PsuT-Q6Luf-0",
        "colab": {
          "base_uri": "https://localhost:8080/"
        },
        "outputId": "f600a285-840a-426a-ff91-23d837789e85"
      },
      "outputs": [
        {
          "output_type": "stream",
          "name": "stdout",
          "text": [
            "Model: \"sequential_8\"\n",
            "_________________________________________________________________\n",
            " Layer (type)                Output Shape              Param #   \n",
            "=================================================================\n",
            " embedding_8 (Embedding)     (None, 19, 3)             90        \n",
            "                                                                 \n",
            " lstm_12 (LSTM)              (None, 19, 72)            21888     \n",
            "                                                                 \n",
            " lstm_13 (LSTM)              (None, 72)                41760     \n",
            "                                                                 \n",
            " dense_8 (Dense)             (None, 2)                 146       \n",
            "                                                                 \n",
            "=================================================================\n",
            "Total params: 63,884\n",
            "Trainable params: 63,884\n",
            "Non-trainable params: 0\n",
            "_________________________________________________________________\n"
          ]
        }
      ],
      "source": [
        "modelGC = Sequential()\n",
        "modelGC.add(Embedding(vocab_size+1, embedding_size, input_length=MAX_LEN))\n",
        "modelGC.add(LSTM(units, return_sequences=True))\n",
        "modelGC.add(LSTM(units, return_sequences=False))\n",
        "modelGC.add(Dense(2, activation='softmax'))\n",
        "modelGC.compile(loss=loss, optimizer=optimizer, metrics=['accuracy',tf.keras.metrics.Precision(),tf.keras.metrics.Recall()])\n",
        "modelGC.summary()"
      ]
    },
    {
      "cell_type": "markdown",
      "metadata": {
        "id": "UDV9Xkn9uJ-F"
      },
      "source": [
        "#### Entrenamiento"
      ]
    },
    {
      "cell_type": "code",
      "execution_count": null,
      "metadata": {
        "id": "ES5o-WICuTT-",
        "colab": {
          "base_uri": "https://localhost:8080/"
        },
        "outputId": "e5da8d26-44de-4457-9d9e-f7b92b809f9b"
      },
      "outputs": [
        {
          "output_type": "stream",
          "name": "stdout",
          "text": [
            "Epoch 1/15\n",
            "8390/8390 [==============================] - 251s 29ms/step - loss: 0.0736 - accuracy: 0.9892 - precision_2: 0.9892 - recall_2: 0.9892 - val_loss: 0.0095 - val_accuracy: 0.9987 - val_precision_2: 0.9987 - val_recall_2: 0.9987\n",
            "Epoch 2/15\n",
            "8390/8390 [==============================] - 247s 29ms/step - loss: 0.0183 - accuracy: 0.9979 - precision_2: 0.9979 - recall_2: 0.9979 - val_loss: 0.0149 - val_accuracy: 0.9985 - val_precision_2: 0.9985 - val_recall_2: 0.9985\n",
            "Epoch 3/15\n",
            "8390/8390 [==============================] - 250s 30ms/step - loss: 0.0184 - accuracy: 0.9981 - precision_2: 0.9981 - recall_2: 0.9981 - val_loss: 0.0050 - val_accuracy: 0.9988 - val_precision_2: 0.9988 - val_recall_2: 0.9988\n",
            "Epoch 4/15\n",
            "8390/8390 [==============================] - 249s 30ms/step - loss: 0.0121 - accuracy: 0.9988 - precision_2: 0.9988 - recall_2: 0.9988 - val_loss: 0.0093 - val_accuracy: 0.9979 - val_precision_2: 0.9979 - val_recall_2: 0.9979\n",
            "Epoch 5/15\n",
            "8390/8390 [==============================] - 251s 30ms/step - loss: 0.0098 - accuracy: 0.9989 - precision_2: 0.9989 - recall_2: 0.9989 - val_loss: 0.0047 - val_accuracy: 0.9993 - val_precision_2: 0.9993 - val_recall_2: 0.9993\n",
            "Epoch 6/15\n",
            "8390/8390 [==============================] - 265s 32ms/step - loss: 0.0094 - accuracy: 0.9989 - precision_2: 0.9989 - recall_2: 0.9989 - val_loss: 0.0059 - val_accuracy: 0.9993 - val_precision_2: 0.9993 - val_recall_2: 0.9993\n",
            "Epoch 7/15\n",
            "8390/8390 [==============================] - 276s 33ms/step - loss: 0.0084 - accuracy: 0.9990 - precision_2: 0.9990 - recall_2: 0.9990 - val_loss: 0.0053 - val_accuracy: 0.9993 - val_precision_2: 0.9993 - val_recall_2: 0.9993\n",
            "Epoch 8/15\n",
            "8390/8390 [==============================] - 277s 33ms/step - loss: 0.0080 - accuracy: 0.9991 - precision_2: 0.9991 - recall_2: 0.9991 - val_loss: 0.0048 - val_accuracy: 0.9993 - val_precision_2: 0.9993 - val_recall_2: 0.9993\n",
            "Epoch 9/15\n",
            "8390/8390 [==============================] - 263s 31ms/step - loss: 0.0080 - accuracy: 0.9991 - precision_2: 0.9991 - recall_2: 0.9991 - val_loss: 0.0042 - val_accuracy: 0.9993 - val_precision_2: 0.9993 - val_recall_2: 0.9993\n",
            "Epoch 10/15\n",
            "8390/8390 [==============================] - 262s 31ms/step - loss: 0.0081 - accuracy: 0.9991 - precision_2: 0.9991 - recall_2: 0.9991 - val_loss: 0.0066 - val_accuracy: 0.9993 - val_precision_2: 0.9993 - val_recall_2: 0.9993\n",
            "Epoch 11/15\n",
            "8390/8390 [==============================] - 261s 31ms/step - loss: 0.0074 - accuracy: 0.9992 - precision_2: 0.9992 - recall_2: 0.9992 - val_loss: 0.0051 - val_accuracy: 0.9989 - val_precision_2: 0.9989 - val_recall_2: 0.9989\n",
            "Epoch 12/15\n",
            "8390/8390 [==============================] - 262s 31ms/step - loss: 0.0072 - accuracy: 0.9991 - precision_2: 0.9991 - recall_2: 0.9991 - val_loss: 0.0062 - val_accuracy: 0.9993 - val_precision_2: 0.9993 - val_recall_2: 0.9993\n",
            "Epoch 13/15\n",
            "8390/8390 [==============================] - 278s 33ms/step - loss: 0.0073 - accuracy: 0.9993 - precision_2: 0.9993 - recall_2: 0.9993 - val_loss: 0.0032 - val_accuracy: 0.9994 - val_precision_2: 0.9994 - val_recall_2: 0.9994\n",
            "Epoch 14/15\n",
            "8390/8390 [==============================] - 272s 32ms/step - loss: 0.0071 - accuracy: 0.9992 - precision_2: 0.9992 - recall_2: 0.9992 - val_loss: 0.0049 - val_accuracy: 0.9992 - val_precision_2: 0.9992 - val_recall_2: 0.9992\n",
            "Epoch 15/15\n",
            "8390/8390 [==============================] - 278s 33ms/step - loss: 0.0077 - accuracy: 0.9994 - precision_2: 0.9994 - recall_2: 0.9994 - val_loss: 0.0037 - val_accuracy: 0.9989 - val_precision_2: 0.9989 - val_recall_2: 0.9989\n"
          ]
        }
      ],
      "source": [
        "#se agregó class.weights\n",
        "trainingGC, modelGC = utils.train(modelGC,\n",
        "                X_train,\n",
        "                y_train, \n",
        "                batch_size = batch_size,\n",
        "                epochs = epochs,\n",
        "                validation_data_X = X_val, \n",
        "                validation_data_y = y_val,                                \n",
        "                patience = patience,\n",
        "                class_weights = utils.class_weights(hdfs_train,'class'))"
      ]
    },
    {
      "cell_type": "markdown",
      "metadata": {
        "id": "_T7ut3fwuL4C"
      },
      "source": [
        "#### Evaluación"
      ]
    },
    {
      "cell_type": "code",
      "execution_count": null,
      "metadata": {
        "id": "3c6Anzblvqku",
        "colab": {
          "base_uri": "https://localhost:8080/",
          "height": 838
        },
        "outputId": "fc96e29b-8c76-46f8-a223-2e0f8b439bae"
      },
      "outputs": [
        {
          "output_type": "display_data",
          "data": {
            "text/plain": [
              "<Figure size 360x360 with 2 Axes>"
            ],
            "image/png": "[encoded data removed]"
          },
          "metadata": {
            "needs_background": "light"
          }
        },
        {
          "output_type": "stream",
          "name": "stdout",
          "text": [
            "3011/3011 [==============================] - 34s 11ms/step\n"
          ]
        },
        {
          "output_type": "display_data",
          "data": {
            "text/plain": [
              "<Figure size 432x288 with 1 Axes>"
            ],
            "image/png": "[encoded data removed]"
          },
          "metadata": {
            "needs_background": "light"
          }
        },
        {
          "output_type": "stream",
          "name": "stdout",
          "text": [
            "Classification report\n",
            "              precision    recall  f1-score   support\n",
            "\n",
            "    abnormal       0.96      0.99      0.98      2901\n",
            "      normal       1.00      1.00      1.00     93422\n",
            "\n",
            "    accuracy                           1.00     96323\n",
            "   macro avg       0.98      1.00      0.99     96323\n",
            "weighted avg       1.00      1.00      1.00     96323\n",
            "\n",
            "Loss function: 0.004157017916440964, accuracy: 0.9986607432365417\n"
          ]
        }
      ],
      "source": [
        "modelGC_accuracy, modelGC_precision, modelGC_recall, modelGC_f1 = utils.eval_model(trainingGC, modelGC, X_test, y_test)"
      ]
    },
    {
      "cell_type": "markdown",
      "metadata": {
        "id": "L0Z5ogu9uO_H"
      },
      "source": [
        "#### Generación modelo y Salida Kaggle"
      ]
    },
    {
      "cell_type": "code",
      "execution_count": null,
      "metadata": {
        "id": "ezIHobguvx6R",
        "colab": {
          "base_uri": "https://localhost:8080/"
        },
        "outputId": "e6c758e6-b5d4-4683-f1b3-2a70fde4970b"
      },
      "outputs": [
        {
          "output_type": "stream",
          "name": "stdout",
          "text": [
            "5931/5931 [==============================] - 57s 10ms/step\n",
            "Saved model to disk\n"
          ]
        }
      ],
      "source": [
        "name='ModelWithGC'\n",
        "\n",
        "\"\"\"\n",
        "Generate data Kaggle\n",
        "\"\"\"\n",
        "#generate kaggle\n",
        "utils.load_test_sequences_and_generate_prediction_file(modelGC, hdfs_test_kaggle, MAX_LEN, name+'_maxLen'+str(MAX_LEN)+'_batchSize'+str(batch_size)+'_epochs'+str(epochs) )\n",
        "\n",
        "\"\"\"\n",
        "Generate Model\n",
        "\"\"\"\n",
        "# serialize model to JSON\n",
        "model_json = modelGC.to_json()\n",
        "with open(\"outputs/model_\"+name+'_maxLen'+str(MAX_LEN)+'_batchSize'+str(batch_size)+'_epochs'+str(epochs)+'_'+dt.datetime.today().strftime('%Y%m%d_%H%M%S')+\".json\", \"w\") as json_file:\n",
        "  json_file.write(model_json)\n",
        "# serialize weights to HDF5\n",
        "modelGC.save_weights(\"outputs/model_Weigths\"+name+'_maxLen'+str(MAX_LEN)+'_batchSize'+str(batch_size)+'_epochs'+str(epochs)+'_'+dt.datetime.today().strftime('%Y%m%d_%H%M%S')+\".h5\")\n",
        "print(\"Saved model to disk\")\n"
      ]
    },
    {
      "cell_type": "markdown",
      "metadata": {
        "id": "KExkov0evvyO"
      },
      "source": [
        "### Modelo Mejorado con Gradient *Normalization*\n",
        "\n",
        "\n"
      ]
    },
    {
      "cell_type": "code",
      "execution_count": null,
      "metadata": {
        "id": "9BZB6uzNvzg2"
      },
      "outputs": [],
      "source": [
        "optimizer = Adam(clipnorm=1.) #para agregar clip value clipvalue=0.5"
      ]
    },
    {
      "cell_type": "code",
      "execution_count": null,
      "metadata": {
        "id": "Ox-Qar9UwLBu",
        "colab": {
          "base_uri": "https://localhost:8080/"
        },
        "outputId": "56a191ce-a497-41de-faff-df27baa4a7fe"
      },
      "outputs": [
        {
          "output_type": "stream",
          "name": "stdout",
          "text": [
            "Model: \"sequential_9\"\n",
            "_________________________________________________________________\n",
            " Layer (type)                Output Shape              Param #   \n",
            "=================================================================\n",
            " embedding_9 (Embedding)     (None, 19, 3)             90        \n",
            "                                                                 \n",
            " lstm_14 (LSTM)              (None, 19, 72)            21888     \n",
            "                                                                 \n",
            " lstm_15 (LSTM)              (None, 72)                41760     \n",
            "                                                                 \n",
            " dense_9 (Dense)             (None, 2)                 146       \n",
            "                                                                 \n",
            "=================================================================\n",
            "Total params: 63,884\n",
            "Trainable params: 63,884\n",
            "Non-trainable params: 0\n",
            "_________________________________________________________________\n"
          ]
        }
      ],
      "source": [
        "modelGN = Sequential()\n",
        "modelGN.add(Embedding(vocab_size+1, embedding_size, input_length=MAX_LEN))\n",
        "modelGN.add(LSTM(units, return_sequences=True))\n",
        "modelGN.add(LSTM(units, return_sequences=False))\n",
        "modelGN.add(Dense(2, activation='softmax'))\n",
        "modelGN.compile(loss=loss, optimizer=optimizer, metrics=['accuracy',tf.keras.metrics.Precision(),tf.keras.metrics.Recall()])\n",
        "modelGN.summary()"
      ]
    },
    {
      "cell_type": "markdown",
      "metadata": {
        "id": "XT1YJ4SMy_99"
      },
      "source": [
        "#### Entrenamiento"
      ]
    },
    {
      "cell_type": "code",
      "execution_count": null,
      "metadata": {
        "id": "_pGKzdnnzFTr",
        "colab": {
          "base_uri": "https://localhost:8080/"
        },
        "outputId": "a46c884b-79f6-4501-9b77-56dbd1abdeca"
      },
      "outputs": [
        {
          "output_type": "stream",
          "name": "stdout",
          "text": [
            "Epoch 1/15\n",
            "8390/8390 [==============================] - 255s 30ms/step - loss: 0.1446 - accuracy: 0.9840 - precision_3: 0.9840 - recall_3: 0.9840 - val_loss: 0.0132 - val_accuracy: 0.9983 - val_precision_3: 0.9983 - val_recall_3: 0.9983\n",
            "Epoch 2/15\n",
            "8390/8390 [==============================] - 251s 30ms/step - loss: 0.0270 - accuracy: 0.9985 - precision_3: 0.9985 - recall_3: 0.9985 - val_loss: 0.0153 - val_accuracy: 0.9988 - val_precision_3: 0.9988 - val_recall_3: 0.9988\n",
            "Epoch 3/15\n",
            "8390/8390 [==============================] - 250s 30ms/step - loss: 0.0205 - accuracy: 0.9987 - precision_3: 0.9987 - recall_3: 0.9987 - val_loss: 0.0081 - val_accuracy: 0.9988 - val_precision_3: 0.9988 - val_recall_3: 0.9988\n",
            "Epoch 4/15\n",
            "8390/8390 [==============================] - 251s 30ms/step - loss: 0.0170 - accuracy: 0.9988 - precision_3: 0.9988 - recall_3: 0.9988 - val_loss: 0.0069 - val_accuracy: 0.9988 - val_precision_3: 0.9988 - val_recall_3: 0.9988\n",
            "Epoch 5/15\n",
            "8390/8390 [==============================] - 255s 30ms/step - loss: 0.0132 - accuracy: 0.9989 - precision_3: 0.9989 - recall_3: 0.9989 - val_loss: 0.0036 - val_accuracy: 0.9996 - val_precision_3: 0.9996 - val_recall_3: 0.9996\n",
            "Epoch 6/15\n",
            "8390/8390 [==============================] - 258s 31ms/step - loss: 0.0121 - accuracy: 0.9991 - precision_3: 0.9991 - recall_3: 0.9991 - val_loss: 0.0067 - val_accuracy: 0.9991 - val_precision_3: 0.9991 - val_recall_3: 0.9991\n",
            "Epoch 7/15\n",
            "8390/8390 [==============================] - 256s 31ms/step - loss: 0.0105 - accuracy: 0.9990 - precision_3: 0.9990 - recall_3: 0.9990 - val_loss: 0.0062 - val_accuracy: 0.9993 - val_precision_3: 0.9993 - val_recall_3: 0.9993\n",
            "Epoch 8/15\n",
            "8390/8390 [==============================] - 256s 30ms/step - loss: 0.0104 - accuracy: 0.9990 - precision_3: 0.9990 - recall_3: 0.9990 - val_loss: 0.0040 - val_accuracy: 0.9994 - val_precision_3: 0.9994 - val_recall_3: 0.9994\n",
            "Epoch 9/15\n",
            "8390/8390 [==============================] - 258s 31ms/step - loss: 0.0093 - accuracy: 0.9991 - precision_3: 0.9991 - recall_3: 0.9991 - val_loss: 0.0036 - val_accuracy: 0.9993 - val_precision_3: 0.9993 - val_recall_3: 0.9993\n",
            "Epoch 10/15\n",
            "8390/8390 [==============================] - 260s 31ms/step - loss: 0.0111 - accuracy: 0.9990 - precision_3: 0.9990 - recall_3: 0.9990 - val_loss: 0.0075 - val_accuracy: 0.9988 - val_precision_3: 0.9988 - val_recall_3: 0.9988\n",
            "Epoch 11/15\n",
            "8390/8390 [==============================] - 258s 31ms/step - loss: 0.0091 - accuracy: 0.9991 - precision_3: 0.9991 - recall_3: 0.9991 - val_loss: 0.0042 - val_accuracy: 0.9990 - val_precision_3: 0.9990 - val_recall_3: 0.9990\n",
            "Epoch 12/15\n",
            "8390/8390 [==============================] - 261s 31ms/step - loss: 0.0082 - accuracy: 0.9989 - precision_3: 0.9989 - recall_3: 0.9989 - val_loss: 0.0059 - val_accuracy: 0.9993 - val_precision_3: 0.9993 - val_recall_3: 0.9993\n",
            "Epoch 13/15\n",
            "8390/8390 [==============================] - 260s 31ms/step - loss: 0.0082 - accuracy: 0.9993 - precision_3: 0.9993 - recall_3: 0.9993 - val_loss: 0.0037 - val_accuracy: 0.9989 - val_precision_3: 0.9989 - val_recall_3: 0.9989\n",
            "Epoch 14/15\n",
            "8390/8390 [==============================] - 261s 31ms/step - loss: 0.0081 - accuracy: 0.9991 - precision_3: 0.9991 - recall_3: 0.9991 - val_loss: 0.0040 - val_accuracy: 0.9993 - val_precision_3: 0.9993 - val_recall_3: 0.9993\n",
            "Epoch 15/15\n",
            "8390/8390 [==============================] - 259s 31ms/step - loss: 0.0085 - accuracy: 0.9993 - precision_3: 0.9993 - recall_3: 0.9993 - val_loss: 0.0039 - val_accuracy: 0.9990 - val_precision_3: 0.9990 - val_recall_3: 0.9990\n"
          ]
        }
      ],
      "source": [
        "#se agregó class.weights\n",
        "trainingGN, modelGN = utils.train(modelGN,\n",
        "                X_train,\n",
        "                y_train, \n",
        "                batch_size = batch_size,\n",
        "                epochs = epochs,\n",
        "                validation_data_X = X_val, \n",
        "                validation_data_y = y_val,                                \n",
        "                patience = patience,\n",
        "                class_weights = utils.class_weights(hdfs_train,'class'))"
      ]
    },
    {
      "cell_type": "markdown",
      "metadata": {
        "id": "VaK5JqSAzUfx"
      },
      "source": [
        "#### Evaluación"
      ]
    },
    {
      "cell_type": "code",
      "execution_count": null,
      "metadata": {
        "id": "gnZO4elgzZQo",
        "colab": {
          "base_uri": "https://localhost:8080/",
          "height": 838
        },
        "outputId": "771aa696-81de-437f-a5df-96e84020c0df"
      },
      "outputs": [
        {
          "output_type": "display_data",
          "data": {
            "text/plain": [
              "<Figure size 360x360 with 2 Axes>"
            ],
            "image/png": "[encoded data removed]"
          },
          "metadata": {
            "needs_background": "light"
          }
        },
        {
          "output_type": "stream",
          "name": "stdout",
          "text": [
            "3011/3011 [==============================] - 30s 10ms/step\n"
          ]
        },
        {
          "output_type": "display_data",
          "data": {
            "text/plain": [
              "<Figure size 432x288 with 1 Axes>"
            ],
            "image/png": "[encoded data removed]"
          },
          "metadata": {
            "needs_background": "light"
          }
        },
        {
          "output_type": "stream",
          "name": "stdout",
          "text": [
            "Classification report\n",
            "              precision    recall  f1-score   support\n",
            "\n",
            "    abnormal       0.97      0.99      0.98      2901\n",
            "      normal       1.00      1.00      1.00     93422\n",
            "\n",
            "    accuracy                           1.00     96323\n",
            "   macro avg       0.99      1.00      0.99     96323\n",
            "weighted avg       1.00      1.00      1.00     96323\n",
            "\n",
            "Loss function: 0.003814506810158491, accuracy: 0.9989306926727295\n"
          ]
        }
      ],
      "source": [
        "modelGN_accuracy, modelGN_precision, modelGN_recall, modelGN_f1 = utils.eval_model(trainingGN, modelGN, X_test, y_test)"
      ]
    },
    {
      "cell_type": "markdown",
      "metadata": {
        "id": "oRxM9wbpywCg"
      },
      "source": [
        "####Generación modelo y Salida Kaggle"
      ]
    },
    {
      "cell_type": "code",
      "execution_count": null,
      "metadata": {
        "id": "NGHxtm-nx5dr",
        "colab": {
          "base_uri": "https://localhost:8080/"
        },
        "outputId": "7a6a942e-22f7-46eb-df47-2229c015fcc5"
      },
      "outputs": [
        {
          "output_type": "stream",
          "name": "stdout",
          "text": [
            "5931/5931 [==============================] - 59s 10ms/step\n",
            "Saved model to disk\n"
          ]
        }
      ],
      "source": [
        "name='ModelWithGN'\n",
        "\n",
        "\"\"\"\n",
        "Generate data Kaggle\n",
        "\"\"\"\n",
        "#generate kaggle\n",
        "utils.load_test_sequences_and_generate_prediction_file(modelGN, hdfs_test_kaggle, MAX_LEN, name+'_maxLen'+str(MAX_LEN)+'_batchSize'+str(batch_size)+'_epochs'+str(epochs) )\n",
        "\n",
        "\"\"\"\n",
        "Generate Model\n",
        "\"\"\"\n",
        "# serialize model to JSON\n",
        "model_json = modelGN.to_json()\n",
        "with open(\"outputs/model_\"+name+'_maxLen'+str(MAX_LEN)+'_batchSize'+str(batch_size)+'_epochs'+str(epochs)+'_'+dt.datetime.today().strftime('%Y%m%d_%H%M%S')+\".json\", \"w\") as json_file:\n",
        "  json_file.write(model_json)\n",
        "# serialize weights to HDF5\n",
        "modelGN.save_weights(\"outputs/model_Weigths\"+name+'_maxLen'+str(MAX_LEN)+'_batchSize'+str(batch_size)+'_epochs'+str(epochs)+'_'+dt.datetime.today().strftime('%Y%m%d_%H%M%S')+\".h5\")\n",
        "print(\"Saved model to disk\")\n"
      ]
    },
    {
      "cell_type": "markdown",
      "metadata": {
        "id": "XF-SekK0vQJM"
      },
      "source": [
        "### Modelo Mejorado con Batch Normalization y Gradient Normalization"
      ]
    },
    {
      "cell_type": "code",
      "execution_count": null,
      "metadata": {
        "id": "0CqjJVXdLufm",
        "colab": {
          "base_uri": "https://localhost:8080/"
        },
        "outputId": "5f7b1fc9-5dac-4f27-c355-3179f7da3765"
      },
      "outputs": [
        {
          "output_type": "stream",
          "name": "stdout",
          "text": [
            "Model: \"sequential_10\"\n",
            "_________________________________________________________________\n",
            " Layer (type)                Output Shape              Param #   \n",
            "=================================================================\n",
            " embedding_10 (Embedding)    (None, 19, 3)             90        \n",
            "                                                                 \n",
            " lstm_16 (LSTM)              (None, 19, 72)            21888     \n",
            "                                                                 \n",
            " lstm_17 (LSTM)              (None, 72)                41760     \n",
            "                                                                 \n",
            " batch_normalization_1 (Batc  (None, 72)               288       \n",
            " hNormalization)                                                 \n",
            "                                                                 \n",
            " dense_10 (Dense)            (None, 2)                 146       \n",
            "                                                                 \n",
            "=================================================================\n",
            "Total params: 64,172\n",
            "Trainable params: 64,028\n",
            "Non-trainable params: 144\n",
            "_________________________________________________________________\n"
          ]
        }
      ],
      "source": [
        "modelGN_BN = Sequential()\n",
        "modelGN_BN.add(Embedding(vocab_size+1, embedding_size, input_length=MAX_LEN))\n",
        "modelGN_BN.add(LSTM(units, return_sequences=True))\n",
        "modelGN_BN.add(LSTM(units, return_sequences=False))\n",
        "modelGN_BN.add(BatchNormalization())\n",
        "modelGN_BN.add(Dense(2, activation='softmax'))\n",
        "modelGN_BN.compile(loss=loss, optimizer=optimizer, metrics=['accuracy',tf.keras.metrics.Precision(),tf.keras.metrics.Recall()])\n",
        "modelGN_BN.summary()"
      ]
    },
    {
      "cell_type": "markdown",
      "metadata": {
        "id": "weaHMbBAzoqD"
      },
      "source": [
        "#### Entrenamiento"
      ]
    },
    {
      "cell_type": "code",
      "execution_count": null,
      "metadata": {
        "id": "KoKoxraqzpFy",
        "colab": {
          "base_uri": "https://localhost:8080/"
        },
        "outputId": "c384e15c-e26f-47c9-cc69-0d15988126be"
      },
      "outputs": [
        {
          "output_type": "stream",
          "name": "stdout",
          "text": [
            "Epoch 1/15\n",
            "8390/8390 [==============================] - 267s 31ms/step - loss: 0.0372 - accuracy: 0.9978 - precision_4: 0.9978 - recall_4: 0.9978 - val_loss: 4.6612 - val_accuracy: 0.0304 - val_precision_4: 0.0304 - val_recall_4: 0.0304\n",
            "Epoch 2/15\n",
            "8390/8390 [==============================] - 258s 31ms/step - loss: 0.0249 - accuracy: 0.9991 - precision_4: 0.9991 - recall_4: 0.9991 - val_loss: 0.0048 - val_accuracy: 0.9992 - val_precision_4: 0.9992 - val_recall_4: 0.9992\n",
            "Epoch 3/15\n",
            "8390/8390 [==============================] - 261s 31ms/step - loss: 0.0239 - accuracy: 0.9990 - precision_4: 0.9990 - recall_4: 0.9990 - val_loss: 16.1115 - val_accuracy: 0.0277 - val_precision_4: 0.0277 - val_recall_4: 0.0277\n",
            "Epoch 4/15\n",
            "8390/8390 [==============================] - 260s 31ms/step - loss: 0.0271 - accuracy: 0.9992 - precision_4: 0.9992 - recall_4: 0.9992 - val_loss: 2.9665 - val_accuracy: 0.0302 - val_precision_4: 0.0302 - val_recall_4: 0.0302\n",
            "Epoch 5/15\n",
            "8390/8390 [==============================] - 259s 31ms/step - loss: 0.0239 - accuracy: 0.9992 - precision_4: 0.9992 - recall_4: 0.9992 - val_loss: 0.0053 - val_accuracy: 0.9993 - val_precision_4: 0.9993 - val_recall_4: 0.9993\n",
            "Epoch 6/15\n",
            "8390/8390 [==============================] - 260s 31ms/step - loss: 0.0231 - accuracy: 0.9992 - precision_4: 0.9992 - recall_4: 0.9992 - val_loss: 0.0225 - val_accuracy: 0.9992 - val_precision_4: 0.9992 - val_recall_4: 0.9992\n",
            "Epoch 7/15\n",
            "8390/8390 [==============================] - 259s 31ms/step - loss: 0.0207 - accuracy: 0.9992 - precision_4: 0.9992 - recall_4: 0.9992 - val_loss: 0.0068 - val_accuracy: 0.9993 - val_precision_4: 0.9993 - val_recall_4: 0.9993\n",
            "Epoch 8/15\n",
            "8390/8390 [==============================] - 259s 31ms/step - loss: 0.0206 - accuracy: 0.9992 - precision_4: 0.9992 - recall_4: 0.9992 - val_loss: 10.9248 - val_accuracy: 0.0275 - val_precision_4: 0.0275 - val_recall_4: 0.0275\n",
            "Epoch 9/15\n",
            "8390/8390 [==============================] - 261s 31ms/step - loss: 0.0206 - accuracy: 0.9992 - precision_4: 0.9992 - recall_4: 0.9992 - val_loss: 0.0053 - val_accuracy: 0.9993 - val_precision_4: 0.9993 - val_recall_4: 0.9993\n",
            "Epoch 10/15\n",
            "8390/8390 [==============================] - 260s 31ms/step - loss: 0.0195 - accuracy: 0.9992 - precision_4: 0.9992 - recall_4: 0.9992 - val_loss: 0.0044 - val_accuracy: 0.9993 - val_precision_4: 0.9993 - val_recall_4: 0.9993\n",
            "Epoch 11/15\n",
            "8390/8390 [==============================] - 258s 31ms/step - loss: 0.0202 - accuracy: 0.9993 - precision_4: 0.9993 - recall_4: 0.9993 - val_loss: 0.0055 - val_accuracy: 0.9993 - val_precision_4: 0.9993 - val_recall_4: 0.9993\n",
            "Epoch 12/15\n",
            "8390/8390 [==============================] - 259s 31ms/step - loss: 0.0188 - accuracy: 0.9992 - precision_4: 0.9992 - recall_4: 0.9992 - val_loss: 0.0045 - val_accuracy: 0.9990 - val_precision_4: 0.9990 - val_recall_4: 0.9990\n",
            "Epoch 13/15\n",
            "8390/8390 [==============================] - 254s 30ms/step - loss: 0.0174 - accuracy: 0.9992 - precision_4: 0.9992 - recall_4: 0.9992 - val_loss: 0.0077 - val_accuracy: 0.9969 - val_precision_4: 0.9969 - val_recall_4: 0.9969\n",
            "Epoch 14/15\n",
            "8390/8390 [==============================] - 257s 31ms/step - loss: 0.0186 - accuracy: 0.9993 - precision_4: 0.9993 - recall_4: 0.9993 - val_loss: 0.0047 - val_accuracy: 0.9993 - val_precision_4: 0.9993 - val_recall_4: 0.9993\n",
            "Epoch 15/15\n",
            "8390/8390 [==============================] - 258s 31ms/step - loss: 0.0174 - accuracy: 0.9992 - precision_4: 0.9992 - recall_4: 0.9992 - val_loss: 0.0075 - val_accuracy: 0.9978 - val_precision_4: 0.9978 - val_recall_4: 0.9978\n"
          ]
        }
      ],
      "source": [
        "#se agregó class.weights\n",
        "trainingGN_BN, modelGN_BN = utils.train(modelGN_BN,\n",
        "                X_train,\n",
        "                y_train, \n",
        "                batch_size = batch_size,\n",
        "                epochs = epochs,\n",
        "                validation_data_X = X_val, \n",
        "                validation_data_y = y_val,                                \n",
        "                patience = patience,\n",
        "                class_weights = utils.class_weights(hdfs_train,'class'))"
      ]
    },
    {
      "cell_type": "markdown",
      "metadata": {
        "id": "sYaONMdvzWUp"
      },
      "source": [
        "#### Evaluación"
      ]
    },
    {
      "cell_type": "code",
      "execution_count": null,
      "metadata": {
        "id": "jZ0bbNNzzXFP",
        "colab": {
          "base_uri": "https://localhost:8080/",
          "height": 838
        },
        "outputId": "88ecc8db-a4d3-4fce-f8b0-9ee938481642"
      },
      "outputs": [
        {
          "output_type": "display_data",
          "data": {
            "text/plain": [
              "<Figure size 360x360 with 2 Axes>"
            ],
            "image/png": "[encoded data removed]"
          },
          "metadata": {
            "needs_background": "light"
          }
        },
        {
          "output_type": "stream",
          "name": "stdout",
          "text": [
            "3011/3011 [==============================] - 29s 9ms/step\n"
          ]
        },
        {
          "output_type": "display_data",
          "data": {
            "text/plain": [
              "<Figure size 432x288 with 1 Axes>"
            ],
            "image/png": "[encoded data removed]"
          },
          "metadata": {
            "needs_background": "light"
          }
        },
        {
          "output_type": "stream",
          "name": "stdout",
          "text": [
            "Classification report\n",
            "              precision    recall  f1-score   support\n",
            "\n",
            "    abnormal       0.99      0.93      0.96      2901\n",
            "      normal       1.00      1.00      1.00     93422\n",
            "\n",
            "    accuracy                           1.00     96323\n",
            "   macro avg       1.00      0.97      0.98     96323\n",
            "weighted avg       1.00      1.00      1.00     96323\n",
            "\n",
            "Loss function: 0.008764299564063549, accuracy: 0.9978302121162415\n"
          ]
        }
      ],
      "source": [
        "modelGN_BN_accuracy, modelGN_BN_precision, modelGN_BN_recall, modelGN_BN_f1 = utils.eval_model(trainingGN_BN, modelGN_BN, X_test, y_test)"
      ]
    },
    {
      "cell_type": "markdown",
      "metadata": {
        "id": "-cDTnLsaxjyE"
      },
      "source": [
        "#### Generación modelo y Salida Kaggle"
      ]
    },
    {
      "cell_type": "code",
      "execution_count": null,
      "metadata": {
        "id": "QslTNmcixobB",
        "colab": {
          "base_uri": "https://localhost:8080/"
        },
        "outputId": "43b19ade-389e-42a2-b41f-745efdd447c5"
      },
      "outputs": [
        {
          "output_type": "stream",
          "name": "stdout",
          "text": [
            "5931/5931 [==============================] - 56s 9ms/step\n",
            "Saved model to disk\n"
          ]
        }
      ],
      "source": [
        "name='ModelWithGNandBN'\n",
        "\n",
        "\"\"\"\n",
        "Generate data Kaggle\n",
        "\"\"\"\n",
        "\n",
        "utils.load_test_sequences_and_generate_prediction_file(modelGN_BN, hdfs_test_kaggle, MAX_LEN, name+'_maxLen'+str(MAX_LEN)+'_batchSize'+str(batch_size)+'_epochs'+str(epochs) )\n",
        "\n",
        "\"\"\"\n",
        "Generate Model\n",
        "\"\"\"\n",
        "# serialize model to JSON\n",
        "model_json = modelGN_BN.to_json()\n",
        "with open(\"outputs/model_\"+name+'_maxLen'+str(MAX_LEN)+'_batchSize'+str(batch_size)+'_epochs'+str(epochs)+'_'+dt.datetime.today().strftime('%Y%m%d_%H%M%S')+\".json\", \"w\") as json_file:\n",
        "  json_file.write(model_json)\n",
        "# serialize weights to HDF5\n",
        "modelGN_BN.save_weights(\"outputs/model_Weigths\"+name+'_maxLen'+str(MAX_LEN)+'_batchSize'+str(batch_size)+'_epochs'+str(epochs)+'_'+dt.datetime.today().strftime('%Y%m%d_%H%M%S')+\".h5\")\n",
        "print(\"Saved model to disk\")"
      ]
    },
    {
      "cell_type": "markdown",
      "metadata": {
        "id": "abIJFm--rMwZ"
      },
      "source": [
        "### Modelo Mejorado con Data Augmentation"
      ]
    },
    {
      "cell_type": "code",
      "execution_count": null,
      "metadata": {
        "id": "3Zp7UIMUroGg",
        "colab": {
          "base_uri": "https://localhost:8080/"
        },
        "outputId": "d8cac514-e7be-4624-881e-c6ecd5221a72"
      },
      "outputs": [
        {
          "output_type": "stream",
          "name": "stdout",
          "text": [
            "Model: \"sequential_11\"\n",
            "_________________________________________________________________\n",
            " Layer (type)                Output Shape              Param #   \n",
            "=================================================================\n",
            " embedding_11 (Embedding)    (None, 19, 3)             90        \n",
            "                                                                 \n",
            " lstm_18 (LSTM)              (None, 19, 72)            21888     \n",
            "                                                                 \n",
            " lstm_19 (LSTM)              (None, 72)                41760     \n",
            "                                                                 \n",
            " dense_11 (Dense)            (None, 2)                 146       \n",
            "                                                                 \n",
            "=================================================================\n",
            "Total params: 63,884\n",
            "Trainable params: 63,884\n",
            "Non-trainable params: 0\n",
            "_________________________________________________________________\n"
          ]
        }
      ],
      "source": [
        "modelDA = Sequential()\n",
        "modelDA.add(Embedding(vocab_size+1, embedding_size, input_length=MAX_LEN))\n",
        "modelDA.add(LSTM(units, return_sequences=True))\n",
        "modelDA.add(LSTM(units, return_sequences=False))\n",
        "modelDA.add(Dense(2, activation='softmax'))\n",
        "modelDA.compile(loss=loss, optimizer=optimizer, metrics=['accuracy',tf.keras.metrics.Precision(),tf.keras.metrics.Recall()])\n",
        "modelDA.summary()"
      ]
    },
    {
      "cell_type": "markdown",
      "metadata": {
        "id": "4gPfHVc5rVYF"
      },
      "source": [
        "#### Entrenamiento"
      ]
    },
    {
      "cell_type": "code",
      "execution_count": null,
      "metadata": {
        "id": "LpvnDb2rrzRf",
        "colab": {
          "base_uri": "https://localhost:8080/"
        },
        "outputId": "6f98889e-354f-4bec-e7c1-ba61adca29bf"
      },
      "outputs": [
        {
          "output_type": "stream",
          "name": "stdout",
          "text": [
            "Epoch 1/15\n",
            "14850/14850 [==============================] - 445s 30ms/step - loss: 0.2395 - accuracy: 0.9865 - precision_5: 0.9865 - recall_5: 0.9865 - val_loss: 0.1040 - val_accuracy: 0.9992 - val_precision_5: 0.9992 - val_recall_5: 0.9992\n",
            "Epoch 2/15\n",
            "14850/14850 [==============================] - 443s 30ms/step - loss: 0.2089 - accuracy: 0.9935 - precision_5: 0.9935 - recall_5: 0.9935 - val_loss: 0.0997 - val_accuracy: 0.9963 - val_precision_5: 0.9963 - val_recall_5: 0.9963\n",
            "Epoch 3/15\n",
            "14850/14850 [==============================] - 441s 30ms/step - loss: 0.2042 - accuracy: 0.9933 - precision_5: 0.9933 - recall_5: 0.9933 - val_loss: 0.0929 - val_accuracy: 0.9989 - val_precision_5: 0.9989 - val_recall_5: 0.9989\n",
            "Epoch 4/15\n",
            "14850/14850 [==============================] - 439s 30ms/step - loss: 0.2022 - accuracy: 0.9902 - precision_5: 0.9902 - recall_5: 0.9902 - val_loss: 0.0955 - val_accuracy: 0.9988 - val_precision_5: 0.9988 - val_recall_5: 0.9988\n",
            "Epoch 5/15\n",
            "14850/14850 [==============================] - 439s 30ms/step - loss: 0.1989 - accuracy: 0.9916 - precision_5: 0.9916 - recall_5: 0.9916 - val_loss: 0.0908 - val_accuracy: 0.9989 - val_precision_5: 0.9989 - val_recall_5: 0.9989\n",
            "Epoch 6/15\n",
            "14850/14850 [==============================] - 436s 29ms/step - loss: 0.1977 - accuracy: 0.9901 - precision_5: 0.9901 - recall_5: 0.9901 - val_loss: 0.1121 - val_accuracy: 0.9993 - val_precision_5: 0.9993 - val_recall_5: 0.9993\n",
            "Epoch 7/15\n",
            "14850/14850 [==============================] - 440s 30ms/step - loss: 0.1972 - accuracy: 0.9922 - precision_5: 0.9922 - recall_5: 0.9922 - val_loss: 0.0785 - val_accuracy: 0.9989 - val_precision_5: 0.9989 - val_recall_5: 0.9989\n",
            "Epoch 8/15\n",
            "14850/14850 [==============================] - 443s 30ms/step - loss: 0.1966 - accuracy: 0.9911 - precision_5: 0.9911 - recall_5: 0.9911 - val_loss: 0.0734 - val_accuracy: 0.9993 - val_precision_5: 0.9993 - val_recall_5: 0.9993\n",
            "Epoch 9/15\n",
            "14850/14850 [==============================] - 441s 30ms/step - loss: 0.1974 - accuracy: 0.9929 - precision_5: 0.9929 - recall_5: 0.9929 - val_loss: 0.1069 - val_accuracy: 0.9993 - val_precision_5: 0.9993 - val_recall_5: 0.9993\n",
            "Epoch 10/15\n",
            "14850/14850 [==============================] - 441s 30ms/step - loss: 0.1955 - accuracy: 0.9925 - precision_5: 0.9925 - recall_5: 0.9925 - val_loss: 0.1162 - val_accuracy: 0.9991 - val_precision_5: 0.9991 - val_recall_5: 0.9991\n",
            "Epoch 11/15\n",
            "14850/14850 [==============================] - 439s 30ms/step - loss: 0.1960 - accuracy: 0.9932 - precision_5: 0.9932 - recall_5: 0.9932 - val_loss: 0.0798 - val_accuracy: 0.9989 - val_precision_5: 0.9989 - val_recall_5: 0.9989\n",
            "Epoch 12/15\n",
            "14850/14850 [==============================] - 442s 30ms/step - loss: 0.1950 - accuracy: 0.9923 - precision_5: 0.9923 - recall_5: 0.9923 - val_loss: 0.1083 - val_accuracy: 0.9993 - val_precision_5: 0.9993 - val_recall_5: 0.9993\n",
            "Epoch 13/15\n",
            "14850/14850 [==============================] - 443s 30ms/step - loss: 0.1938 - accuracy: 0.9932 - precision_5: 0.9932 - recall_5: 0.9932 - val_loss: 0.0750 - val_accuracy: 0.9992 - val_precision_5: 0.9992 - val_recall_5: 0.9992\n",
            "Epoch 14/15\n",
            "14850/14850 [==============================] - 442s 30ms/step - loss: 0.1931 - accuracy: 0.9936 - precision_5: 0.9936 - recall_5: 0.9936 - val_loss: 0.0938 - val_accuracy: 0.9992 - val_precision_5: 0.9992 - val_recall_5: 0.9992\n",
            "Epoch 15/15\n",
            "14850/14850 [==============================] - 440s 30ms/step - loss: 0.1926 - accuracy: 0.9936 - precision_5: 0.9936 - recall_5: 0.9936 - val_loss: 0.0992 - val_accuracy: 0.9991 - val_precision_5: 0.9991 - val_recall_5: 0.9991\n"
          ]
        }
      ],
      "source": [
        "#se agregó class.weights\n",
        "trainingDA, modelDA = utils.train(modelDA,\n",
        "                X_train_aug,\n",
        "                y_train_aug, \n",
        "                batch_size = batch_size,\n",
        "                epochs = epochs,\n",
        "                validation_data_X = X_val, \n",
        "                validation_data_y = y_val,                                \n",
        "                patience = patience,\n",
        "                class_weights = utils.class_weights(hdfs_train,'class'))"
      ]
    },
    {
      "cell_type": "markdown",
      "metadata": {
        "id": "mn-YIJY2rX-a"
      },
      "source": [
        "#### Evaluación"
      ]
    },
    {
      "cell_type": "code",
      "execution_count": null,
      "metadata": {
        "id": "75noSDBfru30",
        "colab": {
          "base_uri": "https://localhost:8080/",
          "height": 838
        },
        "outputId": "8d1c808a-e8da-4c6f-8af5-d004699916bc"
      },
      "outputs": [
        {
          "output_type": "display_data",
          "data": {
            "text/plain": [
              "<Figure size 360x360 with 2 Axes>"
            ],
            "image/png": "[encoded data removed]"
          },
          "metadata": {
            "needs_background": "light"
          }
        },
        {
          "output_type": "stream",
          "name": "stdout",
          "text": [
            "3011/3011 [==============================] - 28s 9ms/step\n"
          ]
        },
        {
          "output_type": "display_data",
          "data": {
            "text/plain": [
              "<Figure size 432x288 with 1 Axes>"
            ],
            "image/png": "[encoded data removed]"
          },
          "metadata": {
            "needs_background": "light"
          }
        },
        {
          "output_type": "stream",
          "name": "stdout",
          "text": [
            "Classification report\n",
            "              precision    recall  f1-score   support\n",
            "\n",
            "    abnormal       0.98      0.99      0.99      2901\n",
            "      normal       1.00      1.00      1.00     93422\n",
            "\n",
            "    accuracy                           1.00     96323\n",
            "   macro avg       0.99      1.00      0.99     96323\n",
            "weighted avg       1.00      1.00      1.00     96323\n",
            "\n",
            "Loss function: 0.0988328605890274, accuracy: 0.9991175532341003\n"
          ]
        }
      ],
      "source": [
        "modelDA_accuracy, modelDA_precision, modelDA_recall, modelDA_f1 = utils.eval_model(trainingDA, modelDA, X_test, y_test)"
      ]
    },
    {
      "cell_type": "markdown",
      "metadata": {
        "id": "F357yN7Ircou"
      },
      "source": [
        "#### Generación modelo y Salida Kaggle"
      ]
    },
    {
      "cell_type": "code",
      "execution_count": null,
      "metadata": {
        "id": "S-cutHTisgMh",
        "colab": {
          "base_uri": "https://localhost:8080/"
        },
        "outputId": "c1d7d33e-3e65-4fc9-f694-8ff5c64e28eb"
      },
      "outputs": [
        {
          "output_type": "stream",
          "name": "stdout",
          "text": [
            "5931/5931 [==============================] - 56s 10ms/step\n",
            "Saved model to disk\n"
          ]
        }
      ],
      "source": [
        "name='ModelWithDataAugmentation'\n",
        "\n",
        "\"\"\"\n",
        "Generate data Kaggle\n",
        "\"\"\"\n",
        "\n",
        "utils.load_test_sequences_and_generate_prediction_file(modelDA, hdfs_test_kaggle, MAX_LEN, name+'_maxLen'+str(MAX_LEN)+'_batchSize'+str(batch_size)+'_epochs'+str(epochs) )\n",
        "\n",
        "\"\"\"\n",
        "Generate Model\n",
        "\"\"\"\n",
        "# serialize model to JSON\n",
        "model_json = modelDA.to_json()\n",
        "with open(\"outputs/model_\"+name+'_maxLen'+str(MAX_LEN)+'_batchSize'+str(batch_size)+'_epochs'+str(epochs)+'_'+dt.datetime.today().strftime('%Y%m%d_%H%M%S')+\".json\", \"w\") as json_file:\n",
        "  json_file.write(model_json)\n",
        "# serialize weights to HDF5\n",
        "modelDA.save_weights(\"outputs/model_Weigths\"+name+'_maxLen'+str(MAX_LEN)+'_batchSize'+str(batch_size)+'_epochs'+str(epochs)+'_'+dt.datetime.today().strftime('%Y%m%d_%H%M%S')+\".h5\")\n",
        "print(\"Saved model to disk\")"
      ]
    },
    {
      "cell_type": "markdown",
      "metadata": {
        "id": "9x4jGC-craoZ"
      },
      "source": [
        "### Modelo Mejorado con Data Augmentation y Gradient Normalization "
      ]
    },
    {
      "cell_type": "code",
      "execution_count": null,
      "metadata": {
        "id": "I1V5Kv-Tnxc1"
      },
      "outputs": [],
      "source": [
        "optimizer = Adam(clipnorm=1.) #para agregar clip value clipvalue=0.5"
      ]
    },
    {
      "cell_type": "code",
      "execution_count": null,
      "metadata": {
        "id": "V2jG01Mcn3HL",
        "colab": {
          "base_uri": "https://localhost:8080/"
        },
        "outputId": "99d506b9-95eb-4b2d-fabd-a35ac708c422"
      },
      "outputs": [
        {
          "output_type": "stream",
          "name": "stdout",
          "text": [
            "Model: \"sequential_12\"\n",
            "_________________________________________________________________\n",
            " Layer (type)                Output Shape              Param #   \n",
            "=================================================================\n",
            " embedding_12 (Embedding)    (None, 19, 3)             90        \n",
            "                                                                 \n",
            " lstm_20 (LSTM)              (None, 19, 72)            21888     \n",
            "                                                                 \n",
            " lstm_21 (LSTM)              (None, 72)                41760     \n",
            "                                                                 \n",
            " dense_12 (Dense)            (None, 2)                 146       \n",
            "                                                                 \n",
            "=================================================================\n",
            "Total params: 63,884\n",
            "Trainable params: 63,884\n",
            "Non-trainable params: 0\n",
            "_________________________________________________________________\n"
          ]
        }
      ],
      "source": [
        "modelGN_DA = Sequential()\n",
        "modelGN_DA.add(Embedding(vocab_size+1, embedding_size, input_length=MAX_LEN)) \n",
        "modelGN_DA.add(LSTM(units, return_sequences=True))\n",
        "modelGN_DA.add(LSTM(units, return_sequences=False))\n",
        "modelGN_DA.add(Dense(2, activation='softmax'))\n",
        "modelGN_DA.compile(loss=loss, optimizer=optimizer, metrics=['accuracy',tf.keras.metrics.Precision(),tf.keras.metrics.Recall()])\n",
        "modelGN_DA.summary()"
      ]
    },
    {
      "cell_type": "markdown",
      "metadata": {
        "id": "-oD1ArUZoCDb"
      },
      "source": [
        "#### Entrenamiento"
      ]
    },
    {
      "cell_type": "code",
      "execution_count": null,
      "metadata": {
        "id": "cvzkU-tFoECM",
        "colab": {
          "base_uri": "https://localhost:8080/"
        },
        "outputId": "e74c6877-4004-4ee5-d65f-5cf3618deb49"
      },
      "outputs": [
        {
          "output_type": "stream",
          "name": "stdout",
          "text": [
            "Epoch 1/15\n",
            "14850/14850 [==============================] - 445s 30ms/step - loss: 0.2466 - accuracy: 0.9869 - precision_6: 0.9869 - recall_6: 0.9869 - val_loss: 0.1060 - val_accuracy: 0.9990 - val_precision_6: 0.9990 - val_recall_6: 0.9990\n",
            "Epoch 2/15\n",
            "14850/14850 [==============================] - 437s 29ms/step - loss: 0.2165 - accuracy: 0.9918 - precision_6: 0.9918 - recall_6: 0.9918 - val_loss: 0.0993 - val_accuracy: 0.9987 - val_precision_6: 0.9987 - val_recall_6: 0.9987\n",
            "Epoch 3/15\n",
            "14850/14850 [==============================] - 444s 30ms/step - loss: 0.2085 - accuracy: 0.9927 - precision_6: 0.9927 - recall_6: 0.9927 - val_loss: 0.0903 - val_accuracy: 0.9987 - val_precision_6: 0.9987 - val_recall_6: 0.9987\n",
            "Epoch 4/15\n",
            "14850/14850 [==============================] - 448s 30ms/step - loss: 0.2018 - accuracy: 0.9917 - precision_6: 0.9917 - recall_6: 0.9917 - val_loss: 0.0907 - val_accuracy: 0.9993 - val_precision_6: 0.9993 - val_recall_6: 0.9993\n",
            "Epoch 5/15\n",
            "14850/14850 [==============================] - 446s 30ms/step - loss: 0.1996 - accuracy: 0.9919 - precision_6: 0.9919 - recall_6: 0.9919 - val_loss: 0.0979 - val_accuracy: 0.9993 - val_precision_6: 0.9993 - val_recall_6: 0.9993\n",
            "Epoch 6/15\n",
            "14850/14850 [==============================] - 444s 30ms/step - loss: 0.1990 - accuracy: 0.9914 - precision_6: 0.9914 - recall_6: 0.9914 - val_loss: 0.0963 - val_accuracy: 0.9993 - val_precision_6: 0.9993 - val_recall_6: 0.9993\n",
            "Epoch 7/15\n",
            "14850/14850 [==============================] - 443s 30ms/step - loss: 0.1975 - accuracy: 0.9912 - precision_6: 0.9912 - recall_6: 0.9912 - val_loss: 0.0877 - val_accuracy: 0.9971 - val_precision_6: 0.9971 - val_recall_6: 0.9971\n",
            "Epoch 8/15\n",
            "14850/14850 [==============================] - 443s 30ms/step - loss: 0.1978 - accuracy: 0.9918 - precision_6: 0.9918 - recall_6: 0.9918 - val_loss: 0.0762 - val_accuracy: 0.9993 - val_precision_6: 0.9993 - val_recall_6: 0.9993\n",
            "Epoch 9/15\n",
            "14850/14850 [==============================] - 443s 30ms/step - loss: 0.1954 - accuracy: 0.9926 - precision_6: 0.9926 - recall_6: 0.9926 - val_loss: 0.1003 - val_accuracy: 0.9993 - val_precision_6: 0.9993 - val_recall_6: 0.9993\n",
            "Epoch 10/15\n",
            "14850/14850 [==============================] - 443s 30ms/step - loss: 0.1955 - accuracy: 0.9922 - precision_6: 0.9922 - recall_6: 0.9922 - val_loss: 0.1043 - val_accuracy: 0.9993 - val_precision_6: 0.9993 - val_recall_6: 0.9993\n",
            "Epoch 11/15\n",
            "14850/14850 [==============================] - 445s 30ms/step - loss: 0.1943 - accuracy: 0.9927 - precision_6: 0.9927 - recall_6: 0.9927 - val_loss: 0.0859 - val_accuracy: 0.9992 - val_precision_6: 0.9992 - val_recall_6: 0.9992\n",
            "Epoch 12/15\n",
            "14850/14850 [==============================] - 443s 30ms/step - loss: 0.1937 - accuracy: 0.9919 - precision_6: 0.9919 - recall_6: 0.9919 - val_loss: 0.1063 - val_accuracy: 0.9992 - val_precision_6: 0.9992 - val_recall_6: 0.9992\n",
            "Epoch 13/15\n",
            "14850/14850 [==============================] - 443s 30ms/step - loss: 0.1931 - accuracy: 0.9928 - precision_6: 0.9928 - recall_6: 0.9928 - val_loss: 0.0611 - val_accuracy: 0.9992 - val_precision_6: 0.9992 - val_recall_6: 0.9992\n",
            "Epoch 14/15\n",
            "14850/14850 [==============================] - 442s 30ms/step - loss: 0.1933 - accuracy: 0.9907 - precision_6: 0.9907 - recall_6: 0.9907 - val_loss: 0.0956 - val_accuracy: 0.9992 - val_precision_6: 0.9992 - val_recall_6: 0.9992\n",
            "Epoch 15/15\n",
            "14850/14850 [==============================] - 441s 30ms/step - loss: 0.1920 - accuracy: 0.9914 - precision_6: 0.9914 - recall_6: 0.9914 - val_loss: 0.0922 - val_accuracy: 0.9992 - val_precision_6: 0.9992 - val_recall_6: 0.9992\n"
          ]
        }
      ],
      "source": [
        "trainingGN_DA, modelGN_DA = utils.train(modelGN_DA,\n",
        "                X_train_aug,\n",
        "                y_train_aug, \n",
        "                batch_size = batch_size,\n",
        "                epochs = epochs,\n",
        "                validation_data_X = X_val, \n",
        "                validation_data_y = y_val,                                \n",
        "                patience = patience,\n",
        "                class_weights = utils.class_weights(hdfs_train,'class'))"
      ]
    },
    {
      "cell_type": "markdown",
      "metadata": {
        "id": "tGebLAdToPej"
      },
      "source": [
        "#### Evaluación"
      ]
    },
    {
      "cell_type": "code",
      "execution_count": null,
      "metadata": {
        "id": "fCSqSovKoWNm",
        "colab": {
          "base_uri": "https://localhost:8080/",
          "height": 838
        },
        "outputId": "cab2a4e0-5a20-4dbd-95bc-aa96725b6e2a"
      },
      "outputs": [
        {
          "output_type": "display_data",
          "data": {
            "text/plain": [
              "<Figure size 360x360 with 2 Axes>"
            ],
            "image/png": "[encoded data removed]"
          },
          "metadata": {
            "needs_background": "light"
          }
        },
        {
          "output_type": "stream",
          "name": "stdout",
          "text": [
            "3011/3011 [==============================] - 28s 9ms/step\n"
          ]
        },
        {
          "output_type": "display_data",
          "data": {
            "text/plain": [
              "<Figure size 432x288 with 1 Axes>"
            ],
            "image/png": "[encoded data removed]"
          },
          "metadata": {
            "needs_background": "light"
          }
        },
        {
          "output_type": "stream",
          "name": "stdout",
          "text": [
            "Classification report\n",
            "              precision    recall  f1-score   support\n",
            "\n",
            "    abnormal       0.98      0.99      0.99      2901\n",
            "      normal       1.00      1.00      1.00     93422\n",
            "\n",
            "    accuracy                           1.00     96323\n",
            "   macro avg       0.99      1.00      0.99     96323\n",
            "weighted avg       1.00      1.00      1.00     96323\n",
            "\n",
            "Loss function: 0.09232813119888306, accuracy: 0.9991382956504822\n"
          ]
        }
      ],
      "source": [
        "modelGN_DA_accuracy, modelGN_DA_precision, modelGN_DA_recall, modelGN_DA_f1 = utils.eval_model(trainingGN_DA, modelGN_DA, X_test, y_test)"
      ]
    },
    {
      "cell_type": "markdown",
      "metadata": {
        "id": "mxwK6gM0oQyY"
      },
      "source": [
        "#### Generación modelo y Salida Kaggle"
      ]
    },
    {
      "cell_type": "code",
      "execution_count": null,
      "metadata": {
        "id": "p23PKPKUoUVe",
        "colab": {
          "base_uri": "https://localhost:8080/"
        },
        "outputId": "e89c60bb-f9db-43b1-944f-37bd4c0b36b4"
      },
      "outputs": [
        {
          "output_type": "stream",
          "name": "stdout",
          "text": [
            "5931/5931 [==============================] - 54s 9ms/step\n",
            "Saved model to disk\n"
          ]
        }
      ],
      "source": [
        "name='ModelWithDataAugmentationAndGradientNormalization'\n",
        "\n",
        "\"\"\"\n",
        "Generate data Kaggle\n",
        "\"\"\"\n",
        "\n",
        "utils.load_test_sequences_and_generate_prediction_file(modelGN_DA, hdfs_test_kaggle, MAX_LEN, name+'_maxLen'+str(MAX_LEN)+'_batchSize'+str(batch_size)+'_epochs'+str(epochs) )\n",
        "\n",
        "\"\"\"\n",
        "Generate Model\n",
        "\"\"\"\n",
        "# serialize model to JSON\n",
        "model_json = modelGN_DA.to_json()\n",
        "with open(\"outputs/model_\"+name+'_maxLen'+str(MAX_LEN)+'_batchSize'+str(batch_size)+'_epochs'+str(epochs)+'_'+dt.datetime.today().strftime('%Y%m%d_%H%M%S')+\".json\", \"w\") as json_file:\n",
        "  json_file.write(model_json)\n",
        "# serialize weights to HDF5\n",
        "modelGN_DA.save_weights(\"outputs/model_Weigths\"+name+'_maxLen'+str(MAX_LEN)+'_batchSize'+str(batch_size)+'_epochs'+str(epochs)+'_'+dt.datetime.today().strftime('%Y%m%d_%H%M%S')+\".h5\")\n",
        "print(\"Saved model to disk\")"
      ]
    },
    {
      "cell_type": "markdown",
      "metadata": {
        "id": "8lXsSd3MLugC"
      },
      "source": [
        "## Conclusiones y reflexiones finales"
      ]
    },
    {
      "cell_type": "markdown",
      "metadata": {
        "id": "5LDaD0UnLapt"
      },
      "source": [
        "## Bibliogafìía y referencias"
      ]
    },
    {
      "cell_type": "code",
      "execution_count": null,
      "metadata": {
        "id": "gevnjEmGLugD",
        "colab": {
          "base_uri": "https://localhost:8080/",
          "height": 332
        },
        "outputId": "11a3d3f1-4b50-4b40-deec-143ca347da5f"
      },
      "outputs": [
        {
          "output_type": "execute_result",
          "data": {
            "text/plain": [
              "                                    Modelo  Accuracy  Precision  Recall  \\\n",
              "8  Improved Model Grid Search with DA & GN   99.914%    98.872% 99.672%   \n",
              "7       Improved Model Grid Search with DA   99.912%    98.870% 99.637%   \n",
              "0                            Initial Model   99.899%    98.688% 99.614%   \n",
              "5       Improved Model Grid Search with GN   99.893%    98.512% 99.694%   \n",
              "2               Improved Model Grid Search   99.871%    98.172% 99.683%   \n",
              "1                           Improved Model   99.871%    98.202% 99.650%   \n",
              "3       Improved Model Grid Search with BN   99.869%    98.140% 99.682%   \n",
              "4       Improved Model Grid Search with GC   99.866%    98.122% 99.647%   \n",
              "6  Improved Model Grid Search with BN & GN   99.783%    99.568% 96.698%   \n",
              "\n",
              "   F1-score  \n",
              "8   99.269%  \n",
              "7   99.251%  \n",
              "0   99.146%  \n",
              "5   99.096%  \n",
              "2   98.915%  \n",
              "1   98.915%  \n",
              "3   98.898%  \n",
              "4   98.872%  \n",
              "6   98.088%  "
            ],
            "text/html": [
              "\n",
              "  <div id=\"df-fa5cb19a-7bf0-45b7-9ada-5f3e96cacc8b\">\n",
              "    <div class=\"colab-df-container\">\n",
              "      <div>\n",
              "<style scoped>\n",
              "    .dataframe tbody tr th:only-of-type {\n",
              "        vertical-align: middle;\n",
              "    }\n",
              "\n",
              "    .dataframe tbody tr th {\n",
              "        vertical-align: top;\n",
              "    }\n",
              "\n",
              "    .dataframe thead th {\n",
              "        text-align: right;\n",
              "    }\n",
              "</style>\n",
              "<table border=\"1\" class=\"dataframe\">\n",
              "  <thead>\n",
              "    <tr style=\"text-align: right;\">\n",
              "      <th></th>\n",
              "      <th>Modelo</th>\n",
              "      <th>Accuracy</th>\n",
              "      <th>Precision</th>\n",
              "      <th>Recall</th>\n",
              "      <th>F1-score</th>\n",
              "    </tr>\n",
              "  </thead>\n",
              "  <tbody>\n",
              "    <tr>\n",
              "      <th>8</th>\n",
              "      <td>Improved Model Grid Search with DA &amp; GN</td>\n",
              "      <td>99.914%</td>\n",
              "      <td>98.872%</td>\n",
              "      <td>99.672%</td>\n",
              "      <td>99.269%</td>\n",
              "    </tr>\n",
              "    <tr>\n",
              "      <th>7</th>\n",
              "      <td>Improved Model Grid Search with DA</td>\n",
              "      <td>99.912%</td>\n",
              "      <td>98.870%</td>\n",
              "      <td>99.637%</td>\n",
              "      <td>99.251%</td>\n",
              "    </tr>\n",
              "    <tr>\n",
              "      <th>0</th>\n",
              "      <td>Initial Model</td>\n",
              "      <td>99.899%</td>\n",
              "      <td>98.688%</td>\n",
              "      <td>99.614%</td>\n",
              "      <td>99.146%</td>\n",
              "    </tr>\n",
              "    <tr>\n",
              "      <th>5</th>\n",
              "      <td>Improved Model Grid Search with GN</td>\n",
              "      <td>99.893%</td>\n",
              "      <td>98.512%</td>\n",
              "      <td>99.694%</td>\n",
              "      <td>99.096%</td>\n",
              "    </tr>\n",
              "    <tr>\n",
              "      <th>2</th>\n",
              "      <td>Improved Model Grid Search</td>\n",
              "      <td>99.871%</td>\n",
              "      <td>98.172%</td>\n",
              "      <td>99.683%</td>\n",
              "      <td>98.915%</td>\n",
              "    </tr>\n",
              "    <tr>\n",
              "      <th>1</th>\n",
              "      <td>Improved Model</td>\n",
              "      <td>99.871%</td>\n",
              "      <td>98.202%</td>\n",
              "      <td>99.650%</td>\n",
              "      <td>98.915%</td>\n",
              "    </tr>\n",
              "    <tr>\n",
              "      <th>3</th>\n",
              "      <td>Improved Model Grid Search with BN</td>\n",
              "      <td>99.869%</td>\n",
              "      <td>98.140%</td>\n",
              "      <td>99.682%</td>\n",
              "      <td>98.898%</td>\n",
              "    </tr>\n",
              "    <tr>\n",
              "      <th>4</th>\n",
              "      <td>Improved Model Grid Search with GC</td>\n",
              "      <td>99.866%</td>\n",
              "      <td>98.122%</td>\n",
              "      <td>99.647%</td>\n",
              "      <td>98.872%</td>\n",
              "    </tr>\n",
              "    <tr>\n",
              "      <th>6</th>\n",
              "      <td>Improved Model Grid Search with BN &amp; GN</td>\n",
              "      <td>99.783%</td>\n",
              "      <td>99.568%</td>\n",
              "      <td>96.698%</td>\n",
              "      <td>98.088%</td>\n",
              "    </tr>\n",
              "  </tbody>\n",
              "</table>\n",
              "</div>\n",
              "      <button class=\"colab-df-convert\" onclick=\"convertToInteractive('df-fa5cb19a-7bf0-45b7-9ada-5f3e96cacc8b')\"\n",
              "              title=\"Convert this dataframe to an interactive table.\"\n",
              "              style=\"display:none;\">\n",
              "        \n",
              "  <svg xmlns=\"http://www.w3.org/2000/svg\" height=\"24px\"viewBox=\"0 0 24 24\"\n",
              "       width=\"24px\">\n",
              "    <path d=\"M0 0h24v24H0V0z\" fill=\"none\"/>\n",
              "    <path d=\"M18.56 5.44l.94 2.06.94-2.06 2.06-.94-2.06-.94-.94-2.06-.94 2.06-2.06.94zm-11 1L8.5 8.5l.94-2.06 2.06-.94-2.06-.94L8.5 2.5l-.94 2.06-2.06.94zm10 10l.94 2.06.94-2.06 2.06-.94-2.06-.94-.94-2.06-.94 2.06-2.06.94z\"/><path d=\"M17.41 7.96l-1.37-1.37c-.4-.4-.92-.59-1.43-.59-.52 0-1.04.2-1.43.59L10.3 9.45l-7.72 7.72c-.78.78-.78 2.05 0 2.83L4 21.41c.39.39.9.59 1.41.59.51 0 1.02-.2 1.41-.59l7.78-7.78 2.81-2.81c.8-.78.8-2.07 0-2.86zM5.41 20L4 18.59l7.72-7.72 1.47 1.35L5.41 20z\"/>\n",
              "  </svg>\n",
              "      </button>\n",
              "      \n",
              "  <style>\n",
              "    .colab-df-container {\n",
              "      display:flex;\n",
              "      flex-wrap:wrap;\n",
              "      gap: 12px;\n",
              "    }\n",
              "\n",
              "    .colab-df-convert {\n",
              "      background-color: #E8F0FE;\n",
              "      border: none;\n",
              "      border-radius: 50%;\n",
              "      cursor: pointer;\n",
              "      display: none;\n",
              "      fill: #1967D2;\n",
              "      height: 32px;\n",
              "      padding: 0 0 0 0;\n",
              "      width: 32px;\n",
              "    }\n",
              "\n",
              "    .colab-df-convert:hover {\n",
              "      background-color: #E2EBFA;\n",
              "      box-shadow: 0px 1px 2px rgba(60, 64, 67, 0.3), 0px 1px 3px 1px rgba(60, 64, 67, 0.15);\n",
              "      fill: #174EA6;\n",
              "    }\n",
              "\n",
              "    [theme=dark] .colab-df-convert {\n",
              "      background-color: #3B4455;\n",
              "      fill: #D2E3FC;\n",
              "    }\n",
              "\n",
              "    [theme=dark] .colab-df-convert:hover {\n",
              "      background-color: #434B5C;\n",
              "      box-shadow: 0px 1px 3px 1px rgba(0, 0, 0, 0.15);\n",
              "      filter: drop-shadow(0px 1px 2px rgba(0, 0, 0, 0.3));\n",
              "      fill: #FFFFFF;\n",
              "    }\n",
              "  </style>\n",
              "\n",
              "      <script>\n",
              "        const buttonEl =\n",
              "          document.querySelector('#df-fa5cb19a-7bf0-45b7-9ada-5f3e96cacc8b button.colab-df-convert');\n",
              "        buttonEl.style.display =\n",
              "          google.colab.kernel.accessAllowed ? 'block' : 'none';\n",
              "\n",
              "        async function convertToInteractive(key) {\n",
              "          const element = document.querySelector('#df-fa5cb19a-7bf0-45b7-9ada-5f3e96cacc8b');\n",
              "          const dataTable =\n",
              "            await google.colab.kernel.invokeFunction('convertToInteractive',\n",
              "                                                     [key], {});\n",
              "          if (!dataTable) return;\n",
              "\n",
              "          const docLinkHtml = 'Like what you see? Visit the ' +\n",
              "            '<a target=\"_blank\" href=https://colab.research.google.com/notebooks/data_table.ipynb>data table notebook</a>'\n",
              "            + ' to learn more about interactive tables.';\n",
              "          element.innerHTML = '';\n",
              "          dataTable['output_type'] = 'display_data';\n",
              "          await google.colab.output.renderOutput(dataTable, element);\n",
              "          const docLink = document.createElement('div');\n",
              "          docLink.innerHTML = docLinkHtml;\n",
              "          element.appendChild(docLink);\n",
              "        }\n",
              "      </script>\n",
              "    </div>\n",
              "  </div>\n",
              "  "
            ]
          },
          "metadata": {},
          "execution_count": 118
        }
      ],
      "source": [
        "pd.options.display.float_format = '{:.3%}'.format\n",
        "data = [['Initial Model',initialmodel_accuracy, initialmodel_precision, initialmodel_recall, initialmodel_f1], ['Improved Model',improved_model_accuracy, improved_model_precision, improved_model_recall, improved_model_f1], ['Improved Model Grid Search',model_accuracy, model_precision, model_recall, model_f1], ['Improved Model Grid Search with BN',modelBN_accuracy, modelBN_precision, modelBN_recall, modelBN_f1], ['Improved Model Grid Search with GC',modelGC_accuracy, modelGC_precision, modelGC_recall, modelGC_f1], ['Improved Model Grid Search with GN',modelGN_accuracy, modelGN_precision, modelGN_recall, modelGN_f1], ['Improved Model Grid Search with BN & GN',modelGN_BN_accuracy, modelGN_BN_precision, modelGN_BN_recall, modelGN_BN_f1], ['Improved Model Grid Search with DA',modelDA_accuracy, modelDA_precision, modelDA_recall, modelDA_f1], ['Improved Model Grid Search with DA & GN',modelGN_DA_accuracy, modelGN_DA_precision, modelGN_DA_recall, modelGN_DA_f1]]\n",
        "pd.DataFrame(data, columns=[\"Modelo\", \"Accuracy\", \"Precision\",\"Recall\",\"F1-score\"]).sort_values(by='F1-score', ascending=False)"
      ]
    }
  ],
  "metadata": {
    "colab": {
      "provenance": [],
      "toc_visible": true
    },
    "interpreter": {
      "hash": "c12d86b63e74ac4f427027e3d58b1fa461278ba669d7be39fd5f25ce787fdf43"
    },
    "kernelspec": {
      "display_name": "Python 3 (ipykernel)",
      "language": "python",
      "name": "python3"
    },
    "language_info": {
      "codemirror_mode": {
        "name": "ipython",
        "version": 3
      },
      "file_extension": ".py",
      "mimetype": "text/x-python",
      "name": "python",
      "nbconvert_exporter": "python",
      "pygments_lexer": "ipython3",
      "version": "3.7.12"
    }
  },
  "nbformat": 4,
  "nbformat_minor": 0
}