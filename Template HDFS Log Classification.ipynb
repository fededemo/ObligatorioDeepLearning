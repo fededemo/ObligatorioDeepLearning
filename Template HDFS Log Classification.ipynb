{
 "cells": [
  {
   "cell_type": "markdown",
   "metadata": {
    "id": "6OFm1E4ALuev"
   },
   "source": [
    "# Obligatorio de Deep Learning: Detección de actividad anormal en logs de HDFS"
   ]
  },
  {
   "cell_type": "markdown",
   "metadata": {
    "collapsed": false
   },
   "source": [
    "Federico De León  \n",
    "Daniel Dominitz  \n",
    "Juan Emilio Gabito (138616)"
   ]
  },
  {
   "cell_type": "markdown",
   "metadata": {
    "id": "SoMkgREvLue_"
   },
   "source": [
    "## 1. Setup"
   ]
  },
  {
   "cell_type": "markdown",
   "metadata": {
    "id": "1GewshNtLufB"
   },
   "source": [
    "### Imports"
   ]
  },
  {
   "cell_type": "code",
   "execution_count": 1,
   "metadata": {
    "colab": {
     "base_uri": "https://localhost:8080/"
    },
    "executionInfo": {
     "elapsed": 26463,
     "status": "ok",
     "timestamp": 1669590180464,
     "user": {
      "displayName": "Federico de Leon",
      "userId": "01045121239102538016"
     },
     "user_tz": 180
    },
    "id": "8-yEMLaWNgaf",
    "outputId": "a4560553-1db2-4da0-92c2-d1bde96703bc"
   },
   "outputs": [
    {
     "name": "stdout",
     "output_type": "stream",
     "text": [
      "Mounted at /content/drive\n"
     ]
    }
   ],
   "source": [
    "# Si estamos en Colab setemos Drive como FS\n",
    "from google.colab import drive\n",
    "drive.mount('/content/drive')"
   ]
  },
  {
   "cell_type": "code",
   "execution_count": 2,
   "metadata": {
    "executionInfo": {
     "elapsed": 463,
     "status": "ok",
     "timestamp": 1669590180917,
     "user": {
      "displayName": "Federico de Leon",
      "userId": "01045121239102538016"
     },
     "user_tz": 180
    },
    "id": "OiiNR7s1L08y"
   },
   "outputs": [],
   "source": [
    "# Para Colab nos paramos en alguna de las carpetas del grupo\n",
    "import os\n",
    "if os.path.exists(\"/content/drive/MyDrive/ORT/DeepLearning/Obligatorio\"):\n",
    "  os.chdir('/content/drive/MyDrive/ORT/DeepLearning/Obligatorio')\n",
    "else:\n",
    "  if os.path.exists(\"/content/drive/MyDrive/ORT/Posgrado AI/Taller DeepLearning/Obligatorio\"):\n",
    "    os.chdir(\"/content/drive/MyDrive/ORT/Posgrado AI/Taller DeepLearning/Obligatorio\")"
   ]
  },
  {
   "cell_type": "code",
   "execution_count": 74,
   "metadata": {
    "executionInfo": {
     "elapsed": 1011,
     "status": "ok",
     "timestamp": 1669594957777,
     "user": {
      "displayName": "Federico de Leon",
      "userId": "01045121239102538016"
     },
     "user_tz": 180
    },
    "id": "aasM3UopLufC"
   },
   "outputs": [],
   "source": [
    "import numpy as np\n",
    "import datetime as dt\n",
    "import math\n",
    "\n",
    "from tensorflow.keras.models import Sequential\n",
    "from tensorflow.keras.layers import Dense, Conv1D, MaxPool1D, Dropout, Embedding, LSTM, Dense, BatchNormalization\n",
    "import tensorflow as tf\n",
    "from tensorflow.keras.optimizers import Adam\n",
    "from tensorflow.keras.wrappers.scikit_learn import KerasClassifier\n",
    "\n",
    "from sklearn.metrics import f1_score, precision_score, recall_score, confusion_matrix\n",
    "\n",
    "from importlib import reload\n",
    "import utils\n",
    "utils = reload(utils)\n",
    "\n",
    "import pandas as pd"
   ]
  },
  {
   "cell_type": "markdown",
   "metadata": {
    "id": "oU26rNfHLufK"
   },
   "source": [
    "### Reproducibilidad y repetibilidad"
   ]
  },
  {
   "cell_type": "markdown",
   "metadata": {},
   "source": [
    "Para poder asegurar la reproducibilidad y repetibilidad de los experimentos en distintas ejecuciones seteamos la _seed_ tanto en Numpy como en Tensorflow."
   ]
  },
  {
   "cell_type": "code",
   "execution_count": 5,
   "metadata": {
    "executionInfo": {
     "elapsed": 10,
     "status": "ok",
     "timestamp": 1669590185672,
     "user": {
      "displayName": "Federico de Leon",
      "userId": "01045121239102538016"
     },
     "user_tz": 180
    },
    "id": "YLlbGI8aLufL"
   },
   "outputs": [],
   "source": [
    "np.random.seed(117)\n",
    "tf.random.set_seed(117)"
   ]
  },
  {
   "cell_type": "markdown",
   "metadata": {
    "id": "ezE0iqNALufO"
   },
   "source": [
    "## 2. Carga de datos"
   ]
  },
  {
   "cell_type": "code",
   "execution_count": 75,
   "metadata": {
    "executionInfo": {
     "elapsed": 582,
     "status": "ok",
     "timestamp": 1669594980283,
     "user": {
      "displayName": "Federico de Leon",
      "userId": "01045121239102538016"
     },
     "user_tz": 180
    },
    "id": "j9RPPY70LufP"
   },
   "outputs": [],
   "source": [
    "hdfs_train, hdfs_test_kaggle = utils.read_data()"
   ]
  },
  {
   "cell_type": "code",
   "execution_count": 76,
   "metadata": {
    "colab": {
     "base_uri": "https://localhost:8080/",
     "height": 173
    },
    "executionInfo": {
     "elapsed": 10,
     "status": "ok",
     "timestamp": 1669594982004,
     "user": {
      "displayName": "Federico de Leon",
      "userId": "01045121239102538016"
     },
     "user_tz": 180
    },
    "id": "LFTLnExcLufQ",
    "outputId": "361f63ab-404f-41ae-9760-60cb8bb27f76",
    "scrolled": true
   },
   "outputs": [
    {
     "data": {
      "text/html": [
       "\n",
       "  <div id=\"df-0781c471-9137-4645-8d34-b294eacd666f\">\n",
       "    <div class=\"colab-df-container\">\n",
       "      <div>\n",
       "<style scoped>\n",
       "    .dataframe tbody tr th:only-of-type {\n",
       "        vertical-align: middle;\n",
       "    }\n",
       "\n",
       "    .dataframe tbody tr th {\n",
       "        vertical-align: top;\n",
       "    }\n",
       "\n",
       "    .dataframe thead th {\n",
       "        text-align: right;\n",
       "    }\n",
       "</style>\n",
       "<table border=\"1\" class=\"dataframe\">\n",
       "  <thead>\n",
       "    <tr style=\"text-align: right;\">\n",
       "      <th></th>\n",
       "      <th>id</th>\n",
       "      <th>sequence</th>\n",
       "      <th>class</th>\n",
       "    </tr>\n",
       "  </thead>\n",
       "  <tbody>\n",
       "    <tr>\n",
       "      <th>0</th>\n",
       "      <td>0</td>\n",
       "      <td>(4, 4, 4, 21, 10, 8, 10, 8, 10, 8, 25, 25, 25,...</td>\n",
       "      <td>normal</td>\n",
       "    </tr>\n",
       "    <tr>\n",
       "      <th>1</th>\n",
       "      <td>1</td>\n",
       "      <td>(4, 4, 4, 21, 10, 8, 25, 10, 8, 10, 8, 25, 25,...</td>\n",
       "      <td>normal</td>\n",
       "    </tr>\n",
       "    <tr>\n",
       "      <th>2</th>\n",
       "      <td>2</td>\n",
       "      <td>(21, 4, 4, 4, 25, 25, 10, 8, 25, 10, 8, 10, 8,...</td>\n",
       "      <td>normal</td>\n",
       "    </tr>\n",
       "    <tr>\n",
       "      <th>3</th>\n",
       "      <td>3</td>\n",
       "      <td>(21, 4, 4, 4, 10, 8, 10, 8, 10, 8, 25, 25, 25,...</td>\n",
       "      <td>normal</td>\n",
       "    </tr>\n",
       "  </tbody>\n",
       "</table>\n",
       "</div>\n",
       "      <button class=\"colab-df-convert\" onclick=\"convertToInteractive('df-0781c471-9137-4645-8d34-b294eacd666f')\"\n",
       "              title=\"Convert this dataframe to an interactive table.\"\n",
       "              style=\"display:none;\">\n",
       "        \n",
       "  <svg xmlns=\"http://www.w3.org/2000/svg\" height=\"24px\"viewBox=\"0 0 24 24\"\n",
       "       width=\"24px\">\n",
       "    <path d=\"M0 0h24v24H0V0z\" fill=\"none\"/>\n",
       "    <path d=\"M18.56 5.44l.94 2.06.94-2.06 2.06-.94-2.06-.94-.94-2.06-.94 2.06-2.06.94zm-11 1L8.5 8.5l.94-2.06 2.06-.94-2.06-.94L8.5 2.5l-.94 2.06-2.06.94zm10 10l.94 2.06.94-2.06 2.06-.94-2.06-.94-.94-2.06-.94 2.06-2.06.94z\"/><path d=\"M17.41 7.96l-1.37-1.37c-.4-.4-.92-.59-1.43-.59-.52 0-1.04.2-1.43.59L10.3 9.45l-7.72 7.72c-.78.78-.78 2.05 0 2.83L4 21.41c.39.39.9.59 1.41.59.51 0 1.02-.2 1.41-.59l7.78-7.78 2.81-2.81c.8-.78.8-2.07 0-2.86zM5.41 20L4 18.59l7.72-7.72 1.47 1.35L5.41 20z\"/>\n",
       "  </svg>\n",
       "      </button>\n",
       "      \n",
       "  <style>\n",
       "    .colab-df-container {\n",
       "      display:flex;\n",
       "      flex-wrap:wrap;\n",
       "      gap: 12px;\n",
       "    }\n",
       "\n",
       "    .colab-df-convert {\n",
       "      background-color: #E8F0FE;\n",
       "      border: none;\n",
       "      border-radius: 50%;\n",
       "      cursor: pointer;\n",
       "      display: none;\n",
       "      fill: #1967D2;\n",
       "      height: 32px;\n",
       "      padding: 0 0 0 0;\n",
       "      width: 32px;\n",
       "    }\n",
       "\n",
       "    .colab-df-convert:hover {\n",
       "      background-color: #E2EBFA;\n",
       "      box-shadow: 0px 1px 2px rgba(60, 64, 67, 0.3), 0px 1px 3px 1px rgba(60, 64, 67, 0.15);\n",
       "      fill: #174EA6;\n",
       "    }\n",
       "\n",
       "    [theme=dark] .colab-df-convert {\n",
       "      background-color: #3B4455;\n",
       "      fill: #D2E3FC;\n",
       "    }\n",
       "\n",
       "    [theme=dark] .colab-df-convert:hover {\n",
       "      background-color: #434B5C;\n",
       "      box-shadow: 0px 1px 3px 1px rgba(0, 0, 0, 0.15);\n",
       "      filter: drop-shadow(0px 1px 2px rgba(0, 0, 0, 0.3));\n",
       "      fill: #FFFFFF;\n",
       "    }\n",
       "  </style>\n",
       "\n",
       "      <script>\n",
       "        const buttonEl =\n",
       "          document.querySelector('#df-0781c471-9137-4645-8d34-b294eacd666f button.colab-df-convert');\n",
       "        buttonEl.style.display =\n",
       "          google.colab.kernel.accessAllowed ? 'block' : 'none';\n",
       "\n",
       "        async function convertToInteractive(key) {\n",
       "          const element = document.querySelector('#df-0781c471-9137-4645-8d34-b294eacd666f');\n",
       "          const dataTable =\n",
       "            await google.colab.kernel.invokeFunction('convertToInteractive',\n",
       "                                                     [key], {});\n",
       "          if (!dataTable) return;\n",
       "\n",
       "          const docLinkHtml = 'Like what you see? Visit the ' +\n",
       "            '<a target=\"_blank\" href=https://colab.research.google.com/notebooks/data_table.ipynb>data table notebook</a>'\n",
       "            + ' to learn more about interactive tables.';\n",
       "          element.innerHTML = '';\n",
       "          dataTable['output_type'] = 'display_data';\n",
       "          await google.colab.output.renderOutput(dataTable, element);\n",
       "          const docLink = document.createElement('div');\n",
       "          docLink.innerHTML = docLinkHtml;\n",
       "          element.appendChild(docLink);\n",
       "        }\n",
       "      </script>\n",
       "    </div>\n",
       "  </div>\n",
       "  "
      ],
      "text/plain": [
       "   id                                           sequence   class\n",
       "0   0  (4, 4, 4, 21, 10, 8, 10, 8, 10, 8, 25, 25, 25,...  normal\n",
       "1   1  (4, 4, 4, 21, 10, 8, 25, 10, 8, 10, 8, 25, 25,...  normal\n",
       "2   2  (21, 4, 4, 4, 25, 25, 10, 8, 25, 10, 8, 10, 8,...  normal\n",
       "3   3  (21, 4, 4, 4, 10, 8, 10, 8, 10, 8, 25, 25, 25,...  normal"
      ]
     },
     "execution_count": 76,
     "metadata": {},
     "output_type": "execute_result"
    }
   ],
   "source": [
    "hdfs_train[:4]"
   ]
  },
  {
   "cell_type": "code",
   "execution_count": 77,
   "metadata": {
    "colab": {
     "base_uri": "https://localhost:8080/",
     "height": 204
    },
    "executionInfo": {
     "elapsed": 5,
     "status": "ok",
     "timestamp": 1669594985054,
     "user": {
      "displayName": "Federico de Leon",
      "userId": "01045121239102538016"
     },
     "user_tz": 180
    },
    "id": "mbSin2w_LufS",
    "outputId": "d5d5e256-795c-47c7-8aed-13a629897027"
   },
   "outputs": [
    {
     "data": {
      "text/html": [
       "\n",
       "  <div id=\"df-3461720b-7932-41cf-99b6-5723594fd51f\">\n",
       "    <div class=\"colab-df-container\">\n",
       "      <div>\n",
       "<style scoped>\n",
       "    .dataframe tbody tr th:only-of-type {\n",
       "        vertical-align: middle;\n",
       "    }\n",
       "\n",
       "    .dataframe tbody tr th {\n",
       "        vertical-align: top;\n",
       "    }\n",
       "\n",
       "    .dataframe thead th {\n",
       "        text-align: right;\n",
       "    }\n",
       "</style>\n",
       "<table border=\"1\" class=\"dataframe\">\n",
       "  <thead>\n",
       "    <tr style=\"text-align: right;\">\n",
       "      <th></th>\n",
       "      <th>id</th>\n",
       "      <th>sequence</th>\n",
       "    </tr>\n",
       "  </thead>\n",
       "  <tbody>\n",
       "    <tr>\n",
       "      <th>0</th>\n",
       "      <td>0</td>\n",
       "      <td>(21, 4, 4, 4, 10, 8, 10, 8, 10, 8, 25, 25, 25)</td>\n",
       "    </tr>\n",
       "    <tr>\n",
       "      <th>1</th>\n",
       "      <td>1</td>\n",
       "      <td>(4, 4, 4, 21, 10, 8, 25, 10, 8, 10, 8, 25, 25,...</td>\n",
       "    </tr>\n",
       "    <tr>\n",
       "      <th>2</th>\n",
       "      <td>2</td>\n",
       "      <td>(4, 4, 4, 21, 10, 8, 10, 8, 10, 8, 25, 25, 25,...</td>\n",
       "    </tr>\n",
       "    <tr>\n",
       "      <th>3</th>\n",
       "      <td>3</td>\n",
       "      <td>(4, 4, 4, 21, 10, 8, 10, 8, 25, 25, 25, 10, 8,...</td>\n",
       "    </tr>\n",
       "    <tr>\n",
       "      <th>4</th>\n",
       "      <td>4</td>\n",
       "      <td>(21, 4, 4, 4, 10, 8, 10, 8, 10, 8, 25, 25, 25,...</td>\n",
       "    </tr>\n",
       "  </tbody>\n",
       "</table>\n",
       "</div>\n",
       "      <button class=\"colab-df-convert\" onclick=\"convertToInteractive('df-3461720b-7932-41cf-99b6-5723594fd51f')\"\n",
       "              title=\"Convert this dataframe to an interactive table.\"\n",
       "              style=\"display:none;\">\n",
       "        \n",
       "  <svg xmlns=\"http://www.w3.org/2000/svg\" height=\"24px\"viewBox=\"0 0 24 24\"\n",
       "       width=\"24px\">\n",
       "    <path d=\"M0 0h24v24H0V0z\" fill=\"none\"/>\n",
       "    <path d=\"M18.56 5.44l.94 2.06.94-2.06 2.06-.94-2.06-.94-.94-2.06-.94 2.06-2.06.94zm-11 1L8.5 8.5l.94-2.06 2.06-.94-2.06-.94L8.5 2.5l-.94 2.06-2.06.94zm10 10l.94 2.06.94-2.06 2.06-.94-2.06-.94-.94-2.06-.94 2.06-2.06.94z\"/><path d=\"M17.41 7.96l-1.37-1.37c-.4-.4-.92-.59-1.43-.59-.52 0-1.04.2-1.43.59L10.3 9.45l-7.72 7.72c-.78.78-.78 2.05 0 2.83L4 21.41c.39.39.9.59 1.41.59.51 0 1.02-.2 1.41-.59l7.78-7.78 2.81-2.81c.8-.78.8-2.07 0-2.86zM5.41 20L4 18.59l7.72-7.72 1.47 1.35L5.41 20z\"/>\n",
       "  </svg>\n",
       "      </button>\n",
       "      \n",
       "  <style>\n",
       "    .colab-df-container {\n",
       "      display:flex;\n",
       "      flex-wrap:wrap;\n",
       "      gap: 12px;\n",
       "    }\n",
       "\n",
       "    .colab-df-convert {\n",
       "      background-color: #E8F0FE;\n",
       "      border: none;\n",
       "      border-radius: 50%;\n",
       "      cursor: pointer;\n",
       "      display: none;\n",
       "      fill: #1967D2;\n",
       "      height: 32px;\n",
       "      padding: 0 0 0 0;\n",
       "      width: 32px;\n",
       "    }\n",
       "\n",
       "    .colab-df-convert:hover {\n",
       "      background-color: #E2EBFA;\n",
       "      box-shadow: 0px 1px 2px rgba(60, 64, 67, 0.3), 0px 1px 3px 1px rgba(60, 64, 67, 0.15);\n",
       "      fill: #174EA6;\n",
       "    }\n",
       "\n",
       "    [theme=dark] .colab-df-convert {\n",
       "      background-color: #3B4455;\n",
       "      fill: #D2E3FC;\n",
       "    }\n",
       "\n",
       "    [theme=dark] .colab-df-convert:hover {\n",
       "      background-color: #434B5C;\n",
       "      box-shadow: 0px 1px 3px 1px rgba(0, 0, 0, 0.15);\n",
       "      filter: drop-shadow(0px 1px 2px rgba(0, 0, 0, 0.3));\n",
       "      fill: #FFFFFF;\n",
       "    }\n",
       "  </style>\n",
       "\n",
       "      <script>\n",
       "        const buttonEl =\n",
       "          document.querySelector('#df-3461720b-7932-41cf-99b6-5723594fd51f button.colab-df-convert');\n",
       "        buttonEl.style.display =\n",
       "          google.colab.kernel.accessAllowed ? 'block' : 'none';\n",
       "\n",
       "        async function convertToInteractive(key) {\n",
       "          const element = document.querySelector('#df-3461720b-7932-41cf-99b6-5723594fd51f');\n",
       "          const dataTable =\n",
       "            await google.colab.kernel.invokeFunction('convertToInteractive',\n",
       "                                                     [key], {});\n",
       "          if (!dataTable) return;\n",
       "\n",
       "          const docLinkHtml = 'Like what you see? Visit the ' +\n",
       "            '<a target=\"_blank\" href=https://colab.research.google.com/notebooks/data_table.ipynb>data table notebook</a>'\n",
       "            + ' to learn more about interactive tables.';\n",
       "          element.innerHTML = '';\n",
       "          dataTable['output_type'] = 'display_data';\n",
       "          await google.colab.output.renderOutput(dataTable, element);\n",
       "          const docLink = document.createElement('div');\n",
       "          docLink.innerHTML = docLinkHtml;\n",
       "          element.appendChild(docLink);\n",
       "        }\n",
       "      </script>\n",
       "    </div>\n",
       "  </div>\n",
       "  "
      ],
      "text/plain": [
       "   id                                           sequence\n",
       "0   0     (21, 4, 4, 4, 10, 8, 10, 8, 10, 8, 25, 25, 25)\n",
       "1   1  (4, 4, 4, 21, 10, 8, 25, 10, 8, 10, 8, 25, 25,...\n",
       "2   2  (4, 4, 4, 21, 10, 8, 10, 8, 10, 8, 25, 25, 25,...\n",
       "3   3  (4, 4, 4, 21, 10, 8, 10, 8, 25, 25, 25, 10, 8,...\n",
       "4   4  (21, 4, 4, 4, 10, 8, 10, 8, 10, 8, 25, 25, 25,..."
      ]
     },
     "execution_count": 77,
     "metadata": {},
     "output_type": "execute_result"
    }
   ],
   "source": [
    "hdfs_test_kaggle[:5]"
   ]
  },
  {
   "cell_type": "markdown",
   "metadata": {
    "id": "f-nyjbgRLufS"
   },
   "source": [
    "## 3. Análisis exploratorio de datos"
   ]
  },
  {
   "cell_type": "markdown",
   "metadata": {
    "id": "cA1nSPKuLufT"
   },
   "source": [
    "### Análisis descriptivo general"
   ]
  },
  {
   "cell_type": "code",
   "execution_count": 78,
   "metadata": {
    "colab": {
     "base_uri": "https://localhost:8080/",
     "height": 204
    },
    "executionInfo": {
     "elapsed": 9,
     "status": "ok",
     "timestamp": 1669594987485,
     "user": {
      "displayName": "Federico de Leon",
      "userId": "01045121239102538016"
     },
     "user_tz": 180
    },
    "id": "lwVUrlooLufU",
    "outputId": "caaf24e2-91e1-48ae-afe8-98533a8443e0"
   },
   "outputs": [
    {
     "data": {
      "text/html": [
       "\n",
       "  <div id=\"df-12ad927a-a5d1-4e83-8790-f743e526d10c\">\n",
       "    <div class=\"colab-df-container\">\n",
       "      <div>\n",
       "<style scoped>\n",
       "    .dataframe tbody tr th:only-of-type {\n",
       "        vertical-align: middle;\n",
       "    }\n",
       "\n",
       "    .dataframe tbody tr th {\n",
       "        vertical-align: top;\n",
       "    }\n",
       "\n",
       "    .dataframe thead th {\n",
       "        text-align: right;\n",
       "    }\n",
       "</style>\n",
       "<table border=\"1\" class=\"dataframe\">\n",
       "  <thead>\n",
       "    <tr style=\"text-align: right;\">\n",
       "      <th></th>\n",
       "      <th>id</th>\n",
       "      <th>sequence</th>\n",
       "      <th>class</th>\n",
       "    </tr>\n",
       "  </thead>\n",
       "  <tbody>\n",
       "    <tr>\n",
       "      <th>0</th>\n",
       "      <td>0</td>\n",
       "      <td>(4, 4, 4, 21, 10, 8, 10, 8, 10, 8, 25, 25, 25,...</td>\n",
       "      <td>normal</td>\n",
       "    </tr>\n",
       "    <tr>\n",
       "      <th>1</th>\n",
       "      <td>1</td>\n",
       "      <td>(4, 4, 4, 21, 10, 8, 25, 10, 8, 10, 8, 25, 25,...</td>\n",
       "      <td>normal</td>\n",
       "    </tr>\n",
       "    <tr>\n",
       "      <th>2</th>\n",
       "      <td>2</td>\n",
       "      <td>(21, 4, 4, 4, 25, 25, 10, 8, 25, 10, 8, 10, 8,...</td>\n",
       "      <td>normal</td>\n",
       "    </tr>\n",
       "    <tr>\n",
       "      <th>3</th>\n",
       "      <td>3</td>\n",
       "      <td>(21, 4, 4, 4, 10, 8, 10, 8, 10, 8, 25, 25, 25,...</td>\n",
       "      <td>normal</td>\n",
       "    </tr>\n",
       "    <tr>\n",
       "      <th>4</th>\n",
       "      <td>4</td>\n",
       "      <td>(21, 4, 4, 4, 25, 25, 25, 10, 8, 10, 8, 10, 8,...</td>\n",
       "      <td>normal</td>\n",
       "    </tr>\n",
       "  </tbody>\n",
       "</table>\n",
       "</div>\n",
       "      <button class=\"colab-df-convert\" onclick=\"convertToInteractive('df-12ad927a-a5d1-4e83-8790-f743e526d10c')\"\n",
       "              title=\"Convert this dataframe to an interactive table.\"\n",
       "              style=\"display:none;\">\n",
       "        \n",
       "  <svg xmlns=\"http://www.w3.org/2000/svg\" height=\"24px\"viewBox=\"0 0 24 24\"\n",
       "       width=\"24px\">\n",
       "    <path d=\"M0 0h24v24H0V0z\" fill=\"none\"/>\n",
       "    <path d=\"M18.56 5.44l.94 2.06.94-2.06 2.06-.94-2.06-.94-.94-2.06-.94 2.06-2.06.94zm-11 1L8.5 8.5l.94-2.06 2.06-.94-2.06-.94L8.5 2.5l-.94 2.06-2.06.94zm10 10l.94 2.06.94-2.06 2.06-.94-2.06-.94-.94-2.06-.94 2.06-2.06.94z\"/><path d=\"M17.41 7.96l-1.37-1.37c-.4-.4-.92-.59-1.43-.59-.52 0-1.04.2-1.43.59L10.3 9.45l-7.72 7.72c-.78.78-.78 2.05 0 2.83L4 21.41c.39.39.9.59 1.41.59.51 0 1.02-.2 1.41-.59l7.78-7.78 2.81-2.81c.8-.78.8-2.07 0-2.86zM5.41 20L4 18.59l7.72-7.72 1.47 1.35L5.41 20z\"/>\n",
       "  </svg>\n",
       "      </button>\n",
       "      \n",
       "  <style>\n",
       "    .colab-df-container {\n",
       "      display:flex;\n",
       "      flex-wrap:wrap;\n",
       "      gap: 12px;\n",
       "    }\n",
       "\n",
       "    .colab-df-convert {\n",
       "      background-color: #E8F0FE;\n",
       "      border: none;\n",
       "      border-radius: 50%;\n",
       "      cursor: pointer;\n",
       "      display: none;\n",
       "      fill: #1967D2;\n",
       "      height: 32px;\n",
       "      padding: 0 0 0 0;\n",
       "      width: 32px;\n",
       "    }\n",
       "\n",
       "    .colab-df-convert:hover {\n",
       "      background-color: #E2EBFA;\n",
       "      box-shadow: 0px 1px 2px rgba(60, 64, 67, 0.3), 0px 1px 3px 1px rgba(60, 64, 67, 0.15);\n",
       "      fill: #174EA6;\n",
       "    }\n",
       "\n",
       "    [theme=dark] .colab-df-convert {\n",
       "      background-color: #3B4455;\n",
       "      fill: #D2E3FC;\n",
       "    }\n",
       "\n",
       "    [theme=dark] .colab-df-convert:hover {\n",
       "      background-color: #434B5C;\n",
       "      box-shadow: 0px 1px 3px 1px rgba(0, 0, 0, 0.15);\n",
       "      filter: drop-shadow(0px 1px 2px rgba(0, 0, 0, 0.3));\n",
       "      fill: #FFFFFF;\n",
       "    }\n",
       "  </style>\n",
       "\n",
       "      <script>\n",
       "        const buttonEl =\n",
       "          document.querySelector('#df-12ad927a-a5d1-4e83-8790-f743e526d10c button.colab-df-convert');\n",
       "        buttonEl.style.display =\n",
       "          google.colab.kernel.accessAllowed ? 'block' : 'none';\n",
       "\n",
       "        async function convertToInteractive(key) {\n",
       "          const element = document.querySelector('#df-12ad927a-a5d1-4e83-8790-f743e526d10c');\n",
       "          const dataTable =\n",
       "            await google.colab.kernel.invokeFunction('convertToInteractive',\n",
       "                                                     [key], {});\n",
       "          if (!dataTable) return;\n",
       "\n",
       "          const docLinkHtml = 'Like what you see? Visit the ' +\n",
       "            '<a target=\"_blank\" href=https://colab.research.google.com/notebooks/data_table.ipynb>data table notebook</a>'\n",
       "            + ' to learn more about interactive tables.';\n",
       "          element.innerHTML = '';\n",
       "          dataTable['output_type'] = 'display_data';\n",
       "          await google.colab.output.renderOutput(dataTable, element);\n",
       "          const docLink = document.createElement('div');\n",
       "          docLink.innerHTML = docLinkHtml;\n",
       "          element.appendChild(docLink);\n",
       "        }\n",
       "      </script>\n",
       "    </div>\n",
       "  </div>\n",
       "  "
      ],
      "text/plain": [
       "   id                                           sequence   class\n",
       "0   0  (4, 4, 4, 21, 10, 8, 10, 8, 10, 8, 25, 25, 25,...  normal\n",
       "1   1  (4, 4, 4, 21, 10, 8, 25, 10, 8, 10, 8, 25, 25,...  normal\n",
       "2   2  (21, 4, 4, 4, 25, 25, 10, 8, 25, 10, 8, 10, 8,...  normal\n",
       "3   3  (21, 4, 4, 4, 10, 8, 10, 8, 10, 8, 25, 25, 25,...  normal\n",
       "4   4  (21, 4, 4, 4, 25, 25, 25, 10, 8, 10, 8, 10, 8,...  normal"
      ]
     },
     "execution_count": 78,
     "metadata": {},
     "output_type": "execute_result"
    }
   ],
   "source": [
    "hdfs_train.head()"
   ]
  },
  {
   "cell_type": "code",
   "execution_count": null,
   "metadata": {},
   "outputs": [],
   "source": [
    "LABELS = ['Normal', 'Abnormal']"
   ]
  },
  {
   "cell_type": "code",
   "execution_count": 79,
   "metadata": {
    "colab": {
     "base_uri": "https://localhost:8080/",
     "height": 522
    },
    "executionInfo": {
     "elapsed": 1317,
     "status": "ok",
     "timestamp": 1669594993826,
     "user": {
      "displayName": "Federico de Leon",
      "userId": "01045121239102538016"
     },
     "user_tz": 180
    },
    "id": "i4J3n780LufV",
    "outputId": "8a086f39-cde5-422f-ec3e-72d4b90747eb"
   },
   "outputs": [
    {
     "data": {
      "image/png": "[encoded data removed]",
      "text/plain": [
       "<Figure size 1440x720 with 1 Axes>"
      ]
     },
     "metadata": {
      "needs_background": "light"
     },
     "output_type": "display_data"
    }
   ],
   "source": [
    "utils.plot_data(hdfs_train, LABELS, \"Datos disponibles\")"
   ]
  },
  {
   "cell_type": "markdown",
   "metadata": {
    "id": "stsh7DznLufW"
   },
   "source": [
    "### Análisis de secuencias"
   ]
  },
  {
   "cell_type": "code",
   "execution_count": 16,
   "metadata": {
    "executionInfo": {
     "elapsed": 4,
     "status": "ok",
     "timestamp": 1669560646509,
     "user": {
      "displayName": "Federico de Leon",
      "userId": "01045121239102538016"
     },
     "user_tz": 180
    },
    "id": "OxC6UWE9LufW"
   },
   "outputs": [],
   "source": [
    "#Agregar ploteo de largos de secuencias, distribuciones por simbolo, etc."
   ]
  },
  {
   "cell_type": "code",
   "execution_count": 80,
   "metadata": {
    "colab": {
     "base_uri": "https://localhost:8080/"
    },
    "executionInfo": {
     "elapsed": 6799,
     "status": "ok",
     "timestamp": 1669595007768,
     "user": {
      "displayName": "Federico de Leon",
      "userId": "01045121239102538016"
     },
     "user_tz": 180
    },
    "id": "3K7nfmctLufY",
    "outputId": "d3df1308-7836-48af-d4f0-dc336b34860a"
   },
   "outputs": [
    {
     "name": "stderr",
     "output_type": "stream",
     "text": [
      "/usr/local/lib/python3.7/dist-packages/sklearn/preprocessing/_label.py:98: DataConversionWarning: A column-vector y was passed when a 1d array was expected. Please change the shape of y to (n_samples, ), for example using ravel().\n",
      "  y = column_or_1d(y, warn=True)\n"
     ]
    }
   ],
   "source": [
    "raw_sequences, data_y = utils.load_sequences_and_target(hdfs_train, one_hot=True)"
   ]
  },
  {
   "cell_type": "code",
   "execution_count": 81,
   "metadata": {
    "colab": {
     "base_uri": "https://localhost:8080/"
    },
    "executionInfo": {
     "elapsed": 23,
     "status": "ok",
     "timestamp": 1669595007769,
     "user": {
      "displayName": "Federico de Leon",
      "userId": "01045121239102538016"
     },
     "user_tz": 180
    },
    "id": "-UADGRwMaYeC",
    "outputId": "1cea8564-a6e7-4cde-87ca-19c510fef0d8"
   },
   "outputs": [
    {
     "data": {
      "text/plain": [
       "0    1  \n",
       "0.0  1.0    374008\n",
       "1.0  0.0     11281\n",
       "dtype: int64"
      ]
     },
     "execution_count": 81,
     "metadata": {},
     "output_type": "execute_result"
    }
   ],
   "source": [
    "data_y.value_counts()"
   ]
  },
  {
   "cell_type": "code",
   "execution_count": 13,
   "metadata": {
    "colab": {
     "base_uri": "https://localhost:8080/"
    },
    "executionInfo": {
     "elapsed": 283,
     "status": "ok",
     "timestamp": 1669590233888,
     "user": {
      "displayName": "Federico de Leon",
      "userId": "01045121239102538016"
     },
     "user_tz": 180
    },
    "id": "I-Q0p2ffLufa",
    "outputId": "337412c5-c5fa-488e-ceda-b701fc02aece"
   },
   "outputs": [
    {
     "data": {
      "text/plain": [
       "1"
      ]
     },
     "execution_count": 13,
     "metadata": {},
     "output_type": "execute_result"
    }
   ],
   "source": [
    "min([min(s) for s in raw_sequences])"
   ]
  },
  {
   "cell_type": "code",
   "execution_count": 14,
   "metadata": {
    "colab": {
     "base_uri": "https://localhost:8080/"
    },
    "executionInfo": {
     "elapsed": 299,
     "status": "ok",
     "timestamp": 1669590239718,
     "user": {
      "displayName": "Federico de Leon",
      "userId": "01045121239102538016"
     },
     "user_tz": 180
    },
    "id": "KxRfgSmULufb",
    "outputId": "395f5a8a-26b2-40c5-af8a-4d00981e9920"
   },
   "outputs": [
    {
     "data": {
      "text/plain": [
       "28"
      ]
     },
     "execution_count": 14,
     "metadata": {},
     "output_type": "execute_result"
    }
   ],
   "source": [
    "max([max(s) for s in raw_sequences])"
   ]
  },
  {
   "cell_type": "code",
   "execution_count": 15,
   "metadata": {
    "colab": {
     "base_uri": "https://localhost:8080/"
    },
    "executionInfo": {
     "elapsed": 489,
     "status": "ok",
     "timestamp": 1669590243704,
     "user": {
      "displayName": "Federico de Leon",
      "userId": "01045121239102538016"
     },
     "user_tz": 180
    },
    "id": "N6fCiLzXLufc",
    "outputId": "fd1bb8f5-1a67-4111-f74b-0e8f8c9b09fa"
   },
   "outputs": [
    {
     "data": {
      "text/plain": [
       "19.0"
      ]
     },
     "execution_count": 15,
     "metadata": {},
     "output_type": "execute_result"
    }
   ],
   "source": [
    "np.median([len(s) for s in raw_sequences])"
   ]
  },
  {
   "cell_type": "code",
   "execution_count": null,
   "metadata": {
    "collapsed": false,
    "pycharm": {
     "name": "#%%\n"
    }
   },
   "outputs": [],
   "source": [
    "# Deberíamos agregar la mean también"
   ]
  },
  {
   "cell_type": "code",
   "execution_count": 56,
   "metadata": {
    "colab": {
     "base_uri": "https://localhost:8080/",
     "height": 560
    },
    "executionInfo": {
     "elapsed": 2083,
     "status": "ok",
     "timestamp": 1669592539626,
     "user": {
      "displayName": "Federico de Leon",
      "userId": "01045121239102538016"
     },
     "user_tz": 180
    },
    "id": "m0jJwYfvVps3",
    "outputId": "5e124588-02bd-4c82-b5c2-4024c76a0a68"
   },
   "outputs": [
    {
     "data": {
      "text/plain": [
       "[<matplotlib.lines.Line2D at 0x7f3421c55450>]"
      ]
     },
     "execution_count": 56,
     "metadata": {},
     "output_type": "execute_result"
    },
    {
     "data": {
      "image/png": "[encoded data removed]",
      "text/plain": [
       "<Figure size 1440x720 with 1 Axes>"
      ]
     },
     "metadata": {
      "needs_background": "light"
     },
     "output_type": "display_data"
    }
   ],
   "source": [
    "# Esto no tengo ni idea qué es. ¿Qué aporta? ¿Es parte del EDA?\n",
    "# get the cdf values of the len\n",
    "y = np.arange(len([len(s) for s in raw_sequences])) / float(len([len(s) for s in raw_sequences]))\n",
    "\n",
    "#fig size\n",
    "plt.figure(figsize=(20,10)) \n",
    "#labels\n",
    "plt.xlabel('Len raw sequences')\n",
    "plt.ylabel('Distribution')\n",
    "#title\n",
    "plt.title('Cumulative Distribution Function of raw sequences')  \n",
    "#plot \n",
    "plt.plot(np.sort([len(s) for s in raw_sequences]), y, marker='o')"
   ]
  },
  {
   "cell_type": "markdown",
   "metadata": {
    "id": "1Zao1sfPtbpI"
   },
   "source": [
    "# Preprocesamiento de los datos"
   ]
  },
  {
   "cell_type": "markdown",
   "metadata": {
    "collapsed": false
   },
   "source": [
    "Previo a realizar el preprocesamiento de los datos y el posterior entrenamiento y evaluación se los modelos setearemos la constante\n",
    "_MAX\\_LEN_ en 19. Este valor se obtuvo del largo promedio de las secuencias y en base a experimentación con\n",
    "tamaños maores y menores se pudo ver que 19 ofrecía los mejores resultados."
   ]
  },
  {
   "cell_type": "code",
   "execution_count": null,
   "metadata": {
    "collapsed": false,
    "pycharm": {
     "name": "#%%\n"
    }
   },
   "outputs": [],
   "source": [
    "MAX_LEN = 19"
   ]
  },
  {
   "cell_type": "markdown",
   "metadata": {
    "id": "xgHGgcpXybsv"
   },
   "source": [
    "## Padding"
   ]
  },
  {
   "cell_type": "code",
   "execution_count": 82,
   "metadata": {
    "executionInfo": {
     "elapsed": 1699,
     "status": "ok",
     "timestamp": 1669595011851,
     "user": {
      "displayName": "Federico de Leon",
      "userId": "01045121239102538016"
     },
     "user_tz": 180
    },
    "id": "STkk44KtLufh"
   },
   "outputs": [],
   "source": [
    "padded_sequences = utils.pad_sequences(raw_sequences, MAX_LEN)"
   ]
  },
  {
   "cell_type": "markdown",
   "metadata": {
    "id": "cvvcyBuXtP5O"
   },
   "source": [
    "## Particionamiento"
   ]
  },
  {
   "cell_type": "code",
   "execution_count": 46,
   "metadata": {
    "executionInfo": {
     "elapsed": 6,
     "status": "ok",
     "timestamp": 1669591741898,
     "user": {
      "displayName": "Federico de Leon",
      "userId": "01045121239102538016"
     },
     "user_tz": 180
    },
    "id": "dXOX6eLuLufj"
   },
   "outputs": [],
   "source": [
    "X_train, X_test, X_val, y_train, y_test, y_val = utils.split(padded_sequences, data_y)"
   ]
  },
  {
   "cell_type": "code",
   "execution_count": 50,
   "metadata": {
    "colab": {
     "base_uri": "https://localhost:8080/",
     "height": 627
    },
    "executionInfo": {
     "elapsed": 517,
     "status": "ok",
     "timestamp": 1669591833659,
     "user": {
      "displayName": "Federico de Leon",
      "userId": "01045121239102538016"
     },
     "user_tz": 180
    },
    "id": "HV_e2FLBa_Hw",
    "outputId": "f5d627e0-0de0-4283-8a6a-87fb60b85c77"
   },
   "outputs": [
    {
     "data": {
      "image/png": "[encoded data removed]",
      "text/plain": [
       "<Figure size 1440x720 with 1 Axes>"
      ]
     },
     "metadata": {
      "needs_background": "light"
     },
     "output_type": "display_data"
    }
   ],
   "source": [
    "\n",
    "utils.plot_data(y_train, LABELS, \"Datos de entrenamiento por clase\", has_class=False)"
   ]
  },
  {
   "cell_type": "markdown",
   "metadata": {
    "id": "90rrw_79MsbM"
   },
   "source": [
    "\n",
    "## Generación de datos con Data Augmentation"
   ]
  },
  {
   "cell_type": "code",
   "execution_count": 51,
   "metadata": {
    "executionInfo": {
     "elapsed": 416,
     "status": "ok",
     "timestamp": 1669591863744,
     "user": {
      "displayName": "Federico de Leon",
      "userId": "01045121239102538016"
     },
     "user_tz": 180
    },
    "id": "whcOuiXoMrFC"
   },
   "outputs": [],
   "source": [
    "X_train_for_aug, dummy_a, dummy_b, dummy_c, dummy_d, dummy_e = utils.split(raw_sequences, data_y)"
   ]
  },
  {
   "cell_type": "code",
   "execution_count": 52,
   "metadata": {
    "executionInfo": {
     "elapsed": 123018,
     "status": "ok",
     "timestamp": 1669591989466,
     "user": {
      "displayName": "Federico de Leon",
      "userId": "01045121239102538016"
     },
     "user_tz": 180
    },
    "id": "fcowAy5dM2vV"
   },
   "outputs": [],
   "source": [
    "X_train_aug, y_train_aug = utils.sequences_augmentation(X_train_for_aug, y_train, MAX_LEN, 19)"
   ]
  },
  {
   "cell_type": "code",
   "execution_count": 53,
   "metadata": {
    "executionInfo": {
     "elapsed": 602,
     "status": "ok",
     "timestamp": 1669591990062,
     "user": {
      "displayName": "Federico de Leon",
      "userId": "01045121239102538016"
     },
     "user_tz": 180
    },
    "id": "B9whfbpEe6cB"
   },
   "outputs": [],
   "source": [
    "\"\"\"\n",
    "padding to data augmentation traing\n",
    "\"\"\"\n",
    "X_train_aug = utils.pad_sequences(X_train_aug, MAX_LEN)"
   ]
  },
  {
   "cell_type": "code",
   "execution_count": 55,
   "metadata": {
    "colab": {
     "base_uri": "https://localhost:8080/",
     "height": 522
    },
    "executionInfo": {
     "elapsed": 1592,
     "status": "ok",
     "timestamp": 1669592098321,
     "user": {
      "displayName": "Federico de Leon",
      "userId": "01045121239102538016"
     },
     "user_tz": 180
    },
    "id": "IcNAq4O_bjk9",
    "outputId": "304aa087-6af9-494e-eab9-a5240b99c8e0"
   },
   "outputs": [
    {
     "data": {
      "image/png": "[encoded data removed]",
      "text/plain": [
       "<Figure size 1440x720 with 1 Axes>"
      ]
     },
     "metadata": {
      "needs_background": "light"
     },
     "output_type": "display_data"
    }
   ],
   "source": [
    "utils.plot_data(y_train_aug, LABELS, \"Datos de entrenamiento luego de Data Augmentation por clase\", has_class=False)"
   ]
  },
  {
   "cell_type": "markdown",
   "metadata": {
    "id": "BQHGdWmIblVc"
   },
   "source": [
    "# Redes Neuronales Recurrentes"
   ]
  },
  {
   "cell_type": "markdown",
   "metadata": {
    "id": "S5yVDCJ-aT1X"
   },
   "source": [
    "## Modelo Inicial"
   ]
  },
  {
   "cell_type": "code",
   "execution_count": 83,
   "metadata": {
    "executionInfo": {
     "elapsed": 343,
     "status": "ok",
     "timestamp": 1669595021726,
     "user": {
      "displayName": "Federico de Leon",
      "userId": "01045121239102538016"
     },
     "user_tz": 180
    },
    "id": "IyfvmijZahXO"
   },
   "outputs": [],
   "source": [
    "vocab_size = max([max(s) for s in raw_sequences]) + 1\n",
    "batch_size = 10\n",
    "epochs = 2\n",
    "patience = 10\n",
    "optimizer = Adam() \n",
    "loss = 'categorical_crossentropy'\n",
    "embedding_size = math.ceil(vocab_size**0.25) "
   ]
  },
  {
   "cell_type": "markdown",
   "metadata": {
    "id": "g4a10vr0hoEy"
   },
   "source": [
    "### Truncating = 'Pre'"
   ]
  },
  {
   "cell_type": "code",
   "execution_count": 84,
   "metadata": {
    "colab": {
     "base_uri": "https://localhost:8080/"
    },
    "executionInfo": {
     "elapsed": 15,
     "status": "ok",
     "timestamp": 1669595025819,
     "user": {
      "displayName": "Federico de Leon",
      "userId": "01045121239102538016"
     },
     "user_tz": 180
    },
    "id": "6OLGsOdzaf0R",
    "outputId": "05a515ff-580d-42d8-bbc0-b9f5bc2df8f8"
   },
   "outputs": [
    {
     "name": "stdout",
     "output_type": "stream",
     "text": [
      "Model: \"sequential_1\"\n",
      "_________________________________________________________________\n",
      " Layer (type)                Output Shape              Param #   \n",
      "=================================================================\n",
      " embedding_1 (Embedding)     (None, 19, 3)             90        \n",
      "                                                                 \n",
      " lstm_1 (LSTM)               (None, 64)                17408     \n",
      "                                                                 \n",
      " dense_1 (Dense)             (None, 2)                 130       \n",
      "                                                                 \n",
      "=================================================================\n",
      "Total params: 17,628\n",
      "Trainable params: 17,628\n",
      "Non-trainable params: 0\n",
      "_________________________________________________________________\n"
     ]
    }
   ],
   "source": [
    "initial_model = Sequential()\n",
    "initial_model.add(Embedding(vocab_size+1, embedding_size, input_length=MAX_LEN))\n",
    "initial_model.add(LSTM(64, return_sequences=False))\n",
    "initial_model.add(Dense(2, activation='softmax'))\n",
    "initial_model.compile(loss=loss, optimizer=optimizer, metrics=['accuracy'])\n",
    "initial_model.summary()"
   ]
  },
  {
   "cell_type": "markdown",
   "metadata": {
    "id": "ejiHGPbacrBk"
   },
   "source": [
    "#### Entrenamiento"
   ]
  },
  {
   "cell_type": "code",
   "execution_count": 85,
   "metadata": {
    "colab": {
     "base_uri": "https://localhost:8080/"
    },
    "executionInfo": {
     "elapsed": 563925,
     "status": "ok",
     "timestamp": 1669595593479,
     "user": {
      "displayName": "Federico de Leon",
      "userId": "01045121239102538016"
     },
     "user_tz": 180
    },
    "id": "WioIf9ibcL6g",
    "outputId": "07ff82e2-3b72-4768-9932-25ed0c618162"
   },
   "outputs": [
    {
     "name": "stdout",
     "output_type": "stream",
     "text": [
      "Epoch 1/2\n",
      "26007/26007 [==============================] - 251s 10ms/step - loss: 0.0477 - accuracy: 0.9932 - val_loss: 0.0070 - val_accuracy: 0.9988\n",
      "Epoch 2/2\n",
      "26007/26007 [==============================] - 258s 10ms/step - loss: 0.0159 - accuracy: 0.9984 - val_loss: 0.0150 - val_accuracy: 0.9989\n"
     ]
    }
   ],
   "source": [
    "#se agregó class.weights\n",
    "initial_training, initial_model = utils.train(initial_model,\n",
    "                X_train,\n",
    "                y_train, \n",
    "                batch_size = batch_size,\n",
    "                epochs = epochs,\n",
    "                validation_data_X = X_val, \n",
    "                validation_data_y = y_val,                                \n",
    "                patience = patience,\n",
    "                class_weights = utils.class_weights(hdfs_train,'class'))"
   ]
  },
  {
   "cell_type": "markdown",
   "metadata": {
    "id": "4qso0vHEen_u"
   },
   "source": [
    "#### Evaluación"
   ]
  },
  {
   "cell_type": "code",
   "execution_count": 86,
   "metadata": {
    "colab": {
     "base_uri": "https://localhost:8080/",
     "height": 834
    },
    "executionInfo": {
     "elapsed": 31977,
     "status": "ok",
     "timestamp": 1669595626447,
     "user": {
      "displayName": "Federico de Leon",
      "userId": "01045121239102538016"
     },
     "user_tz": 180
    },
    "id": "YVaOvPUreqea",
    "outputId": "20810fa0-01be-402e-d2e7-46abc0f4d535"
   },
   "outputs": [
    {
     "data": {
      "image/png": "[encoded data removed]",
      "text/plain": [
       "<Figure size 360x360 with 2 Axes>"
      ]
     },
     "metadata": {
      "needs_background": "light"
     },
     "output_type": "display_data"
    },
    {
     "name": "stdout",
     "output_type": "stream",
     "text": [
      "3011/3011 [==============================] - 13s 4ms/step\n"
     ]
    },
    {
     "data": {
      "image/png": "[encoded data removed]",
      "text/plain": [
       "<Figure size 432x288 with 1 Axes>"
      ]
     },
     "metadata": {
      "needs_background": "light"
     },
     "output_type": "display_data"
    },
    {
     "name": "stdout",
     "output_type": "stream",
     "text": [
      "Classification report\n",
      "              precision    recall  f1-score   support\n",
      "\n",
      "    abnormal       0.97      0.99      0.98      2901\n",
      "      normal       1.00      1.00      1.00     93422\n",
      "\n",
      "    accuracy                           1.00     96323\n",
      "   macro avg       0.98      1.00      0.99     96323\n",
      "weighted avg       1.00      1.00      1.00     96323\n",
      "\n",
      "Loss function: 0.0156711433082819, accuracy: 0.998733401298523\n"
     ]
    }
   ],
   "source": [
    "initialmodel_accuracy, initialmodel_precision, initialmodel_recall, initialmodel_f1 = utils.eval_model(initial_training, initial_model, X_test, y_test)"
   ]
  },
  {
   "cell_type": "markdown",
   "metadata": {
    "id": "YBTb_qv_hyEE"
   },
   "source": [
    "### Truncating = 'Post'"
   ]
  },
  {
   "cell_type": "code",
   "execution_count": 89,
   "metadata": {
    "colab": {
     "base_uri": "https://localhost:8080/"
    },
    "executionInfo": {
     "elapsed": 1657,
     "status": "ok",
     "timestamp": 1669596071114,
     "user": {
      "displayName": "Federico de Leon",
      "userId": "01045121239102538016"
     },
     "user_tz": 180
    },
    "id": "8Pmy8m9Ahz1l",
    "outputId": "03987ef8-4c47-420a-f051-1957a2cc211c"
   },
   "outputs": [
    {
     "name": "stdout",
     "output_type": "stream",
     "text": [
      "Model: \"sequential_2\"\n",
      "_________________________________________________________________\n",
      " Layer (type)                Output Shape              Param #   \n",
      "=================================================================\n",
      " embedding_2 (Embedding)     (None, 19, 3)             90        \n",
      "                                                                 \n",
      " lstm_2 (LSTM)               (None, 64)                17408     \n",
      "                                                                 \n",
      " dense_2 (Dense)             (None, 2)                 130       \n",
      "                                                                 \n",
      "=================================================================\n",
      "Total params: 17,628\n",
      "Trainable params: 17,628\n",
      "Non-trainable params: 0\n",
      "_________________________________________________________________\n"
     ]
    }
   ],
   "source": [
    "initial_model_post = Sequential()\n",
    "initial_model_post.add(Embedding(vocab_size+1, embedding_size, input_length=MAX_LEN))\n",
    "initial_model_post.add(LSTM(64, return_sequences=False))\n",
    "initial_model_post.add(Dense(2, activation='softmax'))\n",
    "initial_model_post.compile(loss=loss, optimizer=optimizer, metrics=['accuracy'])\n",
    "initial_model_post.summary()"
   ]
  },
  {
   "cell_type": "markdown",
   "metadata": {
    "id": "9JoqPhm1jXt6"
   },
   "source": [
    "#### Datos con padding al final"
   ]
  },
  {
   "cell_type": "code",
   "execution_count": 90,
   "metadata": {
    "executionInfo": {
     "elapsed": 1415,
     "status": "ok",
     "timestamp": 1669596073928,
     "user": {
      "displayName": "Federico de Leon",
      "userId": "01045121239102538016"
     },
     "user_tz": 180
    },
    "id": "_VpkyW5wj3mJ"
   },
   "outputs": [],
   "source": [
    "padded_sequences_post = utils.pad_sequences(raw_sequences, MAX_LEN,truncating='post')"
   ]
  },
  {
   "cell_type": "code",
   "execution_count": 91,
   "metadata": {
    "executionInfo": {
     "elapsed": 555,
     "status": "ok",
     "timestamp": 1669596075092,
     "user": {
      "displayName": "Federico de Leon",
      "userId": "01045121239102538016"
     },
     "user_tz": 180
    },
    "id": "le_uiVo-jc5S"
   },
   "outputs": [],
   "source": [
    "X_train_post, X_test_post, X_val_post, y_train_post, y_test_post, y_val_post = utils.split(padded_sequences_post, data_y)"
   ]
  },
  {
   "cell_type": "markdown",
   "metadata": {
    "id": "teUEp_I5h5JN"
   },
   "source": [
    "#### Entrenamiento"
   ]
  },
  {
   "cell_type": "code",
   "execution_count": 92,
   "metadata": {
    "colab": {
     "base_uri": "https://localhost:8080/"
    },
    "executionInfo": {
     "elapsed": 512785,
     "status": "ok",
     "timestamp": 1669596592411,
     "user": {
      "displayName": "Federico de Leon",
      "userId": "01045121239102538016"
     },
     "user_tz": 180
    },
    "id": "8ouqhJ6mh2l1",
    "outputId": "2876154a-39aa-4d93-9808-b5ab66ec5163"
   },
   "outputs": [
    {
     "name": "stdout",
     "output_type": "stream",
     "text": [
      "Epoch 1/2\n",
      "26007/26007 [==============================] - 266s 10ms/step - loss: 0.2745 - accuracy: 0.9796 - val_loss: 0.1705 - val_accuracy: 0.9908\n",
      "Epoch 2/2\n",
      "26007/26007 [==============================] - 246s 9ms/step - loss: 0.2524 - accuracy: 0.9864 - val_loss: 0.1970 - val_accuracy: 0.9904\n"
     ]
    }
   ],
   "source": [
    "#se agregó class.weights\n",
    "initial_training_post, initial_model_post = utils.train(initial_model_post,\n",
    "                X_train_post,\n",
    "                y_train_post, \n",
    "                batch_size = batch_size,\n",
    "                epochs = epochs,\n",
    "                validation_data_X = X_val_post, \n",
    "                validation_data_y = y_val_post,                                \n",
    "                patience = patience,\n",
    "                class_weights = utils.class_weights(hdfs_train,'class'))"
   ]
  },
  {
   "cell_type": "markdown",
   "metadata": {
    "id": "CAFRn7P6h_uG"
   },
   "source": [
    "#### Evaluación"
   ]
  },
  {
   "cell_type": "code",
   "execution_count": 93,
   "metadata": {
    "colab": {
     "base_uri": "https://localhost:8080/",
     "height": 834
    },
    "executionInfo": {
     "elapsed": 32595,
     "status": "ok",
     "timestamp": 1669596624983,
     "user": {
      "displayName": "Federico de Leon",
      "userId": "01045121239102538016"
     },
     "user_tz": 180
    },
    "id": "sNtsd9zth86p",
    "outputId": "6d8ac574-0f15-41f6-bf6c-a0df9bfb5af7"
   },
   "outputs": [
    {
     "data": {
      "image/png": "[encoded data removed]",
      "text/plain": [
       "<Figure size 360x360 with 2 Axes>"
      ]
     },
     "metadata": {
      "needs_background": "light"
     },
     "output_type": "display_data"
    },
    {
     "name": "stdout",
     "output_type": "stream",
     "text": [
      "3011/3011 [==============================] - 12s 4ms/step\n"
     ]
    },
    {
     "data": {
      "image/png": "[encoded data removed]",
      "text/plain": [
       "<Figure size 432x288 with 1 Axes>"
      ]
     },
     "metadata": {
      "needs_background": "light"
     },
     "output_type": "display_data"
    },
    {
     "name": "stdout",
     "output_type": "stream",
     "text": [
      "Classification report\n",
      "              precision    recall  f1-score   support\n",
      "\n",
      "    abnormal       0.87      0.81      0.84      2901\n",
      "      normal       0.99      1.00      1.00     93422\n",
      "\n",
      "    accuracy                           0.99     96323\n",
      "   macro avg       0.93      0.90      0.92     96323\n",
      "weighted avg       0.99      0.99      0.99     96323\n",
      "\n",
      "Loss function: 0.19646018743515015, accuracy: 0.9905214905738831\n"
     ]
    }
   ],
   "source": [
    "initialmodel_post_accuracy, initialmodel_post_precision, initialmodel_post_recall, initialmodel_post_f1 = utils.eval_model(initial_training_post, initial_model_post, X_test_post, y_test_post)"
   ]
  },
  {
   "cell_type": "markdown",
   "metadata": {
    "id": "LSCHOiOpn1DK"
   },
   "source": [
    "### Comentarios padding"
   ]
  },
  {
   "cell_type": "code",
   "execution_count": 94,
   "metadata": {
    "colab": {
     "base_uri": "https://localhost:8080/",
     "height": 111
    },
    "executionInfo": {
     "elapsed": 27,
     "status": "ok",
     "timestamp": 1669596624985,
     "user": {
      "displayName": "Federico de Leon",
      "userId": "01045121239102538016"
     },
     "user_tz": 180
    },
    "id": "Nnp3_OEGraha",
    "outputId": "98da7fd1-5f4e-417b-fac2-952f6f3dc586"
   },
   "outputs": [
    {
     "data": {
      "text/html": [
       "\n",
       "  <div id=\"df-e68fdb6b-78d2-4dfe-881b-576b2fb64e23\">\n",
       "    <div class=\"colab-df-container\">\n",
       "      <div>\n",
       "<style scoped>\n",
       "    .dataframe tbody tr th:only-of-type {\n",
       "        vertical-align: middle;\n",
       "    }\n",
       "\n",
       "    .dataframe tbody tr th {\n",
       "        vertical-align: top;\n",
       "    }\n",
       "\n",
       "    .dataframe thead th {\n",
       "        text-align: right;\n",
       "    }\n",
       "</style>\n",
       "<table border=\"1\" class=\"dataframe\">\n",
       "  <thead>\n",
       "    <tr style=\"text-align: right;\">\n",
       "      <th></th>\n",
       "      <th>Modelo</th>\n",
       "      <th>Accuracy</th>\n",
       "      <th>Precision</th>\n",
       "      <th>Recall</th>\n",
       "      <th>F1-score</th>\n",
       "    </tr>\n",
       "  </thead>\n",
       "  <tbody>\n",
       "    <tr>\n",
       "      <th>0</th>\n",
       "      <td>Initial Model Pre Truncating</td>\n",
       "      <td>99.873%</td>\n",
       "      <td>98.265%</td>\n",
       "      <td>99.617%</td>\n",
       "      <td>98.931%</td>\n",
       "    </tr>\n",
       "    <tr>\n",
       "      <th>1</th>\n",
       "      <td>Initial Model Post Truncating</td>\n",
       "      <td>99.052%</td>\n",
       "      <td>93.189%</td>\n",
       "      <td>90.109%</td>\n",
       "      <td>91.588%</td>\n",
       "    </tr>\n",
       "  </tbody>\n",
       "</table>\n",
       "</div>\n",
       "      <button class=\"colab-df-convert\" onclick=\"convertToInteractive('df-e68fdb6b-78d2-4dfe-881b-576b2fb64e23')\"\n",
       "              title=\"Convert this dataframe to an interactive table.\"\n",
       "              style=\"display:none;\">\n",
       "        \n",
       "  <svg xmlns=\"http://www.w3.org/2000/svg\" height=\"24px\"viewBox=\"0 0 24 24\"\n",
       "       width=\"24px\">\n",
       "    <path d=\"M0 0h24v24H0V0z\" fill=\"none\"/>\n",
       "    <path d=\"M18.56 5.44l.94 2.06.94-2.06 2.06-.94-2.06-.94-.94-2.06-.94 2.06-2.06.94zm-11 1L8.5 8.5l.94-2.06 2.06-.94-2.06-.94L8.5 2.5l-.94 2.06-2.06.94zm10 10l.94 2.06.94-2.06 2.06-.94-2.06-.94-.94-2.06-.94 2.06-2.06.94z\"/><path d=\"M17.41 7.96l-1.37-1.37c-.4-.4-.92-.59-1.43-.59-.52 0-1.04.2-1.43.59L10.3 9.45l-7.72 7.72c-.78.78-.78 2.05 0 2.83L4 21.41c.39.39.9.59 1.41.59.51 0 1.02-.2 1.41-.59l7.78-7.78 2.81-2.81c.8-.78.8-2.07 0-2.86zM5.41 20L4 18.59l7.72-7.72 1.47 1.35L5.41 20z\"/>\n",
       "  </svg>\n",
       "      </button>\n",
       "      \n",
       "  <style>\n",
       "    .colab-df-container {\n",
       "      display:flex;\n",
       "      flex-wrap:wrap;\n",
       "      gap: 12px;\n",
       "    }\n",
       "\n",
       "    .colab-df-convert {\n",
       "      background-color: #E8F0FE;\n",
       "      border: none;\n",
       "      border-radius: 50%;\n",
       "      cursor: pointer;\n",
       "      display: none;\n",
       "      fill: #1967D2;\n",
       "      height: 32px;\n",
       "      padding: 0 0 0 0;\n",
       "      width: 32px;\n",
       "    }\n",
       "\n",
       "    .colab-df-convert:hover {\n",
       "      background-color: #E2EBFA;\n",
       "      box-shadow: 0px 1px 2px rgba(60, 64, 67, 0.3), 0px 1px 3px 1px rgba(60, 64, 67, 0.15);\n",
       "      fill: #174EA6;\n",
       "    }\n",
       "\n",
       "    [theme=dark] .colab-df-convert {\n",
       "      background-color: #3B4455;\n",
       "      fill: #D2E3FC;\n",
       "    }\n",
       "\n",
       "    [theme=dark] .colab-df-convert:hover {\n",
       "      background-color: #434B5C;\n",
       "      box-shadow: 0px 1px 3px 1px rgba(0, 0, 0, 0.15);\n",
       "      filter: drop-shadow(0px 1px 2px rgba(0, 0, 0, 0.3));\n",
       "      fill: #FFFFFF;\n",
       "    }\n",
       "  </style>\n",
       "\n",
       "      <script>\n",
       "        const buttonEl =\n",
       "          document.querySelector('#df-e68fdb6b-78d2-4dfe-881b-576b2fb64e23 button.colab-df-convert');\n",
       "        buttonEl.style.display =\n",
       "          google.colab.kernel.accessAllowed ? 'block' : 'none';\n",
       "\n",
       "        async function convertToInteractive(key) {\n",
       "          const element = document.querySelector('#df-e68fdb6b-78d2-4dfe-881b-576b2fb64e23');\n",
       "          const dataTable =\n",
       "            await google.colab.kernel.invokeFunction('convertToInteractive',\n",
       "                                                     [key], {});\n",
       "          if (!dataTable) return;\n",
       "\n",
       "          const docLinkHtml = 'Like what you see? Visit the ' +\n",
       "            '<a target=\"_blank\" href=https://colab.research.google.com/notebooks/data_table.ipynb>data table notebook</a>'\n",
       "            + ' to learn more about interactive tables.';\n",
       "          element.innerHTML = '';\n",
       "          dataTable['output_type'] = 'display_data';\n",
       "          await google.colab.output.renderOutput(dataTable, element);\n",
       "          const docLink = document.createElement('div');\n",
       "          docLink.innerHTML = docLinkHtml;\n",
       "          element.appendChild(docLink);\n",
       "        }\n",
       "      </script>\n",
       "    </div>\n",
       "  </div>\n",
       "  "
      ],
      "text/plain": [
       "                          Modelo  Accuracy  Precision  Recall  F1-score\n",
       "0   Initial Model Pre Truncating   99.873%    98.265% 99.617%   98.931%\n",
       "1  Initial Model Post Truncating   99.052%    93.189% 90.109%   91.588%"
      ]
     },
     "execution_count": 94,
     "metadata": {},
     "output_type": "execute_result"
    }
   ],
   "source": [
    "pd.options.display.float_format = '{:.3%}'.format\n",
    "data = [['Initial Model Pre Truncating',initialmodel_accuracy, initialmodel_precision, initialmodel_recall, initialmodel_f1], ['Initial Model Post Truncating',initialmodel_post_accuracy, initialmodel_post_precision, initialmodel_post_recall, initialmodel_post_f1]]\n",
    "pd.DataFrame(data, columns=[\"Modelo\", \"Accuracy\", \"Precision\",\"Recall\",\"F1-score\"]).sort_values(by='F1-score', ascending=False)"
   ]
  },
  {
   "cell_type": "markdown",
   "metadata": {
    "id": "oQCtQPD4aaLg"
   },
   "source": [
    "## Modelo Mejorado"
   ]
  },
  {
   "cell_type": "code",
   "execution_count": null,
   "metadata": {
    "id": "09FPLKOcac5X"
   },
   "outputs": [],
   "source": [
    "vocab_size = max([max(s) for s in raw_sequences]) + 1\n",
    "batch_size = 24\n",
    "epochs = 7\n",
    "patience = 10\n",
    "optimizer = Adam() \n",
    "loss = 'categorical_crossentropy'\n",
    "embedding_size = math.ceil(vocab_size**0.25) "
   ]
  },
  {
   "cell_type": "code",
   "execution_count": null,
   "metadata": {
    "colab": {
     "base_uri": "https://localhost:8080/"
    },
    "executionInfo": {
     "elapsed": 845,
     "status": "ok",
     "timestamp": 1669299131878,
     "user": {
      "displayName": "Federico de Leon",
      "userId": "01045121239102538016"
     },
     "user_tz": 180
    },
    "id": "9NqYUvmaa9ib",
    "outputId": "08d88582-ffd7-4203-f7c1-d78b72406e89"
   },
   "outputs": [
    {
     "name": "stdout",
     "output_type": "stream",
     "text": [
      "Model: \"sequential_1\"\n",
      "_________________________________________________________________\n",
      " Layer (type)                Output Shape              Param #   \n",
      "=================================================================\n",
      " embedding_1 (Embedding)     (None, 19, 3)             90        \n",
      "                                                                 \n",
      " lstm_1 (LSTM)               (None, 19, 64)            17408     \n",
      "                                                                 \n",
      " lstm_2 (LSTM)               (None, 64)                33024     \n",
      "                                                                 \n",
      " dense_1 (Dense)             (None, 2)                 130       \n",
      "                                                                 \n",
      "=================================================================\n",
      "Total params: 50,652\n",
      "Trainable params: 50,652\n",
      "Non-trainable params: 0\n",
      "_________________________________________________________________\n"
     ]
    }
   ],
   "source": [
    "improved_model = Sequential()\n",
    "improved_model.add(Embedding(vocab_size+1, embedding_size, input_length=MAX_LEN))\n",
    "improved_model.add(LSTM(64, return_sequences=True))\n",
    "improved_model.add(LSTM(64, return_sequences=False))\n",
    "improved_model.add(Dense(2, activation='softmax'))\n",
    "improved_model.compile(loss=loss, optimizer=optimizer, metrics=['accuracy'])\n",
    "improved_model.summary()"
   ]
  },
  {
   "cell_type": "markdown",
   "metadata": {
    "id": "d0My0t2dgpwC"
   },
   "source": [
    "### Entrenamiento"
   ]
  },
  {
   "cell_type": "code",
   "execution_count": null,
   "metadata": {
    "colab": {
     "base_uri": "https://localhost:8080/"
    },
    "executionInfo": {
     "elapsed": 1104561,
     "status": "ok",
     "timestamp": 1669300236426,
     "user": {
      "displayName": "Federico de Leon",
      "userId": "01045121239102538016"
     },
     "user_tz": 180
    },
    "id": "6B08Hin7cQj4",
    "outputId": "e4add4c7-1312-4874-bef8-ec238f2bddf4"
   },
   "outputs": [
    {
     "name": "stdout",
     "output_type": "stream",
     "text": [
      "Epoch 1/7\n",
      "10837/10837 [==============================] - 157s 14ms/step - loss: 0.0464 - accuracy: 0.9922 - val_loss: 0.0078 - val_accuracy: 0.9989\n",
      "Epoch 2/7\n",
      "10837/10837 [==============================] - 156s 14ms/step - loss: 0.0173 - accuracy: 0.9974 - val_loss: 0.0105 - val_accuracy: 0.9988\n",
      "Epoch 3/7\n",
      "10837/10837 [==============================] - 156s 14ms/step - loss: 0.0124 - accuracy: 0.9985 - val_loss: 0.0048 - val_accuracy: 0.9988\n",
      "Epoch 4/7\n",
      "10837/10837 [==============================] - 155s 14ms/step - loss: 0.0136 - accuracy: 0.9986 - val_loss: 0.0060 - val_accuracy: 0.9988\n",
      "Epoch 5/7\n",
      "10837/10837 [==============================] - 157s 14ms/step - loss: 0.0109 - accuracy: 0.9987 - val_loss: 0.0044 - val_accuracy: 0.9992\n",
      "Epoch 6/7\n",
      "10837/10837 [==============================] - 160s 15ms/step - loss: 0.0095 - accuracy: 0.9988 - val_loss: 0.0063 - val_accuracy: 0.9988\n",
      "Epoch 7/7\n",
      "10837/10837 [==============================] - 161s 15ms/step - loss: 0.0087 - accuracy: 0.9990 - val_loss: 0.0050 - val_accuracy: 0.9993\n"
     ]
    }
   ],
   "source": [
    "#se agregó class.weights\n",
    "improved_training, improved_model = utils.train(improved_model,\n",
    "                X_train,\n",
    "                y_train, \n",
    "                batch_size = batch_size,\n",
    "                epochs = epochs,\n",
    "                validation_data_X = X_val, \n",
    "                validation_data_y = y_val,                                \n",
    "                patience = patience,\n",
    "                class_weights = utils.class_weights(hdfs_train,'class'))"
   ]
  },
  {
   "cell_type": "markdown",
   "metadata": {
    "id": "986p6T3zeeBP"
   },
   "source": [
    "### Evaluación"
   ]
  },
  {
   "cell_type": "code",
   "execution_count": null,
   "metadata": {
    "colab": {
     "base_uri": "https://localhost:8080/",
     "height": 849
    },
    "executionInfo": {
     "elapsed": 30231,
     "status": "ok",
     "timestamp": 1669300266609,
     "user": {
      "displayName": "Federico de Leon",
      "userId": "01045121239102538016"
     },
     "user_tz": 180
    },
    "id": "h6Lrj1DGebOd",
    "outputId": "f7aca284-c76a-444a-ecd7-2565929129c1"
   },
   "outputs": [
    {
     "data": {
      "image/png": "[encoded data removed]",
      "text/plain": [
       "<Figure size 360x360 with 2 Axes>"
      ]
     },
     "metadata": {
      "needs_background": "light"
     },
     "output_type": "display_data"
    },
    {
     "name": "stdout",
     "output_type": "stream",
     "text": [
      "3011/3011 [==============================] - 15s 5ms/step\n"
     ]
    },
    {
     "data": {
      "image/png": "[encoded data removed]",
      "text/plain": [
       "<Figure size 432x288 with 1 Axes>"
      ]
     },
     "metadata": {
      "needs_background": "light"
     },
     "output_type": "display_data"
    },
    {
     "name": "stdout",
     "output_type": "stream",
     "text": [
      "Classification report\n",
      "              precision    recall  f1-score   support\n",
      "\n",
      "    abnormal       0.98      0.99      0.99      2901\n",
      "      normal       1.00      1.00      1.00     93422\n",
      "\n",
      "    accuracy                           1.00     96323\n",
      "   macro avg       0.99      1.00      0.99     96323\n",
      "weighted avg       1.00      1.00      1.00     96323\n",
      "\n",
      "Loss function: 0.00552724814042449, accuracy: 0.9991175532341003\n"
     ]
    }
   ],
   "source": [
    "improved_model_accuracy, improved_model_precision, improved_model_recall, improved_model_f1 = utils.eval_model(improved_training, improved_model, X_test, y_test)"
   ]
  },
  {
   "cell_type": "markdown",
   "metadata": {
    "id": "cmmLNAeGLufi"
   },
   "source": [
    "## Grid Search\n",
    "\n"
   ]
  },
  {
   "cell_type": "code",
   "execution_count": null,
   "metadata": {
    "id": "19ak24O67mgB"
   },
   "outputs": [],
   "source": [
    "vocab_size = 30\n",
    "patience = 5\n",
    "embedding_size=3\n",
    "\n",
    "params = {\n",
    "    \"batch_size\": [16, 32],\n",
    "    \"epochs\": [2, 8, 15],\n",
    "    \"units\": [2,64, 72],\n",
    "    \"vocab_size\": [vocab_size + 1,],\n",
    "    \"embedding_size\": [embedding_size],\n",
    "    \"max_len\": [MAX_LEN,],\n",
    "    \"optimizer\": [\"adam\",],\n",
    "    \"loss\": [\"categorical_crossentropy\",]\n",
    "}"
   ]
  },
  {
   "cell_type": "code",
   "execution_count": null,
   "metadata": {
    "colab": {
     "base_uri": "https://localhost:8080/"
    },
    "executionInfo": {
     "elapsed": 39389344,
     "status": "ok",
     "timestamp": 1669339655942,
     "user": {
      "displayName": "Federico de Leon",
      "userId": "01045121239102538016"
     },
     "user_tz": 180
    },
    "id": "M0AXZGdMpTLh",
    "outputId": "b6cd68b9-1a9f-4cfe-c646-c1fe97b676d5"
   },
   "outputs": [
    {
     "name": "stdout",
     "output_type": "stream",
     "text": [
      "Fitting 3 folds for each of 18 candidates, totalling 54 fits\n"
     ]
    },
    {
     "name": "stderr",
     "output_type": "stream",
     "text": [
      "/usr/local/lib/python3.7/dist-packages/joblib/externals/loky/process_executor.py:703: UserWarning: A worker stopped while some jobs were given to the executor. This can be caused by a too short worker timeout or by a memory leak.\n",
      "  \"timeout or by a memory leak.\", UserWarning\n"
     ]
    },
    {
     "name": "stdout",
     "output_type": "stream",
     "text": [
      "Epoch 1/15\n",
      "16255/16255 [==============================] - 249s 15ms/step - loss: 0.0243 - accuracy: 0.9944 - precision: 0.9944 - recall: 0.9944\n",
      "Epoch 2/15\n",
      "16255/16255 [==============================] - 252s 16ms/step - loss: 0.0051 - accuracy: 0.9988 - precision: 0.9988 - recall: 0.9988\n",
      "Epoch 3/15\n",
      "16255/16255 [==============================] - 247s 15ms/step - loss: 0.0026 - accuracy: 0.9993 - precision: 0.9993 - recall: 0.9993\n",
      "Epoch 4/15\n",
      "16255/16255 [==============================] - 246s 15ms/step - loss: 0.0020 - accuracy: 0.9996 - precision: 0.9996 - recall: 0.9996\n",
      "Epoch 5/15\n",
      "16255/16255 [==============================] - 249s 15ms/step - loss: 0.0018 - accuracy: 0.9996 - precision: 0.9996 - recall: 0.9996\n",
      "Epoch 6/15\n",
      "16255/16255 [==============================] - 248s 15ms/step - loss: 0.0017 - accuracy: 0.9997 - precision: 0.9997 - recall: 0.9997\n",
      "Epoch 7/15\n",
      "16255/16255 [==============================] - 249s 15ms/step - loss: 0.0016 - accuracy: 0.9997 - precision: 0.9997 - recall: 0.9997\n",
      "Epoch 8/15\n",
      "16255/16255 [==============================] - 251s 15ms/step - loss: 0.0015 - accuracy: 0.9997 - precision: 0.9997 - recall: 0.9997\n",
      "Epoch 9/15\n",
      "16255/16255 [==============================] - 250s 15ms/step - loss: 0.0015 - accuracy: 0.9997 - precision: 0.9997 - recall: 0.9997\n",
      "Epoch 10/15\n",
      "16255/16255 [==============================] - 249s 15ms/step - loss: 0.0015 - accuracy: 0.9997 - precision: 0.9997 - recall: 0.9997\n",
      "Epoch 11/15\n",
      "16255/16255 [==============================] - 246s 15ms/step - loss: 0.0014 - accuracy: 0.9997 - precision: 0.9997 - recall: 0.9997\n",
      "Epoch 12/15\n",
      "16255/16255 [==============================] - 250s 15ms/step - loss: 0.0015 - accuracy: 0.9997 - precision: 0.9997 - recall: 0.9997\n",
      "Epoch 13/15\n",
      "16255/16255 [==============================] - 250s 15ms/step - loss: 0.0015 - accuracy: 0.9997 - precision: 0.9997 - recall: 0.9997\n",
      "Epoch 14/15\n",
      "16255/16255 [==============================] - 247s 15ms/step - loss: 0.0014 - accuracy: 0.9997 - precision: 0.9997 - recall: 0.9997\n",
      "Epoch 15/15\n",
      "16255/16255 [==============================] - 247s 15ms/step - loss: 0.0015 - accuracy: 0.9997 - precision: 0.9997 - recall: 0.9997\n"
     ]
    }
   ],
   "source": [
    "\"\"\"\n",
    "Entrenamiento\n",
    "\"\"\"\n",
    "gs = utils.grid_search(params, utils.build_improved_model, 3)\n",
    "grid_result = gs.fit(X_train, y_train)"
   ]
  },
  {
   "cell_type": "code",
   "execution_count": null,
   "metadata": {
    "id": "u8rsOI8OTyCg"
   },
   "outputs": [],
   "source": [
    "grid_result.best_params_ #comentar que tambien se puede obtener el best model que en definitiva es lo mismo que hacemos en Modelo Mejorado"
   ]
  },
  {
   "cell_type": "code",
   "execution_count": null,
   "metadata": {
    "id": "Tt8xXza778Xr"
   },
   "outputs": [],
   "source": [
    "batch_size = grid_result.best_params_['vocab_size']\n",
    "epochs = grid_result.best_params_['epochs']\n",
    "units = grid_result.best_params_['units']\n",
    "optimizer = Adam() \n",
    "loss = grid_result.best_params_['loss']"
   ]
  },
  {
   "cell_type": "markdown",
   "metadata": {
    "id": "ADJO-d2CvESK"
   },
   "source": [
    "### Model Mejorado "
   ]
  },
  {
   "cell_type": "code",
   "execution_count": null,
   "metadata": {
    "colab": {
     "base_uri": "https://localhost:8080/"
    },
    "executionInfo": {
     "elapsed": 686,
     "status": "ok",
     "timestamp": 1669339656626,
     "user": {
      "displayName": "Federico de Leon",
      "userId": "01045121239102538016"
     },
     "user_tz": 180
    },
    "id": "hRVizv75P9BC",
    "outputId": "cea821dc-3a24-4e41-c23d-18ec691b9a19"
   },
   "outputs": [
    {
     "name": "stdout",
     "output_type": "stream",
     "text": [
      "Model: \"sequential_3\"\n",
      "_________________________________________________________________\n",
      " Layer (type)                Output Shape              Param #   \n",
      "=================================================================\n",
      " embedding_3 (Embedding)     (None, 19, 3)             93        \n",
      "                                                                 \n",
      " lstm_5 (LSTM)               (None, 19, 64)            17408     \n",
      "                                                                 \n",
      " lstm_6 (LSTM)               (None, 64)                33024     \n",
      "                                                                 \n",
      " dense_3 (Dense)             (None, 2)                 130       \n",
      "                                                                 \n",
      "=================================================================\n",
      "Total params: 50,655\n",
      "Trainable params: 50,655\n",
      "Non-trainable params: 0\n",
      "_________________________________________________________________\n"
     ]
    }
   ],
   "source": [
    "model = Sequential()\n",
    "model.add(Embedding(vocab_size+1, embedding_size, input_length=MAX_LEN))\n",
    "model.add(LSTM(units, return_sequences=True))\n",
    "model.add(LSTM(units, return_sequences=False))\n",
    "model.add(Dense(2, activation='softmax'))\n",
    "model.compile(loss=loss, optimizer=optimizer, metrics=['accuracy',tf.keras.metrics.Precision(),tf.keras.metrics.Recall()])\n",
    "model.summary()"
   ]
  },
  {
   "cell_type": "markdown",
   "metadata": {
    "id": "Zve-6Z7pcios"
   },
   "source": [
    "#### Entrenamiento"
   ]
  },
  {
   "cell_type": "code",
   "execution_count": null,
   "metadata": {
    "colab": {
     "base_uri": "https://localhost:8080/"
    },
    "executionInfo": {
     "elapsed": 2241596,
     "status": "ok",
     "timestamp": 1669341898218,
     "user": {
      "displayName": "Federico de Leon",
      "userId": "01045121239102538016"
     },
     "user_tz": 180
    },
    "id": "e_S-tD8EyzZI",
    "outputId": "70e1c339-9e7a-4b88-a293-3dc75c9c6004"
   },
   "outputs": [
    {
     "name": "stdout",
     "output_type": "stream",
     "text": [
      "Epoch 1/15\n",
      "8390/8390 [==============================] - 153s 18ms/step - loss: 0.0529 - accuracy: 0.9911 - precision_1: 0.9911 - recall_1: 0.9911 - val_loss: 0.0105 - val_accuracy: 0.9988 - val_precision_1: 0.9988 - val_recall_1: 0.9988\n",
      "Epoch 2/15\n",
      "8390/8390 [==============================] - 151s 18ms/step - loss: 0.0206 - accuracy: 0.9974 - precision_1: 0.9974 - recall_1: 0.9974 - val_loss: 0.0131 - val_accuracy: 0.9988 - val_precision_1: 0.9988 - val_recall_1: 0.9988\n",
      "Epoch 3/15\n",
      "8390/8390 [==============================] - 152s 18ms/step - loss: 0.0130 - accuracy: 0.9983 - precision_1: 0.9983 - recall_1: 0.9983 - val_loss: 0.0064 - val_accuracy: 0.9987 - val_precision_1: 0.9987 - val_recall_1: 0.9987\n",
      "Epoch 4/15\n",
      "8390/8390 [==============================] - 151s 18ms/step - loss: 0.0113 - accuracy: 0.9986 - precision_1: 0.9986 - recall_1: 0.9986 - val_loss: 0.0126 - val_accuracy: 0.9984 - val_precision_1: 0.9984 - val_recall_1: 0.9984\n",
      "Epoch 5/15\n",
      "8390/8390 [==============================] - 150s 18ms/step - loss: 0.0102 - accuracy: 0.9987 - precision_1: 0.9987 - recall_1: 0.9987 - val_loss: 0.0046 - val_accuracy: 0.9992 - val_precision_1: 0.9992 - val_recall_1: 0.9992\n",
      "Epoch 6/15\n",
      "8390/8390 [==============================] - 151s 18ms/step - loss: 0.0102 - accuracy: 0.9987 - precision_1: 0.9987 - recall_1: 0.9987 - val_loss: 0.0065 - val_accuracy: 0.9990 - val_precision_1: 0.9990 - val_recall_1: 0.9990\n",
      "Epoch 7/15\n",
      "8390/8390 [==============================] - 147s 18ms/step - loss: 0.0085 - accuracy: 0.9988 - precision_1: 0.9988 - recall_1: 0.9988 - val_loss: 0.0054 - val_accuracy: 0.9991 - val_precision_1: 0.9991 - val_recall_1: 0.9991\n",
      "Epoch 8/15\n",
      "8390/8390 [==============================] - 147s 18ms/step - loss: 0.0086 - accuracy: 0.9988 - precision_1: 0.9988 - recall_1: 0.9988 - val_loss: 0.0051 - val_accuracy: 0.9992 - val_precision_1: 0.9992 - val_recall_1: 0.9992\n",
      "Epoch 9/15\n",
      "8390/8390 [==============================] - 147s 18ms/step - loss: 0.0094 - accuracy: 0.9987 - precision_1: 0.9987 - recall_1: 0.9987 - val_loss: 0.0050 - val_accuracy: 0.9987 - val_precision_1: 0.9987 - val_recall_1: 0.9987\n",
      "Epoch 10/15\n",
      "8390/8390 [==============================] - 147s 18ms/step - loss: 0.0077 - accuracy: 0.9989 - precision_1: 0.9989 - recall_1: 0.9989 - val_loss: 0.0048 - val_accuracy: 0.9991 - val_precision_1: 0.9991 - val_recall_1: 0.9991\n",
      "Epoch 11/15\n",
      "8390/8390 [==============================] - 150s 18ms/step - loss: 0.0084 - accuracy: 0.9989 - precision_1: 0.9989 - recall_1: 0.9989 - val_loss: 0.0052 - val_accuracy: 0.9988 - val_precision_1: 0.9988 - val_recall_1: 0.9988\n",
      "Epoch 12/15\n",
      "8390/8390 [==============================] - 147s 18ms/step - loss: 0.0078 - accuracy: 0.9987 - precision_1: 0.9987 - recall_1: 0.9987 - val_loss: 0.0064 - val_accuracy: 0.9988 - val_precision_1: 0.9988 - val_recall_1: 0.9988\n",
      "Epoch 13/15\n",
      "8390/8390 [==============================] - 149s 18ms/step - loss: 0.0077 - accuracy: 0.9990 - precision_1: 0.9990 - recall_1: 0.9990 - val_loss: 0.0041 - val_accuracy: 0.9988 - val_precision_1: 0.9988 - val_recall_1: 0.9988\n",
      "Epoch 14/15\n",
      "8390/8390 [==============================] - 149s 18ms/step - loss: 0.0077 - accuracy: 0.9990 - precision_1: 0.9990 - recall_1: 0.9990 - val_loss: 0.0052 - val_accuracy: 0.9988 - val_precision_1: 0.9988 - val_recall_1: 0.9988\n",
      "Epoch 15/15\n",
      "8389/8390 [============================>.] - ETA: 0s - loss: 0.0080 - accuracy: 0.9991 - precision_1: 0.9991 - recall_1: 0.9991Restoring model weights from the end of the best epoch: 10.\n",
      "8390/8390 [==============================] - 149s 18ms/step - loss: 0.0080 - accuracy: 0.9991 - precision_1: 0.9991 - recall_1: 0.9991 - val_loss: 0.0043 - val_accuracy: 0.9988 - val_precision_1: 0.9988 - val_recall_1: 0.9988\n",
      "Epoch 15: early stopping\n"
     ]
    }
   ],
   "source": [
    "#se agregó class.weights\n",
    "training, model = utils.train(model,\n",
    "                X_train,\n",
    "                y_train, \n",
    "                batch_size = batch_size,\n",
    "                epochs = epochs,\n",
    "                validation_data_X = X_val, \n",
    "                validation_data_y = y_val,                                \n",
    "                patience = patience,\n",
    "                class_weights = utils.class_weights(hdfs_train,'class'))"
   ]
  },
  {
   "cell_type": "markdown",
   "metadata": {
    "id": "u8jMNxJ3zehB"
   },
   "source": [
    "#### Evaluación"
   ]
  },
  {
   "cell_type": "code",
   "execution_count": null,
   "metadata": {
    "colab": {
     "base_uri": "https://localhost:8080/",
     "height": 849
    },
    "executionInfo": {
     "elapsed": 41159,
     "status": "ok",
     "timestamp": 1669341939354,
     "user": {
      "displayName": "Federico de Leon",
      "userId": "01045121239102538016"
     },
     "user_tz": 180
    },
    "id": "k9gXg_A5zgrp",
    "outputId": "14cad548-4651-429d-bdac-0df9dbc6bae3"
   },
   "outputs": [
    {
     "data": {
      "image/png": "[encoded data removed]",
      "text/plain": [
       "<Figure size 360x360 with 2 Axes>"
      ]
     },
     "metadata": {
      "needs_background": "light"
     },
     "output_type": "display_data"
    },
    {
     "name": "stdout",
     "output_type": "stream",
     "text": [
      "3011/3011 [==============================] - 18s 6ms/step\n"
     ]
    },
    {
     "data": {
      "image/png": "[encoded data removed]",
      "text/plain": [
       "<Figure size 432x288 with 1 Axes>"
      ]
     },
     "metadata": {
      "needs_background": "light"
     },
     "output_type": "display_data"
    },
    {
     "name": "stdout",
     "output_type": "stream",
     "text": [
      "Classification report\n",
      "              precision    recall  f1-score   support\n",
      "\n",
      "    abnormal       0.98      0.99      0.98      2901\n",
      "      normal       1.00      1.00      1.00     93422\n",
      "\n",
      "    accuracy                           1.00     96323\n",
      "   macro avg       0.99      1.00      0.99     96323\n",
      "weighted avg       1.00      1.00      1.00     96323\n",
      "\n",
      "Loss function: 0.004978092387318611, accuracy: 0.9990760087966919\n"
     ]
    }
   ],
   "source": [
    "model_accuracy, model_precision, model_recall, model_f1 = utils.eval_model(training, model, X_test, y_test)"
   ]
  },
  {
   "cell_type": "markdown",
   "metadata": {
    "id": "ku-bAnBHyy3C"
   },
   "source": [
    "#### Generación modelo y Salida Kaggle"
   ]
  },
  {
   "cell_type": "code",
   "execution_count": null,
   "metadata": {
    "colab": {
     "base_uri": "https://localhost:8080/"
    },
    "executionInfo": {
     "elapsed": 43949,
     "status": "ok",
     "timestamp": 1669341983295,
     "user": {
      "displayName": "Federico de Leon",
      "userId": "01045121239102538016"
     },
     "user_tz": 180
    },
    "id": "sHEwCal3yfWk",
    "outputId": "59aceccd-8b6b-43e2-8526-eb6c38468222"
   },
   "outputs": [
    {
     "name": "stdout",
     "output_type": "stream",
     "text": [
      "5931/5931 [==============================] - 34s 6ms/step\n",
      "Saved model to disk\n"
     ]
    }
   ],
   "source": [
    "name='model'\n",
    "\n",
    "\"\"\"\n",
    "Generate data Kaggle\n",
    "\"\"\"\n",
    "#generate kaggle\n",
    "utils.load_test_sequences_and_generate_prediction_file(model, hdfs_test_kaggle, MAX_LEN, name+'_maxLen'+str(MAX_LEN)+'_batchSize'+str(batch_size)+'_epochs'+str(epochs) )\n",
    "\n",
    "\"\"\"\n",
    "Generate Model\n",
    "\"\"\"\n",
    "# serialize model to JSON\n",
    "model_json = model.to_json()\n",
    "with open(\"outputs/model_\"+name+'_maxLen'+str(MAX_LEN)+'_batchSize'+str(batch_size)+'_epochs'+str(epochs)+'_'+dt.datetime.today().strftime('%Y%m%d_%H%M%S')+\".json\", \"w\") as json_file:\n",
    "  json_file.write(model_json)\n",
    "# serialize weights to HDF5\n",
    "model.save_weights(\"outputs/model_Weigths\"+name+'_maxLen'+str(MAX_LEN)+'_batchSize'+str(batch_size)+'_epochs'+str(epochs)+'_'+dt.datetime.today().strftime('%Y%m%d_%H%M%S')+\".h5\")\n",
    "print(\"Saved model to disk\")"
   ]
  },
  {
   "cell_type": "markdown",
   "metadata": {
    "id": "y0-VGKtjvmZy"
   },
   "source": [
    "### Modelo Mejorado con Batch Normalization"
   ]
  },
  {
   "cell_type": "code",
   "execution_count": null,
   "metadata": {
    "colab": {
     "base_uri": "https://localhost:8080/"
    },
    "executionInfo": {
     "elapsed": 464,
     "status": "ok",
     "timestamp": 1669341983722,
     "user": {
      "displayName": "Federico de Leon",
      "userId": "01045121239102538016"
     },
     "user_tz": 180
    },
    "id": "Tkvaa5sRwL0p",
    "outputId": "661fcee9-0e69-4a02-97e4-bafa8d38c26f"
   },
   "outputs": [
    {
     "name": "stdout",
     "output_type": "stream",
     "text": [
      "Model: \"sequential_4\"\n",
      "_________________________________________________________________\n",
      " Layer (type)                Output Shape              Param #   \n",
      "=================================================================\n",
      " embedding_4 (Embedding)     (None, 19, 3)             93        \n",
      "                                                                 \n",
      " lstm_7 (LSTM)               (None, 19, 64)            17408     \n",
      "                                                                 \n",
      " lstm_8 (LSTM)               (None, 64)                33024     \n",
      "                                                                 \n",
      " batch_normalization (BatchN  (None, 64)               256       \n",
      " ormalization)                                                   \n",
      "                                                                 \n",
      " dense_4 (Dense)             (None, 2)                 130       \n",
      "                                                                 \n",
      "=================================================================\n",
      "Total params: 50,911\n",
      "Trainable params: 50,783\n",
      "Non-trainable params: 128\n",
      "_________________________________________________________________\n"
     ]
    }
   ],
   "source": [
    "modelBN = Sequential()\n",
    "modelBN.add(Embedding(vocab_size+1, embedding_size, input_length=MAX_LEN))\n",
    "modelBN.add(LSTM(units, return_sequences=True))\n",
    "modelBN.add(LSTM(units, return_sequences=False))\n",
    "modelBN.add(BatchNormalization())\n",
    "modelBN.add(Dense(2, activation='softmax'))\n",
    "modelBN.compile(loss=loss, optimizer=optimizer, metrics=['accuracy',tf.keras.metrics.Precision(),tf.keras.metrics.Recall()])\n",
    "modelBN.summary()"
   ]
  },
  {
   "cell_type": "markdown",
   "metadata": {
    "id": "UVsoksYzy8GL"
   },
   "source": [
    "#### Entrenamiento"
   ]
  },
  {
   "cell_type": "code",
   "execution_count": null,
   "metadata": {
    "colab": {
     "base_uri": "https://localhost:8080/"
    },
    "executionInfo": {
     "elapsed": 2241033,
     "status": "ok",
     "timestamp": 1669344225409,
     "user": {
      "displayName": "Federico de Leon",
      "userId": "01045121239102538016"
     },
     "user_tz": 180
    },
    "id": "yGXGITxyy-PA",
    "outputId": "1d495cde-be94-4687-cdf4-88faf6b7a684"
   },
   "outputs": [
    {
     "name": "stdout",
     "output_type": "stream",
     "text": [
      "Epoch 1/15\n",
      "8390/8390 [==============================] - 156s 18ms/step - loss: 0.0310 - accuracy: 0.9946 - precision_2: 0.9946 - recall_2: 0.9946 - val_loss: 0.0162 - val_accuracy: 0.9989 - val_precision_2: 0.9989 - val_recall_2: 0.9989\n",
      "Epoch 2/15\n",
      "8390/8390 [==============================] - 149s 18ms/step - loss: 0.0178 - accuracy: 0.9981 - precision_2: 0.9981 - recall_2: 0.9981 - val_loss: 0.1607 - val_accuracy: 0.9917 - val_precision_2: 0.9917 - val_recall_2: 0.9917\n",
      "Epoch 3/15\n",
      "8390/8390 [==============================] - 150s 18ms/step - loss: 0.0153 - accuracy: 0.9982 - precision_2: 0.9982 - recall_2: 0.9982 - val_loss: 0.0094 - val_accuracy: 0.9991 - val_precision_2: 0.9991 - val_recall_2: 0.9991\n",
      "Epoch 4/15\n",
      "8390/8390 [==============================] - 148s 18ms/step - loss: 0.0150 - accuracy: 0.9983 - precision_2: 0.9983 - recall_2: 0.9983 - val_loss: 0.0878 - val_accuracy: 0.9812 - val_precision_2: 0.9812 - val_recall_2: 0.9812\n",
      "Epoch 5/15\n",
      "8390/8390 [==============================] - 152s 18ms/step - loss: 0.0136 - accuracy: 0.9985 - precision_2: 0.9985 - recall_2: 0.9985 - val_loss: 0.0081 - val_accuracy: 0.9989 - val_precision_2: 0.9989 - val_recall_2: 0.9989\n",
      "Epoch 6/15\n",
      "8390/8390 [==============================] - 153s 18ms/step - loss: 0.0126 - accuracy: 0.9986 - precision_2: 0.9986 - recall_2: 0.9986 - val_loss: 0.4218 - val_accuracy: 0.8999 - val_precision_2: 0.8999 - val_recall_2: 0.8999\n",
      "Epoch 7/15\n",
      "8390/8390 [==============================] - 148s 18ms/step - loss: 0.0112 - accuracy: 0.9987 - precision_2: 0.9987 - recall_2: 0.9987 - val_loss: 0.0059 - val_accuracy: 0.9993 - val_precision_2: 0.9993 - val_recall_2: 0.9993\n",
      "Epoch 8/15\n",
      "8390/8390 [==============================] - 148s 18ms/step - loss: 0.0109 - accuracy: 0.9987 - precision_2: 0.9987 - recall_2: 0.9987 - val_loss: 1.4872 - val_accuracy: 0.2088 - val_precision_2: 0.2088 - val_recall_2: 0.2088\n",
      "Epoch 9/15\n",
      "8390/8390 [==============================] - 148s 18ms/step - loss: 0.0101 - accuracy: 0.9988 - precision_2: 0.9988 - recall_2: 0.9988 - val_loss: 0.0060 - val_accuracy: 0.9993 - val_precision_2: 0.9993 - val_recall_2: 0.9993\n",
      "Epoch 10/15\n",
      "8390/8390 [==============================] - 148s 18ms/step - loss: 0.0101 - accuracy: 0.9988 - precision_2: 0.9988 - recall_2: 0.9988 - val_loss: 0.0064 - val_accuracy: 0.9992 - val_precision_2: 0.9992 - val_recall_2: 0.9992\n",
      "Epoch 11/15\n",
      "8390/8390 [==============================] - 147s 18ms/step - loss: 0.0102 - accuracy: 0.9988 - precision_2: 0.9988 - recall_2: 0.9988 - val_loss: 0.0119 - val_accuracy: 0.9989 - val_precision_2: 0.9989 - val_recall_2: 0.9989\n",
      "Epoch 12/15\n",
      "8390/8390 [==============================] - 150s 18ms/step - loss: 0.0099 - accuracy: 0.9989 - precision_2: 0.9989 - recall_2: 0.9989 - val_loss: 0.0352 - val_accuracy: 0.9964 - val_precision_2: 0.9964 - val_recall_2: 0.9964\n",
      "Epoch 13/15\n",
      "8390/8390 [==============================] - 149s 18ms/step - loss: 0.0094 - accuracy: 0.9989 - precision_2: 0.9989 - recall_2: 0.9989 - val_loss: 0.0111 - val_accuracy: 0.9988 - val_precision_2: 0.9988 - val_recall_2: 0.9988\n",
      "Epoch 14/15\n",
      "8390/8390 [==============================] - 149s 18ms/step - loss: 0.0091 - accuracy: 0.9989 - precision_2: 0.9989 - recall_2: 0.9989 - val_loss: 0.0078 - val_accuracy: 0.9991 - val_precision_2: 0.9991 - val_recall_2: 0.9991\n",
      "Epoch 15/15\n",
      "8390/8390 [==============================] - 147s 18ms/step - loss: 0.0090 - accuracy: 0.9989 - precision_2: 0.9989 - recall_2: 0.9989 - val_loss: 0.0093 - val_accuracy: 0.9989 - val_precision_2: 0.9989 - val_recall_2: 0.9989\n"
     ]
    }
   ],
   "source": [
    "#se agregó class.weights\n",
    "trainingBN, modelBN = utils.train(modelBN,\n",
    "                X_train,\n",
    "                y_train, \n",
    "                batch_size = batch_size,\n",
    "                epochs = epochs,\n",
    "                validation_data_X = X_val, \n",
    "                validation_data_y = y_val,                                \n",
    "                patience = patience,\n",
    "                class_weights = utils.class_weights(hdfs_train,'class'))"
   ]
  },
  {
   "cell_type": "markdown",
   "metadata": {
    "id": "HJOugunezMBL"
   },
   "source": [
    "#### Evaluación"
   ]
  },
  {
   "cell_type": "code",
   "execution_count": null,
   "metadata": {
    "colab": {
     "base_uri": "https://localhost:8080/",
     "height": 849
    },
    "executionInfo": {
     "elapsed": 33463,
     "status": "ok",
     "timestamp": 1669344258855,
     "user": {
      "displayName": "Federico de Leon",
      "userId": "01045121239102538016"
     },
     "user_tz": 180
    },
    "id": "tNpnWLAEzPHN",
    "outputId": "7f7e3ffd-a16e-46e8-fdd0-fa73d8bf5bb8"
   },
   "outputs": [
    {
     "data": {
      "image/png": "[encoded data removed]",
      "text/plain": [
       "<Figure size 360x360 with 2 Axes>"
      ]
     },
     "metadata": {
      "needs_background": "light"
     },
     "output_type": "display_data"
    },
    {
     "name": "stdout",
     "output_type": "stream",
     "text": [
      "3011/3011 [==============================] - 17s 5ms/step\n"
     ]
    },
    {
     "data": {
      "image/png": "[encoded data removed]",
      "text/plain": [
       "<Figure size 432x288 with 1 Axes>"
      ]
     },
     "metadata": {
      "needs_background": "light"
     },
     "output_type": "display_data"
    },
    {
     "name": "stdout",
     "output_type": "stream",
     "text": [
      "Classification report\n",
      "              precision    recall  f1-score   support\n",
      "\n",
      "    abnormal       0.96      0.99      0.98      2901\n",
      "      normal       1.00      1.00      1.00     93422\n",
      "\n",
      "    accuracy                           1.00     96323\n",
      "   macro avg       0.98      1.00      0.99     96323\n",
      "weighted avg       1.00      1.00      1.00     96323\n",
      "\n",
      "Loss function: 0.010023570619523525, accuracy: 0.9986711144447327\n"
     ]
    }
   ],
   "source": [
    "modelBN_accuracy, modelBN_precision, modelBN_recall, modelBN_f1 = utils.eval_model(trainingBN, modelBN, X_test, y_test)"
   ]
  },
  {
   "cell_type": "markdown",
   "metadata": {
    "id": "MaySRDssyxdo"
   },
   "source": [
    "#### Generación modelo y Salida Kaggle"
   ]
  },
  {
   "cell_type": "code",
   "execution_count": null,
   "metadata": {
    "colab": {
     "base_uri": "https://localhost:8080/"
    },
    "executionInfo": {
     "elapsed": 43319,
     "status": "ok",
     "timestamp": 1669344302166,
     "user": {
      "displayName": "Federico de Leon",
      "userId": "01045121239102538016"
     },
     "user_tz": 180
    },
    "id": "M9ZdvKvyyaOg",
    "outputId": "d25968e7-7783-4fde-de31-13fca580c523"
   },
   "outputs": [
    {
     "name": "stdout",
     "output_type": "stream",
     "text": [
      "5931/5931 [==============================] - 31s 5ms/step\n",
      "Saved model to disk\n"
     ]
    }
   ],
   "source": [
    "name='ModelWithBN'\n",
    "\n",
    "\"\"\"\n",
    "Generate data Kaggle\n",
    "\"\"\"\n",
    "#generate kaggle\n",
    "utils.load_test_sequences_and_generate_prediction_file(modelBN, hdfs_test_kaggle, MAX_LEN, name+'_maxLen'+str(MAX_LEN)+'_batchSize'+str(batch_size)+'_epochs'+str(epochs) )\n",
    "\n",
    "\"\"\"\n",
    "Generate Model\n",
    "\"\"\"\n",
    "# serialize model to JSON\n",
    "model_json = modelBN.to_json()\n",
    "with open(\"outputs/model_\"+name+'_maxLen'+str(MAX_LEN)+'_batchSize'+str(batch_size)+'_epochs'+str(epochs)+'_'+dt.datetime.today().strftime('%Y%m%d_%H%M%S')+\".json\", \"w\") as json_file:\n",
    "  json_file.write(model_json)\n",
    "# serialize weights to HDF5\n",
    "modelBN.save_weights(\"outputs/model_Weigths\"+name+'_maxLen'+str(MAX_LEN)+'_batchSize'+str(batch_size)+'_epochs'+str(epochs)+'_'+dt.datetime.today().strftime('%Y%m%d_%H%M%S')+\".h5\")\n",
    "print(\"Saved model to disk\")"
   ]
  },
  {
   "cell_type": "markdown",
   "metadata": {
    "id": "BMDITbd1th35"
   },
   "source": [
    "### Modelo Mejorado con Gradient Clipping\n"
   ]
  },
  {
   "cell_type": "code",
   "execution_count": null,
   "metadata": {
    "id": "acS1nYp7tj_4"
   },
   "outputs": [],
   "source": [
    "optimizer = Adam(clipvalue=0.5) #para agregar clip value clipvalue=0.5"
   ]
  },
  {
   "cell_type": "code",
   "execution_count": null,
   "metadata": {
    "id": "PsuT-Q6Luf-0"
   },
   "outputs": [],
   "source": [
    "modelGC = Sequential()\n",
    "modelGC.add(Embedding(vocab_size+1, embedding_size, input_length=MAX_LEN))\n",
    "modelGC.add(LSTM(units, return_sequences=True))\n",
    "modelGC.add(LSTM(units, return_sequences=False))\n",
    "modelGC.add(Dense(2, activation='softmax'))\n",
    "modelGC.compile(loss=loss, optimizer=optimizer, metrics=['accuracy',tf.keras.metrics.Precision(),tf.keras.metrics.Recall()])\n",
    "modelGC.summary()"
   ]
  },
  {
   "cell_type": "markdown",
   "metadata": {
    "id": "UDV9Xkn9uJ-F"
   },
   "source": [
    "#### Entrenamiento"
   ]
  },
  {
   "cell_type": "code",
   "execution_count": null,
   "metadata": {
    "id": "ES5o-WICuTT-"
   },
   "outputs": [],
   "source": [
    "#se agregó class.weights\n",
    "trainingGC, modelGC = utils.train(modelGC,\n",
    "                X_train,\n",
    "                y_train, \n",
    "                batch_size = batch_size,\n",
    "                epochs = epochs,\n",
    "                validation_data_X = X_val, \n",
    "                validation_data_y = y_val,                                \n",
    "                patience = patience,\n",
    "                class_weights = utils.class_weights(hdfs_train,'class'))"
   ]
  },
  {
   "cell_type": "markdown",
   "metadata": {
    "id": "_T7ut3fwuL4C"
   },
   "source": [
    "#### Evaluación"
   ]
  },
  {
   "cell_type": "code",
   "execution_count": null,
   "metadata": {
    "id": "3c6Anzblvqku"
   },
   "outputs": [],
   "source": [
    "modelGC_accuracy, modelGC_precision, modelGC_recall, modelGC_f1 = utils.eval_model(trainingGC, modelGC, X_test, y_test)"
   ]
  },
  {
   "cell_type": "markdown",
   "metadata": {
    "id": "L0Z5ogu9uO_H"
   },
   "source": [
    "#### Generación modelo y Salida Kaggle"
   ]
  },
  {
   "cell_type": "code",
   "execution_count": null,
   "metadata": {
    "id": "ezIHobguvx6R"
   },
   "outputs": [],
   "source": [
    "name='ModelWithGC'\n",
    "\n",
    "\"\"\"\n",
    "Generate data Kaggle\n",
    "\"\"\"\n",
    "#generate kaggle\n",
    "utils.load_test_sequences_and_generate_prediction_file(modelGC, hdfs_test_kaggle, MAX_LEN, name+'_maxLen'+str(MAX_LEN)+'_batchSize'+str(batch_size)+'_epochs'+str(epochs) )\n",
    "\n",
    "\"\"\"\n",
    "Generate Model\n",
    "\"\"\"\n",
    "# serialize model to JSON\n",
    "model_json = modelGC.to_json()\n",
    "with open(\"outputs/model_\"+name+'_maxLen'+str(MAX_LEN)+'_batchSize'+str(batch_size)+'_epochs'+str(epochs)+'_'+dt.datetime.today().strftime('%Y%m%d_%H%M%S')+\".json\", \"w\") as json_file:\n",
    "  json_file.write(model_json)\n",
    "# serialize weights to HDF5\n",
    "modelGC.save_weights(\"outputs/model_Weigths\"+name+'_maxLen'+str(MAX_LEN)+'_batchSize'+str(batch_size)+'_epochs'+str(epochs)+'_'+dt.datetime.today().strftime('%Y%m%d_%H%M%S')+\".h5\")\n",
    "print(\"Saved model to disk\")\n"
   ]
  },
  {
   "cell_type": "markdown",
   "metadata": {
    "id": "KExkov0evvyO"
   },
   "source": [
    "### Modelo Mejorado con Gradient *Normalization*\n",
    "\n",
    "\n"
   ]
  },
  {
   "cell_type": "code",
   "execution_count": null,
   "metadata": {
    "id": "9BZB6uzNvzg2"
   },
   "outputs": [],
   "source": [
    "optimizer = Adam(clipnorm=1.) #para agregar clip value clipvalue=0.5"
   ]
  },
  {
   "cell_type": "code",
   "execution_count": null,
   "metadata": {
    "colab": {
     "base_uri": "https://localhost:8080/"
    },
    "executionInfo": {
     "elapsed": 1018,
     "status": "ok",
     "timestamp": 1669344303146,
     "user": {
      "displayName": "Federico de Leon",
      "userId": "01045121239102538016"
     },
     "user_tz": 180
    },
    "id": "Ox-Qar9UwLBu",
    "outputId": "07a0ac72-738c-4eba-f41c-b0dee28ed526"
   },
   "outputs": [
    {
     "name": "stdout",
     "output_type": "stream",
     "text": [
      "Model: \"sequential_5\"\n",
      "_________________________________________________________________\n",
      " Layer (type)                Output Shape              Param #   \n",
      "=================================================================\n",
      " embedding_5 (Embedding)     (None, 19, 3)             93        \n",
      "                                                                 \n",
      " lstm_9 (LSTM)               (None, 19, 64)            17408     \n",
      "                                                                 \n",
      " lstm_10 (LSTM)              (None, 64)                33024     \n",
      "                                                                 \n",
      " dense_5 (Dense)             (None, 2)                 130       \n",
      "                                                                 \n",
      "=================================================================\n",
      "Total params: 50,655\n",
      "Trainable params: 50,655\n",
      "Non-trainable params: 0\n",
      "_________________________________________________________________\n"
     ]
    }
   ],
   "source": [
    "modelGN = Sequential()\n",
    "modelGN.add(Embedding(vocab_size+1, embedding_size, input_length=MAX_LEN))\n",
    "modelGN.add(LSTM(units, return_sequences=True))\n",
    "modelGN.add(LSTM(units, return_sequences=False))\n",
    "modelGN.add(Dense(2, activation='softmax'))\n",
    "modelGN.compile(loss=loss, optimizer=optimizer, metrics=['accuracy',tf.keras.metrics.Precision(),tf.keras.metrics.Recall()])\n",
    "modelGN.summary()"
   ]
  },
  {
   "cell_type": "markdown",
   "metadata": {
    "id": "XT1YJ4SMy_99"
   },
   "source": [
    "#### Entrenamiento"
   ]
  },
  {
   "cell_type": "code",
   "execution_count": null,
   "metadata": {
    "colab": {
     "base_uri": "https://localhost:8080/"
    },
    "executionInfo": {
     "elapsed": 2245241,
     "status": "ok",
     "timestamp": 1669346548374,
     "user": {
      "displayName": "Federico de Leon",
      "userId": "01045121239102538016"
     },
     "user_tz": 180
    },
    "id": "_pGKzdnnzFTr",
    "outputId": "a4e53b1e-7f0c-49b8-d141-ba984bc2c1da"
   },
   "outputs": [
    {
     "name": "stdout",
     "output_type": "stream",
     "text": [
      "Epoch 1/15\n",
      "8390/8390 [==============================] - 150s 17ms/step - loss: 0.1289 - accuracy: 0.9821 - precision_3: 0.9821 - recall_3: 0.9821 - val_loss: 0.0141 - val_accuracy: 0.9980 - val_precision_3: 0.9980 - val_recall_3: 0.9980\n",
      "Epoch 2/15\n",
      "8390/8390 [==============================] - 146s 17ms/step - loss: 0.0321 - accuracy: 0.9978 - precision_3: 0.9978 - recall_3: 0.9978 - val_loss: 0.0141 - val_accuracy: 0.9974 - val_precision_3: 0.9974 - val_recall_3: 0.9974\n",
      "Epoch 3/15\n",
      "8390/8390 [==============================] - 146s 17ms/step - loss: 0.0288 - accuracy: 0.9983 - precision_3: 0.9983 - recall_3: 0.9983 - val_loss: 0.0083 - val_accuracy: 0.9987 - val_precision_3: 0.9987 - val_recall_3: 0.9987\n",
      "Epoch 4/15\n",
      "8390/8390 [==============================] - 146s 17ms/step - loss: 0.0221 - accuracy: 0.9986 - precision_3: 0.9986 - recall_3: 0.9986 - val_loss: 0.0085 - val_accuracy: 0.9990 - val_precision_3: 0.9990 - val_recall_3: 0.9990\n",
      "Epoch 5/15\n",
      "8390/8390 [==============================] - 146s 17ms/step - loss: 0.0200 - accuracy: 0.9988 - precision_3: 0.9988 - recall_3: 0.9988 - val_loss: 0.0052 - val_accuracy: 0.9990 - val_precision_3: 0.9990 - val_recall_3: 0.9990\n",
      "Epoch 6/15\n",
      "8390/8390 [==============================] - 146s 17ms/step - loss: 0.0133 - accuracy: 0.9989 - precision_3: 0.9989 - recall_3: 0.9989 - val_loss: 0.0040 - val_accuracy: 0.9993 - val_precision_3: 0.9993 - val_recall_3: 0.9993\n",
      "Epoch 7/15\n",
      "8390/8390 [==============================] - 147s 18ms/step - loss: 0.0122 - accuracy: 0.9990 - precision_3: 0.9990 - recall_3: 0.9990 - val_loss: 0.0046 - val_accuracy: 0.9994 - val_precision_3: 0.9994 - val_recall_3: 0.9994\n",
      "Epoch 8/15\n",
      "8390/8390 [==============================] - 145s 17ms/step - loss: 0.0134 - accuracy: 0.9991 - precision_3: 0.9991 - recall_3: 0.9991 - val_loss: 0.0061 - val_accuracy: 0.9993 - val_precision_3: 0.9993 - val_recall_3: 0.9993\n",
      "Epoch 9/15\n",
      "8390/8390 [==============================] - 146s 17ms/step - loss: 0.0124 - accuracy: 0.9990 - precision_3: 0.9990 - recall_3: 0.9990 - val_loss: 0.0037 - val_accuracy: 0.9993 - val_precision_3: 0.9993 - val_recall_3: 0.9993\n",
      "Epoch 10/15\n",
      "8390/8390 [==============================] - 147s 18ms/step - loss: 0.0115 - accuracy: 0.9988 - precision_3: 0.9988 - recall_3: 0.9988 - val_loss: 0.0041 - val_accuracy: 0.9993 - val_precision_3: 0.9993 - val_recall_3: 0.9993\n",
      "Epoch 11/15\n",
      "8390/8390 [==============================] - 147s 17ms/step - loss: 0.0095 - accuracy: 0.9992 - precision_3: 0.9992 - recall_3: 0.9992 - val_loss: 0.0044 - val_accuracy: 0.9989 - val_precision_3: 0.9989 - val_recall_3: 0.9989\n",
      "Epoch 12/15\n",
      "8390/8390 [==============================] - 147s 18ms/step - loss: 0.0092 - accuracy: 0.9991 - precision_3: 0.9991 - recall_3: 0.9991 - val_loss: 0.0057 - val_accuracy: 0.9992 - val_precision_3: 0.9992 - val_recall_3: 0.9992\n",
      "Epoch 13/15\n",
      "8390/8390 [==============================] - 146s 17ms/step - loss: 0.0083 - accuracy: 0.9993 - precision_3: 0.9993 - recall_3: 0.9993 - val_loss: 0.0030 - val_accuracy: 0.9995 - val_precision_3: 0.9995 - val_recall_3: 0.9995\n",
      "Epoch 14/15\n",
      "8390/8390 [==============================] - 147s 18ms/step - loss: 0.0080 - accuracy: 0.9994 - precision_3: 0.9994 - recall_3: 0.9994 - val_loss: 0.0032 - val_accuracy: 0.9993 - val_precision_3: 0.9993 - val_recall_3: 0.9993\n",
      "Epoch 15/15\n",
      "8390/8390 [==============================] - 148s 18ms/step - loss: 0.0089 - accuracy: 0.9993 - precision_3: 0.9993 - recall_3: 0.9993 - val_loss: 0.0037 - val_accuracy: 0.9988 - val_precision_3: 0.9988 - val_recall_3: 0.9988\n"
     ]
    }
   ],
   "source": [
    "#se agregó class.weights\n",
    "trainingGN, modelGN = utils.train(modelGN,\n",
    "                X_train,\n",
    "                y_train, \n",
    "                batch_size = batch_size,\n",
    "                epochs = epochs,\n",
    "                validation_data_X = X_val, \n",
    "                validation_data_y = y_val,                                \n",
    "                patience = patience,\n",
    "                class_weights = utils.class_weights(hdfs_train,'class'))"
   ]
  },
  {
   "cell_type": "markdown",
   "metadata": {
    "id": "VaK5JqSAzUfx"
   },
   "source": [
    "#### Evaluación"
   ]
  },
  {
   "cell_type": "code",
   "execution_count": null,
   "metadata": {
    "colab": {
     "base_uri": "https://localhost:8080/",
     "height": 849
    },
    "executionInfo": {
     "elapsed": 37844,
     "status": "ok",
     "timestamp": 1669346586207,
     "user": {
      "displayName": "Federico de Leon",
      "userId": "01045121239102538016"
     },
     "user_tz": 180
    },
    "id": "gnZO4elgzZQo",
    "outputId": "c0807c1d-56b2-4349-d5b7-40f8259764f5"
   },
   "outputs": [
    {
     "data": {
      "image/png": "[encoded data removed]",
      "text/plain": [
       "<Figure size 360x360 with 2 Axes>"
      ]
     },
     "metadata": {
      "needs_background": "light"
     },
     "output_type": "display_data"
    },
    {
     "name": "stdout",
     "output_type": "stream",
     "text": [
      "3011/3011 [==============================] - 17s 5ms/step\n"
     ]
    },
    {
     "data": {
      "image/png": "[encoded data removed]",
      "text/plain": [
       "<Figure size 432x288 with 1 Axes>"
      ]
     },
     "metadata": {
      "needs_background": "light"
     },
     "output_type": "display_data"
    },
    {
     "name": "stdout",
     "output_type": "stream",
     "text": [
      "Classification report\n",
      "              precision    recall  f1-score   support\n",
      "\n",
      "    abnormal       0.96      0.99      0.98      2901\n",
      "      normal       1.00      1.00      1.00     93422\n",
      "\n",
      "    accuracy                           1.00     96323\n",
      "   macro avg       0.98      1.00      0.99     96323\n",
      "weighted avg       1.00      1.00      1.00     96323\n",
      "\n",
      "Loss function: 0.004350789822638035, accuracy: 0.9986711144447327\n"
     ]
    }
   ],
   "source": [
    "modelGN_accuracy, modelGN_precision, modelGN_recall, modelGN_f1 = utils.eval_model(trainingGN, modelGN, X_test, y_test)"
   ]
  },
  {
   "cell_type": "markdown",
   "metadata": {
    "id": "oRxM9wbpywCg"
   },
   "source": [
    "####Generación modelo y Salida Kaggle"
   ]
  },
  {
   "cell_type": "code",
   "execution_count": null,
   "metadata": {
    "colab": {
     "base_uri": "https://localhost:8080/"
    },
    "executionInfo": {
     "elapsed": 35604,
     "status": "ok",
     "timestamp": 1669346621774,
     "user": {
      "displayName": "Federico de Leon",
      "userId": "01045121239102538016"
     },
     "user_tz": 180
    },
    "id": "NGHxtm-nx5dr",
    "outputId": "2511bd8d-651f-4a31-e388-814aa9a665f2"
   },
   "outputs": [
    {
     "name": "stdout",
     "output_type": "stream",
     "text": [
      "5931/5931 [==============================] - 33s 6ms/step\n",
      "Saved model to disk\n"
     ]
    }
   ],
   "source": [
    "name='ModelWithGN'\n",
    "\n",
    "\"\"\"\n",
    "Generate data Kaggle\n",
    "\"\"\"\n",
    "#generate kaggle\n",
    "utils.load_test_sequences_and_generate_prediction_file(modelGN, hdfs_test_kaggle, MAX_LEN, name+'_maxLen'+str(MAX_LEN)+'_batchSize'+str(batch_size)+'_epochs'+str(epochs) )\n",
    "\n",
    "\"\"\"\n",
    "Generate Model\n",
    "\"\"\"\n",
    "# serialize model to JSON\n",
    "model_json = modelGN.to_json()\n",
    "with open(\"outputs/model_\"+name+'_maxLen'+str(MAX_LEN)+'_batchSize'+str(batch_size)+'_epochs'+str(epochs)+'_'+dt.datetime.today().strftime('%Y%m%d_%H%M%S')+\".json\", \"w\") as json_file:\n",
    "  json_file.write(model_json)\n",
    "# serialize weights to HDF5\n",
    "modelGN.save_weights(\"outputs/model_Weigths\"+name+'_maxLen'+str(MAX_LEN)+'_batchSize'+str(batch_size)+'_epochs'+str(epochs)+'_'+dt.datetime.today().strftime('%Y%m%d_%H%M%S')+\".h5\")\n",
    "print(\"Saved model to disk\")\n"
   ]
  },
  {
   "cell_type": "markdown",
   "metadata": {
    "id": "XF-SekK0vQJM"
   },
   "source": [
    "### Modelo Mejorado con Batch Normalization y Gradient Normalization"
   ]
  },
  {
   "cell_type": "code",
   "execution_count": null,
   "metadata": {
    "colab": {
     "base_uri": "https://localhost:8080/"
    },
    "executionInfo": {
     "elapsed": 717,
     "status": "ok",
     "timestamp": 1669346622453,
     "user": {
      "displayName": "Federico de Leon",
      "userId": "01045121239102538016"
     },
     "user_tz": 180
    },
    "id": "0CqjJVXdLufm",
    "outputId": "a254ca23-250e-45af-8d36-28d71dd785f2"
   },
   "outputs": [
    {
     "name": "stdout",
     "output_type": "stream",
     "text": [
      "Model: \"sequential_6\"\n",
      "_________________________________________________________________\n",
      " Layer (type)                Output Shape              Param #   \n",
      "=================================================================\n",
      " embedding_6 (Embedding)     (None, 19, 3)             93        \n",
      "                                                                 \n",
      " lstm_11 (LSTM)              (None, 19, 64)            17408     \n",
      "                                                                 \n",
      " lstm_12 (LSTM)              (None, 64)                33024     \n",
      "                                                                 \n",
      " batch_normalization_1 (Batc  (None, 64)               256       \n",
      " hNormalization)                                                 \n",
      "                                                                 \n",
      " dense_6 (Dense)             (None, 2)                 130       \n",
      "                                                                 \n",
      "=================================================================\n",
      "Total params: 50,911\n",
      "Trainable params: 50,783\n",
      "Non-trainable params: 128\n",
      "_________________________________________________________________\n"
     ]
    }
   ],
   "source": [
    "modelGN_BN = Sequential()\n",
    "modelGN_BN.add(Embedding(vocab_size+1, embedding_size, input_length=MAX_LEN))\n",
    "modelGN_BN.add(LSTM(units, return_sequences=True))\n",
    "modelGN_BN.add(LSTM(units, return_sequences=False))\n",
    "modelGN_BN.add(BatchNormalization())\n",
    "modelGN_BN.add(Dense(2, activation='softmax'))\n",
    "modelGN_BN.compile(loss=loss, optimizer=optimizer, metrics=['accuracy',tf.keras.metrics.Precision(),tf.keras.metrics.Recall()])\n",
    "modelGN_BN.summary()"
   ]
  },
  {
   "cell_type": "markdown",
   "metadata": {
    "id": "weaHMbBAzoqD"
   },
   "source": [
    "#### Entrenamiento"
   ]
  },
  {
   "cell_type": "code",
   "execution_count": null,
   "metadata": {
    "colab": {
     "base_uri": "https://localhost:8080/"
    },
    "executionInfo": {
     "elapsed": 2245126,
     "status": "ok",
     "timestamp": 1669348867573,
     "user": {
      "displayName": "Federico de Leon",
      "userId": "01045121239102538016"
     },
     "user_tz": 180
    },
    "id": "KoKoxraqzpFy",
    "outputId": "e552e637-f543-42c1-8ebc-4575d638317f"
   },
   "outputs": [
    {
     "name": "stdout",
     "output_type": "stream",
     "text": [
      "Epoch 1/15\n",
      "8390/8390 [==============================] - 152s 18ms/step - loss: 0.0264 - accuracy: 0.9979 - precision_4: 0.9979 - recall_4: 0.9979 - val_loss: 6.8521 - val_accuracy: 0.0364 - val_precision_4: 0.0364 - val_recall_4: 0.0364\n",
      "Epoch 2/15\n",
      "8390/8390 [==============================] - 148s 18ms/step - loss: 0.0276 - accuracy: 0.9991 - precision_4: 0.9991 - recall_4: 0.9991 - val_loss: 8.9719 - val_accuracy: 0.2049 - val_precision_4: 0.2049 - val_recall_4: 0.2049\n",
      "Epoch 3/15\n",
      "8390/8390 [==============================] - 148s 18ms/step - loss: 0.0272 - accuracy: 0.9992 - precision_4: 0.9992 - recall_4: 0.9992 - val_loss: 0.0117 - val_accuracy: 0.9964 - val_precision_4: 0.9964 - val_recall_4: 0.9964\n",
      "Epoch 4/15\n",
      "8390/8390 [==============================] - 148s 18ms/step - loss: 0.0235 - accuracy: 0.9991 - precision_4: 0.9991 - recall_4: 0.9991 - val_loss: 0.0090 - val_accuracy: 0.9988 - val_precision_4: 0.9988 - val_recall_4: 0.9988\n",
      "Epoch 5/15\n",
      "8390/8390 [==============================] - 149s 18ms/step - loss: 0.0263 - accuracy: 0.9992 - precision_4: 0.9992 - recall_4: 0.9992 - val_loss: 0.0027 - val_accuracy: 0.9997 - val_precision_4: 0.9997 - val_recall_4: 0.9997\n",
      "Epoch 6/15\n",
      "8390/8390 [==============================] - 149s 18ms/step - loss: 0.0247 - accuracy: 0.9992 - precision_4: 0.9992 - recall_4: 0.9992 - val_loss: 2.0370 - val_accuracy: 0.8249 - val_precision_4: 0.8249 - val_recall_4: 0.8249\n",
      "Epoch 7/15\n",
      "8390/8390 [==============================] - 149s 18ms/step - loss: 0.0242 - accuracy: 0.9993 - precision_4: 0.9993 - recall_4: 0.9993 - val_loss: 0.0049 - val_accuracy: 0.9993 - val_precision_4: 0.9993 - val_recall_4: 0.9993\n",
      "Epoch 8/15\n",
      "8390/8390 [==============================] - 147s 18ms/step - loss: 0.0235 - accuracy: 0.9993 - precision_4: 0.9993 - recall_4: 0.9993 - val_loss: 0.0078 - val_accuracy: 0.9997 - val_precision_4: 0.9997 - val_recall_4: 0.9997\n",
      "Epoch 9/15\n",
      "8390/8390 [==============================] - 145s 17ms/step - loss: 0.0217 - accuracy: 0.9992 - precision_4: 0.9992 - recall_4: 0.9992 - val_loss: 0.0134 - val_accuracy: 0.9984 - val_precision_4: 0.9984 - val_recall_4: 0.9984\n",
      "Epoch 10/15\n",
      "8390/8390 [==============================] - 152s 18ms/step - loss: 0.0210 - accuracy: 0.9992 - precision_4: 0.9992 - recall_4: 0.9992 - val_loss: 5.8954 - val_accuracy: 0.2037 - val_precision_4: 0.2037 - val_recall_4: 0.2037\n",
      "Epoch 11/15\n",
      "8390/8390 [==============================] - 146s 17ms/step - loss: 0.0192 - accuracy: 0.9992 - precision_4: 0.9992 - recall_4: 0.9992 - val_loss: 0.0039 - val_accuracy: 0.9992 - val_precision_4: 0.9992 - val_recall_4: 0.9992\n",
      "Epoch 12/15\n",
      "8390/8390 [==============================] - 145s 17ms/step - loss: 0.0188 - accuracy: 0.9993 - precision_4: 0.9993 - recall_4: 0.9993 - val_loss: 0.0107 - val_accuracy: 0.9993 - val_precision_4: 0.9993 - val_recall_4: 0.9993\n",
      "Epoch 13/15\n",
      "8390/8390 [==============================] - 146s 17ms/step - loss: 0.0156 - accuracy: 0.9993 - precision_4: 0.9993 - recall_4: 0.9993 - val_loss: 0.0090 - val_accuracy: 0.9994 - val_precision_4: 0.9994 - val_recall_4: 0.9994\n",
      "Epoch 14/15\n",
      "8390/8390 [==============================] - 145s 17ms/step - loss: 0.0146 - accuracy: 0.9993 - precision_4: 0.9993 - recall_4: 0.9993 - val_loss: 0.0057 - val_accuracy: 0.9993 - val_precision_4: 0.9993 - val_recall_4: 0.9993\n",
      "Epoch 15/15\n",
      "8390/8390 [==============================] - 144s 17ms/step - loss: 0.0134 - accuracy: 0.9992 - precision_4: 0.9992 - recall_4: 0.9992 - val_loss: 0.0033 - val_accuracy: 0.9997 - val_precision_4: 0.9997 - val_recall_4: 0.9997\n"
     ]
    }
   ],
   "source": [
    "#se agregó class.weights\n",
    "trainingGN_BN, modelGN_BN = utils.train(modelGN_BN,\n",
    "                X_train,\n",
    "                y_train, \n",
    "                batch_size = batch_size,\n",
    "                epochs = epochs,\n",
    "                validation_data_X = X_val, \n",
    "                validation_data_y = y_val,                                \n",
    "                patience = patience,\n",
    "                class_weights = utils.class_weights(hdfs_train,'class'))"
   ]
  },
  {
   "cell_type": "markdown",
   "metadata": {
    "id": "sYaONMdvzWUp"
   },
   "source": [
    "#### Evaluación"
   ]
  },
  {
   "cell_type": "code",
   "execution_count": null,
   "metadata": {
    "colab": {
     "base_uri": "https://localhost:8080/",
     "height": 849
    },
    "executionInfo": {
     "elapsed": 31081,
     "status": "ok",
     "timestamp": 1669348898640,
     "user": {
      "displayName": "Federico de Leon",
      "userId": "01045121239102538016"
     },
     "user_tz": 180
    },
    "id": "jZ0bbNNzzXFP",
    "outputId": "38eca922-c1cb-4b77-b663-a4488609a60f"
   },
   "outputs": [
    {
     "data": {
      "image/png": "[encoded data removed]",
      "text/plain": [
       "<Figure size 360x360 with 2 Axes>"
      ]
     },
     "metadata": {
      "needs_background": "light"
     },
     "output_type": "display_data"
    },
    {
     "name": "stdout",
     "output_type": "stream",
     "text": [
      "3011/3011 [==============================] - 16s 5ms/step\n"
     ]
    },
    {
     "data": {
      "image/png": "[encoded data removed]",
      "text/plain": [
       "<Figure size 432x288 with 1 Axes>"
      ]
     },
     "metadata": {
      "needs_background": "light"
     },
     "output_type": "display_data"
    },
    {
     "name": "stdout",
     "output_type": "stream",
     "text": [
      "Classification report\n",
      "              precision    recall  f1-score   support\n",
      "\n",
      "    abnormal       0.99      0.99      0.99      2901\n",
      "      normal       1.00      1.00      1.00     93422\n",
      "\n",
      "    accuracy                           1.00     96323\n",
      "   macro avg       1.00      1.00      1.00     96323\n",
      "weighted avg       1.00      1.00      1.00     96323\n",
      "\n",
      "Loss function: 0.004058150574564934, accuracy: 0.9995743632316589\n"
     ]
    }
   ],
   "source": [
    "modelGN_BN_accuracy, modelGN_BN_precision, modelGN_BN_recall, modelGN_BN_f1 = utils.eval_model(trainingGN_BN, modelGN_BN, X_test, y_test)"
   ]
  },
  {
   "cell_type": "markdown",
   "metadata": {
    "id": "-cDTnLsaxjyE"
   },
   "source": [
    "#### Generación modelo y Salida Kaggle"
   ]
  },
  {
   "cell_type": "code",
   "execution_count": null,
   "metadata": {
    "colab": {
     "base_uri": "https://localhost:8080/"
    },
    "executionInfo": {
     "elapsed": 32872,
     "status": "ok",
     "timestamp": 1669348931475,
     "user": {
      "displayName": "Federico de Leon",
      "userId": "01045121239102538016"
     },
     "user_tz": 180
    },
    "id": "QslTNmcixobB",
    "outputId": "fed30c78-602f-41ff-87c9-427a8f6ebe24"
   },
   "outputs": [
    {
     "name": "stdout",
     "output_type": "stream",
     "text": [
      "5931/5931 [==============================] - 30s 5ms/step\n",
      "Saved model to disk\n"
     ]
    }
   ],
   "source": [
    "name='ModelWithGNandBN'\n",
    "\n",
    "\"\"\"\n",
    "Generate data Kaggle\n",
    "\"\"\"\n",
    "\n",
    "utils.load_test_sequences_and_generate_prediction_file(modelGN_BN, hdfs_test_kaggle, MAX_LEN, name+'_maxLen'+str(MAX_LEN)+'_batchSize'+str(batch_size)+'_epochs'+str(epochs) )\n",
    "\n",
    "\"\"\"\n",
    "Generate Model\n",
    "\"\"\"\n",
    "# serialize model to JSON\n",
    "model_json = modelGN_BN.to_json()\n",
    "with open(\"outputs/model_\"+name+'_maxLen'+str(MAX_LEN)+'_batchSize'+str(batch_size)+'_epochs'+str(epochs)+'_'+dt.datetime.today().strftime('%Y%m%d_%H%M%S')+\".json\", \"w\") as json_file:\n",
    "  json_file.write(model_json)\n",
    "# serialize weights to HDF5\n",
    "modelGN_BN.save_weights(\"outputs/model_Weigths\"+name+'_maxLen'+str(MAX_LEN)+'_batchSize'+str(batch_size)+'_epochs'+str(epochs)+'_'+dt.datetime.today().strftime('%Y%m%d_%H%M%S')+\".h5\")\n",
    "print(\"Saved model to disk\")"
   ]
  },
  {
   "cell_type": "markdown",
   "metadata": {
    "id": "abIJFm--rMwZ"
   },
   "source": [
    "### Modelo Mejorado con Data Augmentation"
   ]
  },
  {
   "cell_type": "code",
   "execution_count": null,
   "metadata": {
    "colab": {
     "base_uri": "https://localhost:8080/"
    },
    "executionInfo": {
     "elapsed": 715,
     "status": "ok",
     "timestamp": 1669348932181,
     "user": {
      "displayName": "Federico de Leon",
      "userId": "01045121239102538016"
     },
     "user_tz": 180
    },
    "id": "3Zp7UIMUroGg",
    "outputId": "f54ffb51-1689-42b3-e27d-75174c24bc5f"
   },
   "outputs": [
    {
     "name": "stdout",
     "output_type": "stream",
     "text": [
      "Model: \"sequential_7\"\n",
      "_________________________________________________________________\n",
      " Layer (type)                Output Shape              Param #   \n",
      "=================================================================\n",
      " embedding_7 (Embedding)     (None, 19, 3)             93        \n",
      "                                                                 \n",
      " lstm_13 (LSTM)              (None, 19, 64)            17408     \n",
      "                                                                 \n",
      " lstm_14 (LSTM)              (None, 64)                33024     \n",
      "                                                                 \n",
      " dense_7 (Dense)             (None, 2)                 130       \n",
      "                                                                 \n",
      "=================================================================\n",
      "Total params: 50,655\n",
      "Trainable params: 50,655\n",
      "Non-trainable params: 0\n",
      "_________________________________________________________________\n"
     ]
    }
   ],
   "source": [
    "modelDA = Sequential()\n",
    "modelDA.add(Embedding(vocab_size+1, embedding_size, input_length=MAX_LEN))\n",
    "modelDA.add(LSTM(units, return_sequences=True))\n",
    "modelDA.add(LSTM(units, return_sequences=False))\n",
    "modelDA.add(Dense(2, activation='softmax'))\n",
    "modelDA.compile(loss=loss, optimizer=optimizer, metrics=['accuracy',tf.keras.metrics.Precision(),tf.keras.metrics.Recall()])\n",
    "modelDA.summary()"
   ]
  },
  {
   "cell_type": "markdown",
   "metadata": {
    "id": "4gPfHVc5rVYF"
   },
   "source": [
    "#### Entrenamiento"
   ]
  },
  {
   "cell_type": "code",
   "execution_count": null,
   "metadata": {
    "colab": {
     "base_uri": "https://localhost:8080/"
    },
    "executionInfo": {
     "elapsed": 2845283,
     "status": "ok",
     "timestamp": 1669351777457,
     "user": {
      "displayName": "Federico de Leon",
      "userId": "01045121239102538016"
     },
     "user_tz": 180
    },
    "id": "LpvnDb2rrzRf",
    "outputId": "cc60ffb9-3f10-4797-ec04-a12166156413"
   },
   "outputs": [
    {
     "name": "stdout",
     "output_type": "stream",
     "text": [
      "Epoch 1/15\n",
      "10809/10809 [==============================] - 189s 17ms/step - loss: 0.0779 - accuracy: 0.9911 - precision_5: 0.9911 - recall_5: 0.9911 - val_loss: 0.0081 - val_accuracy: 0.9989 - val_precision_5: 0.9989 - val_recall_5: 0.9989\n",
      "Epoch 2/15\n",
      "10809/10809 [==============================] - 185s 17ms/step - loss: 0.0284 - accuracy: 0.9983 - precision_5: 0.9983 - recall_5: 0.9983 - val_loss: 0.0054 - val_accuracy: 0.9992 - val_precision_5: 0.9992 - val_recall_5: 0.9992\n",
      "Epoch 3/15\n",
      "10809/10809 [==============================] - 186s 17ms/step - loss: 0.0236 - accuracy: 0.9985 - precision_5: 0.9985 - recall_5: 0.9985 - val_loss: 0.0085 - val_accuracy: 0.9988 - val_precision_5: 0.9988 - val_recall_5: 0.9988\n",
      "Epoch 4/15\n",
      "10809/10809 [==============================] - 186s 17ms/step - loss: 0.0212 - accuracy: 0.9982 - precision_5: 0.9982 - recall_5: 0.9982 - val_loss: 0.0071 - val_accuracy: 0.9982 - val_precision_5: 0.9982 - val_recall_5: 0.9982\n",
      "Epoch 5/15\n",
      "10809/10809 [==============================] - 187s 17ms/step - loss: 0.0159 - accuracy: 0.9984 - precision_5: 0.9984 - recall_5: 0.9984 - val_loss: 0.0088 - val_accuracy: 0.9987 - val_precision_5: 0.9987 - val_recall_5: 0.9987\n",
      "Epoch 6/15\n",
      "10809/10809 [==============================] - 188s 17ms/step - loss: 0.0147 - accuracy: 0.9987 - precision_5: 0.9987 - recall_5: 0.9987 - val_loss: 0.0041 - val_accuracy: 0.9993 - val_precision_5: 0.9993 - val_recall_5: 0.9993\n",
      "Epoch 7/15\n",
      "10809/10809 [==============================] - 187s 17ms/step - loss: 0.0139 - accuracy: 0.9988 - precision_5: 0.9988 - recall_5: 0.9988 - val_loss: 0.0044 - val_accuracy: 0.9989 - val_precision_5: 0.9989 - val_recall_5: 0.9989\n",
      "Epoch 8/15\n",
      "10809/10809 [==============================] - 185s 17ms/step - loss: 0.0131 - accuracy: 0.9988 - precision_5: 0.9988 - recall_5: 0.9988 - val_loss: 0.0039 - val_accuracy: 0.9993 - val_precision_5: 0.9993 - val_recall_5: 0.9993\n",
      "Epoch 9/15\n",
      "10809/10809 [==============================] - 186s 17ms/step - loss: 0.0127 - accuracy: 0.9988 - precision_5: 0.9988 - recall_5: 0.9988 - val_loss: 0.0050 - val_accuracy: 0.9993 - val_precision_5: 0.9993 - val_recall_5: 0.9993\n",
      "Epoch 10/15\n",
      "10809/10809 [==============================] - 187s 17ms/step - loss: 0.0125 - accuracy: 0.9988 - precision_5: 0.9988 - recall_5: 0.9988 - val_loss: 0.0050 - val_accuracy: 0.9993 - val_precision_5: 0.9993 - val_recall_5: 0.9993\n",
      "Epoch 11/15\n",
      "10809/10809 [==============================] - 187s 17ms/step - loss: 0.0116 - accuracy: 0.9988 - precision_5: 0.9988 - recall_5: 0.9988 - val_loss: 0.0018 - val_accuracy: 0.9994 - val_precision_5: 0.9994 - val_recall_5: 0.9994\n",
      "Epoch 12/15\n",
      "10809/10809 [==============================] - 187s 17ms/step - loss: 0.0112 - accuracy: 0.9990 - precision_5: 0.9990 - recall_5: 0.9990 - val_loss: 0.0024 - val_accuracy: 0.9998 - val_precision_5: 0.9998 - val_recall_5: 0.9998\n",
      "Epoch 13/15\n",
      "10809/10809 [==============================] - 189s 17ms/step - loss: 0.0121 - accuracy: 0.9989 - precision_5: 0.9989 - recall_5: 0.9989 - val_loss: 0.0023 - val_accuracy: 0.9994 - val_precision_5: 0.9994 - val_recall_5: 0.9994\n",
      "Epoch 14/15\n",
      "10809/10809 [==============================] - 188s 17ms/step - loss: 0.0111 - accuracy: 0.9990 - precision_5: 0.9990 - recall_5: 0.9990 - val_loss: 0.0047 - val_accuracy: 0.9993 - val_precision_5: 0.9993 - val_recall_5: 0.9993\n",
      "Epoch 15/15\n",
      "10809/10809 [==============================] - 189s 17ms/step - loss: 0.0115 - accuracy: 0.9990 - precision_5: 0.9990 - recall_5: 0.9990 - val_loss: 0.0044 - val_accuracy: 0.9989 - val_precision_5: 0.9989 - val_recall_5: 0.9989\n"
     ]
    }
   ],
   "source": [
    "#se agregó class.weights\n",
    "trainingDA, modelDA = utils.train(modelDA,\n",
    "                X_train_aug,\n",
    "                y_train_aug, \n",
    "                batch_size = batch_size,\n",
    "                epochs = epochs,\n",
    "                validation_data_X = X_val, \n",
    "                validation_data_y = y_val,                                \n",
    "                patience = patience,\n",
    "                class_weights = utils.class_weights(hdfs_train,'class'))"
   ]
  },
  {
   "cell_type": "markdown",
   "metadata": {
    "id": "mn-YIJY2rX-a"
   },
   "source": [
    "#### Evaluación"
   ]
  },
  {
   "cell_type": "code",
   "execution_count": null,
   "metadata": {
    "colab": {
     "base_uri": "https://localhost:8080/",
     "height": 849
    },
    "executionInfo": {
     "elapsed": 36259,
     "status": "ok",
     "timestamp": 1669351813712,
     "user": {
      "displayName": "Federico de Leon",
      "userId": "01045121239102538016"
     },
     "user_tz": 180
    },
    "id": "75noSDBfru30",
    "outputId": "6c4487d6-084e-4a10-b1be-b6a5d9bb28d3"
   },
   "outputs": [
    {
     "data": {
      "image/png": "[encoded data removed]",
      "text/plain": [
       "<Figure size 360x360 with 2 Axes>"
      ]
     },
     "metadata": {
      "needs_background": "light"
     },
     "output_type": "display_data"
    },
    {
     "name": "stdout",
     "output_type": "stream",
     "text": [
      "3011/3011 [==============================] - 16s 5ms/step\n"
     ]
    },
    {
     "data": {
      "image/png": "[encoded data removed]",
      "text/plain": [
       "<Figure size 432x288 with 1 Axes>"
      ]
     },
     "metadata": {
      "needs_background": "light"
     },
     "output_type": "display_data"
    },
    {
     "name": "stdout",
     "output_type": "stream",
     "text": [
      "Classification report\n",
      "              precision    recall  f1-score   support\n",
      "\n",
      "    abnormal       0.96      0.99      0.98      2901\n",
      "      normal       1.00      1.00      1.00     93422\n",
      "\n",
      "    accuracy                           1.00     96323\n",
      "   macro avg       0.98      1.00      0.99     96323\n",
      "weighted avg       1.00      1.00      1.00     96323\n",
      "\n",
      "Loss function: 0.004865689668804407, accuracy: 0.9987126588821411\n"
     ]
    }
   ],
   "source": [
    "modelDA_accuracy, modelDA_precision, modelDA_recall, modelDA_f1 = utils.eval_model(trainingDA, modelDA, X_test, y_test)"
   ]
  },
  {
   "cell_type": "markdown",
   "metadata": {
    "id": "F357yN7Ircou"
   },
   "source": [
    "#### Generación modelo y Salida Kaggle"
   ]
  },
  {
   "cell_type": "code",
   "execution_count": null,
   "metadata": {
    "colab": {
     "base_uri": "https://localhost:8080/"
    },
    "executionInfo": {
     "elapsed": 32945,
     "status": "ok",
     "timestamp": 1669351846647,
     "user": {
      "displayName": "Federico de Leon",
      "userId": "01045121239102538016"
     },
     "user_tz": 180
    },
    "id": "S-cutHTisgMh",
    "outputId": "2fb4f785-e41e-433c-87af-3b2402debd9b"
   },
   "outputs": [
    {
     "name": "stdout",
     "output_type": "stream",
     "text": [
      "5931/5931 [==============================] - 30s 5ms/step\n",
      "Saved model to disk\n"
     ]
    }
   ],
   "source": [
    "name='ModelWithDataAugmentation'\n",
    "\n",
    "\"\"\"\n",
    "Generate data Kaggle\n",
    "\"\"\"\n",
    "\n",
    "utils.load_test_sequences_and_generate_prediction_file(modelDA, hdfs_test_kaggle, MAX_LEN, name+'_maxLen'+str(MAX_LEN)+'_batchSize'+str(batch_size)+'_epochs'+str(epochs) )\n",
    "\n",
    "\"\"\"\n",
    "Generate Model\n",
    "\"\"\"\n",
    "# serialize model to JSON\n",
    "model_json = modelDA.to_json()\n",
    "with open(\"outputs/model_\"+name+'_maxLen'+str(MAX_LEN)+'_batchSize'+str(batch_size)+'_epochs'+str(epochs)+'_'+dt.datetime.today().strftime('%Y%m%d_%H%M%S')+\".json\", \"w\") as json_file:\n",
    "  json_file.write(model_json)\n",
    "# serialize weights to HDF5\n",
    "modelDA.save_weights(\"outputs/model_Weigths\"+name+'_maxLen'+str(MAX_LEN)+'_batchSize'+str(batch_size)+'_epochs'+str(epochs)+'_'+dt.datetime.today().strftime('%Y%m%d_%H%M%S')+\".h5\")\n",
    "print(\"Saved model to disk\")"
   ]
  },
  {
   "cell_type": "markdown",
   "metadata": {
    "id": "9x4jGC-craoZ"
   },
   "source": [
    "### Modelo Mejorado con Data Augmentation y Gradient Normalization "
   ]
  },
  {
   "cell_type": "code",
   "execution_count": null,
   "metadata": {
    "id": "I1V5Kv-Tnxc1"
   },
   "outputs": [],
   "source": [
    "optimizer = Adam(clipnorm=1.) #para agregar clip value clipvalue=0.5"
   ]
  },
  {
   "cell_type": "code",
   "execution_count": null,
   "metadata": {
    "colab": {
     "base_uri": "https://localhost:8080/"
    },
    "executionInfo": {
     "elapsed": 712,
     "status": "ok",
     "timestamp": 1669351847353,
     "user": {
      "displayName": "Federico de Leon",
      "userId": "01045121239102538016"
     },
     "user_tz": 180
    },
    "id": "V2jG01Mcn3HL",
    "outputId": "e4ff0dc4-f3c8-43b6-fc06-dd4f8aa6f445"
   },
   "outputs": [
    {
     "name": "stdout",
     "output_type": "stream",
     "text": [
      "Model: \"sequential_8\"\n",
      "_________________________________________________________________\n",
      " Layer (type)                Output Shape              Param #   \n",
      "=================================================================\n",
      " embedding_8 (Embedding)     (None, 19, 3)             93        \n",
      "                                                                 \n",
      " lstm_15 (LSTM)              (None, 19, 64)            17408     \n",
      "                                                                 \n",
      " lstm_16 (LSTM)              (None, 64)                33024     \n",
      "                                                                 \n",
      " dense_8 (Dense)             (None, 2)                 130       \n",
      "                                                                 \n",
      "=================================================================\n",
      "Total params: 50,655\n",
      "Trainable params: 50,655\n",
      "Non-trainable params: 0\n",
      "_________________________________________________________________\n"
     ]
    }
   ],
   "source": [
    "modelGN_DA = Sequential()\n",
    "modelGN_DA.add(Embedding(vocab_size+1, embedding_size, input_length=MAX_LEN)) \n",
    "modelGN_DA.add(LSTM(units, return_sequences=True))\n",
    "modelGN_DA.add(LSTM(units, return_sequences=False))\n",
    "modelGN_DA.add(Dense(2, activation='softmax'))\n",
    "modelGN_DA.compile(loss=loss, optimizer=optimizer, metrics=['accuracy',tf.keras.metrics.Precision(),tf.keras.metrics.Recall()])\n",
    "modelGN_DA.summary()"
   ]
  },
  {
   "cell_type": "markdown",
   "metadata": {
    "id": "-oD1ArUZoCDb"
   },
   "source": [
    "#### Entrenamiento"
   ]
  },
  {
   "cell_type": "code",
   "execution_count": null,
   "metadata": {
    "colab": {
     "base_uri": "https://localhost:8080/"
    },
    "executionInfo": {
     "elapsed": 2821977,
     "status": "ok",
     "timestamp": 1669354669585,
     "user": {
      "displayName": "Federico de Leon",
      "userId": "01045121239102538016"
     },
     "user_tz": 180
    },
    "id": "cvzkU-tFoECM",
    "outputId": "4d18bd17-25ae-4459-833a-f7d9f177f084"
   },
   "outputs": [
    {
     "name": "stdout",
     "output_type": "stream",
     "text": [
      "Epoch 1/15\n",
      "10809/10809 [==============================] - 189s 17ms/step - loss: 0.0896 - accuracy: 0.9869 - precision_6: 0.9869 - recall_6: 0.9869 - val_loss: 0.0108 - val_accuracy: 0.9976 - val_precision_6: 0.9976 - val_recall_6: 0.9976\n",
      "Epoch 2/15\n",
      "10809/10809 [==============================] - 184s 17ms/step - loss: 0.0280 - accuracy: 0.9979 - precision_6: 0.9979 - recall_6: 0.9979 - val_loss: 0.0062 - val_accuracy: 0.9994 - val_precision_6: 0.9994 - val_recall_6: 0.9994\n",
      "Epoch 3/15\n",
      "10809/10809 [==============================] - 186s 17ms/step - loss: 0.0223 - accuracy: 0.9985 - precision_6: 0.9985 - recall_6: 0.9985 - val_loss: 0.0074 - val_accuracy: 0.9989 - val_precision_6: 0.9989 - val_recall_6: 0.9989\n",
      "Epoch 4/15\n",
      "10809/10809 [==============================] - 186s 17ms/step - loss: 0.0186 - accuracy: 0.9984 - precision_6: 0.9984 - recall_6: 0.9984 - val_loss: 0.0037 - val_accuracy: 0.9993 - val_precision_6: 0.9993 - val_recall_6: 0.9993\n",
      "Epoch 5/15\n",
      "10809/10809 [==============================] - 187s 17ms/step - loss: 0.0174 - accuracy: 0.9988 - precision_6: 0.9988 - recall_6: 0.9988 - val_loss: 0.0090 - val_accuracy: 0.9989 - val_precision_6: 0.9989 - val_recall_6: 0.9989\n",
      "Epoch 6/15\n",
      "10809/10809 [==============================] - 187s 17ms/step - loss: 0.0158 - accuracy: 0.9985 - precision_6: 0.9985 - recall_6: 0.9985 - val_loss: 0.0058 - val_accuracy: 0.9993 - val_precision_6: 0.9993 - val_recall_6: 0.9993\n",
      "Epoch 7/15\n",
      "10809/10809 [==============================] - 187s 17ms/step - loss: 0.0152 - accuracy: 0.9988 - precision_6: 0.9988 - recall_6: 0.9988 - val_loss: 0.0168 - val_accuracy: 0.9962 - val_precision_6: 0.9962 - val_recall_6: 0.9962\n",
      "Epoch 8/15\n",
      "10809/10809 [==============================] - 189s 18ms/step - loss: 0.0133 - accuracy: 0.9989 - precision_6: 0.9989 - recall_6: 0.9989 - val_loss: 0.0046 - val_accuracy: 0.9993 - val_precision_6: 0.9993 - val_recall_6: 0.9993\n",
      "Epoch 9/15\n",
      "10809/10809 [==============================] - 188s 17ms/step - loss: 0.0123 - accuracy: 0.9989 - precision_6: 0.9989 - recall_6: 0.9989 - val_loss: 0.0055 - val_accuracy: 0.9993 - val_precision_6: 0.9993 - val_recall_6: 0.9993\n",
      "Epoch 10/15\n",
      "10809/10809 [==============================] - 188s 17ms/step - loss: 0.0122 - accuracy: 0.9991 - precision_6: 0.9991 - recall_6: 0.9991 - val_loss: 0.0051 - val_accuracy: 0.9989 - val_precision_6: 0.9989 - val_recall_6: 0.9989\n",
      "Epoch 11/15\n",
      "10809/10809 [==============================] - 193s 18ms/step - loss: 0.0117 - accuracy: 0.9988 - precision_6: 0.9988 - recall_6: 0.9988 - val_loss: 0.0018 - val_accuracy: 0.9997 - val_precision_6: 0.9997 - val_recall_6: 0.9997\n",
      "Epoch 12/15\n",
      "10809/10809 [==============================] - 187s 17ms/step - loss: 0.0121 - accuracy: 0.9992 - precision_6: 0.9992 - recall_6: 0.9992 - val_loss: 0.0050 - val_accuracy: 0.9995 - val_precision_6: 0.9995 - val_recall_6: 0.9995\n",
      "Epoch 13/15\n",
      "10809/10809 [==============================] - 185s 17ms/step - loss: 0.0129 - accuracy: 0.9989 - precision_6: 0.9989 - recall_6: 0.9989 - val_loss: 0.0026 - val_accuracy: 0.9996 - val_precision_6: 0.9996 - val_recall_6: 0.9996\n",
      "Epoch 14/15\n",
      "10809/10809 [==============================] - 196s 18ms/step - loss: 0.0119 - accuracy: 0.9991 - precision_6: 0.9991 - recall_6: 0.9991 - val_loss: 0.0045 - val_accuracy: 0.9993 - val_precision_6: 0.9993 - val_recall_6: 0.9993\n",
      "Epoch 15/15\n",
      "10809/10809 [==============================] - 188s 17ms/step - loss: 0.0114 - accuracy: 0.9990 - precision_6: 0.9990 - recall_6: 0.9990 - val_loss: 0.0032 - val_accuracy: 0.9989 - val_precision_6: 0.9989 - val_recall_6: 0.9989\n"
     ]
    }
   ],
   "source": [
    "trainingGN_DA, modelGN_DA = utils.train(modelGN_DA,\n",
    "                X_train_aug,\n",
    "                y_train_aug, \n",
    "                batch_size = batch_size,\n",
    "                epochs = epochs,\n",
    "                validation_data_X = X_val, \n",
    "                validation_data_y = y_val,                                \n",
    "                patience = patience,\n",
    "                class_weights = utils.class_weights(hdfs_train,'class'))"
   ]
  },
  {
   "cell_type": "markdown",
   "metadata": {
    "id": "tGebLAdToPej"
   },
   "source": [
    "#### Evaluación"
   ]
  },
  {
   "cell_type": "code",
   "execution_count": null,
   "metadata": {
    "colab": {
     "base_uri": "https://localhost:8080/",
     "height": 849
    },
    "executionInfo": {
     "elapsed": 34624,
     "status": "ok",
     "timestamp": 1669354704199,
     "user": {
      "displayName": "Federico de Leon",
      "userId": "01045121239102538016"
     },
     "user_tz": 180
    },
    "id": "fCSqSovKoWNm",
    "outputId": "93589701-c772-40ff-fd0d-6d597bcc0cd8"
   },
   "outputs": [
    {
     "data": {
      "image/png": "[encoded data removed]",
      "text/plain": [
       "<Figure size 360x360 with 2 Axes>"
      ]
     },
     "metadata": {
      "needs_background": "light"
     },
     "output_type": "display_data"
    },
    {
     "name": "stdout",
     "output_type": "stream",
     "text": [
      "3011/3011 [==============================] - 19s 5ms/step\n"
     ]
    },
    {
     "data": {
      "image/png": "[encoded data removed]",
      "text/plain": [
       "<Figure size 432x288 with 1 Axes>"
      ]
     },
     "metadata": {
      "needs_background": "light"
     },
     "output_type": "display_data"
    },
    {
     "name": "stdout",
     "output_type": "stream",
     "text": [
      "Classification report\n",
      "              precision    recall  f1-score   support\n",
      "\n",
      "    abnormal       0.97      0.99      0.98      2901\n",
      "      normal       1.00      1.00      1.00     93422\n",
      "\n",
      "    accuracy                           1.00     96323\n",
      "   macro avg       0.98      1.00      0.99     96323\n",
      "weighted avg       1.00      1.00      1.00     96323\n",
      "\n",
      "Loss function: 0.0031659677624702454, accuracy: 0.9988787770271301\n"
     ]
    }
   ],
   "source": [
    "modelGN_DA_accuracy, modelGN_DA_precision, modelGN_DA_recall, modelGN_DA_f1 = utils.eval_model(trainingGN_DA, modelGN_DA, X_test, y_test)"
   ]
  },
  {
   "cell_type": "markdown",
   "metadata": {
    "id": "mxwK6gM0oQyY"
   },
   "source": [
    "#### Generación modelo y Salida Kaggle"
   ]
  },
  {
   "cell_type": "code",
   "execution_count": null,
   "metadata": {
    "colab": {
     "base_uri": "https://localhost:8080/"
    },
    "executionInfo": {
     "elapsed": 43067,
     "status": "ok",
     "timestamp": 1669354747231,
     "user": {
      "displayName": "Federico de Leon",
      "userId": "01045121239102538016"
     },
     "user_tz": 180
    },
    "id": "p23PKPKUoUVe",
    "outputId": "d8af6244-615a-4924-ce42-2a542b95f11e"
   },
   "outputs": [
    {
     "name": "stdout",
     "output_type": "stream",
     "text": [
      "5931/5931 [==============================] - 31s 5ms/step\n",
      "Saved model to disk\n"
     ]
    }
   ],
   "source": [
    "name='ModelWithDataAugmentationAndGradientNormalization'\n",
    "\n",
    "\"\"\"\n",
    "Generate data Kaggle\n",
    "\"\"\"\n",
    "\n",
    "utils.load_test_sequences_and_generate_prediction_file(modelGN_DA, hdfs_test_kaggle, MAX_LEN, name+'_maxLen'+str(MAX_LEN)+'_batchSize'+str(batch_size)+'_epochs'+str(epochs) )\n",
    "\n",
    "\"\"\"\n",
    "Generate Model\n",
    "\"\"\"\n",
    "# serialize model to JSON\n",
    "model_json = modelGN_DA.to_json()\n",
    "with open(\"outputs/model_\"+name+'_maxLen'+str(MAX_LEN)+'_batchSize'+str(batch_size)+'_epochs'+str(epochs)+'_'+dt.datetime.today().strftime('%Y%m%d_%H%M%S')+\".json\", \"w\") as json_file:\n",
    "  json_file.write(model_json)\n",
    "# serialize weights to HDF5\n",
    "modelGN_DA.save_weights(\"outputs/model_Weigths\"+name+'_maxLen'+str(MAX_LEN)+'_batchSize'+str(batch_size)+'_epochs'+str(epochs)+'_'+dt.datetime.today().strftime('%Y%m%d_%H%M%S')+\".h5\")\n",
    "print(\"Saved model to disk\")"
   ]
  },
  {
   "cell_type": "markdown",
   "metadata": {
    "id": "8lXsSd3MLugC"
   },
   "source": [
    "## Conclusiones y reflexiones finales"
   ]
  },
  {
   "cell_type": "markdown",
   "metadata": {
    "collapsed": false
   },
   "source": [
    "## Bibliogafìía y referencias"
   ]
  },
  {
   "cell_type": "code",
   "execution_count": null,
   "metadata": {
    "id": "gevnjEmGLugD"
   },
   "outputs": [],
   "source": []
  }
 ],
 "metadata": {
  "colab": {
   "collapsed_sections": [
    "4gPfHVc5rVYF",
    "mn-YIJY2rX-a",
    "F357yN7Ircou"
   ],
   "provenance": [],
   "toc_visible": true
  },
  "interpreter": {
   "hash": "c12d86b63e74ac4f427027e3d58b1fa461278ba669d7be39fd5f25ce787fdf43"
  },
  "kernelspec": {
   "display_name": "Python 3",
   "language": "python",
   "name": "python3"
  },
  "language_info": {
   "codemirror_mode": {
    "name": "ipython",
    "version": 3
   },
   "file_extension": ".py",
   "mimetype": "text/x-python",
   "name": "python",
   "nbconvert_exporter": "python",
   "pygments_lexer": "ipython3",
   "version": "3.7.6"
  }
 },
 "nbformat": 4,
 "nbformat_minor": 0
}