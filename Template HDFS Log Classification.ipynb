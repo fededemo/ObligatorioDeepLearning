{
  "cells": [
    {
      "cell_type": "markdown",
      "metadata": {
        "id": "6OFm1E4ALuev"
      },
      "source": [
        "## Obligatorio de Deep Learning - Semestre 2 - 2022"
      ]
    },
    {
      "cell_type": "markdown",
      "metadata": {
        "id": "SoMkgREvLue_"
      },
      "source": [
        "## 1. Setup"
      ]
    },
    {
      "cell_type": "markdown",
      "metadata": {
        "id": "1GewshNtLufB"
      },
      "source": [
        "### 1.1 Imports"
      ]
    },
    {
      "cell_type": "code",
      "execution_count": null,
      "metadata": {
        "id": "8-yEMLaWNgaf",
        "colab": {
          "base_uri": "https://localhost:8080/"
        },
        "outputId": "bccb5f3c-1451-4fa9-c540-e65a1b86f08a"
      },
      "outputs": [
        {
          "output_type": "stream",
          "name": "stdout",
          "text": [
            "Mounted at /content/drive\n"
          ]
        }
      ],
      "source": [
        "from google.colab import drive\n",
        "drive.mount('/content/drive')"
      ]
    },
    {
      "cell_type": "code",
      "execution_count": null,
      "metadata": {
        "id": "OiiNR7s1L08y"
      },
      "outputs": [],
      "source": [
        "import os\n",
        "if os.path.exists(\"/content/drive/MyDrive/ORT/DeepLearning/Obligatorio\"):\n",
        "  os.chdir('/content/drive/MyDrive/ORT/DeepLearning/Obligatorio')\n",
        "else:\n",
        "  os.chdir(\"/content/drive/MyDrive/ORT/Posgrado AI/Taller DeepLearning/Obligatorio\")"
      ]
    },
    {
      "cell_type": "code",
      "execution_count": null,
      "metadata": {
        "id": "OrBCKzVNNRIc",
        "colab": {
          "base_uri": "https://localhost:8080/"
        },
        "outputId": "54c871d5-941e-4004-b508-550cd814ef0e"
      },
      "outputs": [
        {
          "output_type": "stream",
          "name": "stdout",
          "text": [
            " data\n",
            "'Deep Learning - Obligatorio 2022.pdf'\n",
            " kaggle_data\n",
            " outputs\n",
            " __pycache__\n",
            " Referencias.gdoc\n",
            "'Template HDFS Log Classification.ipynb'\n",
            " utils.py\n"
          ]
        }
      ],
      "source": [
        "!ls"
      ]
    },
    {
      "cell_type": "code",
      "execution_count": null,
      "metadata": {
        "id": "aasM3UopLufC"
      },
      "outputs": [],
      "source": [
        "import numpy as np\n",
        "import datetime as dt\n",
        "import math\n",
        "\n",
        "from tensorflow.keras.models import Sequential\n",
        "from tensorflow.keras.layers import Dense, Conv1D, MaxPool1D, Dropout, Embedding, LSTM, Dense, BatchNormalization\n",
        "import tensorflow as tf\n",
        "from tensorflow.keras.optimizers import Adam\n",
        "from tensorflow.keras.wrappers.scikit_learn import KerasClassifier\n",
        "\n",
        "from sklearn.metrics import f1_score, precision_score, recall_score, confusion_matrix\n",
        "\n",
        "from importlib import reload\n",
        "import utils\n",
        "utils = reload(utils)"
      ]
    },
    {
      "cell_type": "markdown",
      "metadata": {
        "id": "oU26rNfHLufK"
      },
      "source": [
        "### 1.2 Set random seeds"
      ]
    },
    {
      "cell_type": "code",
      "execution_count": null,
      "metadata": {
        "id": "YLlbGI8aLufL"
      },
      "outputs": [],
      "source": [
        "np.random.seed(117)\n",
        "tf.random.set_seed(117)"
      ]
    },
    {
      "cell_type": "markdown",
      "metadata": {
        "id": "ezE0iqNALufO"
      },
      "source": [
        "## 2. Carga de datos"
      ]
    },
    {
      "cell_type": "code",
      "execution_count": null,
      "metadata": {
        "id": "j9RPPY70LufP"
      },
      "outputs": [],
      "source": [
        "hdfs_train, hdfs_test_kaggle = utils.read_data()"
      ]
    },
    {
      "cell_type": "code",
      "execution_count": null,
      "metadata": {
        "id": "LFTLnExcLufQ",
        "scrolled": true,
        "colab": {
          "base_uri": "https://localhost:8080/",
          "height": 175
        },
        "outputId": "a9281f69-2b0a-45a2-e0d0-d56bb891873f"
      },
      "outputs": [
        {
          "output_type": "execute_result",
          "data": {
            "text/plain": [
              "   id                                           sequence   class\n",
              "0   0  (4, 4, 4, 21, 10, 8, 10, 8, 10, 8, 25, 25, 25,...  normal\n",
              "1   1  (4, 4, 4, 21, 10, 8, 25, 10, 8, 10, 8, 25, 25,...  normal\n",
              "2   2  (21, 4, 4, 4, 25, 25, 10, 8, 25, 10, 8, 10, 8,...  normal\n",
              "3   3  (21, 4, 4, 4, 10, 8, 10, 8, 10, 8, 25, 25, 25,...  normal"
            ],
            "text/html": [
              "\n",
              "  <div id=\"df-d28ce055-27bc-43f5-ba9b-6fd57201128c\">\n",
              "    <div class=\"colab-df-container\">\n",
              "      <div>\n",
              "<style scoped>\n",
              "    .dataframe tbody tr th:only-of-type {\n",
              "        vertical-align: middle;\n",
              "    }\n",
              "\n",
              "    .dataframe tbody tr th {\n",
              "        vertical-align: top;\n",
              "    }\n",
              "\n",
              "    .dataframe thead th {\n",
              "        text-align: right;\n",
              "    }\n",
              "</style>\n",
              "<table border=\"1\" class=\"dataframe\">\n",
              "  <thead>\n",
              "    <tr style=\"text-align: right;\">\n",
              "      <th></th>\n",
              "      <th>id</th>\n",
              "      <th>sequence</th>\n",
              "      <th>class</th>\n",
              "    </tr>\n",
              "  </thead>\n",
              "  <tbody>\n",
              "    <tr>\n",
              "      <th>0</th>\n",
              "      <td>0</td>\n",
              "      <td>(4, 4, 4, 21, 10, 8, 10, 8, 10, 8, 25, 25, 25,...</td>\n",
              "      <td>normal</td>\n",
              "    </tr>\n",
              "    <tr>\n",
              "      <th>1</th>\n",
              "      <td>1</td>\n",
              "      <td>(4, 4, 4, 21, 10, 8, 25, 10, 8, 10, 8, 25, 25,...</td>\n",
              "      <td>normal</td>\n",
              "    </tr>\n",
              "    <tr>\n",
              "      <th>2</th>\n",
              "      <td>2</td>\n",
              "      <td>(21, 4, 4, 4, 25, 25, 10, 8, 25, 10, 8, 10, 8,...</td>\n",
              "      <td>normal</td>\n",
              "    </tr>\n",
              "    <tr>\n",
              "      <th>3</th>\n",
              "      <td>3</td>\n",
              "      <td>(21, 4, 4, 4, 10, 8, 10, 8, 10, 8, 25, 25, 25,...</td>\n",
              "      <td>normal</td>\n",
              "    </tr>\n",
              "  </tbody>\n",
              "</table>\n",
              "</div>\n",
              "      <button class=\"colab-df-convert\" onclick=\"convertToInteractive('df-d28ce055-27bc-43f5-ba9b-6fd57201128c')\"\n",
              "              title=\"Convert this dataframe to an interactive table.\"\n",
              "              style=\"display:none;\">\n",
              "        \n",
              "  <svg xmlns=\"http://www.w3.org/2000/svg\" height=\"24px\"viewBox=\"0 0 24 24\"\n",
              "       width=\"24px\">\n",
              "    <path d=\"M0 0h24v24H0V0z\" fill=\"none\"/>\n",
              "    <path d=\"M18.56 5.44l.94 2.06.94-2.06 2.06-.94-2.06-.94-.94-2.06-.94 2.06-2.06.94zm-11 1L8.5 8.5l.94-2.06 2.06-.94-2.06-.94L8.5 2.5l-.94 2.06-2.06.94zm10 10l.94 2.06.94-2.06 2.06-.94-2.06-.94-.94-2.06-.94 2.06-2.06.94z\"/><path d=\"M17.41 7.96l-1.37-1.37c-.4-.4-.92-.59-1.43-.59-.52 0-1.04.2-1.43.59L10.3 9.45l-7.72 7.72c-.78.78-.78 2.05 0 2.83L4 21.41c.39.39.9.59 1.41.59.51 0 1.02-.2 1.41-.59l7.78-7.78 2.81-2.81c.8-.78.8-2.07 0-2.86zM5.41 20L4 18.59l7.72-7.72 1.47 1.35L5.41 20z\"/>\n",
              "  </svg>\n",
              "      </button>\n",
              "      \n",
              "  <style>\n",
              "    .colab-df-container {\n",
              "      display:flex;\n",
              "      flex-wrap:wrap;\n",
              "      gap: 12px;\n",
              "    }\n",
              "\n",
              "    .colab-df-convert {\n",
              "      background-color: #E8F0FE;\n",
              "      border: none;\n",
              "      border-radius: 50%;\n",
              "      cursor: pointer;\n",
              "      display: none;\n",
              "      fill: #1967D2;\n",
              "      height: 32px;\n",
              "      padding: 0 0 0 0;\n",
              "      width: 32px;\n",
              "    }\n",
              "\n",
              "    .colab-df-convert:hover {\n",
              "      background-color: #E2EBFA;\n",
              "      box-shadow: 0px 1px 2px rgba(60, 64, 67, 0.3), 0px 1px 3px 1px rgba(60, 64, 67, 0.15);\n",
              "      fill: #174EA6;\n",
              "    }\n",
              "\n",
              "    [theme=dark] .colab-df-convert {\n",
              "      background-color: #3B4455;\n",
              "      fill: #D2E3FC;\n",
              "    }\n",
              "\n",
              "    [theme=dark] .colab-df-convert:hover {\n",
              "      background-color: #434B5C;\n",
              "      box-shadow: 0px 1px 3px 1px rgba(0, 0, 0, 0.15);\n",
              "      filter: drop-shadow(0px 1px 2px rgba(0, 0, 0, 0.3));\n",
              "      fill: #FFFFFF;\n",
              "    }\n",
              "  </style>\n",
              "\n",
              "      <script>\n",
              "        const buttonEl =\n",
              "          document.querySelector('#df-d28ce055-27bc-43f5-ba9b-6fd57201128c button.colab-df-convert');\n",
              "        buttonEl.style.display =\n",
              "          google.colab.kernel.accessAllowed ? 'block' : 'none';\n",
              "\n",
              "        async function convertToInteractive(key) {\n",
              "          const element = document.querySelector('#df-d28ce055-27bc-43f5-ba9b-6fd57201128c');\n",
              "          const dataTable =\n",
              "            await google.colab.kernel.invokeFunction('convertToInteractive',\n",
              "                                                     [key], {});\n",
              "          if (!dataTable) return;\n",
              "\n",
              "          const docLinkHtml = 'Like what you see? Visit the ' +\n",
              "            '<a target=\"_blank\" href=https://colab.research.google.com/notebooks/data_table.ipynb>data table notebook</a>'\n",
              "            + ' to learn more about interactive tables.';\n",
              "          element.innerHTML = '';\n",
              "          dataTable['output_type'] = 'display_data';\n",
              "          await google.colab.output.renderOutput(dataTable, element);\n",
              "          const docLink = document.createElement('div');\n",
              "          docLink.innerHTML = docLinkHtml;\n",
              "          element.appendChild(docLink);\n",
              "        }\n",
              "      </script>\n",
              "    </div>\n",
              "  </div>\n",
              "  "
            ]
          },
          "metadata": {},
          "execution_count": 7
        }
      ],
      "source": [
        "hdfs_train[:4]"
      ]
    },
    {
      "cell_type": "code",
      "execution_count": null,
      "metadata": {
        "id": "mbSin2w_LufS",
        "colab": {
          "base_uri": "https://localhost:8080/",
          "height": 206
        },
        "outputId": "4e84028a-9172-4ee4-a3c2-deb64e538f43"
      },
      "outputs": [
        {
          "output_type": "execute_result",
          "data": {
            "text/plain": [
              "   id                                           sequence\n",
              "0   0     (21, 4, 4, 4, 10, 8, 10, 8, 10, 8, 25, 25, 25)\n",
              "1   1  (4, 4, 4, 21, 10, 8, 25, 10, 8, 10, 8, 25, 25,...\n",
              "2   2  (4, 4, 4, 21, 10, 8, 10, 8, 10, 8, 25, 25, 25,...\n",
              "3   3  (4, 4, 4, 21, 10, 8, 10, 8, 25, 25, 25, 10, 8,...\n",
              "4   4  (21, 4, 4, 4, 10, 8, 10, 8, 10, 8, 25, 25, 25,..."
            ],
            "text/html": [
              "\n",
              "  <div id=\"df-40d99b81-8d86-48ef-9f46-ace1428a0ddc\">\n",
              "    <div class=\"colab-df-container\">\n",
              "      <div>\n",
              "<style scoped>\n",
              "    .dataframe tbody tr th:only-of-type {\n",
              "        vertical-align: middle;\n",
              "    }\n",
              "\n",
              "    .dataframe tbody tr th {\n",
              "        vertical-align: top;\n",
              "    }\n",
              "\n",
              "    .dataframe thead th {\n",
              "        text-align: right;\n",
              "    }\n",
              "</style>\n",
              "<table border=\"1\" class=\"dataframe\">\n",
              "  <thead>\n",
              "    <tr style=\"text-align: right;\">\n",
              "      <th></th>\n",
              "      <th>id</th>\n",
              "      <th>sequence</th>\n",
              "    </tr>\n",
              "  </thead>\n",
              "  <tbody>\n",
              "    <tr>\n",
              "      <th>0</th>\n",
              "      <td>0</td>\n",
              "      <td>(21, 4, 4, 4, 10, 8, 10, 8, 10, 8, 25, 25, 25)</td>\n",
              "    </tr>\n",
              "    <tr>\n",
              "      <th>1</th>\n",
              "      <td>1</td>\n",
              "      <td>(4, 4, 4, 21, 10, 8, 25, 10, 8, 10, 8, 25, 25,...</td>\n",
              "    </tr>\n",
              "    <tr>\n",
              "      <th>2</th>\n",
              "      <td>2</td>\n",
              "      <td>(4, 4, 4, 21, 10, 8, 10, 8, 10, 8, 25, 25, 25,...</td>\n",
              "    </tr>\n",
              "    <tr>\n",
              "      <th>3</th>\n",
              "      <td>3</td>\n",
              "      <td>(4, 4, 4, 21, 10, 8, 10, 8, 25, 25, 25, 10, 8,...</td>\n",
              "    </tr>\n",
              "    <tr>\n",
              "      <th>4</th>\n",
              "      <td>4</td>\n",
              "      <td>(21, 4, 4, 4, 10, 8, 10, 8, 10, 8, 25, 25, 25,...</td>\n",
              "    </tr>\n",
              "  </tbody>\n",
              "</table>\n",
              "</div>\n",
              "      <button class=\"colab-df-convert\" onclick=\"convertToInteractive('df-40d99b81-8d86-48ef-9f46-ace1428a0ddc')\"\n",
              "              title=\"Convert this dataframe to an interactive table.\"\n",
              "              style=\"display:none;\">\n",
              "        \n",
              "  <svg xmlns=\"http://www.w3.org/2000/svg\" height=\"24px\"viewBox=\"0 0 24 24\"\n",
              "       width=\"24px\">\n",
              "    <path d=\"M0 0h24v24H0V0z\" fill=\"none\"/>\n",
              "    <path d=\"M18.56 5.44l.94 2.06.94-2.06 2.06-.94-2.06-.94-.94-2.06-.94 2.06-2.06.94zm-11 1L8.5 8.5l.94-2.06 2.06-.94-2.06-.94L8.5 2.5l-.94 2.06-2.06.94zm10 10l.94 2.06.94-2.06 2.06-.94-2.06-.94-.94-2.06-.94 2.06-2.06.94z\"/><path d=\"M17.41 7.96l-1.37-1.37c-.4-.4-.92-.59-1.43-.59-.52 0-1.04.2-1.43.59L10.3 9.45l-7.72 7.72c-.78.78-.78 2.05 0 2.83L4 21.41c.39.39.9.59 1.41.59.51 0 1.02-.2 1.41-.59l7.78-7.78 2.81-2.81c.8-.78.8-2.07 0-2.86zM5.41 20L4 18.59l7.72-7.72 1.47 1.35L5.41 20z\"/>\n",
              "  </svg>\n",
              "      </button>\n",
              "      \n",
              "  <style>\n",
              "    .colab-df-container {\n",
              "      display:flex;\n",
              "      flex-wrap:wrap;\n",
              "      gap: 12px;\n",
              "    }\n",
              "\n",
              "    .colab-df-convert {\n",
              "      background-color: #E8F0FE;\n",
              "      border: none;\n",
              "      border-radius: 50%;\n",
              "      cursor: pointer;\n",
              "      display: none;\n",
              "      fill: #1967D2;\n",
              "      height: 32px;\n",
              "      padding: 0 0 0 0;\n",
              "      width: 32px;\n",
              "    }\n",
              "\n",
              "    .colab-df-convert:hover {\n",
              "      background-color: #E2EBFA;\n",
              "      box-shadow: 0px 1px 2px rgba(60, 64, 67, 0.3), 0px 1px 3px 1px rgba(60, 64, 67, 0.15);\n",
              "      fill: #174EA6;\n",
              "    }\n",
              "\n",
              "    [theme=dark] .colab-df-convert {\n",
              "      background-color: #3B4455;\n",
              "      fill: #D2E3FC;\n",
              "    }\n",
              "\n",
              "    [theme=dark] .colab-df-convert:hover {\n",
              "      background-color: #434B5C;\n",
              "      box-shadow: 0px 1px 3px 1px rgba(0, 0, 0, 0.15);\n",
              "      filter: drop-shadow(0px 1px 2px rgba(0, 0, 0, 0.3));\n",
              "      fill: #FFFFFF;\n",
              "    }\n",
              "  </style>\n",
              "\n",
              "      <script>\n",
              "        const buttonEl =\n",
              "          document.querySelector('#df-40d99b81-8d86-48ef-9f46-ace1428a0ddc button.colab-df-convert');\n",
              "        buttonEl.style.display =\n",
              "          google.colab.kernel.accessAllowed ? 'block' : 'none';\n",
              "\n",
              "        async function convertToInteractive(key) {\n",
              "          const element = document.querySelector('#df-40d99b81-8d86-48ef-9f46-ace1428a0ddc');\n",
              "          const dataTable =\n",
              "            await google.colab.kernel.invokeFunction('convertToInteractive',\n",
              "                                                     [key], {});\n",
              "          if (!dataTable) return;\n",
              "\n",
              "          const docLinkHtml = 'Like what you see? Visit the ' +\n",
              "            '<a target=\"_blank\" href=https://colab.research.google.com/notebooks/data_table.ipynb>data table notebook</a>'\n",
              "            + ' to learn more about interactive tables.';\n",
              "          element.innerHTML = '';\n",
              "          dataTable['output_type'] = 'display_data';\n",
              "          await google.colab.output.renderOutput(dataTable, element);\n",
              "          const docLink = document.createElement('div');\n",
              "          docLink.innerHTML = docLinkHtml;\n",
              "          element.appendChild(docLink);\n",
              "        }\n",
              "      </script>\n",
              "    </div>\n",
              "  </div>\n",
              "  "
            ]
          },
          "metadata": {},
          "execution_count": 8
        }
      ],
      "source": [
        "hdfs_test_kaggle[:5]"
      ]
    },
    {
      "cell_type": "markdown",
      "metadata": {
        "id": "f-nyjbgRLufS"
      },
      "source": [
        "## 3. Análisis exploratorio de datos"
      ]
    },
    {
      "cell_type": "markdown",
      "metadata": {
        "id": "cA1nSPKuLufT"
      },
      "source": [
        "### 3.1 Análisis descriptivo general: Distribuciones, Scatterplots, Barplots..."
      ]
    },
    {
      "cell_type": "code",
      "execution_count": null,
      "metadata": {
        "id": "lwVUrlooLufU",
        "colab": {
          "base_uri": "https://localhost:8080/",
          "height": 206
        },
        "outputId": "5360b7ba-d886-43ad-c2b3-3b0ddfba1a22"
      },
      "outputs": [
        {
          "output_type": "execute_result",
          "data": {
            "text/plain": [
              "   id                                           sequence   class\n",
              "0   0  (4, 4, 4, 21, 10, 8, 10, 8, 10, 8, 25, 25, 25,...  normal\n",
              "1   1  (4, 4, 4, 21, 10, 8, 25, 10, 8, 10, 8, 25, 25,...  normal\n",
              "2   2  (21, 4, 4, 4, 25, 25, 10, 8, 25, 10, 8, 10, 8,...  normal\n",
              "3   3  (21, 4, 4, 4, 10, 8, 10, 8, 10, 8, 25, 25, 25,...  normal\n",
              "4   4  (21, 4, 4, 4, 25, 25, 25, 10, 8, 10, 8, 10, 8,...  normal"
            ],
            "text/html": [
              "\n",
              "  <div id=\"df-ba4722fb-3217-448f-9a51-d62d3a598ce1\">\n",
              "    <div class=\"colab-df-container\">\n",
              "      <div>\n",
              "<style scoped>\n",
              "    .dataframe tbody tr th:only-of-type {\n",
              "        vertical-align: middle;\n",
              "    }\n",
              "\n",
              "    .dataframe tbody tr th {\n",
              "        vertical-align: top;\n",
              "    }\n",
              "\n",
              "    .dataframe thead th {\n",
              "        text-align: right;\n",
              "    }\n",
              "</style>\n",
              "<table border=\"1\" class=\"dataframe\">\n",
              "  <thead>\n",
              "    <tr style=\"text-align: right;\">\n",
              "      <th></th>\n",
              "      <th>id</th>\n",
              "      <th>sequence</th>\n",
              "      <th>class</th>\n",
              "    </tr>\n",
              "  </thead>\n",
              "  <tbody>\n",
              "    <tr>\n",
              "      <th>0</th>\n",
              "      <td>0</td>\n",
              "      <td>(4, 4, 4, 21, 10, 8, 10, 8, 10, 8, 25, 25, 25,...</td>\n",
              "      <td>normal</td>\n",
              "    </tr>\n",
              "    <tr>\n",
              "      <th>1</th>\n",
              "      <td>1</td>\n",
              "      <td>(4, 4, 4, 21, 10, 8, 25, 10, 8, 10, 8, 25, 25,...</td>\n",
              "      <td>normal</td>\n",
              "    </tr>\n",
              "    <tr>\n",
              "      <th>2</th>\n",
              "      <td>2</td>\n",
              "      <td>(21, 4, 4, 4, 25, 25, 10, 8, 25, 10, 8, 10, 8,...</td>\n",
              "      <td>normal</td>\n",
              "    </tr>\n",
              "    <tr>\n",
              "      <th>3</th>\n",
              "      <td>3</td>\n",
              "      <td>(21, 4, 4, 4, 10, 8, 10, 8, 10, 8, 25, 25, 25,...</td>\n",
              "      <td>normal</td>\n",
              "    </tr>\n",
              "    <tr>\n",
              "      <th>4</th>\n",
              "      <td>4</td>\n",
              "      <td>(21, 4, 4, 4, 25, 25, 25, 10, 8, 10, 8, 10, 8,...</td>\n",
              "      <td>normal</td>\n",
              "    </tr>\n",
              "  </tbody>\n",
              "</table>\n",
              "</div>\n",
              "      <button class=\"colab-df-convert\" onclick=\"convertToInteractive('df-ba4722fb-3217-448f-9a51-d62d3a598ce1')\"\n",
              "              title=\"Convert this dataframe to an interactive table.\"\n",
              "              style=\"display:none;\">\n",
              "        \n",
              "  <svg xmlns=\"http://www.w3.org/2000/svg\" height=\"24px\"viewBox=\"0 0 24 24\"\n",
              "       width=\"24px\">\n",
              "    <path d=\"M0 0h24v24H0V0z\" fill=\"none\"/>\n",
              "    <path d=\"M18.56 5.44l.94 2.06.94-2.06 2.06-.94-2.06-.94-.94-2.06-.94 2.06-2.06.94zm-11 1L8.5 8.5l.94-2.06 2.06-.94-2.06-.94L8.5 2.5l-.94 2.06-2.06.94zm10 10l.94 2.06.94-2.06 2.06-.94-2.06-.94-.94-2.06-.94 2.06-2.06.94z\"/><path d=\"M17.41 7.96l-1.37-1.37c-.4-.4-.92-.59-1.43-.59-.52 0-1.04.2-1.43.59L10.3 9.45l-7.72 7.72c-.78.78-.78 2.05 0 2.83L4 21.41c.39.39.9.59 1.41.59.51 0 1.02-.2 1.41-.59l7.78-7.78 2.81-2.81c.8-.78.8-2.07 0-2.86zM5.41 20L4 18.59l7.72-7.72 1.47 1.35L5.41 20z\"/>\n",
              "  </svg>\n",
              "      </button>\n",
              "      \n",
              "  <style>\n",
              "    .colab-df-container {\n",
              "      display:flex;\n",
              "      flex-wrap:wrap;\n",
              "      gap: 12px;\n",
              "    }\n",
              "\n",
              "    .colab-df-convert {\n",
              "      background-color: #E8F0FE;\n",
              "      border: none;\n",
              "      border-radius: 50%;\n",
              "      cursor: pointer;\n",
              "      display: none;\n",
              "      fill: #1967D2;\n",
              "      height: 32px;\n",
              "      padding: 0 0 0 0;\n",
              "      width: 32px;\n",
              "    }\n",
              "\n",
              "    .colab-df-convert:hover {\n",
              "      background-color: #E2EBFA;\n",
              "      box-shadow: 0px 1px 2px rgba(60, 64, 67, 0.3), 0px 1px 3px 1px rgba(60, 64, 67, 0.15);\n",
              "      fill: #174EA6;\n",
              "    }\n",
              "\n",
              "    [theme=dark] .colab-df-convert {\n",
              "      background-color: #3B4455;\n",
              "      fill: #D2E3FC;\n",
              "    }\n",
              "\n",
              "    [theme=dark] .colab-df-convert:hover {\n",
              "      background-color: #434B5C;\n",
              "      box-shadow: 0px 1px 3px 1px rgba(0, 0, 0, 0.15);\n",
              "      filter: drop-shadow(0px 1px 2px rgba(0, 0, 0, 0.3));\n",
              "      fill: #FFFFFF;\n",
              "    }\n",
              "  </style>\n",
              "\n",
              "      <script>\n",
              "        const buttonEl =\n",
              "          document.querySelector('#df-ba4722fb-3217-448f-9a51-d62d3a598ce1 button.colab-df-convert');\n",
              "        buttonEl.style.display =\n",
              "          google.colab.kernel.accessAllowed ? 'block' : 'none';\n",
              "\n",
              "        async function convertToInteractive(key) {\n",
              "          const element = document.querySelector('#df-ba4722fb-3217-448f-9a51-d62d3a598ce1');\n",
              "          const dataTable =\n",
              "            await google.colab.kernel.invokeFunction('convertToInteractive',\n",
              "                                                     [key], {});\n",
              "          if (!dataTable) return;\n",
              "\n",
              "          const docLinkHtml = 'Like what you see? Visit the ' +\n",
              "            '<a target=\"_blank\" href=https://colab.research.google.com/notebooks/data_table.ipynb>data table notebook</a>'\n",
              "            + ' to learn more about interactive tables.';\n",
              "          element.innerHTML = '';\n",
              "          dataTable['output_type'] = 'display_data';\n",
              "          await google.colab.output.renderOutput(dataTable, element);\n",
              "          const docLink = document.createElement('div');\n",
              "          docLink.innerHTML = docLinkHtml;\n",
              "          element.appendChild(docLink);\n",
              "        }\n",
              "      </script>\n",
              "    </div>\n",
              "  </div>\n",
              "  "
            ]
          },
          "metadata": {},
          "execution_count": 9
        }
      ],
      "source": [
        "hdfs_train.head()"
      ]
    },
    {
      "cell_type": "code",
      "execution_count": null,
      "metadata": {
        "id": "i4J3n780LufV",
        "colab": {
          "base_uri": "https://localhost:8080/",
          "height": 319
        },
        "outputId": "20c84464-52cd-4cc6-af04-d96725fff6dc"
      },
      "outputs": [
        {
          "output_type": "display_data",
          "data": {
            "text/plain": [
              "<Figure size 432x288 with 1 Axes>"
            ],
            "image/png": "[encoded data removed]"
          },
          "metadata": {
            "needs_background": "light"
          }
        }
      ],
      "source": [
        "utils.value_counts(hdfs_train,'class')"
      ]
    },
    {
      "cell_type": "markdown",
      "metadata": {
        "id": "stsh7DznLufW"
      },
      "source": [
        "### 3.2 Análisis de secuencias"
      ]
    },
    {
      "cell_type": "code",
      "execution_count": null,
      "metadata": {
        "id": "OxC6UWE9LufW"
      },
      "outputs": [],
      "source": [
        "#Agregar ploteo de largos de secuencias, distribuciones por simbolo, etc."
      ]
    },
    {
      "cell_type": "code",
      "execution_count": null,
      "metadata": {
        "id": "3K7nfmctLufY",
        "colab": {
          "base_uri": "https://localhost:8080/"
        },
        "outputId": "70ba5d5a-3943-4a5d-ece7-c40393931854"
      },
      "outputs": [
        {
          "output_type": "stream",
          "name": "stderr",
          "text": [
            "/usr/local/lib/python3.7/dist-packages/sklearn/preprocessing/_label.py:98: DataConversionWarning: A column-vector y was passed when a 1d array was expected. Please change the shape of y to (n_samples, ), for example using ravel().\n",
            "  y = column_or_1d(y, warn=True)\n"
          ]
        }
      ],
      "source": [
        "raw_sequences, data_y = utils.load_sequences_and_target(hdfs_train, one_hot=True)\n",
        "#raw_sequences, data_y = utils.load_sequences_and_target(hdfs_train)"
      ]
    },
    {
      "cell_type": "code",
      "execution_count": null,
      "metadata": {
        "id": "KW6TfE-kLufZ"
      },
      "outputs": [],
      "source": [
        "try:\n",
        "    data_y.value_counts()\n",
        "except:\n",
        "    pass"
      ]
    },
    {
      "cell_type": "code",
      "execution_count": null,
      "metadata": {
        "id": "I-Q0p2ffLufa",
        "colab": {
          "base_uri": "https://localhost:8080/"
        },
        "outputId": "83006706-483d-4a35-e00f-ec81fc85e0c1"
      },
      "outputs": [
        {
          "output_type": "execute_result",
          "data": {
            "text/plain": [
              "1"
            ]
          },
          "metadata": {},
          "execution_count": 14
        }
      ],
      "source": [
        "min([min(s) for s in raw_sequences])"
      ]
    },
    {
      "cell_type": "code",
      "execution_count": null,
      "metadata": {
        "id": "KxRfgSmULufb",
        "colab": {
          "base_uri": "https://localhost:8080/"
        },
        "outputId": "2f85a820-813b-46c4-ef6f-7ad741b598aa"
      },
      "outputs": [
        {
          "output_type": "execute_result",
          "data": {
            "text/plain": [
              "28"
            ]
          },
          "metadata": {},
          "execution_count": 15
        }
      ],
      "source": [
        "max([max(s) for s in raw_sequences])"
      ]
    },
    {
      "cell_type": "code",
      "execution_count": null,
      "metadata": {
        "id": "N6fCiLzXLufc",
        "colab": {
          "base_uri": "https://localhost:8080/"
        },
        "outputId": "3f09b841-3b0f-41ed-dec2-9d8995e26597"
      },
      "outputs": [
        {
          "output_type": "execute_result",
          "data": {
            "text/plain": [
              "19.0"
            ]
          },
          "metadata": {},
          "execution_count": 16
        }
      ],
      "source": [
        "np.median([len(s) for s in raw_sequences])"
      ]
    },
    {
      "cell_type": "markdown",
      "metadata": {
        "id": "xgHGgcpXybsv"
      },
      "source": [
        "### Padding"
      ]
    },
    {
      "cell_type": "code",
      "execution_count": null,
      "metadata": {
        "id": "STkk44KtLufh"
      },
      "outputs": [],
      "source": [
        "max_len = 19\n",
        "padded_sequences = utils.pad_sequences(raw_sequences, max_len)"
      ]
    },
    {
      "cell_type": "markdown",
      "metadata": {
        "id": "1Zao1sfPtbpI"
      },
      "source": [
        "# Data preprocessing\n"
      ]
    },
    {
      "cell_type": "markdown",
      "metadata": {
        "id": "cvvcyBuXtP5O"
      },
      "source": [
        "## Particionamiento"
      ]
    },
    {
      "cell_type": "code",
      "execution_count": null,
      "metadata": {
        "id": "dXOX6eLuLufj"
      },
      "outputs": [],
      "source": [
        "X_train, X_test, X_val, y_train, y_test, y_val = utils.split(padded_sequences, data_y)"
      ]
    },
    {
      "cell_type": "markdown",
      "metadata": {
        "id": "90rrw_79MsbM"
      },
      "source": [
        "\n",
        "## X_train_aug Data Augmentation"
      ]
    },
    {
      "cell_type": "code",
      "execution_count": null,
      "metadata": {
        "id": "whcOuiXoMrFC"
      },
      "outputs": [],
      "source": [
        "X_train_for_aug, a, b, c, d, e = utils.split(raw_sequences, data_y)\n"
      ]
    },
    {
      "cell_type": "code",
      "execution_count": null,
      "metadata": {
        "id": "fcowAy5dM2vV"
      },
      "outputs": [],
      "source": [
        "X_train_aug, y_train_aug = utils.sequences_augmentation(X_train_for_aug, y_train, max_len, 19)"
      ]
    },
    {
      "cell_type": "code",
      "execution_count": null,
      "metadata": {
        "id": "B9whfbpEe6cB"
      },
      "outputs": [],
      "source": [
        "\"\"\"\n",
        "padding to data augmentation traing\n",
        "\"\"\"\n",
        "X_train_aug = utils.pad_sequences(X_train_aug, max_len)\n"
      ]
    },
    {
      "cell_type": "markdown",
      "metadata": {
        "id": "BQHGdWmIblVc"
      },
      "source": [
        "#Language Model"
      ]
    },
    {
      "cell_type": "markdown",
      "metadata": {
        "id": "S5yVDCJ-aT1X"
      },
      "source": [
        "## Modelo Inicial"
      ]
    },
    {
      "cell_type": "code",
      "execution_count": null,
      "metadata": {
        "id": "IyfvmijZahXO"
      },
      "outputs": [],
      "source": [
        "vocab_size = max([max(s) for s in raw_sequences]) + 1\n",
        "max_len = 19\n",
        "batch_size = 10\n",
        "epochs = 2\n",
        "patience = 10\n",
        "optimizer = Adam() \n",
        "loss = 'categorical_crossentropy'\n",
        "embedding_size = math.ceil(vocab_size**0.25) "
      ]
    },
    {
      "cell_type": "code",
      "execution_count": null,
      "metadata": {
        "id": "6OLGsOdzaf0R",
        "colab": {
          "base_uri": "https://localhost:8080/"
        },
        "outputId": "38170b2b-d574-4c81-9e10-61352afe47f4"
      },
      "outputs": [
        {
          "output_type": "stream",
          "name": "stdout",
          "text": [
            "Model: \"sequential\"\n",
            "_________________________________________________________________\n",
            " Layer (type)                Output Shape              Param #   \n",
            "=================================================================\n",
            " embedding (Embedding)       (None, 19, 3)             90        \n",
            "                                                                 \n",
            " lstm (LSTM)                 (None, 64)                17408     \n",
            "                                                                 \n",
            " dense (Dense)               (None, 2)                 130       \n",
            "                                                                 \n",
            "=================================================================\n",
            "Total params: 17,628\n",
            "Trainable params: 17,628\n",
            "Non-trainable params: 0\n",
            "_________________________________________________________________\n"
          ]
        }
      ],
      "source": [
        "initial_model = Sequential()\n",
        "initial_model.add(Embedding(vocab_size+1, embedding_size, input_length=max_len)) #el vocab size deberiamos sacarlo\n",
        "initial_model.add(LSTM(64, return_sequences=False))\n",
        "initial_model.add(Dense(2, activation='softmax'))\n",
        "initial_model.compile(loss=loss, optimizer=optimizer, metrics=['accuracy'])\n",
        "initial_model.summary()"
      ]
    },
    {
      "cell_type": "markdown",
      "metadata": {
        "id": "ejiHGPbacrBk"
      },
      "source": [
        "### Entrenamiento"
      ]
    },
    {
      "cell_type": "code",
      "execution_count": null,
      "metadata": {
        "id": "WioIf9ibcL6g",
        "colab": {
          "base_uri": "https://localhost:8080/"
        },
        "outputId": "d1eabe7a-3b0a-48a0-e8c5-edfcf7eaf96c"
      },
      "outputs": [
        {
          "output_type": "stream",
          "name": "stdout",
          "text": [
            "Epoch 1/2\n",
            "26007/26007 [==============================] - 176s 7ms/step - loss: 0.0549 - accuracy: 0.9909 - val_loss: 0.0104 - val_accuracy: 0.9985\n",
            "Epoch 2/2\n",
            "26007/26007 [==============================] - 173s 7ms/step - loss: 0.0153 - accuracy: 0.9981 - val_loss: 0.0101 - val_accuracy: 0.9992\n"
          ]
        }
      ],
      "source": [
        "#se agregó class.weights\n",
        "initial_training, initial_model = utils.train(initial_model,\n",
        "                X_train,\n",
        "                y_train, \n",
        "                batch_size = batch_size,\n",
        "                epochs = epochs,\n",
        "                validation_data_X = X_val, \n",
        "                validation_data_y = y_val,                                \n",
        "                patience = patience,\n",
        "                class_weights = utils.class_weights(hdfs_train,'class'))"
      ]
    },
    {
      "cell_type": "markdown",
      "metadata": {
        "id": "4qso0vHEen_u"
      },
      "source": [
        "### Evaluation"
      ]
    },
    {
      "cell_type": "code",
      "execution_count": null,
      "metadata": {
        "id": "YVaOvPUreqea",
        "colab": {
          "base_uri": "https://localhost:8080/",
          "height": 849
        },
        "outputId": "945ff5ae-d18e-4759-c3e7-87b2a44e345f"
      },
      "outputs": [
        {
          "output_type": "display_data",
          "data": {
            "text/plain": [
              "<Figure size 360x360 with 2 Axes>"
            ],
            "image/png": "[encoded data removed]"
          },
          "metadata": {
            "needs_background": "light"
          }
        },
        {
          "output_type": "stream",
          "name": "stdout",
          "text": [
            "3011/3011 [==============================] - 9s 3ms/step\n"
          ]
        },
        {
          "output_type": "display_data",
          "data": {
            "text/plain": [
              "<Figure size 432x288 with 1 Axes>"
            ],
            "image/png": "[encoded data removed]"
          },
          "metadata": {
            "needs_background": "light"
          }
        },
        {
          "output_type": "stream",
          "name": "stdout",
          "text": [
            "Classification report\n",
            "              precision    recall  f1-score   support\n",
            "\n",
            "    abnormal       0.97      0.99      0.98      2901\n",
            "      normal       1.00      1.00      1.00     93422\n",
            "\n",
            "    accuracy                           1.00     96323\n",
            "   macro avg       0.99      1.00      0.99     96323\n",
            "weighted avg       1.00      1.00      1.00     96323\n",
            "\n",
            "Loss function: 0.011026093736290932, accuracy: 0.9989929795265198\n"
          ]
        }
      ],
      "source": [
        "utils.eval_model(initial_training, initial_model, X_test, y_test)"
      ]
    },
    {
      "cell_type": "markdown",
      "metadata": {
        "id": "oQCtQPD4aaLg"
      },
      "source": [
        "## Modelo Mejorado"
      ]
    },
    {
      "cell_type": "code",
      "execution_count": null,
      "metadata": {
        "id": "09FPLKOcac5X"
      },
      "outputs": [],
      "source": [
        "vocab_size = max([max(s) for s in raw_sequences]) + 1\n",
        "max_len = 19\n",
        "batch_size = 24\n",
        "epochs = 7\n",
        "patience = 10\n",
        "optimizer = Adam() \n",
        "loss = 'categorical_crossentropy'\n",
        "embedding_size = math.ceil(vocab_size**0.25) "
      ]
    },
    {
      "cell_type": "code",
      "execution_count": null,
      "metadata": {
        "id": "9NqYUvmaa9ib",
        "colab": {
          "base_uri": "https://localhost:8080/"
        },
        "outputId": "08d88582-ffd7-4203-f7c1-d78b72406e89"
      },
      "outputs": [
        {
          "output_type": "stream",
          "name": "stdout",
          "text": [
            "Model: \"sequential_1\"\n",
            "_________________________________________________________________\n",
            " Layer (type)                Output Shape              Param #   \n",
            "=================================================================\n",
            " embedding_1 (Embedding)     (None, 19, 3)             90        \n",
            "                                                                 \n",
            " lstm_1 (LSTM)               (None, 19, 64)            17408     \n",
            "                                                                 \n",
            " lstm_2 (LSTM)               (None, 64)                33024     \n",
            "                                                                 \n",
            " dense_1 (Dense)             (None, 2)                 130       \n",
            "                                                                 \n",
            "=================================================================\n",
            "Total params: 50,652\n",
            "Trainable params: 50,652\n",
            "Non-trainable params: 0\n",
            "_________________________________________________________________\n"
          ]
        }
      ],
      "source": [
        "improved_model = Sequential()\n",
        "improved_model.add(Embedding(vocab_size+1, embedding_size, input_length=max_len)) #el vocab size deberiamos sacarlo\n",
        "improved_model.add(LSTM(64, return_sequences=True))\n",
        "improved_model.add(LSTM(64, return_sequences=False))\n",
        "improved_model.add(Dense(2, activation='softmax'))\n",
        "improved_model.compile(loss=loss, optimizer=optimizer, metrics=['accuracy'])\n",
        "improved_model.summary()"
      ]
    },
    {
      "cell_type": "markdown",
      "metadata": {
        "id": "d0My0t2dgpwC"
      },
      "source": [
        "### Entrenamiento"
      ]
    },
    {
      "cell_type": "code",
      "execution_count": null,
      "metadata": {
        "id": "6B08Hin7cQj4",
        "colab": {
          "base_uri": "https://localhost:8080/"
        },
        "outputId": "e4add4c7-1312-4874-bef8-ec238f2bddf4"
      },
      "outputs": [
        {
          "output_type": "stream",
          "name": "stdout",
          "text": [
            "Epoch 1/7\n",
            "10837/10837 [==============================] - 157s 14ms/step - loss: 0.0464 - accuracy: 0.9922 - val_loss: 0.0078 - val_accuracy: 0.9989\n",
            "Epoch 2/7\n",
            "10837/10837 [==============================] - 156s 14ms/step - loss: 0.0173 - accuracy: 0.9974 - val_loss: 0.0105 - val_accuracy: 0.9988\n",
            "Epoch 3/7\n",
            "10837/10837 [==============================] - 156s 14ms/step - loss: 0.0124 - accuracy: 0.9985 - val_loss: 0.0048 - val_accuracy: 0.9988\n",
            "Epoch 4/7\n",
            "10837/10837 [==============================] - 155s 14ms/step - loss: 0.0136 - accuracy: 0.9986 - val_loss: 0.0060 - val_accuracy: 0.9988\n",
            "Epoch 5/7\n",
            "10837/10837 [==============================] - 157s 14ms/step - loss: 0.0109 - accuracy: 0.9987 - val_loss: 0.0044 - val_accuracy: 0.9992\n",
            "Epoch 6/7\n",
            "10837/10837 [==============================] - 160s 15ms/step - loss: 0.0095 - accuracy: 0.9988 - val_loss: 0.0063 - val_accuracy: 0.9988\n",
            "Epoch 7/7\n",
            "10837/10837 [==============================] - 161s 15ms/step - loss: 0.0087 - accuracy: 0.9990 - val_loss: 0.0050 - val_accuracy: 0.9993\n"
          ]
        }
      ],
      "source": [
        "#se agregó class.weights\n",
        "improved_training, improved_model = utils.train(improved_model,\n",
        "                X_train,\n",
        "                y_train, \n",
        "                batch_size = batch_size,\n",
        "                epochs = epochs,\n",
        "                validation_data_X = X_val, \n",
        "                validation_data_y = y_val,                                \n",
        "                patience = patience,\n",
        "                class_weights = utils.class_weights(hdfs_train,'class'))"
      ]
    },
    {
      "cell_type": "markdown",
      "metadata": {
        "id": "986p6T3zeeBP"
      },
      "source": [
        "### Evaluation"
      ]
    },
    {
      "cell_type": "code",
      "execution_count": null,
      "metadata": {
        "id": "h6Lrj1DGebOd",
        "colab": {
          "base_uri": "https://localhost:8080/",
          "height": 849
        },
        "outputId": "f7aca284-c76a-444a-ecd7-2565929129c1"
      },
      "outputs": [
        {
          "output_type": "display_data",
          "data": {
            "text/plain": [
              "<Figure size 360x360 with 2 Axes>"
            ],
            "image/png": "[encoded data removed]"
          },
          "metadata": {
            "needs_background": "light"
          }
        },
        {
          "output_type": "stream",
          "name": "stdout",
          "text": [
            "3011/3011 [==============================] - 15s 5ms/step\n"
          ]
        },
        {
          "output_type": "display_data",
          "data": {
            "text/plain": [
              "<Figure size 432x288 with 1 Axes>"
            ],
            "image/png": "[encoded data removed]"
          },
          "metadata": {
            "needs_background": "light"
          }
        },
        {
          "output_type": "stream",
          "name": "stdout",
          "text": [
            "Classification report\n",
            "              precision    recall  f1-score   support\n",
            "\n",
            "    abnormal       0.98      0.99      0.99      2901\n",
            "      normal       1.00      1.00      1.00     93422\n",
            "\n",
            "    accuracy                           1.00     96323\n",
            "   macro avg       0.99      1.00      0.99     96323\n",
            "weighted avg       1.00      1.00      1.00     96323\n",
            "\n",
            "Loss function: 0.00552724814042449, accuracy: 0.9991175532341003\n"
          ]
        }
      ],
      "source": [
        "utils.eval_model(improved_training, improved_model, X_test, y_test)"
      ]
    },
    {
      "cell_type": "markdown",
      "metadata": {
        "id": "cmmLNAeGLufi"
      },
      "source": [
        "##Grid Search\n",
        "\n"
      ]
    },
    {
      "cell_type": "code",
      "source": [
        "vocab_size = 30\n",
        "max_len = 19\n",
        "patience = 5\n",
        "embedding_size=3\n",
        "\n",
        "params = {\n",
        "    \"batch_size\": [16, 32],\n",
        "    \"epochs\": [2, 8, 15],\n",
        "    \"units\": [2,64, 72],\n",
        "    \"vocab_size\": [vocab_size + 1,],\n",
        "    \"embedding_size\": [embedding_size],\n",
        "    \"max_len\": [max_len,],\n",
        "    \"optimizer\": [\"adam\",],\n",
        "    \"loss\": [\"categorical_crossentropy\",]\n",
        "}"
      ],
      "metadata": {
        "id": "19ak24O67mgB"
      },
      "execution_count": null,
      "outputs": []
    },
    {
      "cell_type": "code",
      "execution_count": null,
      "metadata": {
        "colab": {
          "base_uri": "https://localhost:8080/"
        },
        "id": "M0AXZGdMpTLh",
        "outputId": "b6cd68b9-1a9f-4cfe-c646-c1fe97b676d5"
      },
      "outputs": [
        {
          "output_type": "stream",
          "name": "stdout",
          "text": [
            "Fitting 3 folds for each of 18 candidates, totalling 54 fits\n"
          ]
        },
        {
          "output_type": "stream",
          "name": "stderr",
          "text": [
            "/usr/local/lib/python3.7/dist-packages/joblib/externals/loky/process_executor.py:703: UserWarning: A worker stopped while some jobs were given to the executor. This can be caused by a too short worker timeout or by a memory leak.\n",
            "  \"timeout or by a memory leak.\", UserWarning\n"
          ]
        },
        {
          "output_type": "stream",
          "name": "stdout",
          "text": [
            "Epoch 1/15\n",
            "16255/16255 [==============================] - 249s 15ms/step - loss: 0.0243 - accuracy: 0.9944 - precision: 0.9944 - recall: 0.9944\n",
            "Epoch 2/15\n",
            "16255/16255 [==============================] - 252s 16ms/step - loss: 0.0051 - accuracy: 0.9988 - precision: 0.9988 - recall: 0.9988\n",
            "Epoch 3/15\n",
            "16255/16255 [==============================] - 247s 15ms/step - loss: 0.0026 - accuracy: 0.9993 - precision: 0.9993 - recall: 0.9993\n",
            "Epoch 4/15\n",
            "16255/16255 [==============================] - 246s 15ms/step - loss: 0.0020 - accuracy: 0.9996 - precision: 0.9996 - recall: 0.9996\n",
            "Epoch 5/15\n",
            "16255/16255 [==============================] - 249s 15ms/step - loss: 0.0018 - accuracy: 0.9996 - precision: 0.9996 - recall: 0.9996\n",
            "Epoch 6/15\n",
            "16255/16255 [==============================] - 248s 15ms/step - loss: 0.0017 - accuracy: 0.9997 - precision: 0.9997 - recall: 0.9997\n",
            "Epoch 7/15\n",
            "16255/16255 [==============================] - 249s 15ms/step - loss: 0.0016 - accuracy: 0.9997 - precision: 0.9997 - recall: 0.9997\n",
            "Epoch 8/15\n",
            "16255/16255 [==============================] - 251s 15ms/step - loss: 0.0015 - accuracy: 0.9997 - precision: 0.9997 - recall: 0.9997\n",
            "Epoch 9/15\n",
            "16255/16255 [==============================] - 250s 15ms/step - loss: 0.0015 - accuracy: 0.9997 - precision: 0.9997 - recall: 0.9997\n",
            "Epoch 10/15\n",
            "16255/16255 [==============================] - 249s 15ms/step - loss: 0.0015 - accuracy: 0.9997 - precision: 0.9997 - recall: 0.9997\n",
            "Epoch 11/15\n",
            "16255/16255 [==============================] - 246s 15ms/step - loss: 0.0014 - accuracy: 0.9997 - precision: 0.9997 - recall: 0.9997\n",
            "Epoch 12/15\n",
            "16255/16255 [==============================] - 250s 15ms/step - loss: 0.0015 - accuracy: 0.9997 - precision: 0.9997 - recall: 0.9997\n",
            "Epoch 13/15\n",
            "16255/16255 [==============================] - 250s 15ms/step - loss: 0.0015 - accuracy: 0.9997 - precision: 0.9997 - recall: 0.9997\n",
            "Epoch 14/15\n",
            "16255/16255 [==============================] - 247s 15ms/step - loss: 0.0014 - accuracy: 0.9997 - precision: 0.9997 - recall: 0.9997\n",
            "Epoch 15/15\n",
            "16255/16255 [==============================] - 247s 15ms/step - loss: 0.0015 - accuracy: 0.9997 - precision: 0.9997 - recall: 0.9997\n"
          ]
        }
      ],
      "source": [
        "\"\"\"\n",
        "Entrenamiento\n",
        "\"\"\"\n",
        "gs = utils.grid_search(params, utils.build_improved_model, 3)\n",
        "grid_result = gs.fit(X_train, y_train)"
      ]
    },
    {
      "cell_type": "code",
      "source": [
        "batch_size = grid_result.best_params_['vocab_size']\n",
        "epochs = grid_result.best_params_['epochs']\n",
        "units = grid_result.best_params_['units']\n",
        "optimizer = Adam() \n",
        "loss = grid_result.best_params_['loss']"
      ],
      "metadata": {
        "id": "Tt8xXza778Xr"
      },
      "execution_count": null,
      "outputs": []
    },
    {
      "cell_type": "markdown",
      "metadata": {
        "id": "ADJO-d2CvESK"
      },
      "source": [
        "### Model Mejorado "
      ]
    },
    {
      "cell_type": "code",
      "execution_count": null,
      "metadata": {
        "colab": {
          "base_uri": "https://localhost:8080/"
        },
        "id": "hRVizv75P9BC",
        "outputId": "cea821dc-3a24-4e41-c23d-18ec691b9a19"
      },
      "outputs": [
        {
          "output_type": "stream",
          "name": "stdout",
          "text": [
            "Model: \"sequential_3\"\n",
            "_________________________________________________________________\n",
            " Layer (type)                Output Shape              Param #   \n",
            "=================================================================\n",
            " embedding_3 (Embedding)     (None, 19, 3)             93        \n",
            "                                                                 \n",
            " lstm_5 (LSTM)               (None, 19, 64)            17408     \n",
            "                                                                 \n",
            " lstm_6 (LSTM)               (None, 64)                33024     \n",
            "                                                                 \n",
            " dense_3 (Dense)             (None, 2)                 130       \n",
            "                                                                 \n",
            "=================================================================\n",
            "Total params: 50,655\n",
            "Trainable params: 50,655\n",
            "Non-trainable params: 0\n",
            "_________________________________________________________________\n"
          ]
        }
      ],
      "source": [
        "model = Sequential()\n",
        "model.add(Embedding(vocab_size+1, embedding_size, input_length=max_len)) #el vocab size deberiamos sacarlo\n",
        "model.add(LSTM(units, return_sequences=True))\n",
        "model.add(LSTM(units, return_sequences=False))\n",
        "model.add(Dense(2, activation='softmax'))\n",
        "model.compile(loss=loss, optimizer=optimizer, metrics=['accuracy',tf.keras.metrics.Precision(),tf.keras.metrics.Recall()])\n",
        "model.summary()"
      ]
    },
    {
      "cell_type": "markdown",
      "metadata": {
        "id": "Zve-6Z7pcios"
      },
      "source": [
        "#### Entrenamiento"
      ]
    },
    {
      "cell_type": "code",
      "execution_count": null,
      "metadata": {
        "colab": {
          "base_uri": "https://localhost:8080/"
        },
        "id": "e_S-tD8EyzZI",
        "outputId": "70e1c339-9e7a-4b88-a293-3dc75c9c6004"
      },
      "outputs": [
        {
          "output_type": "stream",
          "name": "stdout",
          "text": [
            "Epoch 1/15\n",
            "8390/8390 [==============================] - 153s 18ms/step - loss: 0.0529 - accuracy: 0.9911 - precision_1: 0.9911 - recall_1: 0.9911 - val_loss: 0.0105 - val_accuracy: 0.9988 - val_precision_1: 0.9988 - val_recall_1: 0.9988\n",
            "Epoch 2/15\n",
            "8390/8390 [==============================] - 151s 18ms/step - loss: 0.0206 - accuracy: 0.9974 - precision_1: 0.9974 - recall_1: 0.9974 - val_loss: 0.0131 - val_accuracy: 0.9988 - val_precision_1: 0.9988 - val_recall_1: 0.9988\n",
            "Epoch 3/15\n",
            "8390/8390 [==============================] - 152s 18ms/step - loss: 0.0130 - accuracy: 0.9983 - precision_1: 0.9983 - recall_1: 0.9983 - val_loss: 0.0064 - val_accuracy: 0.9987 - val_precision_1: 0.9987 - val_recall_1: 0.9987\n",
            "Epoch 4/15\n",
            "8390/8390 [==============================] - 151s 18ms/step - loss: 0.0113 - accuracy: 0.9986 - precision_1: 0.9986 - recall_1: 0.9986 - val_loss: 0.0126 - val_accuracy: 0.9984 - val_precision_1: 0.9984 - val_recall_1: 0.9984\n",
            "Epoch 5/15\n",
            "8390/8390 [==============================] - 150s 18ms/step - loss: 0.0102 - accuracy: 0.9987 - precision_1: 0.9987 - recall_1: 0.9987 - val_loss: 0.0046 - val_accuracy: 0.9992 - val_precision_1: 0.9992 - val_recall_1: 0.9992\n",
            "Epoch 6/15\n",
            "8390/8390 [==============================] - 151s 18ms/step - loss: 0.0102 - accuracy: 0.9987 - precision_1: 0.9987 - recall_1: 0.9987 - val_loss: 0.0065 - val_accuracy: 0.9990 - val_precision_1: 0.9990 - val_recall_1: 0.9990\n",
            "Epoch 7/15\n",
            "8390/8390 [==============================] - 147s 18ms/step - loss: 0.0085 - accuracy: 0.9988 - precision_1: 0.9988 - recall_1: 0.9988 - val_loss: 0.0054 - val_accuracy: 0.9991 - val_precision_1: 0.9991 - val_recall_1: 0.9991\n",
            "Epoch 8/15\n",
            "8390/8390 [==============================] - 147s 18ms/step - loss: 0.0086 - accuracy: 0.9988 - precision_1: 0.9988 - recall_1: 0.9988 - val_loss: 0.0051 - val_accuracy: 0.9992 - val_precision_1: 0.9992 - val_recall_1: 0.9992\n",
            "Epoch 9/15\n",
            "8390/8390 [==============================] - 147s 18ms/step - loss: 0.0094 - accuracy: 0.9987 - precision_1: 0.9987 - recall_1: 0.9987 - val_loss: 0.0050 - val_accuracy: 0.9987 - val_precision_1: 0.9987 - val_recall_1: 0.9987\n",
            "Epoch 10/15\n",
            "8390/8390 [==============================] - 147s 18ms/step - loss: 0.0077 - accuracy: 0.9989 - precision_1: 0.9989 - recall_1: 0.9989 - val_loss: 0.0048 - val_accuracy: 0.9991 - val_precision_1: 0.9991 - val_recall_1: 0.9991\n",
            "Epoch 11/15\n",
            "8390/8390 [==============================] - 150s 18ms/step - loss: 0.0084 - accuracy: 0.9989 - precision_1: 0.9989 - recall_1: 0.9989 - val_loss: 0.0052 - val_accuracy: 0.9988 - val_precision_1: 0.9988 - val_recall_1: 0.9988\n",
            "Epoch 12/15\n",
            "8390/8390 [==============================] - 147s 18ms/step - loss: 0.0078 - accuracy: 0.9987 - precision_1: 0.9987 - recall_1: 0.9987 - val_loss: 0.0064 - val_accuracy: 0.9988 - val_precision_1: 0.9988 - val_recall_1: 0.9988\n",
            "Epoch 13/15\n",
            "8390/8390 [==============================] - 149s 18ms/step - loss: 0.0077 - accuracy: 0.9990 - precision_1: 0.9990 - recall_1: 0.9990 - val_loss: 0.0041 - val_accuracy: 0.9988 - val_precision_1: 0.9988 - val_recall_1: 0.9988\n",
            "Epoch 14/15\n",
            "8390/8390 [==============================] - 149s 18ms/step - loss: 0.0077 - accuracy: 0.9990 - precision_1: 0.9990 - recall_1: 0.9990 - val_loss: 0.0052 - val_accuracy: 0.9988 - val_precision_1: 0.9988 - val_recall_1: 0.9988\n",
            "Epoch 15/15\n",
            "8389/8390 [============================>.] - ETA: 0s - loss: 0.0080 - accuracy: 0.9991 - precision_1: 0.9991 - recall_1: 0.9991Restoring model weights from the end of the best epoch: 10.\n",
            "8390/8390 [==============================] - 149s 18ms/step - loss: 0.0080 - accuracy: 0.9991 - precision_1: 0.9991 - recall_1: 0.9991 - val_loss: 0.0043 - val_accuracy: 0.9988 - val_precision_1: 0.9988 - val_recall_1: 0.9988\n",
            "Epoch 15: early stopping\n"
          ]
        }
      ],
      "source": [
        "#se agregó class.weights\n",
        "training, model = utils.train(model,\n",
        "                X_train,\n",
        "                y_train, \n",
        "                batch_size = batch_size,\n",
        "                epochs = epochs,\n",
        "                validation_data_X = X_val, \n",
        "                validation_data_y = y_val,                                \n",
        "                patience = patience,\n",
        "                class_weights = utils.class_weights(hdfs_train,'class'))"
      ]
    },
    {
      "cell_type": "markdown",
      "metadata": {
        "id": "u8jMNxJ3zehB"
      },
      "source": [
        "#### Evaluation"
      ]
    },
    {
      "cell_type": "code",
      "execution_count": null,
      "metadata": {
        "colab": {
          "base_uri": "https://localhost:8080/",
          "height": 849
        },
        "id": "k9gXg_A5zgrp",
        "outputId": "14cad548-4651-429d-bdac-0df9dbc6bae3"
      },
      "outputs": [
        {
          "output_type": "display_data",
          "data": {
            "text/plain": [
              "<Figure size 360x360 with 2 Axes>"
            ],
            "image/png": "[encoded data removed]"
          },
          "metadata": {
            "needs_background": "light"
          }
        },
        {
          "output_type": "stream",
          "name": "stdout",
          "text": [
            "3011/3011 [==============================] - 18s 6ms/step\n"
          ]
        },
        {
          "output_type": "display_data",
          "data": {
            "text/plain": [
              "<Figure size 432x288 with 1 Axes>"
            ],
            "image/png": "[encoded data removed]"
          },
          "metadata": {
            "needs_background": "light"
          }
        },
        {
          "output_type": "stream",
          "name": "stdout",
          "text": [
            "Classification report\n",
            "              precision    recall  f1-score   support\n",
            "\n",
            "    abnormal       0.98      0.99      0.98      2901\n",
            "      normal       1.00      1.00      1.00     93422\n",
            "\n",
            "    accuracy                           1.00     96323\n",
            "   macro avg       0.99      1.00      0.99     96323\n",
            "weighted avg       1.00      1.00      1.00     96323\n",
            "\n",
            "Loss function: 0.004978092387318611, accuracy: 0.9990760087966919\n"
          ]
        }
      ],
      "source": [
        "utils.eval_model(training, model, X_test, y_test)"
      ]
    },
    {
      "cell_type": "markdown",
      "metadata": {
        "id": "ku-bAnBHyy3C"
      },
      "source": [
        "####Generación modelo y Salida Kaggle"
      ]
    },
    {
      "cell_type": "code",
      "execution_count": null,
      "metadata": {
        "colab": {
          "base_uri": "https://localhost:8080/"
        },
        "id": "sHEwCal3yfWk",
        "outputId": "59aceccd-8b6b-43e2-8526-eb6c38468222"
      },
      "outputs": [
        {
          "output_type": "stream",
          "name": "stdout",
          "text": [
            "5931/5931 [==============================] - 34s 6ms/step\n",
            "Saved model to disk\n"
          ]
        }
      ],
      "source": [
        "name='model'\n",
        "\n",
        "\"\"\"\n",
        "Generate data Kaggle\n",
        "\"\"\"\n",
        "#generate kaggle\n",
        "utils.load_test_sequences_and_generate_prediction_file(model, hdfs_test_kaggle, max_len, name+'_maxLen'+str(max_len)+'_batchSize'+str(batch_size)+'_epochs'+str(epochs) )\n",
        "\n",
        "\"\"\"\n",
        "Generate Model\n",
        "\"\"\"\n",
        "# serialize model to JSON\n",
        "model_json = model.to_json()\n",
        "with open(\"outputs/model_\"+name+'_maxLen'+str(max_len)+'_batchSize'+str(batch_size)+'_epochs'+str(epochs)+'_'+dt.datetime.today().strftime('%Y%m%d_%H%M%S')+\".json\", \"w\") as json_file:\n",
        "  json_file.write(model_json)\n",
        "# serialize weights to HDF5\n",
        "model.save_weights(\"outputs/model_Weigths\"+name+'_maxLen'+str(max_len)+'_batchSize'+str(batch_size)+'_epochs'+str(epochs)+'_'+dt.datetime.today().strftime('%Y%m%d_%H%M%S')+\".h5\")\n",
        "print(\"Saved model to disk\")"
      ]
    },
    {
      "cell_type": "markdown",
      "metadata": {
        "id": "y0-VGKtjvmZy"
      },
      "source": [
        "### Modelo Mejorado con Batch Normalization"
      ]
    },
    {
      "cell_type": "code",
      "execution_count": null,
      "metadata": {
        "colab": {
          "base_uri": "https://localhost:8080/"
        },
        "id": "Tkvaa5sRwL0p",
        "outputId": "661fcee9-0e69-4a02-97e4-bafa8d38c26f"
      },
      "outputs": [
        {
          "output_type": "stream",
          "name": "stdout",
          "text": [
            "Model: \"sequential_4\"\n",
            "_________________________________________________________________\n",
            " Layer (type)                Output Shape              Param #   \n",
            "=================================================================\n",
            " embedding_4 (Embedding)     (None, 19, 3)             93        \n",
            "                                                                 \n",
            " lstm_7 (LSTM)               (None, 19, 64)            17408     \n",
            "                                                                 \n",
            " lstm_8 (LSTM)               (None, 64)                33024     \n",
            "                                                                 \n",
            " batch_normalization (BatchN  (None, 64)               256       \n",
            " ormalization)                                                   \n",
            "                                                                 \n",
            " dense_4 (Dense)             (None, 2)                 130       \n",
            "                                                                 \n",
            "=================================================================\n",
            "Total params: 50,911\n",
            "Trainable params: 50,783\n",
            "Non-trainable params: 128\n",
            "_________________________________________________________________\n"
          ]
        }
      ],
      "source": [
        "modelBN = Sequential()\n",
        "modelBN.add(Embedding(vocab_size+1, embedding_size, input_length=max_len)) #el vocab size deberiamos sacarlo\n",
        "modelBN.add(LSTM(units, return_sequences=True))\n",
        "modelBN.add(LSTM(units, return_sequences=False))\n",
        "modelBN.add(BatchNormalization())\n",
        "modelBN.add(Dense(2, activation='softmax'))\n",
        "modelBN.compile(loss=loss, optimizer=optimizer, metrics=['accuracy',tf.keras.metrics.Precision(),tf.keras.metrics.Recall()])\n",
        "modelBN.summary()"
      ]
    },
    {
      "cell_type": "markdown",
      "metadata": {
        "id": "UVsoksYzy8GL"
      },
      "source": [
        "#### Entrenamiento"
      ]
    },
    {
      "cell_type": "code",
      "execution_count": null,
      "metadata": {
        "colab": {
          "base_uri": "https://localhost:8080/"
        },
        "id": "yGXGITxyy-PA",
        "outputId": "1d495cde-be94-4687-cdf4-88faf6b7a684"
      },
      "outputs": [
        {
          "output_type": "stream",
          "name": "stdout",
          "text": [
            "Epoch 1/15\n",
            "8390/8390 [==============================] - 156s 18ms/step - loss: 0.0310 - accuracy: 0.9946 - precision_2: 0.9946 - recall_2: 0.9946 - val_loss: 0.0162 - val_accuracy: 0.9989 - val_precision_2: 0.9989 - val_recall_2: 0.9989\n",
            "Epoch 2/15\n",
            "8390/8390 [==============================] - 149s 18ms/step - loss: 0.0178 - accuracy: 0.9981 - precision_2: 0.9981 - recall_2: 0.9981 - val_loss: 0.1607 - val_accuracy: 0.9917 - val_precision_2: 0.9917 - val_recall_2: 0.9917\n",
            "Epoch 3/15\n",
            "8390/8390 [==============================] - 150s 18ms/step - loss: 0.0153 - accuracy: 0.9982 - precision_2: 0.9982 - recall_2: 0.9982 - val_loss: 0.0094 - val_accuracy: 0.9991 - val_precision_2: 0.9991 - val_recall_2: 0.9991\n",
            "Epoch 4/15\n",
            "8390/8390 [==============================] - 148s 18ms/step - loss: 0.0150 - accuracy: 0.9983 - precision_2: 0.9983 - recall_2: 0.9983 - val_loss: 0.0878 - val_accuracy: 0.9812 - val_precision_2: 0.9812 - val_recall_2: 0.9812\n",
            "Epoch 5/15\n",
            "8390/8390 [==============================] - 152s 18ms/step - loss: 0.0136 - accuracy: 0.9985 - precision_2: 0.9985 - recall_2: 0.9985 - val_loss: 0.0081 - val_accuracy: 0.9989 - val_precision_2: 0.9989 - val_recall_2: 0.9989\n",
            "Epoch 6/15\n",
            "8390/8390 [==============================] - 153s 18ms/step - loss: 0.0126 - accuracy: 0.9986 - precision_2: 0.9986 - recall_2: 0.9986 - val_loss: 0.4218 - val_accuracy: 0.8999 - val_precision_2: 0.8999 - val_recall_2: 0.8999\n",
            "Epoch 7/15\n",
            "8390/8390 [==============================] - 148s 18ms/step - loss: 0.0112 - accuracy: 0.9987 - precision_2: 0.9987 - recall_2: 0.9987 - val_loss: 0.0059 - val_accuracy: 0.9993 - val_precision_2: 0.9993 - val_recall_2: 0.9993\n",
            "Epoch 8/15\n",
            "8390/8390 [==============================] - 148s 18ms/step - loss: 0.0109 - accuracy: 0.9987 - precision_2: 0.9987 - recall_2: 0.9987 - val_loss: 1.4872 - val_accuracy: 0.2088 - val_precision_2: 0.2088 - val_recall_2: 0.2088\n",
            "Epoch 9/15\n",
            "8390/8390 [==============================] - 148s 18ms/step - loss: 0.0101 - accuracy: 0.9988 - precision_2: 0.9988 - recall_2: 0.9988 - val_loss: 0.0060 - val_accuracy: 0.9993 - val_precision_2: 0.9993 - val_recall_2: 0.9993\n",
            "Epoch 10/15\n",
            "8390/8390 [==============================] - 148s 18ms/step - loss: 0.0101 - accuracy: 0.9988 - precision_2: 0.9988 - recall_2: 0.9988 - val_loss: 0.0064 - val_accuracy: 0.9992 - val_precision_2: 0.9992 - val_recall_2: 0.9992\n",
            "Epoch 11/15\n",
            "8390/8390 [==============================] - 147s 18ms/step - loss: 0.0102 - accuracy: 0.9988 - precision_2: 0.9988 - recall_2: 0.9988 - val_loss: 0.0119 - val_accuracy: 0.9989 - val_precision_2: 0.9989 - val_recall_2: 0.9989\n",
            "Epoch 12/15\n",
            "8390/8390 [==============================] - 150s 18ms/step - loss: 0.0099 - accuracy: 0.9989 - precision_2: 0.9989 - recall_2: 0.9989 - val_loss: 0.0352 - val_accuracy: 0.9964 - val_precision_2: 0.9964 - val_recall_2: 0.9964\n",
            "Epoch 13/15\n",
            "8390/8390 [==============================] - 149s 18ms/step - loss: 0.0094 - accuracy: 0.9989 - precision_2: 0.9989 - recall_2: 0.9989 - val_loss: 0.0111 - val_accuracy: 0.9988 - val_precision_2: 0.9988 - val_recall_2: 0.9988\n",
            "Epoch 14/15\n",
            "8390/8390 [==============================] - 149s 18ms/step - loss: 0.0091 - accuracy: 0.9989 - precision_2: 0.9989 - recall_2: 0.9989 - val_loss: 0.0078 - val_accuracy: 0.9991 - val_precision_2: 0.9991 - val_recall_2: 0.9991\n",
            "Epoch 15/15\n",
            "8390/8390 [==============================] - 147s 18ms/step - loss: 0.0090 - accuracy: 0.9989 - precision_2: 0.9989 - recall_2: 0.9989 - val_loss: 0.0093 - val_accuracy: 0.9989 - val_precision_2: 0.9989 - val_recall_2: 0.9989\n"
          ]
        }
      ],
      "source": [
        "#se agregó class.weights\n",
        "trainingBN, modelBN = utils.train(modelBN,\n",
        "                X_train,\n",
        "                y_train, \n",
        "                batch_size = batch_size,\n",
        "                epochs = epochs,\n",
        "                validation_data_X = X_val, \n",
        "                validation_data_y = y_val,                                \n",
        "                patience = patience,\n",
        "                class_weights = utils.class_weights(hdfs_train,'class'))"
      ]
    },
    {
      "cell_type": "markdown",
      "metadata": {
        "id": "HJOugunezMBL"
      },
      "source": [
        "#### Evaluation"
      ]
    },
    {
      "cell_type": "code",
      "execution_count": null,
      "metadata": {
        "colab": {
          "base_uri": "https://localhost:8080/",
          "height": 849
        },
        "id": "tNpnWLAEzPHN",
        "outputId": "7f7e3ffd-a16e-46e8-fdd0-fa73d8bf5bb8"
      },
      "outputs": [
        {
          "output_type": "display_data",
          "data": {
            "text/plain": [
              "<Figure size 360x360 with 2 Axes>"
            ],
            "image/png": "[encoded data removed]"
          },
          "metadata": {
            "needs_background": "light"
          }
        },
        {
          "output_type": "stream",
          "name": "stdout",
          "text": [
            "3011/3011 [==============================] - 17s 5ms/step\n"
          ]
        },
        {
          "output_type": "display_data",
          "data": {
            "text/plain": [
              "<Figure size 432x288 with 1 Axes>"
            ],
            "image/png": "[encoded data removed]"
          },
          "metadata": {
            "needs_background": "light"
          }
        },
        {
          "output_type": "stream",
          "name": "stdout",
          "text": [
            "Classification report\n",
            "              precision    recall  f1-score   support\n",
            "\n",
            "    abnormal       0.96      0.99      0.98      2901\n",
            "      normal       1.00      1.00      1.00     93422\n",
            "\n",
            "    accuracy                           1.00     96323\n",
            "   macro avg       0.98      1.00      0.99     96323\n",
            "weighted avg       1.00      1.00      1.00     96323\n",
            "\n",
            "Loss function: 0.010023570619523525, accuracy: 0.9986711144447327\n"
          ]
        }
      ],
      "source": [
        "utils.eval_model(trainingBN, modelBN, X_test, y_test)"
      ]
    },
    {
      "cell_type": "markdown",
      "metadata": {
        "id": "MaySRDssyxdo"
      },
      "source": [
        "####Generación modelo y Salida Kaggle"
      ]
    },
    {
      "cell_type": "code",
      "execution_count": null,
      "metadata": {
        "colab": {
          "base_uri": "https://localhost:8080/"
        },
        "id": "M9ZdvKvyyaOg",
        "outputId": "d25968e7-7783-4fde-de31-13fca580c523"
      },
      "outputs": [
        {
          "output_type": "stream",
          "name": "stdout",
          "text": [
            "5931/5931 [==============================] - 31s 5ms/step\n",
            "Saved model to disk\n"
          ]
        }
      ],
      "source": [
        "name='ModelWithBN'\n",
        "\n",
        "\"\"\"\n",
        "Generate data Kaggle\n",
        "\"\"\"\n",
        "#generate kaggle\n",
        "utils.load_test_sequences_and_generate_prediction_file(modelBN, hdfs_test_kaggle, max_len, name+'_maxLen'+str(max_len)+'_batchSize'+str(batch_size)+'_epochs'+str(epochs) )\n",
        "\n",
        "\"\"\"\n",
        "Generate Model\n",
        "\"\"\"\n",
        "# serialize model to JSON\n",
        "model_json = modelBN.to_json()\n",
        "with open(\"outputs/model_\"+name+'_maxLen'+str(max_len)+'_batchSize'+str(batch_size)+'_epochs'+str(epochs)+'_'+dt.datetime.today().strftime('%Y%m%d_%H%M%S')+\".json\", \"w\") as json_file:\n",
        "  json_file.write(model_json)\n",
        "# serialize weights to HDF5\n",
        "modelBN.save_weights(\"outputs/model_Weigths\"+name+'_maxLen'+str(max_len)+'_batchSize'+str(batch_size)+'_epochs'+str(epochs)+'_'+dt.datetime.today().strftime('%Y%m%d_%H%M%S')+\".h5\")\n",
        "print(\"Saved model to disk\")"
      ]
    },
    {
      "cell_type": "markdown",
      "metadata": {
        "id": "KExkov0evvyO"
      },
      "source": [
        "### Modelo Mejorado con Gradient Clipping"
      ]
    },
    {
      "cell_type": "code",
      "execution_count": null,
      "metadata": {
        "id": "9BZB6uzNvzg2"
      },
      "outputs": [],
      "source": [
        "optimizer = Adam(clipnorm=1.) #para agregar clip value clipvalue=0.5"
      ]
    },
    {
      "cell_type": "code",
      "execution_count": null,
      "metadata": {
        "colab": {
          "base_uri": "https://localhost:8080/"
        },
        "id": "Ox-Qar9UwLBu",
        "outputId": "07a0ac72-738c-4eba-f41c-b0dee28ed526"
      },
      "outputs": [
        {
          "output_type": "stream",
          "name": "stdout",
          "text": [
            "Model: \"sequential_5\"\n",
            "_________________________________________________________________\n",
            " Layer (type)                Output Shape              Param #   \n",
            "=================================================================\n",
            " embedding_5 (Embedding)     (None, 19, 3)             93        \n",
            "                                                                 \n",
            " lstm_9 (LSTM)               (None, 19, 64)            17408     \n",
            "                                                                 \n",
            " lstm_10 (LSTM)              (None, 64)                33024     \n",
            "                                                                 \n",
            " dense_5 (Dense)             (None, 2)                 130       \n",
            "                                                                 \n",
            "=================================================================\n",
            "Total params: 50,655\n",
            "Trainable params: 50,655\n",
            "Non-trainable params: 0\n",
            "_________________________________________________________________\n"
          ]
        }
      ],
      "source": [
        "modelGC = Sequential()\n",
        "modelGC.add(Embedding(vocab_size+1, embedding_size, input_length=max_len)) #el vocab size deberiamos sacarlo\n",
        "modelGC.add(LSTM(units, return_sequences=True))\n",
        "modelGC.add(LSTM(units, return_sequences=False))\n",
        "modelGC.add(Dense(2, activation='softmax'))\n",
        "modelGC.compile(loss=loss, optimizer=optimizer, metrics=['accuracy',tf.keras.metrics.Precision(),tf.keras.metrics.Recall()])\n",
        "modelGC.summary()"
      ]
    },
    {
      "cell_type": "markdown",
      "metadata": {
        "id": "XT1YJ4SMy_99"
      },
      "source": [
        "#### Entrenamiento"
      ]
    },
    {
      "cell_type": "code",
      "execution_count": null,
      "metadata": {
        "colab": {
          "base_uri": "https://localhost:8080/"
        },
        "id": "_pGKzdnnzFTr",
        "outputId": "a4e53b1e-7f0c-49b8-d141-ba984bc2c1da"
      },
      "outputs": [
        {
          "output_type": "stream",
          "name": "stdout",
          "text": [
            "Epoch 1/15\n",
            "8390/8390 [==============================] - 150s 17ms/step - loss: 0.1289 - accuracy: 0.9821 - precision_3: 0.9821 - recall_3: 0.9821 - val_loss: 0.0141 - val_accuracy: 0.9980 - val_precision_3: 0.9980 - val_recall_3: 0.9980\n",
            "Epoch 2/15\n",
            "8390/8390 [==============================] - 146s 17ms/step - loss: 0.0321 - accuracy: 0.9978 - precision_3: 0.9978 - recall_3: 0.9978 - val_loss: 0.0141 - val_accuracy: 0.9974 - val_precision_3: 0.9974 - val_recall_3: 0.9974\n",
            "Epoch 3/15\n",
            "8390/8390 [==============================] - 146s 17ms/step - loss: 0.0288 - accuracy: 0.9983 - precision_3: 0.9983 - recall_3: 0.9983 - val_loss: 0.0083 - val_accuracy: 0.9987 - val_precision_3: 0.9987 - val_recall_3: 0.9987\n",
            "Epoch 4/15\n",
            "8390/8390 [==============================] - 146s 17ms/step - loss: 0.0221 - accuracy: 0.9986 - precision_3: 0.9986 - recall_3: 0.9986 - val_loss: 0.0085 - val_accuracy: 0.9990 - val_precision_3: 0.9990 - val_recall_3: 0.9990\n",
            "Epoch 5/15\n",
            "8390/8390 [==============================] - 146s 17ms/step - loss: 0.0200 - accuracy: 0.9988 - precision_3: 0.9988 - recall_3: 0.9988 - val_loss: 0.0052 - val_accuracy: 0.9990 - val_precision_3: 0.9990 - val_recall_3: 0.9990\n",
            "Epoch 6/15\n",
            "8390/8390 [==============================] - 146s 17ms/step - loss: 0.0133 - accuracy: 0.9989 - precision_3: 0.9989 - recall_3: 0.9989 - val_loss: 0.0040 - val_accuracy: 0.9993 - val_precision_3: 0.9993 - val_recall_3: 0.9993\n",
            "Epoch 7/15\n",
            "8390/8390 [==============================] - 147s 18ms/step - loss: 0.0122 - accuracy: 0.9990 - precision_3: 0.9990 - recall_3: 0.9990 - val_loss: 0.0046 - val_accuracy: 0.9994 - val_precision_3: 0.9994 - val_recall_3: 0.9994\n",
            "Epoch 8/15\n",
            "8390/8390 [==============================] - 145s 17ms/step - loss: 0.0134 - accuracy: 0.9991 - precision_3: 0.9991 - recall_3: 0.9991 - val_loss: 0.0061 - val_accuracy: 0.9993 - val_precision_3: 0.9993 - val_recall_3: 0.9993\n",
            "Epoch 9/15\n",
            "8390/8390 [==============================] - 146s 17ms/step - loss: 0.0124 - accuracy: 0.9990 - precision_3: 0.9990 - recall_3: 0.9990 - val_loss: 0.0037 - val_accuracy: 0.9993 - val_precision_3: 0.9993 - val_recall_3: 0.9993\n",
            "Epoch 10/15\n",
            "8390/8390 [==============================] - 147s 18ms/step - loss: 0.0115 - accuracy: 0.9988 - precision_3: 0.9988 - recall_3: 0.9988 - val_loss: 0.0041 - val_accuracy: 0.9993 - val_precision_3: 0.9993 - val_recall_3: 0.9993\n",
            "Epoch 11/15\n",
            "8390/8390 [==============================] - 147s 17ms/step - loss: 0.0095 - accuracy: 0.9992 - precision_3: 0.9992 - recall_3: 0.9992 - val_loss: 0.0044 - val_accuracy: 0.9989 - val_precision_3: 0.9989 - val_recall_3: 0.9989\n",
            "Epoch 12/15\n",
            "8390/8390 [==============================] - 147s 18ms/step - loss: 0.0092 - accuracy: 0.9991 - precision_3: 0.9991 - recall_3: 0.9991 - val_loss: 0.0057 - val_accuracy: 0.9992 - val_precision_3: 0.9992 - val_recall_3: 0.9992\n",
            "Epoch 13/15\n",
            "8390/8390 [==============================] - 146s 17ms/step - loss: 0.0083 - accuracy: 0.9993 - precision_3: 0.9993 - recall_3: 0.9993 - val_loss: 0.0030 - val_accuracy: 0.9995 - val_precision_3: 0.9995 - val_recall_3: 0.9995\n",
            "Epoch 14/15\n",
            "8390/8390 [==============================] - 147s 18ms/step - loss: 0.0080 - accuracy: 0.9994 - precision_3: 0.9994 - recall_3: 0.9994 - val_loss: 0.0032 - val_accuracy: 0.9993 - val_precision_3: 0.9993 - val_recall_3: 0.9993\n",
            "Epoch 15/15\n",
            "8390/8390 [==============================] - 148s 18ms/step - loss: 0.0089 - accuracy: 0.9993 - precision_3: 0.9993 - recall_3: 0.9993 - val_loss: 0.0037 - val_accuracy: 0.9988 - val_precision_3: 0.9988 - val_recall_3: 0.9988\n"
          ]
        }
      ],
      "source": [
        "#se agregó class.weights\n",
        "trainingGC, modelGC = utils.train(modelGC,\n",
        "                X_train,\n",
        "                y_train, \n",
        "                batch_size = batch_size,\n",
        "                epochs = epochs,\n",
        "                validation_data_X = X_val, \n",
        "                validation_data_y = y_val,                                \n",
        "                patience = patience,\n",
        "                class_weights = utils.class_weights(hdfs_train,'class'))"
      ]
    },
    {
      "cell_type": "markdown",
      "metadata": {
        "id": "VaK5JqSAzUfx"
      },
      "source": [
        "#### Evaluation"
      ]
    },
    {
      "cell_type": "code",
      "execution_count": null,
      "metadata": {
        "colab": {
          "base_uri": "https://localhost:8080/",
          "height": 849
        },
        "id": "gnZO4elgzZQo",
        "outputId": "c0807c1d-56b2-4349-d5b7-40f8259764f5"
      },
      "outputs": [
        {
          "output_type": "display_data",
          "data": {
            "text/plain": [
              "<Figure size 360x360 with 2 Axes>"
            ],
            "image/png": "[encoded data removed]"
          },
          "metadata": {
            "needs_background": "light"
          }
        },
        {
          "output_type": "stream",
          "name": "stdout",
          "text": [
            "3011/3011 [==============================] - 17s 5ms/step\n"
          ]
        },
        {
          "output_type": "display_data",
          "data": {
            "text/plain": [
              "<Figure size 432x288 with 1 Axes>"
            ],
            "image/png": "[encoded data removed]"
          },
          "metadata": {
            "needs_background": "light"
          }
        },
        {
          "output_type": "stream",
          "name": "stdout",
          "text": [
            "Classification report\n",
            "              precision    recall  f1-score   support\n",
            "\n",
            "    abnormal       0.96      0.99      0.98      2901\n",
            "      normal       1.00      1.00      1.00     93422\n",
            "\n",
            "    accuracy                           1.00     96323\n",
            "   macro avg       0.98      1.00      0.99     96323\n",
            "weighted avg       1.00      1.00      1.00     96323\n",
            "\n",
            "Loss function: 0.004350789822638035, accuracy: 0.9986711144447327\n"
          ]
        }
      ],
      "source": [
        "utils.eval_model(trainingGC, modelGC, X_test, y_test)"
      ]
    },
    {
      "cell_type": "markdown",
      "metadata": {
        "id": "oRxM9wbpywCg"
      },
      "source": [
        "####Generación modelo y Salida Kaggle"
      ]
    },
    {
      "cell_type": "code",
      "execution_count": null,
      "metadata": {
        "colab": {
          "base_uri": "https://localhost:8080/"
        },
        "id": "NGHxtm-nx5dr",
        "outputId": "2511bd8d-651f-4a31-e388-814aa9a665f2"
      },
      "outputs": [
        {
          "output_type": "stream",
          "name": "stdout",
          "text": [
            "5931/5931 [==============================] - 33s 6ms/step\n",
            "Saved model to disk\n"
          ]
        }
      ],
      "source": [
        "name='ModelWithGC'\n",
        "\n",
        "\"\"\"\n",
        "Generate data Kaggle\n",
        "\"\"\"\n",
        "#generate kaggle\n",
        "utils.load_test_sequences_and_generate_prediction_file(modelGC, hdfs_test_kaggle, max_len, name+'_maxLen'+str(max_len)+'_batchSize'+str(batch_size)+'_epochs'+str(epochs) )\n",
        "\n",
        "\"\"\"\n",
        "Generate Model\n",
        "\"\"\"\n",
        "# serialize model to JSON\n",
        "model_json = modelGC.to_json()\n",
        "with open(\"outputs/model_\"+name+'_maxLen'+str(max_len)+'_batchSize'+str(batch_size)+'_epochs'+str(epochs)+'_'+dt.datetime.today().strftime('%Y%m%d_%H%M%S')+\".json\", \"w\") as json_file:\n",
        "  json_file.write(model_json)\n",
        "# serialize weights to HDF5\n",
        "modelGC.save_weights(\"outputs/model_Weigths\"+name+'_maxLen'+str(max_len)+'_batchSize'+str(batch_size)+'_epochs'+str(epochs)+'_'+dt.datetime.today().strftime('%Y%m%d_%H%M%S')+\".h5\")\n",
        "print(\"Saved model to disk\")\n"
      ]
    },
    {
      "cell_type": "markdown",
      "metadata": {
        "id": "XF-SekK0vQJM"
      },
      "source": [
        "### Modelo Mejorado con Batch Normalization y Gradient Clipping"
      ]
    },
    {
      "cell_type": "code",
      "execution_count": null,
      "metadata": {
        "colab": {
          "base_uri": "https://localhost:8080/"
        },
        "id": "0CqjJVXdLufm",
        "outputId": "a254ca23-250e-45af-8d36-28d71dd785f2"
      },
      "outputs": [
        {
          "output_type": "stream",
          "name": "stdout",
          "text": [
            "Model: \"sequential_6\"\n",
            "_________________________________________________________________\n",
            " Layer (type)                Output Shape              Param #   \n",
            "=================================================================\n",
            " embedding_6 (Embedding)     (None, 19, 3)             93        \n",
            "                                                                 \n",
            " lstm_11 (LSTM)              (None, 19, 64)            17408     \n",
            "                                                                 \n",
            " lstm_12 (LSTM)              (None, 64)                33024     \n",
            "                                                                 \n",
            " batch_normalization_1 (Batc  (None, 64)               256       \n",
            " hNormalization)                                                 \n",
            "                                                                 \n",
            " dense_6 (Dense)             (None, 2)                 130       \n",
            "                                                                 \n",
            "=================================================================\n",
            "Total params: 50,911\n",
            "Trainable params: 50,783\n",
            "Non-trainable params: 128\n",
            "_________________________________________________________________\n"
          ]
        }
      ],
      "source": [
        "modelGC_BN = Sequential()\n",
        "modelGC_BN.add(Embedding(vocab_size+1, embedding_size, input_length=max_len)) #el vocab size deberiamos sacarlo\n",
        "modelGC_BN.add(LSTM(units, return_sequences=True))\n",
        "modelGC_BN.add(LSTM(units, return_sequences=False))\n",
        "modelGC_BN.add(BatchNormalization())\n",
        "modelGC_BN.add(Dense(2, activation='softmax'))\n",
        "modelGC_BN.compile(loss=loss, optimizer=optimizer, metrics=['accuracy',tf.keras.metrics.Precision(),tf.keras.metrics.Recall()])\n",
        "modelGC_BN.summary()"
      ]
    },
    {
      "cell_type": "markdown",
      "metadata": {
        "id": "weaHMbBAzoqD"
      },
      "source": [
        "#### Entrenamiento"
      ]
    },
    {
      "cell_type": "code",
      "execution_count": null,
      "metadata": {
        "id": "KoKoxraqzpFy",
        "colab": {
          "base_uri": "https://localhost:8080/"
        },
        "outputId": "e552e637-f543-42c1-8ebc-4575d638317f"
      },
      "outputs": [
        {
          "output_type": "stream",
          "name": "stdout",
          "text": [
            "Epoch 1/15\n",
            "8390/8390 [==============================] - 152s 18ms/step - loss: 0.0264 - accuracy: 0.9979 - precision_4: 0.9979 - recall_4: 0.9979 - val_loss: 6.8521 - val_accuracy: 0.0364 - val_precision_4: 0.0364 - val_recall_4: 0.0364\n",
            "Epoch 2/15\n",
            "8390/8390 [==============================] - 148s 18ms/step - loss: 0.0276 - accuracy: 0.9991 - precision_4: 0.9991 - recall_4: 0.9991 - val_loss: 8.9719 - val_accuracy: 0.2049 - val_precision_4: 0.2049 - val_recall_4: 0.2049\n",
            "Epoch 3/15\n",
            "8390/8390 [==============================] - 148s 18ms/step - loss: 0.0272 - accuracy: 0.9992 - precision_4: 0.9992 - recall_4: 0.9992 - val_loss: 0.0117 - val_accuracy: 0.9964 - val_precision_4: 0.9964 - val_recall_4: 0.9964\n",
            "Epoch 4/15\n",
            "8390/8390 [==============================] - 148s 18ms/step - loss: 0.0235 - accuracy: 0.9991 - precision_4: 0.9991 - recall_4: 0.9991 - val_loss: 0.0090 - val_accuracy: 0.9988 - val_precision_4: 0.9988 - val_recall_4: 0.9988\n",
            "Epoch 5/15\n",
            "8390/8390 [==============================] - 149s 18ms/step - loss: 0.0263 - accuracy: 0.9992 - precision_4: 0.9992 - recall_4: 0.9992 - val_loss: 0.0027 - val_accuracy: 0.9997 - val_precision_4: 0.9997 - val_recall_4: 0.9997\n",
            "Epoch 6/15\n",
            "8390/8390 [==============================] - 149s 18ms/step - loss: 0.0247 - accuracy: 0.9992 - precision_4: 0.9992 - recall_4: 0.9992 - val_loss: 2.0370 - val_accuracy: 0.8249 - val_precision_4: 0.8249 - val_recall_4: 0.8249\n",
            "Epoch 7/15\n",
            "8390/8390 [==============================] - 149s 18ms/step - loss: 0.0242 - accuracy: 0.9993 - precision_4: 0.9993 - recall_4: 0.9993 - val_loss: 0.0049 - val_accuracy: 0.9993 - val_precision_4: 0.9993 - val_recall_4: 0.9993\n",
            "Epoch 8/15\n",
            "8390/8390 [==============================] - 147s 18ms/step - loss: 0.0235 - accuracy: 0.9993 - precision_4: 0.9993 - recall_4: 0.9993 - val_loss: 0.0078 - val_accuracy: 0.9997 - val_precision_4: 0.9997 - val_recall_4: 0.9997\n",
            "Epoch 9/15\n",
            "8390/8390 [==============================] - 145s 17ms/step - loss: 0.0217 - accuracy: 0.9992 - precision_4: 0.9992 - recall_4: 0.9992 - val_loss: 0.0134 - val_accuracy: 0.9984 - val_precision_4: 0.9984 - val_recall_4: 0.9984\n",
            "Epoch 10/15\n",
            "8390/8390 [==============================] - 152s 18ms/step - loss: 0.0210 - accuracy: 0.9992 - precision_4: 0.9992 - recall_4: 0.9992 - val_loss: 5.8954 - val_accuracy: 0.2037 - val_precision_4: 0.2037 - val_recall_4: 0.2037\n",
            "Epoch 11/15\n",
            "8390/8390 [==============================] - 146s 17ms/step - loss: 0.0192 - accuracy: 0.9992 - precision_4: 0.9992 - recall_4: 0.9992 - val_loss: 0.0039 - val_accuracy: 0.9992 - val_precision_4: 0.9992 - val_recall_4: 0.9992\n",
            "Epoch 12/15\n",
            "8390/8390 [==============================] - 145s 17ms/step - loss: 0.0188 - accuracy: 0.9993 - precision_4: 0.9993 - recall_4: 0.9993 - val_loss: 0.0107 - val_accuracy: 0.9993 - val_precision_4: 0.9993 - val_recall_4: 0.9993\n",
            "Epoch 13/15\n",
            "8390/8390 [==============================] - 146s 17ms/step - loss: 0.0156 - accuracy: 0.9993 - precision_4: 0.9993 - recall_4: 0.9993 - val_loss: 0.0090 - val_accuracy: 0.9994 - val_precision_4: 0.9994 - val_recall_4: 0.9994\n",
            "Epoch 14/15\n",
            "8390/8390 [==============================] - 145s 17ms/step - loss: 0.0146 - accuracy: 0.9993 - precision_4: 0.9993 - recall_4: 0.9993 - val_loss: 0.0057 - val_accuracy: 0.9993 - val_precision_4: 0.9993 - val_recall_4: 0.9993\n",
            "Epoch 15/15\n",
            "8390/8390 [==============================] - 144s 17ms/step - loss: 0.0134 - accuracy: 0.9992 - precision_4: 0.9992 - recall_4: 0.9992 - val_loss: 0.0033 - val_accuracy: 0.9997 - val_precision_4: 0.9997 - val_recall_4: 0.9997\n"
          ]
        }
      ],
      "source": [
        "#se agregó class.weights\n",
        "trainingGC_BN, modelGC_BN = utils.train(modelGC_BN,\n",
        "                X_train,\n",
        "                y_train, \n",
        "                batch_size = batch_size,\n",
        "                epochs = epochs,\n",
        "                validation_data_X = X_val, \n",
        "                validation_data_y = y_val,                                \n",
        "                patience = patience,\n",
        "                class_weights = utils.class_weights(hdfs_train,'class'))"
      ]
    },
    {
      "cell_type": "markdown",
      "metadata": {
        "id": "sYaONMdvzWUp"
      },
      "source": [
        "#### Evaluation"
      ]
    },
    {
      "cell_type": "code",
      "execution_count": null,
      "metadata": {
        "id": "jZ0bbNNzzXFP",
        "colab": {
          "base_uri": "https://localhost:8080/",
          "height": 849
        },
        "outputId": "38eca922-c1cb-4b77-b663-a4488609a60f"
      },
      "outputs": [
        {
          "output_type": "display_data",
          "data": {
            "text/plain": [
              "<Figure size 360x360 with 2 Axes>"
            ],
            "image/png": "[encoded data removed]"
          },
          "metadata": {
            "needs_background": "light"
          }
        },
        {
          "output_type": "stream",
          "name": "stdout",
          "text": [
            "3011/3011 [==============================] - 16s 5ms/step\n"
          ]
        },
        {
          "output_type": "display_data",
          "data": {
            "text/plain": [
              "<Figure size 432x288 with 1 Axes>"
            ],
            "image/png": "[encoded data removed]"
          },
          "metadata": {
            "needs_background": "light"
          }
        },
        {
          "output_type": "stream",
          "name": "stdout",
          "text": [
            "Classification report\n",
            "              precision    recall  f1-score   support\n",
            "\n",
            "    abnormal       0.99      0.99      0.99      2901\n",
            "      normal       1.00      1.00      1.00     93422\n",
            "\n",
            "    accuracy                           1.00     96323\n",
            "   macro avg       1.00      1.00      1.00     96323\n",
            "weighted avg       1.00      1.00      1.00     96323\n",
            "\n",
            "Loss function: 0.004058150574564934, accuracy: 0.9995743632316589\n"
          ]
        }
      ],
      "source": [
        "utils.eval_model(trainingGC_BN, modelGC_BN, X_test, y_test)"
      ]
    },
    {
      "cell_type": "markdown",
      "metadata": {
        "id": "-cDTnLsaxjyE"
      },
      "source": [
        "####Generación modelo y Salida Kaggle"
      ]
    },
    {
      "cell_type": "code",
      "execution_count": null,
      "metadata": {
        "id": "QslTNmcixobB",
        "colab": {
          "base_uri": "https://localhost:8080/"
        },
        "outputId": "fed30c78-602f-41ff-87c9-427a8f6ebe24"
      },
      "outputs": [
        {
          "output_type": "stream",
          "name": "stdout",
          "text": [
            "5931/5931 [==============================] - 30s 5ms/step\n",
            "Saved model to disk\n"
          ]
        }
      ],
      "source": [
        "name='ModelWithGCandBN'\n",
        "\n",
        "\"\"\"\n",
        "Generate data Kaggle\n",
        "\"\"\"\n",
        "\n",
        "utils.load_test_sequences_and_generate_prediction_file(modelGC_BN, hdfs_test_kaggle, max_len, name+'_maxLen'+str(max_len)+'_batchSize'+str(batch_size)+'_epochs'+str(epochs) )\n",
        "\n",
        "\"\"\"\n",
        "Generate Model\n",
        "\"\"\"\n",
        "# serialize model to JSON\n",
        "model_json = modelGC_BN.to_json()\n",
        "with open(\"outputs/model_\"+name+'_maxLen'+str(max_len)+'_batchSize'+str(batch_size)+'_epochs'+str(epochs)+'_'+dt.datetime.today().strftime('%Y%m%d_%H%M%S')+\".json\", \"w\") as json_file:\n",
        "  json_file.write(model_json)\n",
        "# serialize weights to HDF5\n",
        "modelGC_BN.save_weights(\"outputs/model_Weigths\"+name+'_maxLen'+str(max_len)+'_batchSize'+str(batch_size)+'_epochs'+str(epochs)+'_'+dt.datetime.today().strftime('%Y%m%d_%H%M%S')+\".h5\")\n",
        "print(\"Saved model to disk\")"
      ]
    },
    {
      "cell_type": "markdown",
      "metadata": {
        "id": "abIJFm--rMwZ"
      },
      "source": [
        "### Modelo Mejorado con Data Augmentation"
      ]
    },
    {
      "cell_type": "code",
      "execution_count": null,
      "metadata": {
        "id": "3Zp7UIMUroGg",
        "colab": {
          "base_uri": "https://localhost:8080/"
        },
        "outputId": "f54ffb51-1689-42b3-e27d-75174c24bc5f"
      },
      "outputs": [
        {
          "output_type": "stream",
          "name": "stdout",
          "text": [
            "Model: \"sequential_7\"\n",
            "_________________________________________________________________\n",
            " Layer (type)                Output Shape              Param #   \n",
            "=================================================================\n",
            " embedding_7 (Embedding)     (None, 19, 3)             93        \n",
            "                                                                 \n",
            " lstm_13 (LSTM)              (None, 19, 64)            17408     \n",
            "                                                                 \n",
            " lstm_14 (LSTM)              (None, 64)                33024     \n",
            "                                                                 \n",
            " dense_7 (Dense)             (None, 2)                 130       \n",
            "                                                                 \n",
            "=================================================================\n",
            "Total params: 50,655\n",
            "Trainable params: 50,655\n",
            "Non-trainable params: 0\n",
            "_________________________________________________________________\n"
          ]
        }
      ],
      "source": [
        "modelDA = Sequential()\n",
        "modelDA.add(Embedding(vocab_size+1, embedding_size, input_length=max_len)) #el vocab size deberiamos sacarlo\n",
        "modelDA.add(LSTM(units, return_sequences=True))\n",
        "modelDA.add(LSTM(units, return_sequences=False))\n",
        "modelDA.add(Dense(2, activation='softmax'))\n",
        "modelDA.compile(loss=loss, optimizer=optimizer, metrics=['accuracy',tf.keras.metrics.Precision(),tf.keras.metrics.Recall()])\n",
        "modelDA.summary()"
      ]
    },
    {
      "cell_type": "markdown",
      "metadata": {
        "id": "4gPfHVc5rVYF"
      },
      "source": [
        "#### Entrenamiento"
      ]
    },
    {
      "cell_type": "code",
      "execution_count": null,
      "metadata": {
        "id": "LpvnDb2rrzRf",
        "colab": {
          "base_uri": "https://localhost:8080/"
        },
        "outputId": "cc60ffb9-3f10-4797-ec04-a12166156413"
      },
      "outputs": [
        {
          "output_type": "stream",
          "name": "stdout",
          "text": [
            "Epoch 1/15\n",
            "10809/10809 [==============================] - 189s 17ms/step - loss: 0.0779 - accuracy: 0.9911 - precision_5: 0.9911 - recall_5: 0.9911 - val_loss: 0.0081 - val_accuracy: 0.9989 - val_precision_5: 0.9989 - val_recall_5: 0.9989\n",
            "Epoch 2/15\n",
            "10809/10809 [==============================] - 185s 17ms/step - loss: 0.0284 - accuracy: 0.9983 - precision_5: 0.9983 - recall_5: 0.9983 - val_loss: 0.0054 - val_accuracy: 0.9992 - val_precision_5: 0.9992 - val_recall_5: 0.9992\n",
            "Epoch 3/15\n",
            "10809/10809 [==============================] - 186s 17ms/step - loss: 0.0236 - accuracy: 0.9985 - precision_5: 0.9985 - recall_5: 0.9985 - val_loss: 0.0085 - val_accuracy: 0.9988 - val_precision_5: 0.9988 - val_recall_5: 0.9988\n",
            "Epoch 4/15\n",
            "10809/10809 [==============================] - 186s 17ms/step - loss: 0.0212 - accuracy: 0.9982 - precision_5: 0.9982 - recall_5: 0.9982 - val_loss: 0.0071 - val_accuracy: 0.9982 - val_precision_5: 0.9982 - val_recall_5: 0.9982\n",
            "Epoch 5/15\n",
            "10809/10809 [==============================] - 187s 17ms/step - loss: 0.0159 - accuracy: 0.9984 - precision_5: 0.9984 - recall_5: 0.9984 - val_loss: 0.0088 - val_accuracy: 0.9987 - val_precision_5: 0.9987 - val_recall_5: 0.9987\n",
            "Epoch 6/15\n",
            "10809/10809 [==============================] - 188s 17ms/step - loss: 0.0147 - accuracy: 0.9987 - precision_5: 0.9987 - recall_5: 0.9987 - val_loss: 0.0041 - val_accuracy: 0.9993 - val_precision_5: 0.9993 - val_recall_5: 0.9993\n",
            "Epoch 7/15\n",
            "10809/10809 [==============================] - 187s 17ms/step - loss: 0.0139 - accuracy: 0.9988 - precision_5: 0.9988 - recall_5: 0.9988 - val_loss: 0.0044 - val_accuracy: 0.9989 - val_precision_5: 0.9989 - val_recall_5: 0.9989\n",
            "Epoch 8/15\n",
            "10809/10809 [==============================] - 185s 17ms/step - loss: 0.0131 - accuracy: 0.9988 - precision_5: 0.9988 - recall_5: 0.9988 - val_loss: 0.0039 - val_accuracy: 0.9993 - val_precision_5: 0.9993 - val_recall_5: 0.9993\n",
            "Epoch 9/15\n",
            "10809/10809 [==============================] - 186s 17ms/step - loss: 0.0127 - accuracy: 0.9988 - precision_5: 0.9988 - recall_5: 0.9988 - val_loss: 0.0050 - val_accuracy: 0.9993 - val_precision_5: 0.9993 - val_recall_5: 0.9993\n",
            "Epoch 10/15\n",
            "10809/10809 [==============================] - 187s 17ms/step - loss: 0.0125 - accuracy: 0.9988 - precision_5: 0.9988 - recall_5: 0.9988 - val_loss: 0.0050 - val_accuracy: 0.9993 - val_precision_5: 0.9993 - val_recall_5: 0.9993\n",
            "Epoch 11/15\n",
            "10809/10809 [==============================] - 187s 17ms/step - loss: 0.0116 - accuracy: 0.9988 - precision_5: 0.9988 - recall_5: 0.9988 - val_loss: 0.0018 - val_accuracy: 0.9994 - val_precision_5: 0.9994 - val_recall_5: 0.9994\n",
            "Epoch 12/15\n",
            "10809/10809 [==============================] - 187s 17ms/step - loss: 0.0112 - accuracy: 0.9990 - precision_5: 0.9990 - recall_5: 0.9990 - val_loss: 0.0024 - val_accuracy: 0.9998 - val_precision_5: 0.9998 - val_recall_5: 0.9998\n",
            "Epoch 13/15\n",
            "10809/10809 [==============================] - 189s 17ms/step - loss: 0.0121 - accuracy: 0.9989 - precision_5: 0.9989 - recall_5: 0.9989 - val_loss: 0.0023 - val_accuracy: 0.9994 - val_precision_5: 0.9994 - val_recall_5: 0.9994\n",
            "Epoch 14/15\n",
            "10809/10809 [==============================] - 188s 17ms/step - loss: 0.0111 - accuracy: 0.9990 - precision_5: 0.9990 - recall_5: 0.9990 - val_loss: 0.0047 - val_accuracy: 0.9993 - val_precision_5: 0.9993 - val_recall_5: 0.9993\n",
            "Epoch 15/15\n",
            "10809/10809 [==============================] - 189s 17ms/step - loss: 0.0115 - accuracy: 0.9990 - precision_5: 0.9990 - recall_5: 0.9990 - val_loss: 0.0044 - val_accuracy: 0.9989 - val_precision_5: 0.9989 - val_recall_5: 0.9989\n"
          ]
        }
      ],
      "source": [
        "#se agregó class.weights\n",
        "trainingDA, modelDA = utils.train(modelDA,\n",
        "                X_train_aug,\n",
        "                y_train_aug, \n",
        "                batch_size = batch_size,\n",
        "                epochs = epochs,\n",
        "                validation_data_X = X_val, \n",
        "                validation_data_y = y_val,                                \n",
        "                patience = patience,\n",
        "                class_weights = utils.class_weights(hdfs_train,'class'))"
      ]
    },
    {
      "cell_type": "markdown",
      "metadata": {
        "id": "mn-YIJY2rX-a"
      },
      "source": [
        "#### Evaluation"
      ]
    },
    {
      "cell_type": "code",
      "execution_count": null,
      "metadata": {
        "id": "75noSDBfru30",
        "colab": {
          "base_uri": "https://localhost:8080/",
          "height": 849
        },
        "outputId": "6c4487d6-084e-4a10-b1be-b6a5d9bb28d3"
      },
      "outputs": [
        {
          "output_type": "display_data",
          "data": {
            "text/plain": [
              "<Figure size 360x360 with 2 Axes>"
            ],
            "image/png": "[encoded data removed]"
          },
          "metadata": {
            "needs_background": "light"
          }
        },
        {
          "output_type": "stream",
          "name": "stdout",
          "text": [
            "3011/3011 [==============================] - 16s 5ms/step\n"
          ]
        },
        {
          "output_type": "display_data",
          "data": {
            "text/plain": [
              "<Figure size 432x288 with 1 Axes>"
            ],
            "image/png": "[encoded data removed]"
          },
          "metadata": {
            "needs_background": "light"
          }
        },
        {
          "output_type": "stream",
          "name": "stdout",
          "text": [
            "Classification report\n",
            "              precision    recall  f1-score   support\n",
            "\n",
            "    abnormal       0.96      0.99      0.98      2901\n",
            "      normal       1.00      1.00      1.00     93422\n",
            "\n",
            "    accuracy                           1.00     96323\n",
            "   macro avg       0.98      1.00      0.99     96323\n",
            "weighted avg       1.00      1.00      1.00     96323\n",
            "\n",
            "Loss function: 0.004865689668804407, accuracy: 0.9987126588821411\n"
          ]
        }
      ],
      "source": [
        "utils.eval_model(trainingDA, modelDA, X_test, y_test)"
      ]
    },
    {
      "cell_type": "markdown",
      "metadata": {
        "id": "F357yN7Ircou"
      },
      "source": [
        "#### Generación modelo y Salida Kaggle"
      ]
    },
    {
      "cell_type": "code",
      "execution_count": null,
      "metadata": {
        "id": "S-cutHTisgMh",
        "colab": {
          "base_uri": "https://localhost:8080/"
        },
        "outputId": "2fb4f785-e41e-433c-87af-3b2402debd9b"
      },
      "outputs": [
        {
          "output_type": "stream",
          "name": "stdout",
          "text": [
            "5931/5931 [==============================] - 30s 5ms/step\n",
            "Saved model to disk\n"
          ]
        }
      ],
      "source": [
        "name='ModelWithDataAugmentation'\n",
        "\n",
        "\"\"\"\n",
        "Generate data Kaggle\n",
        "\"\"\"\n",
        "\n",
        "utils.load_test_sequences_and_generate_prediction_file(modelDA, hdfs_test_kaggle, max_len, name+'_maxLen'+str(max_len)+'_batchSize'+str(batch_size)+'_epochs'+str(epochs) )\n",
        "\n",
        "\"\"\"\n",
        "Generate Model\n",
        "\"\"\"\n",
        "# serialize model to JSON\n",
        "model_json = modelDA.to_json()\n",
        "with open(\"outputs/model_\"+name+'_maxLen'+str(max_len)+'_batchSize'+str(batch_size)+'_epochs'+str(epochs)+'_'+dt.datetime.today().strftime('%Y%m%d_%H%M%S')+\".json\", \"w\") as json_file:\n",
        "  json_file.write(model_json)\n",
        "# serialize weights to HDF5\n",
        "modelDA.save_weights(\"outputs/model_Weigths\"+name+'_maxLen'+str(max_len)+'_batchSize'+str(batch_size)+'_epochs'+str(epochs)+'_'+dt.datetime.today().strftime('%Y%m%d_%H%M%S')+\".h5\")\n",
        "print(\"Saved model to disk\")"
      ]
    },
    {
      "cell_type": "markdown",
      "metadata": {
        "id": "9x4jGC-craoZ"
      },
      "source": [
        "### Modelo Mejorado con Data Augmentation y Gradient Clipping "
      ]
    },
    {
      "cell_type": "code",
      "execution_count": null,
      "metadata": {
        "id": "I1V5Kv-Tnxc1"
      },
      "outputs": [],
      "source": [
        "optimizer = Adam(clipnorm=1.) #para agregar clip value clipvalue=0.5"
      ]
    },
    {
      "cell_type": "code",
      "execution_count": null,
      "metadata": {
        "id": "V2jG01Mcn3HL",
        "colab": {
          "base_uri": "https://localhost:8080/"
        },
        "outputId": "e4ff0dc4-f3c8-43b6-fc06-dd4f8aa6f445"
      },
      "outputs": [
        {
          "output_type": "stream",
          "name": "stdout",
          "text": [
            "Model: \"sequential_8\"\n",
            "_________________________________________________________________\n",
            " Layer (type)                Output Shape              Param #   \n",
            "=================================================================\n",
            " embedding_8 (Embedding)     (None, 19, 3)             93        \n",
            "                                                                 \n",
            " lstm_15 (LSTM)              (None, 19, 64)            17408     \n",
            "                                                                 \n",
            " lstm_16 (LSTM)              (None, 64)                33024     \n",
            "                                                                 \n",
            " dense_8 (Dense)             (None, 2)                 130       \n",
            "                                                                 \n",
            "=================================================================\n",
            "Total params: 50,655\n",
            "Trainable params: 50,655\n",
            "Non-trainable params: 0\n",
            "_________________________________________________________________\n"
          ]
        }
      ],
      "source": [
        "modelGC_DA = Sequential()\n",
        "modelGC_DA.add(Embedding(vocab_size+1, embedding_size, input_length=max_len)) \n",
        "modelGC_DA.add(LSTM(units, return_sequences=True))\n",
        "modelGC_DA.add(LSTM(units, return_sequences=False))\n",
        "modelGC_DA.add(Dense(2, activation='softmax'))\n",
        "modelGC_DA.compile(loss=loss, optimizer=optimizer, metrics=['accuracy',tf.keras.metrics.Precision(),tf.keras.metrics.Recall()])\n",
        "modelGC_DA.summary()"
      ]
    },
    {
      "cell_type": "markdown",
      "metadata": {
        "id": "-oD1ArUZoCDb"
      },
      "source": [
        "#### Entrenamiento"
      ]
    },
    {
      "cell_type": "code",
      "execution_count": null,
      "metadata": {
        "id": "cvzkU-tFoECM",
        "colab": {
          "base_uri": "https://localhost:8080/"
        },
        "outputId": "4d18bd17-25ae-4459-833a-f7d9f177f084"
      },
      "outputs": [
        {
          "output_type": "stream",
          "name": "stdout",
          "text": [
            "Epoch 1/15\n",
            "10809/10809 [==============================] - 189s 17ms/step - loss: 0.0896 - accuracy: 0.9869 - precision_6: 0.9869 - recall_6: 0.9869 - val_loss: 0.0108 - val_accuracy: 0.9976 - val_precision_6: 0.9976 - val_recall_6: 0.9976\n",
            "Epoch 2/15\n",
            "10809/10809 [==============================] - 184s 17ms/step - loss: 0.0280 - accuracy: 0.9979 - precision_6: 0.9979 - recall_6: 0.9979 - val_loss: 0.0062 - val_accuracy: 0.9994 - val_precision_6: 0.9994 - val_recall_6: 0.9994\n",
            "Epoch 3/15\n",
            "10809/10809 [==============================] - 186s 17ms/step - loss: 0.0223 - accuracy: 0.9985 - precision_6: 0.9985 - recall_6: 0.9985 - val_loss: 0.0074 - val_accuracy: 0.9989 - val_precision_6: 0.9989 - val_recall_6: 0.9989\n",
            "Epoch 4/15\n",
            "10809/10809 [==============================] - 186s 17ms/step - loss: 0.0186 - accuracy: 0.9984 - precision_6: 0.9984 - recall_6: 0.9984 - val_loss: 0.0037 - val_accuracy: 0.9993 - val_precision_6: 0.9993 - val_recall_6: 0.9993\n",
            "Epoch 5/15\n",
            "10809/10809 [==============================] - 187s 17ms/step - loss: 0.0174 - accuracy: 0.9988 - precision_6: 0.9988 - recall_6: 0.9988 - val_loss: 0.0090 - val_accuracy: 0.9989 - val_precision_6: 0.9989 - val_recall_6: 0.9989\n",
            "Epoch 6/15\n",
            "10809/10809 [==============================] - 187s 17ms/step - loss: 0.0158 - accuracy: 0.9985 - precision_6: 0.9985 - recall_6: 0.9985 - val_loss: 0.0058 - val_accuracy: 0.9993 - val_precision_6: 0.9993 - val_recall_6: 0.9993\n",
            "Epoch 7/15\n",
            "10809/10809 [==============================] - 187s 17ms/step - loss: 0.0152 - accuracy: 0.9988 - precision_6: 0.9988 - recall_6: 0.9988 - val_loss: 0.0168 - val_accuracy: 0.9962 - val_precision_6: 0.9962 - val_recall_6: 0.9962\n",
            "Epoch 8/15\n",
            "10809/10809 [==============================] - 189s 18ms/step - loss: 0.0133 - accuracy: 0.9989 - precision_6: 0.9989 - recall_6: 0.9989 - val_loss: 0.0046 - val_accuracy: 0.9993 - val_precision_6: 0.9993 - val_recall_6: 0.9993\n",
            "Epoch 9/15\n",
            "10809/10809 [==============================] - 188s 17ms/step - loss: 0.0123 - accuracy: 0.9989 - precision_6: 0.9989 - recall_6: 0.9989 - val_loss: 0.0055 - val_accuracy: 0.9993 - val_precision_6: 0.9993 - val_recall_6: 0.9993\n",
            "Epoch 10/15\n",
            "10809/10809 [==============================] - 188s 17ms/step - loss: 0.0122 - accuracy: 0.9991 - precision_6: 0.9991 - recall_6: 0.9991 - val_loss: 0.0051 - val_accuracy: 0.9989 - val_precision_6: 0.9989 - val_recall_6: 0.9989\n",
            "Epoch 11/15\n",
            "10809/10809 [==============================] - 193s 18ms/step - loss: 0.0117 - accuracy: 0.9988 - precision_6: 0.9988 - recall_6: 0.9988 - val_loss: 0.0018 - val_accuracy: 0.9997 - val_precision_6: 0.9997 - val_recall_6: 0.9997\n",
            "Epoch 12/15\n",
            "10809/10809 [==============================] - 187s 17ms/step - loss: 0.0121 - accuracy: 0.9992 - precision_6: 0.9992 - recall_6: 0.9992 - val_loss: 0.0050 - val_accuracy: 0.9995 - val_precision_6: 0.9995 - val_recall_6: 0.9995\n",
            "Epoch 13/15\n",
            "10809/10809 [==============================] - 185s 17ms/step - loss: 0.0129 - accuracy: 0.9989 - precision_6: 0.9989 - recall_6: 0.9989 - val_loss: 0.0026 - val_accuracy: 0.9996 - val_precision_6: 0.9996 - val_recall_6: 0.9996\n",
            "Epoch 14/15\n",
            "10809/10809 [==============================] - 196s 18ms/step - loss: 0.0119 - accuracy: 0.9991 - precision_6: 0.9991 - recall_6: 0.9991 - val_loss: 0.0045 - val_accuracy: 0.9993 - val_precision_6: 0.9993 - val_recall_6: 0.9993\n",
            "Epoch 15/15\n",
            "10809/10809 [==============================] - 188s 17ms/step - loss: 0.0114 - accuracy: 0.9990 - precision_6: 0.9990 - recall_6: 0.9990 - val_loss: 0.0032 - val_accuracy: 0.9989 - val_precision_6: 0.9989 - val_recall_6: 0.9989\n"
          ]
        }
      ],
      "source": [
        "trainingGC_DA, modelGC_DA = utils.train(modelGC_DA,\n",
        "                X_train_aug,\n",
        "                y_train_aug, \n",
        "                batch_size = batch_size,\n",
        "                epochs = epochs,\n",
        "                validation_data_X = X_val, \n",
        "                validation_data_y = y_val,                                \n",
        "                patience = patience,\n",
        "                class_weights = utils.class_weights(hdfs_train,'class'))"
      ]
    },
    {
      "cell_type": "markdown",
      "metadata": {
        "id": "tGebLAdToPej"
      },
      "source": [
        "#### Evaluation"
      ]
    },
    {
      "cell_type": "code",
      "execution_count": null,
      "metadata": {
        "id": "fCSqSovKoWNm",
        "colab": {
          "base_uri": "https://localhost:8080/",
          "height": 849
        },
        "outputId": "93589701-c772-40ff-fd0d-6d597bcc0cd8"
      },
      "outputs": [
        {
          "output_type": "display_data",
          "data": {
            "text/plain": [
              "<Figure size 360x360 with 2 Axes>"
            ],
            "image/png": "[encoded data removed]"
          },
          "metadata": {
            "needs_background": "light"
          }
        },
        {
          "output_type": "stream",
          "name": "stdout",
          "text": [
            "3011/3011 [==============================] - 19s 5ms/step\n"
          ]
        },
        {
          "output_type": "display_data",
          "data": {
            "text/plain": [
              "<Figure size 432x288 with 1 Axes>"
            ],
            "image/png": "[encoded data removed]"
          },
          "metadata": {
            "needs_background": "light"
          }
        },
        {
          "output_type": "stream",
          "name": "stdout",
          "text": [
            "Classification report\n",
            "              precision    recall  f1-score   support\n",
            "\n",
            "    abnormal       0.97      0.99      0.98      2901\n",
            "      normal       1.00      1.00      1.00     93422\n",
            "\n",
            "    accuracy                           1.00     96323\n",
            "   macro avg       0.98      1.00      0.99     96323\n",
            "weighted avg       1.00      1.00      1.00     96323\n",
            "\n",
            "Loss function: 0.0031659677624702454, accuracy: 0.9988787770271301\n"
          ]
        }
      ],
      "source": [
        "utils.eval_model(trainingGC_DA, modelGC_DA, X_test, y_test)"
      ]
    },
    {
      "cell_type": "markdown",
      "metadata": {
        "id": "mxwK6gM0oQyY"
      },
      "source": [
        "#### Generación modelo y Salida Kaggle"
      ]
    },
    {
      "cell_type": "code",
      "execution_count": null,
      "metadata": {
        "id": "p23PKPKUoUVe",
        "colab": {
          "base_uri": "https://localhost:8080/"
        },
        "outputId": "d8af6244-615a-4924-ce42-2a542b95f11e"
      },
      "outputs": [
        {
          "output_type": "stream",
          "name": "stdout",
          "text": [
            "5931/5931 [==============================] - 31s 5ms/step\n",
            "Saved model to disk\n"
          ]
        }
      ],
      "source": [
        "name='ModelWithDataAugmentationAndGradientNormalization'\n",
        "\n",
        "\"\"\"\n",
        "Generate data Kaggle\n",
        "\"\"\"\n",
        "\n",
        "utils.load_test_sequences_and_generate_prediction_file(modelGC_DA, hdfs_test_kaggle, max_len, name+'_maxLen'+str(max_len)+'_batchSize'+str(batch_size)+'_epochs'+str(epochs) )\n",
        "\n",
        "\"\"\"\n",
        "Generate Model\n",
        "\"\"\"\n",
        "# serialize model to JSON\n",
        "model_json = modelGC_DA.to_json()\n",
        "with open(\"outputs/model_\"+name+'_maxLen'+str(max_len)+'_batchSize'+str(batch_size)+'_epochs'+str(epochs)+'_'+dt.datetime.today().strftime('%Y%m%d_%H%M%S')+\".json\", \"w\") as json_file:\n",
        "  json_file.write(model_json)\n",
        "# serialize weights to HDF5\n",
        "modelGC_DA.save_weights(\"outputs/model_Weigths\"+name+'_maxLen'+str(max_len)+'_batchSize'+str(batch_size)+'_epochs'+str(epochs)+'_'+dt.datetime.today().strftime('%Y%m%d_%H%M%S')+\".h5\")\n",
        "print(\"Saved model to disk\")"
      ]
    },
    {
      "cell_type": "markdown",
      "metadata": {
        "id": "8lXsSd3MLugC"
      },
      "source": [
        "## 6 Consigna\n",
        "\n",
        "### A) Participación en Competencia Kaggle:\n",
        "El objetivo de este punto es participar en la competencia de Kaggle y obtener como mínimo un Macro Average Recall (o Weighted Accuracy) superior al 80%. [->Link a la competencia<-](https://www.kaggle.com/t/6d15e3a96bd049b2b4b2a491a69a0fc7).\n",
        "\n",
        "### B) Utilización de Grid Search (o equivalente):\n",
        "Para cumplir con la busqueda de modelos óptimos se debe realizar un grid search lo más abarcativo y metódico posible.\n",
        "\n",
        "### C) Se debe a su vez investigar e implementar al menos 2 de las siguientes técnicas:\n",
        "#### 1. [Batch Normalization](https://machinelearningmastery.com/how-to-accelerate-learning-of-deep-neural-networks-with-batch-normalization/)\n",
        "#### 2. [Data Augmentation a través de la realización de Windowing](https://blog.finxter.com/how-to-loop-through-a-python-list-in-batches/#Method_1_Iterating_over_Consecutive_Sliding_Windows)\n",
        "#### 3. [Gradient Normalization y/o Gradient Clipping](https://machinelearningmastery.com/how-to-avoid-exploding-gradients-in-neural-networks-with-gradient-clipping/)\n"
      ]
    },
    {
      "cell_type": "code",
      "execution_count": null,
      "metadata": {
        "id": "gevnjEmGLugD"
      },
      "outputs": [],
      "source": []
    }
  ],
  "metadata": {
    "colab": {
      "toc_visible": true,
      "provenance": []
    },
    "interpreter": {
      "hash": "c12d86b63e74ac4f427027e3d58b1fa461278ba669d7be39fd5f25ce787fdf43"
    },
    "kernelspec": {
      "display_name": "Python 3",
      "language": "python",
      "name": "python3"
    },
    "language_info": {
      "codemirror_mode": {
        "name": "ipython",
        "version": 3
      },
      "file_extension": ".py",
      "mimetype": "text/x-python",
      "name": "python",
      "nbconvert_exporter": "python",
      "pygments_lexer": "ipython3",
      "version": "3.7.6"
    }
  },
  "nbformat": 4,
  "nbformat_minor": 0
}