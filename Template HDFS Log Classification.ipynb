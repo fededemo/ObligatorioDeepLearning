{
  "cells": [
    {
      "cell_type": "markdown",
      "metadata": {
        "id": "6OFm1E4ALuev"
      },
      "source": [
        "## Obligatorio de Deep Learning - Semestre 2 - 2022"
      ]
    },
    {
      "cell_type": "markdown",
      "metadata": {
        "id": "SoMkgREvLue_"
      },
      "source": [
        "## 1. Setup"
      ]
    },
    {
      "cell_type": "markdown",
      "metadata": {
        "id": "1GewshNtLufB"
      },
      "source": [
        "### 1.1 Imports"
      ]
    },
    {
      "cell_type": "code",
      "execution_count": 111,
      "metadata": {
        "colab": {
          "base_uri": "https://localhost:8080/"
        },
        "id": "8-yEMLaWNgaf",
        "outputId": "b63a70e9-3f73-4eb9-d690-b1860a35868f"
      },
      "outputs": [
        {
          "output_type": "stream",
          "name": "stdout",
          "text": [
            "Drive already mounted at /content/drive; to attempt to forcibly remount, call drive.mount(\"/content/drive\", force_remount=True).\n"
          ]
        }
      ],
      "source": [
        "from google.colab import drive\n",
        "drive.mount('/content/drive')\n"
      ]
    },
    {
      "cell_type": "code",
      "execution_count": 112,
      "metadata": {
        "id": "OiiNR7s1L08y"
      },
      "outputs": [],
      "source": [
        "import os\n",
        "if os.path.exists(\"/content/drive/MyDrive/ORT/DeepLearning/Obligatorio\"):\n",
        "  os.chdir('/content/drive/MyDrive/ORT/DeepLearning/Obligatorio')\n",
        "else:\n",
        "  os.chdir(\"/content/drive/MyDrive/ORT/Posgrado AI/Taller DeepLearning/Obligatorio\")\n"
      ]
    },
    {
      "cell_type": "code",
      "execution_count": 113,
      "metadata": {
        "colab": {
          "base_uri": "https://localhost:8080/"
        },
        "id": "OrBCKzVNNRIc",
        "outputId": "4c891f82-662e-47ed-e6a9-e36f48bdae52"
      },
      "outputs": [
        {
          "output_type": "stream",
          "name": "stdout",
          "text": [
            " data\n",
            "'Deep Learning - Obligatorio 2022.pdf'\n",
            " kaggle_data\n",
            " outputs\n",
            " __pycache__\n",
            " Referencias.gdoc\n",
            "'Template HDFS Log Classification.ipynb'\n",
            " utils.py\n"
          ]
        }
      ],
      "source": [
        "!ls"
      ]
    },
    {
      "cell_type": "code",
      "execution_count": 114,
      "metadata": {
        "id": "aasM3UopLufC"
      },
      "outputs": [],
      "source": [
        "import numpy as np\n",
        "import datetime as dt\n",
        "import math\n",
        "\n",
        "from tensorflow.keras.models import Sequential\n",
        "from tensorflow.keras.layers import Dense, Conv1D, MaxPool1D, Dropout, Embedding, LSTM, Dense, BatchNormalization\n",
        "import tensorflow as tf\n",
        "from tensorflow.keras.optimizers import Adam\n",
        "\n",
        "from sklearn.metrics import f1_score, precision_score, recall_score, confusion_matrix\n",
        "\n",
        "from importlib import reload\n",
        "import utils\n",
        "utils = reload(utils)"
      ]
    },
    {
      "cell_type": "markdown",
      "metadata": {
        "id": "oU26rNfHLufK"
      },
      "source": [
        "### 1.2 Set random seeds"
      ]
    },
    {
      "cell_type": "code",
      "execution_count": 115,
      "metadata": {
        "id": "YLlbGI8aLufL"
      },
      "outputs": [],
      "source": [
        "np.random.seed(117)\n",
        "tf.random.set_seed(117)"
      ]
    },
    {
      "cell_type": "markdown",
      "metadata": {
        "id": "ezE0iqNALufO"
      },
      "source": [
        "## 2. Carga de datos"
      ]
    },
    {
      "cell_type": "code",
      "execution_count": 116,
      "metadata": {
        "id": "j9RPPY70LufP"
      },
      "outputs": [],
      "source": [
        "hdfs_train, hdfs_test_kaggle = utils.read_data()"
      ]
    },
    {
      "cell_type": "code",
      "execution_count": 117,
      "metadata": {
        "colab": {
          "base_uri": "https://localhost:8080/",
          "height": 173
        },
        "id": "LFTLnExcLufQ",
        "outputId": "553ae6be-6d45-4849-b3de-1790df98f9a0",
        "scrolled": true
      },
      "outputs": [
        {
          "output_type": "execute_result",
          "data": {
            "text/plain": [
              "   id                                           sequence   class\n",
              "0   0  (4, 4, 4, 21, 10, 8, 10, 8, 10, 8, 25, 25, 25,...  normal\n",
              "1   1  (4, 4, 4, 21, 10, 8, 25, 10, 8, 10, 8, 25, 25,...  normal\n",
              "2   2  (21, 4, 4, 4, 25, 25, 10, 8, 25, 10, 8, 10, 8,...  normal\n",
              "3   3  (21, 4, 4, 4, 10, 8, 10, 8, 10, 8, 25, 25, 25,...  normal"
            ],
            "text/html": [
              "\n",
              "  <div id=\"df-8b56cf9d-33fb-41cb-8b9a-3010f763f226\">\n",
              "    <div class=\"colab-df-container\">\n",
              "      <div>\n",
              "<style scoped>\n",
              "    .dataframe tbody tr th:only-of-type {\n",
              "        vertical-align: middle;\n",
              "    }\n",
              "\n",
              "    .dataframe tbody tr th {\n",
              "        vertical-align: top;\n",
              "    }\n",
              "\n",
              "    .dataframe thead th {\n",
              "        text-align: right;\n",
              "    }\n",
              "</style>\n",
              "<table border=\"1\" class=\"dataframe\">\n",
              "  <thead>\n",
              "    <tr style=\"text-align: right;\">\n",
              "      <th></th>\n",
              "      <th>id</th>\n",
              "      <th>sequence</th>\n",
              "      <th>class</th>\n",
              "    </tr>\n",
              "  </thead>\n",
              "  <tbody>\n",
              "    <tr>\n",
              "      <th>0</th>\n",
              "      <td>0</td>\n",
              "      <td>(4, 4, 4, 21, 10, 8, 10, 8, 10, 8, 25, 25, 25,...</td>\n",
              "      <td>normal</td>\n",
              "    </tr>\n",
              "    <tr>\n",
              "      <th>1</th>\n",
              "      <td>1</td>\n",
              "      <td>(4, 4, 4, 21, 10, 8, 25, 10, 8, 10, 8, 25, 25,...</td>\n",
              "      <td>normal</td>\n",
              "    </tr>\n",
              "    <tr>\n",
              "      <th>2</th>\n",
              "      <td>2</td>\n",
              "      <td>(21, 4, 4, 4, 25, 25, 10, 8, 25, 10, 8, 10, 8,...</td>\n",
              "      <td>normal</td>\n",
              "    </tr>\n",
              "    <tr>\n",
              "      <th>3</th>\n",
              "      <td>3</td>\n",
              "      <td>(21, 4, 4, 4, 10, 8, 10, 8, 10, 8, 25, 25, 25,...</td>\n",
              "      <td>normal</td>\n",
              "    </tr>\n",
              "  </tbody>\n",
              "</table>\n",
              "</div>\n",
              "      <button class=\"colab-df-convert\" onclick=\"convertToInteractive('df-8b56cf9d-33fb-41cb-8b9a-3010f763f226')\"\n",
              "              title=\"Convert this dataframe to an interactive table.\"\n",
              "              style=\"display:none;\">\n",
              "        \n",
              "  <svg xmlns=\"http://www.w3.org/2000/svg\" height=\"24px\"viewBox=\"0 0 24 24\"\n",
              "       width=\"24px\">\n",
              "    <path d=\"M0 0h24v24H0V0z\" fill=\"none\"/>\n",
              "    <path d=\"M18.56 5.44l.94 2.06.94-2.06 2.06-.94-2.06-.94-.94-2.06-.94 2.06-2.06.94zm-11 1L8.5 8.5l.94-2.06 2.06-.94-2.06-.94L8.5 2.5l-.94 2.06-2.06.94zm10 10l.94 2.06.94-2.06 2.06-.94-2.06-.94-.94-2.06-.94 2.06-2.06.94z\"/><path d=\"M17.41 7.96l-1.37-1.37c-.4-.4-.92-.59-1.43-.59-.52 0-1.04.2-1.43.59L10.3 9.45l-7.72 7.72c-.78.78-.78 2.05 0 2.83L4 21.41c.39.39.9.59 1.41.59.51 0 1.02-.2 1.41-.59l7.78-7.78 2.81-2.81c.8-.78.8-2.07 0-2.86zM5.41 20L4 18.59l7.72-7.72 1.47 1.35L5.41 20z\"/>\n",
              "  </svg>\n",
              "      </button>\n",
              "      \n",
              "  <style>\n",
              "    .colab-df-container {\n",
              "      display:flex;\n",
              "      flex-wrap:wrap;\n",
              "      gap: 12px;\n",
              "    }\n",
              "\n",
              "    .colab-df-convert {\n",
              "      background-color: #E8F0FE;\n",
              "      border: none;\n",
              "      border-radius: 50%;\n",
              "      cursor: pointer;\n",
              "      display: none;\n",
              "      fill: #1967D2;\n",
              "      height: 32px;\n",
              "      padding: 0 0 0 0;\n",
              "      width: 32px;\n",
              "    }\n",
              "\n",
              "    .colab-df-convert:hover {\n",
              "      background-color: #E2EBFA;\n",
              "      box-shadow: 0px 1px 2px rgba(60, 64, 67, 0.3), 0px 1px 3px 1px rgba(60, 64, 67, 0.15);\n",
              "      fill: #174EA6;\n",
              "    }\n",
              "\n",
              "    [theme=dark] .colab-df-convert {\n",
              "      background-color: #3B4455;\n",
              "      fill: #D2E3FC;\n",
              "    }\n",
              "\n",
              "    [theme=dark] .colab-df-convert:hover {\n",
              "      background-color: #434B5C;\n",
              "      box-shadow: 0px 1px 3px 1px rgba(0, 0, 0, 0.15);\n",
              "      filter: drop-shadow(0px 1px 2px rgba(0, 0, 0, 0.3));\n",
              "      fill: #FFFFFF;\n",
              "    }\n",
              "  </style>\n",
              "\n",
              "      <script>\n",
              "        const buttonEl =\n",
              "          document.querySelector('#df-8b56cf9d-33fb-41cb-8b9a-3010f763f226 button.colab-df-convert');\n",
              "        buttonEl.style.display =\n",
              "          google.colab.kernel.accessAllowed ? 'block' : 'none';\n",
              "\n",
              "        async function convertToInteractive(key) {\n",
              "          const element = document.querySelector('#df-8b56cf9d-33fb-41cb-8b9a-3010f763f226');\n",
              "          const dataTable =\n",
              "            await google.colab.kernel.invokeFunction('convertToInteractive',\n",
              "                                                     [key], {});\n",
              "          if (!dataTable) return;\n",
              "\n",
              "          const docLinkHtml = 'Like what you see? Visit the ' +\n",
              "            '<a target=\"_blank\" href=https://colab.research.google.com/notebooks/data_table.ipynb>data table notebook</a>'\n",
              "            + ' to learn more about interactive tables.';\n",
              "          element.innerHTML = '';\n",
              "          dataTable['output_type'] = 'display_data';\n",
              "          await google.colab.output.renderOutput(dataTable, element);\n",
              "          const docLink = document.createElement('div');\n",
              "          docLink.innerHTML = docLinkHtml;\n",
              "          element.appendChild(docLink);\n",
              "        }\n",
              "      </script>\n",
              "    </div>\n",
              "  </div>\n",
              "  "
            ]
          },
          "metadata": {},
          "execution_count": 117
        }
      ],
      "source": [
        "hdfs_train[:4]"
      ]
    },
    {
      "cell_type": "code",
      "execution_count": 118,
      "metadata": {
        "colab": {
          "base_uri": "https://localhost:8080/",
          "height": 204
        },
        "id": "mbSin2w_LufS",
        "outputId": "b8b6fb02-50ff-46ac-b585-5ca3ad76f5f3"
      },
      "outputs": [
        {
          "output_type": "execute_result",
          "data": {
            "text/plain": [
              "   id                                           sequence\n",
              "0   0     (21, 4, 4, 4, 10, 8, 10, 8, 10, 8, 25, 25, 25)\n",
              "1   1  (4, 4, 4, 21, 10, 8, 25, 10, 8, 10, 8, 25, 25,...\n",
              "2   2  (4, 4, 4, 21, 10, 8, 10, 8, 10, 8, 25, 25, 25,...\n",
              "3   3  (4, 4, 4, 21, 10, 8, 10, 8, 25, 25, 25, 10, 8,...\n",
              "4   4  (21, 4, 4, 4, 10, 8, 10, 8, 10, 8, 25, 25, 25,..."
            ],
            "text/html": [
              "\n",
              "  <div id=\"df-ac8dba4d-d24b-46a3-8476-01f035762651\">\n",
              "    <div class=\"colab-df-container\">\n",
              "      <div>\n",
              "<style scoped>\n",
              "    .dataframe tbody tr th:only-of-type {\n",
              "        vertical-align: middle;\n",
              "    }\n",
              "\n",
              "    .dataframe tbody tr th {\n",
              "        vertical-align: top;\n",
              "    }\n",
              "\n",
              "    .dataframe thead th {\n",
              "        text-align: right;\n",
              "    }\n",
              "</style>\n",
              "<table border=\"1\" class=\"dataframe\">\n",
              "  <thead>\n",
              "    <tr style=\"text-align: right;\">\n",
              "      <th></th>\n",
              "      <th>id</th>\n",
              "      <th>sequence</th>\n",
              "    </tr>\n",
              "  </thead>\n",
              "  <tbody>\n",
              "    <tr>\n",
              "      <th>0</th>\n",
              "      <td>0</td>\n",
              "      <td>(21, 4, 4, 4, 10, 8, 10, 8, 10, 8, 25, 25, 25)</td>\n",
              "    </tr>\n",
              "    <tr>\n",
              "      <th>1</th>\n",
              "      <td>1</td>\n",
              "      <td>(4, 4, 4, 21, 10, 8, 25, 10, 8, 10, 8, 25, 25,...</td>\n",
              "    </tr>\n",
              "    <tr>\n",
              "      <th>2</th>\n",
              "      <td>2</td>\n",
              "      <td>(4, 4, 4, 21, 10, 8, 10, 8, 10, 8, 25, 25, 25,...</td>\n",
              "    </tr>\n",
              "    <tr>\n",
              "      <th>3</th>\n",
              "      <td>3</td>\n",
              "      <td>(4, 4, 4, 21, 10, 8, 10, 8, 25, 25, 25, 10, 8,...</td>\n",
              "    </tr>\n",
              "    <tr>\n",
              "      <th>4</th>\n",
              "      <td>4</td>\n",
              "      <td>(21, 4, 4, 4, 10, 8, 10, 8, 10, 8, 25, 25, 25,...</td>\n",
              "    </tr>\n",
              "  </tbody>\n",
              "</table>\n",
              "</div>\n",
              "      <button class=\"colab-df-convert\" onclick=\"convertToInteractive('df-ac8dba4d-d24b-46a3-8476-01f035762651')\"\n",
              "              title=\"Convert this dataframe to an interactive table.\"\n",
              "              style=\"display:none;\">\n",
              "        \n",
              "  <svg xmlns=\"http://www.w3.org/2000/svg\" height=\"24px\"viewBox=\"0 0 24 24\"\n",
              "       width=\"24px\">\n",
              "    <path d=\"M0 0h24v24H0V0z\" fill=\"none\"/>\n",
              "    <path d=\"M18.56 5.44l.94 2.06.94-2.06 2.06-.94-2.06-.94-.94-2.06-.94 2.06-2.06.94zm-11 1L8.5 8.5l.94-2.06 2.06-.94-2.06-.94L8.5 2.5l-.94 2.06-2.06.94zm10 10l.94 2.06.94-2.06 2.06-.94-2.06-.94-.94-2.06-.94 2.06-2.06.94z\"/><path d=\"M17.41 7.96l-1.37-1.37c-.4-.4-.92-.59-1.43-.59-.52 0-1.04.2-1.43.59L10.3 9.45l-7.72 7.72c-.78.78-.78 2.05 0 2.83L4 21.41c.39.39.9.59 1.41.59.51 0 1.02-.2 1.41-.59l7.78-7.78 2.81-2.81c.8-.78.8-2.07 0-2.86zM5.41 20L4 18.59l7.72-7.72 1.47 1.35L5.41 20z\"/>\n",
              "  </svg>\n",
              "      </button>\n",
              "      \n",
              "  <style>\n",
              "    .colab-df-container {\n",
              "      display:flex;\n",
              "      flex-wrap:wrap;\n",
              "      gap: 12px;\n",
              "    }\n",
              "\n",
              "    .colab-df-convert {\n",
              "      background-color: #E8F0FE;\n",
              "      border: none;\n",
              "      border-radius: 50%;\n",
              "      cursor: pointer;\n",
              "      display: none;\n",
              "      fill: #1967D2;\n",
              "      height: 32px;\n",
              "      padding: 0 0 0 0;\n",
              "      width: 32px;\n",
              "    }\n",
              "\n",
              "    .colab-df-convert:hover {\n",
              "      background-color: #E2EBFA;\n",
              "      box-shadow: 0px 1px 2px rgba(60, 64, 67, 0.3), 0px 1px 3px 1px rgba(60, 64, 67, 0.15);\n",
              "      fill: #174EA6;\n",
              "    }\n",
              "\n",
              "    [theme=dark] .colab-df-convert {\n",
              "      background-color: #3B4455;\n",
              "      fill: #D2E3FC;\n",
              "    }\n",
              "\n",
              "    [theme=dark] .colab-df-convert:hover {\n",
              "      background-color: #434B5C;\n",
              "      box-shadow: 0px 1px 3px 1px rgba(0, 0, 0, 0.15);\n",
              "      filter: drop-shadow(0px 1px 2px rgba(0, 0, 0, 0.3));\n",
              "      fill: #FFFFFF;\n",
              "    }\n",
              "  </style>\n",
              "\n",
              "      <script>\n",
              "        const buttonEl =\n",
              "          document.querySelector('#df-ac8dba4d-d24b-46a3-8476-01f035762651 button.colab-df-convert');\n",
              "        buttonEl.style.display =\n",
              "          google.colab.kernel.accessAllowed ? 'block' : 'none';\n",
              "\n",
              "        async function convertToInteractive(key) {\n",
              "          const element = document.querySelector('#df-ac8dba4d-d24b-46a3-8476-01f035762651');\n",
              "          const dataTable =\n",
              "            await google.colab.kernel.invokeFunction('convertToInteractive',\n",
              "                                                     [key], {});\n",
              "          if (!dataTable) return;\n",
              "\n",
              "          const docLinkHtml = 'Like what you see? Visit the ' +\n",
              "            '<a target=\"_blank\" href=https://colab.research.google.com/notebooks/data_table.ipynb>data table notebook</a>'\n",
              "            + ' to learn more about interactive tables.';\n",
              "          element.innerHTML = '';\n",
              "          dataTable['output_type'] = 'display_data';\n",
              "          await google.colab.output.renderOutput(dataTable, element);\n",
              "          const docLink = document.createElement('div');\n",
              "          docLink.innerHTML = docLinkHtml;\n",
              "          element.appendChild(docLink);\n",
              "        }\n",
              "      </script>\n",
              "    </div>\n",
              "  </div>\n",
              "  "
            ]
          },
          "metadata": {},
          "execution_count": 118
        }
      ],
      "source": [
        "hdfs_test_kaggle[:5]"
      ]
    },
    {
      "cell_type": "markdown",
      "metadata": {
        "id": "f-nyjbgRLufS"
      },
      "source": [
        "## 3. Análisis exploratorio de datos"
      ]
    },
    {
      "cell_type": "markdown",
      "metadata": {
        "id": "cA1nSPKuLufT"
      },
      "source": [
        "### 3.1 Análisis descriptivo general: Distribuciones, Scatterplots, Barplots..."
      ]
    },
    {
      "cell_type": "code",
      "execution_count": 119,
      "metadata": {
        "colab": {
          "base_uri": "https://localhost:8080/",
          "height": 204
        },
        "id": "lwVUrlooLufU",
        "outputId": "2971490e-5f1d-4538-8de3-ea144f26c6bc"
      },
      "outputs": [
        {
          "output_type": "execute_result",
          "data": {
            "text/plain": [
              "   id                                           sequence   class\n",
              "0   0  (4, 4, 4, 21, 10, 8, 10, 8, 10, 8, 25, 25, 25,...  normal\n",
              "1   1  (4, 4, 4, 21, 10, 8, 25, 10, 8, 10, 8, 25, 25,...  normal\n",
              "2   2  (21, 4, 4, 4, 25, 25, 10, 8, 25, 10, 8, 10, 8,...  normal\n",
              "3   3  (21, 4, 4, 4, 10, 8, 10, 8, 10, 8, 25, 25, 25,...  normal\n",
              "4   4  (21, 4, 4, 4, 25, 25, 25, 10, 8, 10, 8, 10, 8,...  normal"
            ],
            "text/html": [
              "\n",
              "  <div id=\"df-03e8e21b-65c2-4de4-85fa-1301b98796ed\">\n",
              "    <div class=\"colab-df-container\">\n",
              "      <div>\n",
              "<style scoped>\n",
              "    .dataframe tbody tr th:only-of-type {\n",
              "        vertical-align: middle;\n",
              "    }\n",
              "\n",
              "    .dataframe tbody tr th {\n",
              "        vertical-align: top;\n",
              "    }\n",
              "\n",
              "    .dataframe thead th {\n",
              "        text-align: right;\n",
              "    }\n",
              "</style>\n",
              "<table border=\"1\" class=\"dataframe\">\n",
              "  <thead>\n",
              "    <tr style=\"text-align: right;\">\n",
              "      <th></th>\n",
              "      <th>id</th>\n",
              "      <th>sequence</th>\n",
              "      <th>class</th>\n",
              "    </tr>\n",
              "  </thead>\n",
              "  <tbody>\n",
              "    <tr>\n",
              "      <th>0</th>\n",
              "      <td>0</td>\n",
              "      <td>(4, 4, 4, 21, 10, 8, 10, 8, 10, 8, 25, 25, 25,...</td>\n",
              "      <td>normal</td>\n",
              "    </tr>\n",
              "    <tr>\n",
              "      <th>1</th>\n",
              "      <td>1</td>\n",
              "      <td>(4, 4, 4, 21, 10, 8, 25, 10, 8, 10, 8, 25, 25,...</td>\n",
              "      <td>normal</td>\n",
              "    </tr>\n",
              "    <tr>\n",
              "      <th>2</th>\n",
              "      <td>2</td>\n",
              "      <td>(21, 4, 4, 4, 25, 25, 10, 8, 25, 10, 8, 10, 8,...</td>\n",
              "      <td>normal</td>\n",
              "    </tr>\n",
              "    <tr>\n",
              "      <th>3</th>\n",
              "      <td>3</td>\n",
              "      <td>(21, 4, 4, 4, 10, 8, 10, 8, 10, 8, 25, 25, 25,...</td>\n",
              "      <td>normal</td>\n",
              "    </tr>\n",
              "    <tr>\n",
              "      <th>4</th>\n",
              "      <td>4</td>\n",
              "      <td>(21, 4, 4, 4, 25, 25, 25, 10, 8, 10, 8, 10, 8,...</td>\n",
              "      <td>normal</td>\n",
              "    </tr>\n",
              "  </tbody>\n",
              "</table>\n",
              "</div>\n",
              "      <button class=\"colab-df-convert\" onclick=\"convertToInteractive('df-03e8e21b-65c2-4de4-85fa-1301b98796ed')\"\n",
              "              title=\"Convert this dataframe to an interactive table.\"\n",
              "              style=\"display:none;\">\n",
              "        \n",
              "  <svg xmlns=\"http://www.w3.org/2000/svg\" height=\"24px\"viewBox=\"0 0 24 24\"\n",
              "       width=\"24px\">\n",
              "    <path d=\"M0 0h24v24H0V0z\" fill=\"none\"/>\n",
              "    <path d=\"M18.56 5.44l.94 2.06.94-2.06 2.06-.94-2.06-.94-.94-2.06-.94 2.06-2.06.94zm-11 1L8.5 8.5l.94-2.06 2.06-.94-2.06-.94L8.5 2.5l-.94 2.06-2.06.94zm10 10l.94 2.06.94-2.06 2.06-.94-2.06-.94-.94-2.06-.94 2.06-2.06.94z\"/><path d=\"M17.41 7.96l-1.37-1.37c-.4-.4-.92-.59-1.43-.59-.52 0-1.04.2-1.43.59L10.3 9.45l-7.72 7.72c-.78.78-.78 2.05 0 2.83L4 21.41c.39.39.9.59 1.41.59.51 0 1.02-.2 1.41-.59l7.78-7.78 2.81-2.81c.8-.78.8-2.07 0-2.86zM5.41 20L4 18.59l7.72-7.72 1.47 1.35L5.41 20z\"/>\n",
              "  </svg>\n",
              "      </button>\n",
              "      \n",
              "  <style>\n",
              "    .colab-df-container {\n",
              "      display:flex;\n",
              "      flex-wrap:wrap;\n",
              "      gap: 12px;\n",
              "    }\n",
              "\n",
              "    .colab-df-convert {\n",
              "      background-color: #E8F0FE;\n",
              "      border: none;\n",
              "      border-radius: 50%;\n",
              "      cursor: pointer;\n",
              "      display: none;\n",
              "      fill: #1967D2;\n",
              "      height: 32px;\n",
              "      padding: 0 0 0 0;\n",
              "      width: 32px;\n",
              "    }\n",
              "\n",
              "    .colab-df-convert:hover {\n",
              "      background-color: #E2EBFA;\n",
              "      box-shadow: 0px 1px 2px rgba(60, 64, 67, 0.3), 0px 1px 3px 1px rgba(60, 64, 67, 0.15);\n",
              "      fill: #174EA6;\n",
              "    }\n",
              "\n",
              "    [theme=dark] .colab-df-convert {\n",
              "      background-color: #3B4455;\n",
              "      fill: #D2E3FC;\n",
              "    }\n",
              "\n",
              "    [theme=dark] .colab-df-convert:hover {\n",
              "      background-color: #434B5C;\n",
              "      box-shadow: 0px 1px 3px 1px rgba(0, 0, 0, 0.15);\n",
              "      filter: drop-shadow(0px 1px 2px rgba(0, 0, 0, 0.3));\n",
              "      fill: #FFFFFF;\n",
              "    }\n",
              "  </style>\n",
              "\n",
              "      <script>\n",
              "        const buttonEl =\n",
              "          document.querySelector('#df-03e8e21b-65c2-4de4-85fa-1301b98796ed button.colab-df-convert');\n",
              "        buttonEl.style.display =\n",
              "          google.colab.kernel.accessAllowed ? 'block' : 'none';\n",
              "\n",
              "        async function convertToInteractive(key) {\n",
              "          const element = document.querySelector('#df-03e8e21b-65c2-4de4-85fa-1301b98796ed');\n",
              "          const dataTable =\n",
              "            await google.colab.kernel.invokeFunction('convertToInteractive',\n",
              "                                                     [key], {});\n",
              "          if (!dataTable) return;\n",
              "\n",
              "          const docLinkHtml = 'Like what you see? Visit the ' +\n",
              "            '<a target=\"_blank\" href=https://colab.research.google.com/notebooks/data_table.ipynb>data table notebook</a>'\n",
              "            + ' to learn more about interactive tables.';\n",
              "          element.innerHTML = '';\n",
              "          dataTable['output_type'] = 'display_data';\n",
              "          await google.colab.output.renderOutput(dataTable, element);\n",
              "          const docLink = document.createElement('div');\n",
              "          docLink.innerHTML = docLinkHtml;\n",
              "          element.appendChild(docLink);\n",
              "        }\n",
              "      </script>\n",
              "    </div>\n",
              "  </div>\n",
              "  "
            ]
          },
          "metadata": {},
          "execution_count": 119
        }
      ],
      "source": [
        "hdfs_train.head()"
      ]
    },
    {
      "cell_type": "code",
      "execution_count": 120,
      "metadata": {
        "colab": {
          "base_uri": "https://localhost:8080/",
          "height": 319
        },
        "id": "i4J3n780LufV",
        "outputId": "4d5df366-cc09-4a8c-b6d7-492576e95f5f"
      },
      "outputs": [
        {
          "output_type": "display_data",
          "data": {
            "text/plain": [
              "<Figure size 432x288 with 1 Axes>"
            ],
            "image/png": "[encoded data removed]"
          },
          "metadata": {
            "needs_background": "light"
          }
        }
      ],
      "source": [
        "utils.value_counts(hdfs_train,'class')"
      ]
    },
    {
      "cell_type": "markdown",
      "metadata": {
        "id": "stsh7DznLufW"
      },
      "source": [
        "### 3.2 Análisis de secuencias"
      ]
    },
    {
      "cell_type": "code",
      "execution_count": 121,
      "metadata": {
        "id": "OxC6UWE9LufW"
      },
      "outputs": [],
      "source": [
        "#Agregar ploteo de largos de secuencias, distribuciones por simbolo, etc."
      ]
    },
    {
      "cell_type": "code",
      "execution_count": 122,
      "metadata": {
        "colab": {
          "base_uri": "https://localhost:8080/"
        },
        "id": "3K7nfmctLufY",
        "outputId": "a802bbf0-e1b0-4ce8-e02a-0874f651769e"
      },
      "outputs": [
        {
          "output_type": "stream",
          "name": "stderr",
          "text": [
            "/usr/local/lib/python3.7/dist-packages/sklearn/preprocessing/_label.py:98: DataConversionWarning: A column-vector y was passed when a 1d array was expected. Please change the shape of y to (n_samples, ), for example using ravel().\n",
            "  y = column_or_1d(y, warn=True)\n"
          ]
        }
      ],
      "source": [
        "raw_sequences, data_y = utils.load_sequences_and_target(hdfs_train, one_hot=True)\n",
        "#raw_sequences, data_y = utils.load_sequences_and_target(hdfs_train)"
      ]
    },
    {
      "cell_type": "code",
      "execution_count": 123,
      "metadata": {
        "id": "KW6TfE-kLufZ"
      },
      "outputs": [],
      "source": [
        "try:\n",
        "    data_y.value_counts()\n",
        "except:\n",
        "    pass"
      ]
    },
    {
      "cell_type": "code",
      "execution_count": 124,
      "metadata": {
        "colab": {
          "base_uri": "https://localhost:8080/"
        },
        "id": "I-Q0p2ffLufa",
        "outputId": "c14c3579-37ac-408b-816f-c8b200854e12"
      },
      "outputs": [
        {
          "output_type": "execute_result",
          "data": {
            "text/plain": [
              "1"
            ]
          },
          "metadata": {},
          "execution_count": 124
        }
      ],
      "source": [
        "min([min(s) for s in raw_sequences])"
      ]
    },
    {
      "cell_type": "code",
      "execution_count": 125,
      "metadata": {
        "colab": {
          "base_uri": "https://localhost:8080/"
        },
        "id": "KxRfgSmULufb",
        "outputId": "658bbfca-6a57-42f4-8ba4-b81aa61869aa"
      },
      "outputs": [
        {
          "output_type": "execute_result",
          "data": {
            "text/plain": [
              "28"
            ]
          },
          "metadata": {},
          "execution_count": 125
        }
      ],
      "source": [
        "max([max(s) for s in raw_sequences])"
      ]
    },
    {
      "cell_type": "code",
      "execution_count": 126,
      "metadata": {
        "colab": {
          "base_uri": "https://localhost:8080/"
        },
        "id": "N6fCiLzXLufc",
        "outputId": "a3c0c1c7-50b8-41aa-c69c-f34a9b2c0445"
      },
      "outputs": [
        {
          "output_type": "execute_result",
          "data": {
            "text/plain": [
              "19.0"
            ]
          },
          "metadata": {},
          "execution_count": 126
        }
      ],
      "source": [
        "np.median([len(s) for s in raw_sequences])"
      ]
    },
    {
      "cell_type": "markdown",
      "metadata": {
        "id": "xgHGgcpXybsv"
      },
      "source": [
        "### Padding"
      ]
    },
    {
      "cell_type": "code",
      "execution_count": 127,
      "metadata": {
        "id": "STkk44KtLufh"
      },
      "outputs": [],
      "source": [
        "max_len = 19\n",
        "padded_sequences = utils.pad_sequences(raw_sequences, max_len)"
      ]
    },
    {
      "cell_type": "markdown",
      "metadata": {
        "id": "1Zao1sfPtbpI"
      },
      "source": [
        "# Data preprocessing\n"
      ]
    },
    {
      "cell_type": "markdown",
      "metadata": {
        "id": "cvvcyBuXtP5O"
      },
      "source": [
        "## Particionamiento"
      ]
    },
    {
      "cell_type": "code",
      "execution_count": 128,
      "metadata": {
        "id": "dXOX6eLuLufj"
      },
      "outputs": [],
      "source": [
        "X_train, X_test, X_val, y_train, y_test, y_val = utils.split(padded_sequences, data_y)"
      ]
    },
    {
      "cell_type": "markdown",
      "metadata": {
        "id": "90rrw_79MsbM"
      },
      "source": [
        "\n",
        "## X_train_aug Data Augmentation"
      ]
    },
    {
      "cell_type": "code",
      "execution_count": 20,
      "metadata": {
        "id": "whcOuiXoMrFC"
      },
      "outputs": [],
      "source": [
        "X_train_for_aug, a, b, c, d, e = utils.split(raw_sequences, data_y)\n"
      ]
    },
    {
      "cell_type": "code",
      "execution_count": 21,
      "metadata": {
        "id": "fcowAy5dM2vV"
      },
      "outputs": [],
      "source": [
        "X_train_aug, y_train_aug = utils.sequences_augmentation(X_train_for_aug, y_train, max_len, 19)"
      ]
    },
    {
      "cell_type": "code",
      "execution_count": 22,
      "metadata": {
        "id": "B9whfbpEe6cB"
      },
      "outputs": [],
      "source": [
        "\"\"\"\n",
        "padding to data augmentation traing\n",
        "\"\"\"\n",
        "X_train_aug = utils.pad_sequences(X_train_aug, max_len)\n"
      ]
    },
    {
      "cell_type": "markdown",
      "source": [
        "#Language Model"
      ],
      "metadata": {
        "id": "BQHGdWmIblVc"
      }
    },
    {
      "cell_type": "markdown",
      "source": [
        "## Modelo Inicial"
      ],
      "metadata": {
        "id": "S5yVDCJ-aT1X"
      }
    },
    {
      "cell_type": "code",
      "source": [
        "vocab_size = max([max(s) for s in raw_sequences]) + 1\n",
        "max_len = 19\n",
        "batch_size = 10\n",
        "epochs = 1\n",
        "patience = 10\n",
        "optimizer = Adam() \n",
        "loss = 'categorical_crossentropy'\n",
        "embedding_size = math.ceil(vocab_size**0.25) "
      ],
      "metadata": {
        "id": "IyfvmijZahXO"
      },
      "execution_count": 40,
      "outputs": []
    },
    {
      "cell_type": "code",
      "source": [
        "initial_model = Sequential()\n",
        "initial_model.add(Embedding(vocab_size+1, embedding_size, input_length=max_len)) #el vocab size deberiamos sacarlo\n",
        "initial_model.add(LSTM(64, return_sequences=False))\n",
        "initial_model.add(Dense(2, activation='softmax'))\n",
        "initial_model.compile(loss=loss, optimizer=optimizer, metrics=['accuracy'])\n",
        "initial_model.summary()"
      ],
      "metadata": {
        "colab": {
          "base_uri": "https://localhost:8080/"
        },
        "id": "6OLGsOdzaf0R",
        "outputId": "a0677636-0be5-4e07-ef44-869ad3a562e9"
      },
      "execution_count": 41,
      "outputs": [
        {
          "output_type": "stream",
          "name": "stdout",
          "text": [
            "Model: \"sequential_4\"\n",
            "_________________________________________________________________\n",
            " Layer (type)                Output Shape              Param #   \n",
            "=================================================================\n",
            " embedding_4 (Embedding)     (None, 19, 3)             90        \n",
            "                                                                 \n",
            " lstm_6 (LSTM)               (None, 64)                17408     \n",
            "                                                                 \n",
            " dense_4 (Dense)             (None, 2)                 130       \n",
            "                                                                 \n",
            "=================================================================\n",
            "Total params: 17,628\n",
            "Trainable params: 17,628\n",
            "Non-trainable params: 0\n",
            "_________________________________________________________________\n"
          ]
        }
      ]
    },
    {
      "cell_type": "markdown",
      "source": [
        "### Entrenamiento"
      ],
      "metadata": {
        "id": "ejiHGPbacrBk"
      }
    },
    {
      "cell_type": "code",
      "source": [
        "#se agregó class.weights\n",
        "initial_training, initial_model = utils.train(initial_model,\n",
        "                X_train,\n",
        "                y_train, \n",
        "                batch_size = batch_size,\n",
        "                epochs = epochs,\n",
        "                validation_data_X = X_val, \n",
        "                validation_data_y = y_val,                                \n",
        "                patience = patience,\n",
        "                class_weights = utils.class_weights(hdfs_train,'class'))"
      ],
      "metadata": {
        "colab": {
          "base_uri": "https://localhost:8080/"
        },
        "id": "WioIf9ibcL6g",
        "outputId": "13fb711b-ca79-479e-b4da-c7d80b4a69fa"
      },
      "execution_count": 43,
      "outputs": [
        {
          "output_type": "stream",
          "name": "stdout",
          "text": [
            "26007/26007 [==============================] - 335s 13ms/step - loss: 0.0558 - accuracy: 0.9895 - val_loss: 0.0110 - val_accuracy: 0.9988\n"
          ]
        }
      ]
    },
    {
      "cell_type": "markdown",
      "source": [
        "### Evaluation"
      ],
      "metadata": {
        "id": "4qso0vHEen_u"
      }
    },
    {
      "cell_type": "code",
      "source": [
        "utils.eval_model(initial_training, initial_model, X_test, y_test)"
      ],
      "metadata": {
        "colab": {
          "base_uri": "https://localhost:8080/",
          "height": 834
        },
        "id": "YVaOvPUreqea",
        "outputId": "3b77c835-8a82-4261-81f2-cdb39cad99f3"
      },
      "execution_count": 129,
      "outputs": [
        {
          "output_type": "display_data",
          "data": {
            "text/plain": [
              "<Figure size 360x360 with 2 Axes>"
            ],
            "image/png": "[encoded data removed]"
          },
          "metadata": {
            "needs_background": "light"
          }
        },
        {
          "output_type": "stream",
          "name": "stdout",
          "text": [
            "3011/3011 [==============================] - 17s 5ms/step\n"
          ]
        },
        {
          "output_type": "display_data",
          "data": {
            "text/plain": [
              "<Figure size 432x288 with 1 Axes>"
            ],
            "image/png": "[encoded data removed]"
          },
          "metadata": {
            "needs_background": "light"
          }
        },
        {
          "output_type": "stream",
          "name": "stdout",
          "text": [
            "Classification report\n",
            "              precision    recall  f1-score   support\n",
            "\n",
            "    abnormal       0.96      0.99      0.98      2901\n",
            "      normal       1.00      1.00      1.00     93422\n",
            "\n",
            "    accuracy                           1.00     96323\n",
            "   macro avg       0.98      1.00      0.99     96323\n",
            "weighted avg       1.00      1.00      1.00     96323\n",
            "\n",
            "Loss function: 0.012469988316297531, accuracy: 0.998629629611969\n"
          ]
        }
      ]
    },
    {
      "cell_type": "markdown",
      "source": [
        "## Modelo Mejorado"
      ],
      "metadata": {
        "id": "oQCtQPD4aaLg"
      }
    },
    {
      "cell_type": "code",
      "source": [
        "vocab_size = max([max(s) for s in raw_sequences]) + 1\n",
        "max_len = 19\n",
        "batch_size = 24\n",
        "epochs = 7\n",
        "patience = 10\n",
        "optimizer = Adam() \n",
        "loss = 'categorical_crossentropy'\n",
        "embedding_size = math.ceil(vocab_size**0.25) "
      ],
      "metadata": {
        "id": "09FPLKOcac5X"
      },
      "execution_count": 34,
      "outputs": []
    },
    {
      "cell_type": "code",
      "source": [
        "improved_model = Sequential()\n",
        "improved_model.add(Embedding(vocab_size+1, embedding_size, input_length=max_len)) #el vocab size deberiamos sacarlo\n",
        "improved_model.add(LSTM(64, return_sequences=True))\n",
        "improved_model.add(LSTM(64, return_sequences=False))\n",
        "improved_model.add(Dense(2, activation='softmax'))\n",
        "improved_model.compile(loss=loss, optimizer=optimizer, metrics=['accuracy'])\n",
        "improved_model.summary()"
      ],
      "metadata": {
        "colab": {
          "base_uri": "https://localhost:8080/"
        },
        "id": "9NqYUvmaa9ib",
        "outputId": "8808d730-59e9-40ee-ecc0-b5cfb3d4cb64"
      },
      "execution_count": 35,
      "outputs": [
        {
          "output_type": "stream",
          "name": "stdout",
          "text": [
            "Model: \"sequential_3\"\n",
            "_________________________________________________________________\n",
            " Layer (type)                Output Shape              Param #   \n",
            "=================================================================\n",
            " embedding_3 (Embedding)     (None, 19, 3)             90        \n",
            "                                                                 \n",
            " lstm_4 (LSTM)               (None, 19, 64)            17408     \n",
            "                                                                 \n",
            " lstm_5 (LSTM)               (None, 64)                33024     \n",
            "                                                                 \n",
            " dense_3 (Dense)             (None, 2)                 130       \n",
            "                                                                 \n",
            "=================================================================\n",
            "Total params: 50,652\n",
            "Trainable params: 50,652\n",
            "Non-trainable params: 0\n",
            "_________________________________________________________________\n"
          ]
        }
      ]
    },
    {
      "cell_type": "markdown",
      "source": [
        "### Entrenamiento"
      ],
      "metadata": {
        "id": "d0My0t2dgpwC"
      }
    },
    {
      "cell_type": "code",
      "source": [
        "#se agregó class.weights\n",
        "improved_training, improved_model = utils.train(improved_model,\n",
        "                X_train,\n",
        "                y_train, \n",
        "                batch_size = batch_size,\n",
        "                epochs = epochs,\n",
        "                validation_data_X = X_val, \n",
        "                validation_data_y = y_val,                                \n",
        "                patience = patience,\n",
        "                class_weights = utils.class_weights(hdfs_train,'class'))"
      ],
      "metadata": {
        "colab": {
          "base_uri": "https://localhost:8080/"
        },
        "id": "6B08Hin7cQj4",
        "outputId": "b543cba6-361c-4394-861e-61f6de40150e"
      },
      "execution_count": 36,
      "outputs": [
        {
          "output_type": "stream",
          "name": "stdout",
          "text": [
            "Epoch 1/7\n",
            "10837/10837 [==============================] - 273s 25ms/step - loss: 0.0457 - accuracy: 0.9930 - val_loss: 0.0078 - val_accuracy: 0.9988\n",
            "Epoch 2/7\n",
            "10837/10837 [==============================] - 261s 24ms/step - loss: 0.0151 - accuracy: 0.9984 - val_loss: 0.0102 - val_accuracy: 0.9988\n",
            "Epoch 3/7\n",
            "10837/10837 [==============================] - 263s 24ms/step - loss: 0.0127 - accuracy: 0.9985 - val_loss: 0.0063 - val_accuracy: 0.9984\n",
            "Epoch 4/7\n",
            "10837/10837 [==============================] - 262s 24ms/step - loss: 0.0099 - accuracy: 0.9986 - val_loss: 0.0095 - val_accuracy: 0.9988\n",
            "Epoch 5/7\n",
            "10837/10837 [==============================] - 290s 27ms/step - loss: 0.0092 - accuracy: 0.9989 - val_loss: 0.0043 - val_accuracy: 0.9992\n",
            "Epoch 6/7\n",
            "10837/10837 [==============================] - 264s 24ms/step - loss: 0.0096 - accuracy: 0.9988 - val_loss: 0.0058 - val_accuracy: 0.9991\n",
            "Epoch 7/7\n",
            "10837/10837 [==============================] - 264s 24ms/step - loss: 0.0094 - accuracy: 0.9989 - val_loss: 0.0049 - val_accuracy: 0.9992\n"
          ]
        }
      ]
    },
    {
      "cell_type": "markdown",
      "source": [
        "### Evaluation"
      ],
      "metadata": {
        "id": "986p6T3zeeBP"
      }
    },
    {
      "cell_type": "code",
      "source": [
        "utils.eval_model(improved_training, improved_model, X_test, y_test)"
      ],
      "metadata": {
        "colab": {
          "base_uri": "https://localhost:8080/",
          "height": 817
        },
        "id": "h6Lrj1DGebOd",
        "outputId": "f06c3be2-bfae-4bd1-e89b-32c10629da2d"
      },
      "execution_count": null,
      "outputs": [
        {
          "output_type": "display_data",
          "data": {
            "text/plain": [
              "<Figure size 360x360 with 2 Axes>"
            ],
            "image/png": "[encoded data removed]"
          },
          "metadata": {
            "needs_background": "light"
          }
        },
        {
          "output_type": "stream",
          "name": "stdout",
          "text": [
            "3011/3011 [==============================] - 29s 10ms/step\n"
          ]
        },
        {
          "output_type": "display_data",
          "data": {
            "text/plain": [
              "<Figure size 432x288 with 1 Axes>"
            ],
            "image/png": "[encoded data removed]"
          },
          "metadata": {
            "needs_background": "light"
          }
        },
        {
          "output_type": "stream",
          "name": "stdout",
          "text": [
            "Classification report\n",
            "              precision    recall  f1-score   support\n",
            "\n",
            "    abnormal       0.98      0.99      0.99      2901\n",
            "      normal       1.00      1.00      1.00     93422\n",
            "\n",
            "    accuracy                           1.00     96323\n",
            "   macro avg       0.99      1.00      0.99     96323\n",
            "weighted avg       1.00      1.00      1.00     96323\n",
            "\n"
          ]
        }
      ]
    },
    {
      "cell_type": "markdown",
      "metadata": {
        "id": "cmmLNAeGLufi"
      },
      "source": [
        "##Grid Search\n",
        "\n"
      ]
    },
    {
      "cell_type": "code",
      "source": [
        "vocab_size = 30\n",
        "max_len = 19\n",
        "batch_size = 32\n",
        "epochs = 20\n",
        "patience = 10\n",
        "optimizer = Adam() \n",
        "loss = 'categorical_crossentropy'\n",
        "embedding_size = 3"
      ],
      "metadata": {
        "id": "ct0cCExUgUDN"
      },
      "execution_count": null,
      "outputs": []
    },
    {
      "cell_type": "markdown",
      "metadata": {
        "id": "ADJO-d2CvESK"
      },
      "source": [
        "### Model Mejorado "
      ]
    },
    {
      "cell_type": "code",
      "execution_count": null,
      "metadata": {
        "colab": {
          "base_uri": "https://localhost:8080/"
        },
        "id": "hRVizv75P9BC",
        "outputId": "4341ce47-0c00-44ae-fe2c-2388b8c555f4"
      },
      "outputs": [
        {
          "output_type": "stream",
          "name": "stdout",
          "text": [
            "Model: \"sequential_2\"\n",
            "_________________________________________________________________\n",
            " Layer (type)                Output Shape              Param #   \n",
            "=================================================================\n",
            " embedding_2 (Embedding)     (None, 19, 3)             93        \n",
            "                                                                 \n",
            " lstm_4 (LSTM)               (None, 19, 64)            17408     \n",
            "                                                                 \n",
            " lstm_5 (LSTM)               (None, 64)                33024     \n",
            "                                                                 \n",
            " dense_2 (Dense)             (None, 2)                 130       \n",
            "                                                                 \n",
            "=================================================================\n",
            "Total params: 50,655\n",
            "Trainable params: 50,655\n",
            "Non-trainable params: 0\n",
            "_________________________________________________________________\n"
          ]
        }
      ],
      "source": [
        "model = Sequential()\n",
        "model.add(Embedding(vocab_size+1, embedding_size, input_length=max_len)) #el vocab size deberiamos sacarlo\n",
        "model.add(LSTM(64, return_sequences=True))\n",
        "model.add(LSTM(64, return_sequences=False))\n",
        "model.add(Dense(2, activation='softmax'))\n",
        "model.compile(loss=loss, optimizer=optimizer, metrics=['accuracy',tf.keras.metrics.Precision(),tf.keras.metrics.Recall()])\n",
        "model.summary()"
      ]
    },
    {
      "cell_type": "markdown",
      "source": [
        "#### Entrenamiento"
      ],
      "metadata": {
        "id": "Zve-6Z7pcios"
      }
    },
    {
      "cell_type": "code",
      "execution_count": null,
      "metadata": {
        "colab": {
          "base_uri": "https://localhost:8080/"
        },
        "id": "e_S-tD8EyzZI",
        "outputId": "591b647e-d9de-45f0-8660-31fedb9c0b5e"
      },
      "outputs": [
        {
          "output_type": "stream",
          "name": "stdout",
          "text": [
            "Epoch 1/20\n",
            "8128/8128 [==============================] - 229s 28ms/step - loss: 0.0547 - accuracy: 0.9917 - precision_2: 0.9917 - recall_2: 0.9917 - val_loss: 0.0172 - val_accuracy: 0.9962 - val_precision_2: 0.9962 - val_recall_2: 0.9962\n",
            "Epoch 2/20\n",
            "8128/8128 [==============================] - 222s 27ms/step - loss: 0.0151 - accuracy: 0.9975 - precision_2: 0.9975 - recall_2: 0.9975 - val_loss: 0.0103 - val_accuracy: 0.9985 - val_precision_2: 0.9985 - val_recall_2: 0.9985\n",
            "Epoch 3/20\n",
            "8128/8128 [==============================] - 220s 27ms/step - loss: 0.0139 - accuracy: 0.9978 - precision_2: 0.9978 - recall_2: 0.9978 - val_loss: 0.0055 - val_accuracy: 0.9988 - val_precision_2: 0.9988 - val_recall_2: 0.9988\n",
            "Epoch 4/20\n",
            "8128/8128 [==============================] - 217s 27ms/step - loss: 0.0108 - accuracy: 0.9982 - precision_2: 0.9982 - recall_2: 0.9982 - val_loss: 0.0066 - val_accuracy: 0.9988 - val_precision_2: 0.9988 - val_recall_2: 0.9988\n",
            "Epoch 5/20\n",
            "8128/8128 [==============================] - 217s 27ms/step - loss: 0.0107 - accuracy: 0.9986 - precision_2: 0.9986 - recall_2: 0.9986 - val_loss: 0.0041 - val_accuracy: 0.9991 - val_precision_2: 0.9991 - val_recall_2: 0.9991\n",
            "Epoch 6/20\n",
            "8128/8128 [==============================] - 218s 27ms/step - loss: 0.0091 - accuracy: 0.9987 - precision_2: 0.9987 - recall_2: 0.9987 - val_loss: 0.0045 - val_accuracy: 0.9992 - val_precision_2: 0.9992 - val_recall_2: 0.9992\n",
            "Epoch 7/20\n",
            "8128/8128 [==============================] - 238s 29ms/step - loss: 0.0095 - accuracy: 0.9987 - precision_2: 0.9987 - recall_2: 0.9987 - val_loss: 0.0059 - val_accuracy: 0.9993 - val_precision_2: 0.9993 - val_recall_2: 0.9993\n",
            "Epoch 8/20\n",
            "8128/8128 [==============================] - 260s 32ms/step - loss: 0.0135 - accuracy: 0.9984 - precision_2: 0.9984 - recall_2: 0.9984 - val_loss: 0.0238 - val_accuracy: 0.9981 - val_precision_2: 0.9981 - val_recall_2: 0.9981\n",
            "Epoch 9/20\n",
            "8128/8128 [==============================] - 243s 30ms/step - loss: 0.0121 - accuracy: 0.9987 - precision_2: 0.9987 - recall_2: 0.9987 - val_loss: 0.0049 - val_accuracy: 0.9993 - val_precision_2: 0.9993 - val_recall_2: 0.9993\n",
            "Epoch 10/20\n",
            "8128/8128 [==============================] - 218s 27ms/step - loss: 0.0094 - accuracy: 0.9989 - precision_2: 0.9989 - recall_2: 0.9989 - val_loss: 0.0047 - val_accuracy: 0.9988 - val_precision_2: 0.9988 - val_recall_2: 0.9988\n",
            "Epoch 11/20\n",
            "8128/8128 [==============================] - 219s 27ms/step - loss: 0.0085 - accuracy: 0.9989 - precision_2: 0.9989 - recall_2: 0.9989 - val_loss: 0.0049 - val_accuracy: 0.9988 - val_precision_2: 0.9988 - val_recall_2: 0.9988\n",
            "Epoch 12/20\n",
            "8128/8128 [==============================] - 224s 28ms/step - loss: 0.0085 - accuracy: 0.9988 - precision_2: 0.9988 - recall_2: 0.9988 - val_loss: 0.0072 - val_accuracy: 0.9988 - val_precision_2: 0.9988 - val_recall_2: 0.9988\n",
            "Epoch 13/20\n",
            "8128/8128 [==============================] - 214s 26ms/step - loss: 0.0139 - accuracy: 0.9987 - precision_2: 0.9987 - recall_2: 0.9987 - val_loss: 0.0161 - val_accuracy: 0.9964 - val_precision_2: 0.9964 - val_recall_2: 0.9964\n",
            "Epoch 14/20\n",
            "8128/8128 [==============================] - 216s 27ms/step - loss: 0.0097 - accuracy: 0.9990 - precision_2: 0.9990 - recall_2: 0.9990 - val_loss: 0.0064 - val_accuracy: 0.9991 - val_precision_2: 0.9991 - val_recall_2: 0.9991\n",
            "Epoch 15/20\n",
            "8128/8128 [==============================] - 217s 27ms/step - loss: 0.0078 - accuracy: 0.9991 - precision_2: 0.9991 - recall_2: 0.9991 - val_loss: 0.0047 - val_accuracy: 0.9989 - val_precision_2: 0.9989 - val_recall_2: 0.9989\n",
            "Epoch 16/20\n",
            "8128/8128 [==============================] - 219s 27ms/step - loss: 0.0079 - accuracy: 0.9990 - precision_2: 0.9990 - recall_2: 0.9990 - val_loss: 0.0058 - val_accuracy: 0.9988 - val_precision_2: 0.9988 - val_recall_2: 0.9988\n",
            "Epoch 17/20\n",
            "8128/8128 [==============================] - 221s 27ms/step - loss: 0.0077 - accuracy: 0.9991 - precision_2: 0.9991 - recall_2: 0.9991 - val_loss: 0.0030 - val_accuracy: 0.9994 - val_precision_2: 0.9994 - val_recall_2: 0.9994\n",
            "Epoch 18/20\n",
            "8128/8128 [==============================] - 216s 27ms/step - loss: 0.0082 - accuracy: 0.9991 - precision_2: 0.9991 - recall_2: 0.9991 - val_loss: 0.0046 - val_accuracy: 0.9993 - val_precision_2: 0.9993 - val_recall_2: 0.9993\n",
            "Epoch 19/20\n",
            "8128/8128 [==============================] - 218s 27ms/step - loss: 0.0076 - accuracy: 0.9989 - precision_2: 0.9989 - recall_2: 0.9989 - val_loss: 0.0042 - val_accuracy: 0.9993 - val_precision_2: 0.9993 - val_recall_2: 0.9993\n",
            "Epoch 20/20\n",
            "8128/8128 [==============================] - 219s 27ms/step - loss: 0.0079 - accuracy: 0.9993 - precision_2: 0.9993 - recall_2: 0.9993 - val_loss: 0.0052 - val_accuracy: 0.9989 - val_precision_2: 0.9989 - val_recall_2: 0.9989\n"
          ]
        }
      ],
      "source": [
        "#se agregó class.weights\n",
        "training, model = utils.train(model,\n",
        "                X_train,\n",
        "                y_train, \n",
        "                batch_size = batch_size,\n",
        "                epochs = epochs,\n",
        "                validation_data_X = X_val, \n",
        "                validation_data_y = y_val,                                \n",
        "                patience = patience,\n",
        "                class_weights = utils.class_weights(hdfs_train,'class'))"
      ]
    },
    {
      "cell_type": "markdown",
      "metadata": {
        "id": "u8jMNxJ3zehB"
      },
      "source": [
        "#### Evaluation"
      ]
    },
    {
      "cell_type": "code",
      "execution_count": null,
      "metadata": {
        "colab": {
          "base_uri": "https://localhost:8080/",
          "height": 849
        },
        "id": "k9gXg_A5zgrp",
        "outputId": "78c4c3f3-a424-4a24-b56a-3136285531d6"
      },
      "outputs": [
        {
          "output_type": "display_data",
          "data": {
            "text/plain": [
              "<Figure size 360x360 with 2 Axes>"
            ],
            "image/png": "[encoded data removed]"
          },
          "metadata": {
            "needs_background": "light"
          }
        },
        {
          "output_type": "stream",
          "name": "stdout",
          "text": [
            "3011/3011 [==============================] - 27s 9ms/step\n"
          ]
        },
        {
          "output_type": "display_data",
          "data": {
            "text/plain": [
              "<Figure size 432x288 with 1 Axes>"
            ],
            "image/png": "[encoded data removed]"
          },
          "metadata": {
            "needs_background": "light"
          }
        },
        {
          "output_type": "stream",
          "name": "stdout",
          "text": [
            "Classification report\n",
            "              precision    recall  f1-score   support\n",
            "\n",
            "    abnormal       0.96      0.99      0.98      2901\n",
            "      normal       1.00      1.00      1.00     93422\n",
            "\n",
            "    accuracy                           1.00     96323\n",
            "   macro avg       0.98      1.00      0.99     96323\n",
            "weighted avg       1.00      1.00      1.00     96323\n",
            "\n",
            "Loss function: 0.005683504976332188, accuracy: 0.9986711144447327\n"
          ]
        }
      ],
      "source": [
        "utils.eval_model(training, model, X_test, y_test)"
      ]
    },
    {
      "cell_type": "markdown",
      "metadata": {
        "id": "ku-bAnBHyy3C"
      },
      "source": [
        "####Generación modelo y Salida Kaggle"
      ]
    },
    {
      "cell_type": "code",
      "execution_count": null,
      "metadata": {
        "colab": {
          "base_uri": "https://localhost:8080/"
        },
        "id": "sHEwCal3yfWk",
        "outputId": "d1edaeb8-542b-4976-815d-56c528dc8a70"
      },
      "outputs": [
        {
          "output_type": "stream",
          "name": "stdout",
          "text": [
            "5931/5931 [==============================] - 50s 8ms/step\n",
            "Saved model to disk\n"
          ]
        }
      ],
      "source": [
        "name='model'\n",
        "\n",
        "\"\"\"\n",
        "Generate data Kaggle\n",
        "\"\"\"\n",
        "#generate kaggle\n",
        "utils.load_test_sequences_and_generate_prediction_file(model, hdfs_test_kaggle, max_len, name+'_maxLen'+str(max_len)+'_batchSize'+str(batch_size)+'_epochs'+str(epochs) )\n",
        "\n",
        "\"\"\"\n",
        "Generate Model\n",
        "\"\"\"\n",
        "# serialize model to JSON\n",
        "model_json = model.to_json()\n",
        "with open(\"outputs/model_\"+name+'_maxLen'+str(max_len)+'_batchSize'+str(batch_size)+'_epochs'+str(epochs)+'_'+dt.datetime.today().strftime('%Y%m%d_%H%M%S')+\".json\", \"w\") as json_file:\n",
        "  json_file.write(model_json)\n",
        "# serialize weights to HDF5\n",
        "model.save_weights(\"outputs/model_Weigths\"+name+'_maxLen'+str(max_len)+'_batchSize'+str(batch_size)+'_epochs'+str(epochs)+'_'+dt.datetime.today().strftime('%Y%m%d_%H%M%S')+\".h5\")\n",
        "print(\"Saved model to disk\")"
      ]
    },
    {
      "cell_type": "markdown",
      "metadata": {
        "id": "y0-VGKtjvmZy"
      },
      "source": [
        "### Modelo Mejorado con Batch Normalization"
      ]
    },
    {
      "cell_type": "code",
      "execution_count": null,
      "metadata": {
        "colab": {
          "base_uri": "https://localhost:8080/",
          "height": 226
        },
        "id": "Tkvaa5sRwL0p",
        "outputId": "4558e882-b3b9-41b4-f1f7-cb3796e23cb8"
      },
      "outputs": [
        {
          "output_type": "error",
          "ename": "AttributeError",
          "evalue": "ignored",
          "traceback": [
            "\u001b[0;31m---------------------------------------------------------------------------\u001b[0m",
            "\u001b[0;31mAttributeError\u001b[0m                            Traceback (most recent call last)",
            "\u001b[0;32m<ipython-input-51-018f04cc3a2b>\u001b[0m in \u001b[0;36m<module>\u001b[0;34m\u001b[0m\n\u001b[1;32m      5\u001b[0m \u001b[0mmodelBN\u001b[0m\u001b[0;34m.\u001b[0m\u001b[0madd\u001b[0m\u001b[0;34m(\u001b[0m\u001b[0mBatchNormalization\u001b[0m\u001b[0;34m(\u001b[0m\u001b[0;34m)\u001b[0m\u001b[0;34m)\u001b[0m\u001b[0;34m\u001b[0m\u001b[0;34m\u001b[0m\u001b[0m\n\u001b[1;32m      6\u001b[0m \u001b[0mmodelBN\u001b[0m\u001b[0;34m.\u001b[0m\u001b[0madd\u001b[0m\u001b[0;34m(\u001b[0m\u001b[0mDense\u001b[0m\u001b[0;34m(\u001b[0m\u001b[0;36m2\u001b[0m\u001b[0;34m,\u001b[0m \u001b[0mactivation\u001b[0m\u001b[0;34m=\u001b[0m\u001b[0;34m'softmax'\u001b[0m\u001b[0;34m)\u001b[0m\u001b[0;34m)\u001b[0m\u001b[0;34m\u001b[0m\u001b[0;34m\u001b[0m\u001b[0m\n\u001b[0;32m----> 7\u001b[0;31m \u001b[0mmodelBN\u001b[0m\u001b[0;34m.\u001b[0m\u001b[0mcompile\u001b[0m\u001b[0;34m(\u001b[0m\u001b[0mloss\u001b[0m\u001b[0;34m=\u001b[0m\u001b[0mloss\u001b[0m\u001b[0;34m,\u001b[0m \u001b[0moptimizer\u001b[0m\u001b[0;34m=\u001b[0m\u001b[0moptimizer\u001b[0m\u001b[0;34m,\u001b[0m \u001b[0mmetrics\u001b[0m\u001b[0;34m=\u001b[0m\u001b[0;34m[\u001b[0m\u001b[0;34m'accuracy'\u001b[0m\u001b[0;34m,\u001b[0m\u001b[0mtf\u001b[0m\u001b[0;34m.\u001b[0m\u001b[0mkeras\u001b[0m\u001b[0;34m.\u001b[0m\u001b[0mmetrics\u001b[0m\u001b[0;34m.\u001b[0m\u001b[0mPrecision\u001b[0m\u001b[0;34m(\u001b[0m\u001b[0;34m)\u001b[0m\u001b[0;34m,\u001b[0m\u001b[0mtf\u001b[0m\u001b[0;34m.\u001b[0m\u001b[0mkeras\u001b[0m\u001b[0;34m.\u001b[0m\u001b[0mmetrics\u001b[0m\u001b[0;34m.\u001b[0m\u001b[0mRecall\u001b[0m\u001b[0;34m(\u001b[0m\u001b[0;34m)\u001b[0m\u001b[0;34m,\u001b[0m\u001b[0mtf\u001b[0m\u001b[0;34m.\u001b[0m\u001b[0mkeras\u001b[0m\u001b[0;34m.\u001b[0m\u001b[0mmetrics\u001b[0m\u001b[0;34m.\u001b[0m\u001b[0mF1Score\u001b[0m\u001b[0;34m(\u001b[0m\u001b[0;34m)\u001b[0m\u001b[0;34m]\u001b[0m\u001b[0;34m)\u001b[0m\u001b[0;34m\u001b[0m\u001b[0;34m\u001b[0m\u001b[0m\n\u001b[0m\u001b[1;32m      8\u001b[0m \u001b[0mmodelBN\u001b[0m\u001b[0;34m.\u001b[0m\u001b[0msummary\u001b[0m\u001b[0;34m(\u001b[0m\u001b[0;34m)\u001b[0m\u001b[0;34m\u001b[0m\u001b[0;34m\u001b[0m\u001b[0m\n",
            "\u001b[0;31mAttributeError\u001b[0m: module 'keras.api._v2.keras.metrics' has no attribute 'F1Score'"
          ]
        }
      ],
      "source": [
        "modelBN = Sequential()\n",
        "modelBN.add(Embedding(vocab_size+1, embedding_size, input_length=max_len)) #el vocab size deberiamos sacarlo\n",
        "modelBN.add(LSTM(64, return_sequences=True))\n",
        "modelBN.add(LSTM(64, return_sequences=False))\n",
        "modelBN.add(BatchNormalization())\n",
        "modelBN.add(Dense(2, activation='softmax'))\n",
        "modelBN.compile(loss=loss, optimizer=optimizer, metrics=['accuracy',tf.keras.metrics.Precision(),tf.keras.metrics.Recall()])\n",
        "modelBN.summary()"
      ]
    },
    {
      "cell_type": "markdown",
      "metadata": {
        "id": "UVsoksYzy8GL"
      },
      "source": [
        "#### Entrenamiento"
      ]
    },
    {
      "cell_type": "code",
      "execution_count": null,
      "metadata": {
        "id": "yGXGITxyy-PA"
      },
      "outputs": [],
      "source": [
        "#se agregó class.weights\n",
        "trainingBN, modelBN = utils.train(modelBN,\n",
        "                X_train,\n",
        "                y_train, \n",
        "                batch_size = batch_size,\n",
        "                epochs = epochs,\n",
        "                validation_data_X = X_val, \n",
        "                validation_data_y = y_val,                                \n",
        "                patience = patience,\n",
        "                class_weights = utils.class_weights(hdfs_train,'class'))"
      ]
    },
    {
      "cell_type": "markdown",
      "metadata": {
        "id": "HJOugunezMBL"
      },
      "source": [
        "#### Evaluation"
      ]
    },
    {
      "cell_type": "code",
      "execution_count": null,
      "metadata": {
        "id": "tNpnWLAEzPHN"
      },
      "outputs": [],
      "source": [
        "utils.eval_model(trainingBN, modelBN, X_test, y_test)"
      ]
    },
    {
      "cell_type": "markdown",
      "metadata": {
        "id": "MaySRDssyxdo"
      },
      "source": [
        "####Generación modelo y Salida Kaggle"
      ]
    },
    {
      "cell_type": "code",
      "execution_count": null,
      "metadata": {
        "id": "M9ZdvKvyyaOg"
      },
      "outputs": [],
      "source": [
        "name='ModelWithBN'\n",
        "\n",
        "\"\"\"\n",
        "Generate data Kaggle\n",
        "\"\"\"\n",
        "#generate kaggle\n",
        "utils.load_test_sequences_and_generate_prediction_file(modelBN, hdfs_test_kaggle, max_len, name+'_maxLen'+str(max_len)+'_batchSize'+str(batch_size)+'_epochs'+str(epochs) )\n",
        "\n",
        "\"\"\"\n",
        "Generate Model\n",
        "\"\"\"\n",
        "# serialize model to JSON\n",
        "model_json = modelBN.to_json()\n",
        "with open(\"outputs/model_\"+name+'_maxLen'+str(max_len)+'_batchSize'+str(batch_size)+'_epochs'+str(epochs)+'_'+dt.datetime.today().strftime('%Y%m%d_%H%M%S')+\".json\", \"w\") as json_file:\n",
        "  json_file.write(model_json)\n",
        "# serialize weights to HDF5\n",
        "modelBN.save_weights(\"outputs/model_Weigths\"+name+'_maxLen'+str(max_len)+'_batchSize'+str(batch_size)+'_epochs'+str(epochs)+'_'+dt.datetime.today().strftime('%Y%m%d_%H%M%S')+\".h5\")\n",
        "print(\"Saved model to disk\")"
      ]
    },
    {
      "cell_type": "markdown",
      "metadata": {
        "id": "KExkov0evvyO"
      },
      "source": [
        "### Modelo Mejorado con Gradient Clipping"
      ]
    },
    {
      "cell_type": "code",
      "execution_count": null,
      "metadata": {
        "id": "9BZB6uzNvzg2"
      },
      "outputs": [],
      "source": [
        "optimizer = Adam(clipnorm=1.) #para agregar clip value clipvalue=0.5"
      ]
    },
    {
      "cell_type": "code",
      "execution_count": null,
      "metadata": {
        "id": "Ox-Qar9UwLBu"
      },
      "outputs": [],
      "source": [
        "modelGC = Sequential()\n",
        "modelGC.add(Embedding(vocab_size+1, embedding_size, input_length=max_len)) #el vocab size deberiamos sacarlo\n",
        "modelGC.add(LSTM(64, return_sequences=True))\n",
        "modelGC.add(LSTM(64, return_sequences=False))\n",
        "modelGC.add(Dense(2, activation='softmax'))\n",
        "modelGC.compile(loss=loss, optimizer=optimizer, metrics=['accuracy',tf.keras.metrics.Precision(),tf.keras.metrics.Recall()])\n",
        "modelGC.summary()"
      ]
    },
    {
      "cell_type": "markdown",
      "metadata": {
        "id": "XT1YJ4SMy_99"
      },
      "source": [
        "#### Entrenamiento"
      ]
    },
    {
      "cell_type": "code",
      "execution_count": null,
      "metadata": {
        "id": "_pGKzdnnzFTr"
      },
      "outputs": [],
      "source": [
        "#se agregó class.weights\n",
        "trainingGC, modelGC = utils.train(modelGC,\n",
        "                X_train,\n",
        "                y_train, \n",
        "                batch_size = batch_size,\n",
        "                epochs = epochs,\n",
        "                validation_data_X = X_val, \n",
        "                validation_data_y = y_val,                                \n",
        "                patience = patience,\n",
        "                class_weights = utils.class_weights(hdfs_train,'class'))"
      ]
    },
    {
      "cell_type": "markdown",
      "metadata": {
        "id": "VaK5JqSAzUfx"
      },
      "source": [
        "#### Evaluation"
      ]
    },
    {
      "cell_type": "code",
      "execution_count": null,
      "metadata": {
        "id": "gnZO4elgzZQo"
      },
      "outputs": [],
      "source": [
        "utils.eval_model(trainingGC, modelGC, X_test, y_test)"
      ]
    },
    {
      "cell_type": "markdown",
      "metadata": {
        "id": "oRxM9wbpywCg"
      },
      "source": [
        "####Generación modelo y Salida Kaggle"
      ]
    },
    {
      "cell_type": "code",
      "execution_count": null,
      "metadata": {
        "id": "NGHxtm-nx5dr"
      },
      "outputs": [],
      "source": [
        "name='ModelWithGC'\n",
        "\n",
        "\"\"\"\n",
        "Generate data Kaggle\n",
        "\"\"\"\n",
        "#generate kaggle\n",
        "utils.load_test_sequences_and_generate_prediction_file(modelGC, hdfs_test_kaggle, max_len, name+'_maxLen'+str(max_len)+'_batchSize'+str(batch_size)+'_epochs'+str(epochs) )\n",
        "\n",
        "\"\"\"\n",
        "Generate Model\n",
        "\"\"\"\n",
        "# serialize model to JSON\n",
        "model_json = modelGC.to_json()\n",
        "with open(\"outputs/model_\"+name+'_maxLen'+str(max_len)+'_batchSize'+str(batch_size)+'_epochs'+str(epochs)+'_'+dt.datetime.today().strftime('%Y%m%d_%H%M%S')+\".json\", \"w\") as json_file:\n",
        "  json_file.write(model_json)\n",
        "# serialize weights to HDF5\n",
        "modelGC.save_weights(\"outputs/model_Weigths\"+name+'_maxLen'+str(max_len)+'_batchSize'+str(batch_size)+'_epochs'+str(epochs)+'_'+dt.datetime.today().strftime('%Y%m%d_%H%M%S')+\".h5\")\n",
        "print(\"Saved model to disk\")\n"
      ]
    },
    {
      "cell_type": "markdown",
      "metadata": {
        "id": "XF-SekK0vQJM"
      },
      "source": [
        "### Modelo Mejorado con Batch Normalization y Gradient Clipping"
      ]
    },
    {
      "cell_type": "code",
      "execution_count": null,
      "metadata": {
        "id": "0CqjJVXdLufm"
      },
      "outputs": [],
      "source": [
        "modelGC_BN = Sequential()\n",
        "modelGC_BN.add(Embedding(vocab_size+1, embedding_size, input_length=max_len)) #el vocab size deberiamos sacarlo\n",
        "modelGC_BN.add(LSTM(64, return_sequences=True))\n",
        "modelGC_BN.add(LSTM(64, return_sequences=False))\n",
        "modelGC_BN.add(BatchNormalization())\n",
        "modelGC_BN.add(Dense(2, activation='softmax'))\n",
        "modelGC_BN.compile(loss=loss, optimizer=optimizer, metrics=['accuracy',tf.keras.metrics.Precision(),tf.keras.metrics.Recall()])\n",
        "modelGC_BN.summary()"
      ]
    },
    {
      "cell_type": "markdown",
      "metadata": {
        "id": "weaHMbBAzoqD"
      },
      "source": [
        "#### Entrenamiento"
      ]
    },
    {
      "cell_type": "code",
      "execution_count": null,
      "metadata": {
        "id": "KoKoxraqzpFy"
      },
      "outputs": [],
      "source": [
        "#se agregó class.weights\n",
        "trainingGC_BN, modelGC_BN = utils.train(modelGC_BN,\n",
        "                X_train,\n",
        "                y_train, \n",
        "                batch_size = batch_size,\n",
        "                epochs = epochs,\n",
        "                validation_data_X = X_val, \n",
        "                validation_data_y = y_val,                                \n",
        "                patience = patience,\n",
        "                class_weights = utils.class_weights(hdfs_train,'class'))"
      ]
    },
    {
      "cell_type": "markdown",
      "metadata": {
        "id": "sYaONMdvzWUp"
      },
      "source": [
        "#### Evaluation"
      ]
    },
    {
      "cell_type": "code",
      "execution_count": null,
      "metadata": {
        "id": "jZ0bbNNzzXFP"
      },
      "outputs": [],
      "source": [
        "utils.eval_model(trainingGC_BN, modelGC_BN, X_test, y_test)"
      ]
    },
    {
      "cell_type": "markdown",
      "metadata": {
        "id": "-cDTnLsaxjyE"
      },
      "source": [
        "####Generación modelo y Salida Kaggle"
      ]
    },
    {
      "cell_type": "code",
      "execution_count": null,
      "metadata": {
        "id": "QslTNmcixobB"
      },
      "outputs": [],
      "source": [
        "name='ModelWithGCandBN'\n",
        "\n",
        "\"\"\"\n",
        "Generate data Kaggle\n",
        "\"\"\"\n",
        "\n",
        "utils.load_test_sequences_and_generate_prediction_file(modelGC_BN, hdfs_test_kaggle, max_len, name+'_maxLen'+str(max_len)+'_batchSize'+str(batch_size)+'_epochs'+str(epochs) )\n",
        "\n",
        "\"\"\"\n",
        "Generate Model\n",
        "\"\"\"\n",
        "# serialize model to JSON\n",
        "model_json = modelGC_BN.to_json()\n",
        "with open(\"outputs/model_\"+name+'_maxLen'+str(max_len)+'_batchSize'+str(batch_size)+'_epochs'+str(epochs)+'_'+dt.datetime.today().strftime('%Y%m%d_%H%M%S')+\".json\", \"w\") as json_file:\n",
        "  json_file.write(model_json)\n",
        "# serialize weights to HDF5\n",
        "modelGC_BN.save_weights(\"outputs/model_Weigths\"+name+'_maxLen'+str(max_len)+'_batchSize'+str(batch_size)+'_epochs'+str(epochs)+'_'+dt.datetime.today().strftime('%Y%m%d_%H%M%S')+\".h5\")\n",
        "print(\"Saved model to disk\")"
      ]
    },
    {
      "cell_type": "markdown",
      "metadata": {
        "id": "abIJFm--rMwZ"
      },
      "source": [
        "### Modelo Mejorado con Data Augmentation"
      ]
    },
    {
      "cell_type": "code",
      "execution_count": null,
      "metadata": {
        "id": "3Zp7UIMUroGg"
      },
      "outputs": [],
      "source": [
        "modelDA = Sequential()\n",
        "modelDA.add(Embedding(vocab_size+1, embedding_size, input_length=max_len)) #el vocab size deberiamos sacarlo\n",
        "modelDA.add(LSTM(64, return_sequences=True))\n",
        "modelDA.add(LSTM(64, return_sequences=False))\n",
        "modelDA.add(Dense(2, activation='softmax'))\n",
        "modelDA.compile(loss=loss, optimizer=optimizer, metrics=['accuracy',tf.keras.metrics.Precision(),tf.keras.metrics.Recall(),tf.keras.metrics.F1Score()])\n",
        "modelDA.summary()"
      ]
    },
    {
      "cell_type": "markdown",
      "metadata": {
        "id": "4gPfHVc5rVYF"
      },
      "source": [
        "#### Entrenamiento"
      ]
    },
    {
      "cell_type": "code",
      "execution_count": null,
      "metadata": {
        "id": "LpvnDb2rrzRf"
      },
      "outputs": [],
      "source": [
        "#se agregó class.weights\n",
        "trainingDA, modelDA = utils.train(modelDA,\n",
        "                X_train_aug,\n",
        "                y_train_aug, \n",
        "                batch_size = batch_size,\n",
        "                epochs = epochs,\n",
        "                validation_data_X = X_val, \n",
        "                validation_data_y = y_val,                                \n",
        "                patience = patience,\n",
        "                class_weights = utils.class_weights(hdfs_train,'class'))"
      ]
    },
    {
      "cell_type": "markdown",
      "metadata": {
        "id": "mn-YIJY2rX-a"
      },
      "source": [
        "#### Evaluation"
      ]
    },
    {
      "cell_type": "code",
      "execution_count": null,
      "metadata": {
        "id": "75noSDBfru30"
      },
      "outputs": [],
      "source": [
        "utils.eval_model(trainingDA, modelDA, X_test, y_test)"
      ]
    },
    {
      "cell_type": "markdown",
      "metadata": {
        "id": "F357yN7Ircou"
      },
      "source": [
        "#### Generación modelo y Salida Kaggle"
      ]
    },
    {
      "cell_type": "code",
      "execution_count": null,
      "metadata": {
        "id": "S-cutHTisgMh"
      },
      "outputs": [],
      "source": [
        "name='ModelWithDataAugmentation'\n",
        "\n",
        "\"\"\"\n",
        "Generate data Kaggle\n",
        "\"\"\"\n",
        "\n",
        "utils.load_test_sequences_and_generate_prediction_file(modelDA, hdfs_test_kaggle, max_len, name+'_maxLen'+str(max_len)+'_batchSize'+str(batch_size)+'_epochs'+str(epochs) )\n",
        "\n",
        "\"\"\"\n",
        "Generate Model\n",
        "\"\"\"\n",
        "# serialize model to JSON\n",
        "model_json = modelDA.to_json()\n",
        "with open(\"outputs/model_\"+name+'_maxLen'+str(max_len)+'_batchSize'+str(batch_size)+'_epochs'+str(epochs)+'_'+dt.datetime.today().strftime('%Y%m%d_%H%M%S')+\".json\", \"w\") as json_file:\n",
        "  json_file.write(model_json)\n",
        "# serialize weights to HDF5\n",
        "modelDA.save_weights(\"outputs/model_Weigths\"+name+'_maxLen'+str(max_len)+'_batchSize'+str(batch_size)+'_epochs'+str(epochs)+'_'+dt.datetime.today().strftime('%Y%m%d_%H%M%S')+\".h5\")\n",
        "print(\"Saved model to disk\")"
      ]
    },
    {
      "cell_type": "markdown",
      "metadata": {
        "id": "9x4jGC-craoZ"
      },
      "source": []
    },
    {
      "cell_type": "markdown",
      "metadata": {
        "id": "8lXsSd3MLugC"
      },
      "source": [
        "## 6 Consigna\n",
        "\n",
        "### A) Participación en Competencia Kaggle:\n",
        "El objetivo de este punto es participar en la competencia de Kaggle y obtener como mínimo un Macro Average Recall (o Weighted Accuracy) superior al 80%. [->Link a la competencia<-](https://www.kaggle.com/t/6d15e3a96bd049b2b4b2a491a69a0fc7).\n",
        "\n",
        "### B) Utilización de Grid Search (o equivalente):\n",
        "Para cumplir con la busqueda de modelos óptimos se debe realizar un grid search lo más abarcativo y metódico posible.\n",
        "\n",
        "### C) Se debe a su vez investigar e implementar al menos 2 de las siguientes técnicas:\n",
        "#### 1. [Batch Normalization](https://machinelearningmastery.com/how-to-accelerate-learning-of-deep-neural-networks-with-batch-normalization/)\n",
        "#### 2. [Data Augmentation a través de la realización de Windowing](https://blog.finxter.com/how-to-loop-through-a-python-list-in-batches/#Method_1_Iterating_over_Consecutive_Sliding_Windows)\n",
        "#### 3. [Gradient Normalization y/o Gradient Clipping](https://machinelearningmastery.com/how-to-avoid-exploding-gradients-in-neural-networks-with-gradient-clipping/)\n"
      ]
    },
    {
      "cell_type": "code",
      "execution_count": null,
      "metadata": {
        "id": "gevnjEmGLugD"
      },
      "outputs": [],
      "source": []
    }
  ],
  "metadata": {
    "colab": {
      "collapsed_sections": [],
      "provenance": [],
      "toc_visible": true
    },
    "interpreter": {
      "hash": "c12d86b63e74ac4f427027e3d58b1fa461278ba669d7be39fd5f25ce787fdf43"
    },
    "kernelspec": {
      "display_name": "Python 3",
      "language": "python",
      "name": "python3"
    },
    "language_info": {
      "codemirror_mode": {
        "name": "ipython",
        "version": 3
      },
      "file_extension": ".py",
      "mimetype": "text/x-python",
      "name": "python",
      "nbconvert_exporter": "python",
      "pygments_lexer": "ipython3",
      "version": "3.7.6"
    }
  },
  "nbformat": 4,
  "nbformat_minor": 0
}